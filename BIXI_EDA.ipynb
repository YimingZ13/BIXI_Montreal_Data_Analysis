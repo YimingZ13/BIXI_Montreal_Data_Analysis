{
 "cells": [
  {
   "cell_type": "markdown",
   "id": "7b9ad29e",
   "metadata": {},
   "source": [
    "# Import Pacakges/Load Datasets"
   ]
  },
  {
   "cell_type": "code",
   "execution_count": 1,
   "id": "e40059be",
   "metadata": {},
   "outputs": [
    {
     "data": {
      "text/html": [
       "        <script type=\"text/javascript\">\n",
       "        window.PlotlyConfig = {MathJaxConfig: 'local'};\n",
       "        if (window.MathJax && window.MathJax.Hub && window.MathJax.Hub.Config) {window.MathJax.Hub.Config({SVG: {font: \"STIX-Web\"}});}\n",
       "        if (typeof require !== 'undefined') {\n",
       "        require.undef(\"plotly\");\n",
       "        requirejs.config({\n",
       "            paths: {\n",
       "                'plotly': ['https://cdn.plot.ly/plotly-2.12.1.min']\n",
       "            }\n",
       "        });\n",
       "        require(['plotly'], function(Plotly) {\n",
       "            window._Plotly = Plotly;\n",
       "        });\n",
       "        }\n",
       "        </script>\n",
       "        "
      ]
     },
     "metadata": {},
     "output_type": "display_data"
    }
   ],
   "source": [
    "import pandas as pd\n",
    "import numpy as np\n",
    "from datetime import datetime\n",
    "\n",
    "import matplotlib.pyplot as plt\n",
    "import seaborn as sns\n",
    "import plotly.express as px\n",
    "from plotly.subplots import make_subplots\n",
    "import plotly.graph_objects as go\n",
    "from plotly.offline import init_notebook_mode, iplot\n",
    "init_notebook_mode(connected=True)\n",
    "import plotly.io as pio\n",
    "pio.renderers\n",
    "\n",
    "import warnings\n",
    "warnings.filterwarnings('ignore')\n",
    "\n",
    "pd.options.display.max_columns = 100 "
   ]
  },
  {
   "cell_type": "code",
   "execution_count": 2,
   "id": "c41403af",
   "metadata": {},
   "outputs": [],
   "source": [
    "# load cleaned dataset\n",
    "# use parse_dates for perserving datetime columns as correct format\n",
    "df = pd.read_csv('df_cleaned.csv',parse_dates=['start_date','end_date'])"
   ]
  },
  {
   "cell_type": "code",
   "execution_count": 3,
   "id": "efd835cb",
   "metadata": {},
   "outputs": [
    {
     "data": {
      "text/html": [
       "<div>\n",
       "<style scoped>\n",
       "    .dataframe tbody tr th:only-of-type {\n",
       "        vertical-align: middle;\n",
       "    }\n",
       "\n",
       "    .dataframe tbody tr th {\n",
       "        vertical-align: top;\n",
       "    }\n",
       "\n",
       "    .dataframe thead th {\n",
       "        text-align: right;\n",
       "    }\n",
       "</style>\n",
       "<table border=\"1\" class=\"dataframe\">\n",
       "  <thead>\n",
       "    <tr style=\"text-align: right;\">\n",
       "      <th></th>\n",
       "      <th>start_date</th>\n",
       "      <th>emplacement_pk_start</th>\n",
       "      <th>end_date</th>\n",
       "      <th>emplacement_pk_end</th>\n",
       "      <th>is_member</th>\n",
       "      <th>start_station_name</th>\n",
       "      <th>start_station_latitude</th>\n",
       "      <th>start_station_longitude</th>\n",
       "      <th>end_station_name</th>\n",
       "      <th>end_station_latitude</th>\n",
       "      <th>end_station_longitude</th>\n",
       "      <th>duration</th>\n",
       "    </tr>\n",
       "  </thead>\n",
       "  <tbody>\n",
       "    <tr>\n",
       "      <th>0</th>\n",
       "      <td>2021-04-25 18:02:39.110</td>\n",
       "      <td>10</td>\n",
       "      <td>2021-04-25 18:13:26.139</td>\n",
       "      <td>188</td>\n",
       "      <td>0</td>\n",
       "      <td>Métro Angrignon (Lamont /  des Trinitaires)</td>\n",
       "      <td>45.44691</td>\n",
       "      <td>-73.60363</td>\n",
       "      <td>Bibliothèque de Verdun (Brown / Bannantyne)</td>\n",
       "      <td>45.448262</td>\n",
       "      <td>-73.577856</td>\n",
       "      <td>10.783333</td>\n",
       "    </tr>\n",
       "    <tr>\n",
       "      <th>1</th>\n",
       "      <td>2021-08-08 18:50:31.633</td>\n",
       "      <td>10</td>\n",
       "      <td>2021-08-08 18:58:57.585</td>\n",
       "      <td>778</td>\n",
       "      <td>1</td>\n",
       "      <td>Métro Angrignon (Lamont /  des Trinitaires)</td>\n",
       "      <td>45.44691</td>\n",
       "      <td>-73.60363</td>\n",
       "      <td>Métro Jolicoeur (de Sève / Drake)</td>\n",
       "      <td>45.456086</td>\n",
       "      <td>-73.581937</td>\n",
       "      <td>8.416667</td>\n",
       "    </tr>\n",
       "    <tr>\n",
       "      <th>2</th>\n",
       "      <td>2021-10-11 17:50:15.346</td>\n",
       "      <td>10</td>\n",
       "      <td>2021-10-11 18:25:31.726</td>\n",
       "      <td>504</td>\n",
       "      <td>1</td>\n",
       "      <td>Métro Angrignon (Lamont /  des Trinitaires)</td>\n",
       "      <td>45.44691</td>\n",
       "      <td>-73.60363</td>\n",
       "      <td>Gagne / LaSalle</td>\n",
       "      <td>45.422451</td>\n",
       "      <td>-73.601194</td>\n",
       "      <td>35.266667</td>\n",
       "    </tr>\n",
       "    <tr>\n",
       "      <th>3</th>\n",
       "      <td>2021-09-10 15:51:58.050</td>\n",
       "      <td>10</td>\n",
       "      <td>2021-09-10 16:21:01.403</td>\n",
       "      <td>780</td>\n",
       "      <td>1</td>\n",
       "      <td>Métro Angrignon (Lamont /  des Trinitaires)</td>\n",
       "      <td>45.44691</td>\n",
       "      <td>-73.60363</td>\n",
       "      <td>LaSalle / 80e avenue</td>\n",
       "      <td>45.415769</td>\n",
       "      <td>-73.637924</td>\n",
       "      <td>29.050000</td>\n",
       "    </tr>\n",
       "    <tr>\n",
       "      <th>4</th>\n",
       "      <td>2021-05-21 09:08:02.506</td>\n",
       "      <td>10</td>\n",
       "      <td>2021-05-21 09:29:43.070</td>\n",
       "      <td>185</td>\n",
       "      <td>1</td>\n",
       "      <td>Métro Angrignon (Lamont /  des Trinitaires)</td>\n",
       "      <td>45.44691</td>\n",
       "      <td>-73.60363</td>\n",
       "      <td>Parc des Rapides (LaSalle / 6e avenue)</td>\n",
       "      <td>45.429471</td>\n",
       "      <td>-73.593099</td>\n",
       "      <td>21.666667</td>\n",
       "    </tr>\n",
       "  </tbody>\n",
       "</table>\n",
       "</div>"
      ],
      "text/plain": [
       "               start_date  emplacement_pk_start                end_date  \\\n",
       "0 2021-04-25 18:02:39.110                    10 2021-04-25 18:13:26.139   \n",
       "1 2021-08-08 18:50:31.633                    10 2021-08-08 18:58:57.585   \n",
       "2 2021-10-11 17:50:15.346                    10 2021-10-11 18:25:31.726   \n",
       "3 2021-09-10 15:51:58.050                    10 2021-09-10 16:21:01.403   \n",
       "4 2021-05-21 09:08:02.506                    10 2021-05-21 09:29:43.070   \n",
       "\n",
       "   emplacement_pk_end  is_member                           start_station_name  \\\n",
       "0                 188          0  Métro Angrignon (Lamont /  des Trinitaires)   \n",
       "1                 778          1  Métro Angrignon (Lamont /  des Trinitaires)   \n",
       "2                 504          1  Métro Angrignon (Lamont /  des Trinitaires)   \n",
       "3                 780          1  Métro Angrignon (Lamont /  des Trinitaires)   \n",
       "4                 185          1  Métro Angrignon (Lamont /  des Trinitaires)   \n",
       "\n",
       "   start_station_latitude  start_station_longitude  \\\n",
       "0                45.44691                -73.60363   \n",
       "1                45.44691                -73.60363   \n",
       "2                45.44691                -73.60363   \n",
       "3                45.44691                -73.60363   \n",
       "4                45.44691                -73.60363   \n",
       "\n",
       "                              end_station_name  end_station_latitude  \\\n",
       "0  Bibliothèque de Verdun (Brown / Bannantyne)             45.448262   \n",
       "1            Métro Jolicoeur (de Sève / Drake)             45.456086   \n",
       "2                              Gagne / LaSalle             45.422451   \n",
       "3                         LaSalle / 80e avenue             45.415769   \n",
       "4       Parc des Rapides (LaSalle / 6e avenue)             45.429471   \n",
       "\n",
       "   end_station_longitude   duration  \n",
       "0             -73.577856  10.783333  \n",
       "1             -73.581937   8.416667  \n",
       "2             -73.601194  35.266667  \n",
       "3             -73.637924  29.050000  \n",
       "4             -73.593099  21.666667  "
      ]
     },
     "execution_count": 3,
     "metadata": {},
     "output_type": "execute_result"
    }
   ],
   "source": [
    "df.head()"
   ]
  },
  {
   "cell_type": "markdown",
   "id": "574bb6be",
   "metadata": {},
   "source": [
    "# Create Weekday Feature"
   ]
  },
  {
   "cell_type": "markdown",
   "id": "c27de2fd",
   "metadata": {},
   "source": [
    "For this project, our goal is to understand the behaviors of BIXI users. I believe there may be valuable insights associated with the specific day of the week for each trip. This is because people tend to utilize public transportation differently on workdays versus weekends. As in this step, I will create a new column to represent the day of the week in our dataset.  \n",
    "(I will use integers 1 to 7 to represent Monday to Sunday repectively.)"
   ]
  },
  {
   "cell_type": "code",
   "execution_count": 4,
   "id": "85501f9b",
   "metadata": {},
   "outputs": [],
   "source": [
    "# get start trip weekday\n",
    "df['start_weekday'] = df['start_date'].dt.weekday+1  # the original dt.weekday function convert datetime to weekday represented by 0 to 6, we plus 1 here for better interpretation\n",
    "\n",
    "# get end trip weekday\n",
    "df['end_weekday'] = df['end_date'].dt.weekday+1"
   ]
  },
  {
   "cell_type": "code",
   "execution_count": 5,
   "id": "3f205bcf",
   "metadata": {},
   "outputs": [
    {
     "data": {
      "text/html": [
       "<div>\n",
       "<style scoped>\n",
       "    .dataframe tbody tr th:only-of-type {\n",
       "        vertical-align: middle;\n",
       "    }\n",
       "\n",
       "    .dataframe tbody tr th {\n",
       "        vertical-align: top;\n",
       "    }\n",
       "\n",
       "    .dataframe thead th {\n",
       "        text-align: right;\n",
       "    }\n",
       "</style>\n",
       "<table border=\"1\" class=\"dataframe\">\n",
       "  <thead>\n",
       "    <tr style=\"text-align: right;\">\n",
       "      <th></th>\n",
       "      <th>start_date</th>\n",
       "      <th>emplacement_pk_start</th>\n",
       "      <th>end_date</th>\n",
       "      <th>emplacement_pk_end</th>\n",
       "      <th>is_member</th>\n",
       "      <th>start_station_name</th>\n",
       "      <th>start_station_latitude</th>\n",
       "      <th>start_station_longitude</th>\n",
       "      <th>end_station_name</th>\n",
       "      <th>end_station_latitude</th>\n",
       "      <th>end_station_longitude</th>\n",
       "      <th>duration</th>\n",
       "      <th>start_weekday</th>\n",
       "      <th>end_weekday</th>\n",
       "    </tr>\n",
       "  </thead>\n",
       "  <tbody>\n",
       "    <tr>\n",
       "      <th>0</th>\n",
       "      <td>2021-04-25 18:02:39.110</td>\n",
       "      <td>10</td>\n",
       "      <td>2021-04-25 18:13:26.139</td>\n",
       "      <td>188</td>\n",
       "      <td>0</td>\n",
       "      <td>Métro Angrignon (Lamont /  des Trinitaires)</td>\n",
       "      <td>45.44691</td>\n",
       "      <td>-73.60363</td>\n",
       "      <td>Bibliothèque de Verdun (Brown / Bannantyne)</td>\n",
       "      <td>45.448262</td>\n",
       "      <td>-73.577856</td>\n",
       "      <td>10.783333</td>\n",
       "      <td>7</td>\n",
       "      <td>7</td>\n",
       "    </tr>\n",
       "    <tr>\n",
       "      <th>1</th>\n",
       "      <td>2021-08-08 18:50:31.633</td>\n",
       "      <td>10</td>\n",
       "      <td>2021-08-08 18:58:57.585</td>\n",
       "      <td>778</td>\n",
       "      <td>1</td>\n",
       "      <td>Métro Angrignon (Lamont /  des Trinitaires)</td>\n",
       "      <td>45.44691</td>\n",
       "      <td>-73.60363</td>\n",
       "      <td>Métro Jolicoeur (de Sève / Drake)</td>\n",
       "      <td>45.456086</td>\n",
       "      <td>-73.581937</td>\n",
       "      <td>8.416667</td>\n",
       "      <td>7</td>\n",
       "      <td>7</td>\n",
       "    </tr>\n",
       "    <tr>\n",
       "      <th>2</th>\n",
       "      <td>2021-10-11 17:50:15.346</td>\n",
       "      <td>10</td>\n",
       "      <td>2021-10-11 18:25:31.726</td>\n",
       "      <td>504</td>\n",
       "      <td>1</td>\n",
       "      <td>Métro Angrignon (Lamont /  des Trinitaires)</td>\n",
       "      <td>45.44691</td>\n",
       "      <td>-73.60363</td>\n",
       "      <td>Gagne / LaSalle</td>\n",
       "      <td>45.422451</td>\n",
       "      <td>-73.601194</td>\n",
       "      <td>35.266667</td>\n",
       "      <td>1</td>\n",
       "      <td>1</td>\n",
       "    </tr>\n",
       "    <tr>\n",
       "      <th>3</th>\n",
       "      <td>2021-09-10 15:51:58.050</td>\n",
       "      <td>10</td>\n",
       "      <td>2021-09-10 16:21:01.403</td>\n",
       "      <td>780</td>\n",
       "      <td>1</td>\n",
       "      <td>Métro Angrignon (Lamont /  des Trinitaires)</td>\n",
       "      <td>45.44691</td>\n",
       "      <td>-73.60363</td>\n",
       "      <td>LaSalle / 80e avenue</td>\n",
       "      <td>45.415769</td>\n",
       "      <td>-73.637924</td>\n",
       "      <td>29.050000</td>\n",
       "      <td>5</td>\n",
       "      <td>5</td>\n",
       "    </tr>\n",
       "    <tr>\n",
       "      <th>4</th>\n",
       "      <td>2021-05-21 09:08:02.506</td>\n",
       "      <td>10</td>\n",
       "      <td>2021-05-21 09:29:43.070</td>\n",
       "      <td>185</td>\n",
       "      <td>1</td>\n",
       "      <td>Métro Angrignon (Lamont /  des Trinitaires)</td>\n",
       "      <td>45.44691</td>\n",
       "      <td>-73.60363</td>\n",
       "      <td>Parc des Rapides (LaSalle / 6e avenue)</td>\n",
       "      <td>45.429471</td>\n",
       "      <td>-73.593099</td>\n",
       "      <td>21.666667</td>\n",
       "      <td>5</td>\n",
       "      <td>5</td>\n",
       "    </tr>\n",
       "  </tbody>\n",
       "</table>\n",
       "</div>"
      ],
      "text/plain": [
       "               start_date  emplacement_pk_start                end_date  \\\n",
       "0 2021-04-25 18:02:39.110                    10 2021-04-25 18:13:26.139   \n",
       "1 2021-08-08 18:50:31.633                    10 2021-08-08 18:58:57.585   \n",
       "2 2021-10-11 17:50:15.346                    10 2021-10-11 18:25:31.726   \n",
       "3 2021-09-10 15:51:58.050                    10 2021-09-10 16:21:01.403   \n",
       "4 2021-05-21 09:08:02.506                    10 2021-05-21 09:29:43.070   \n",
       "\n",
       "   emplacement_pk_end  is_member                           start_station_name  \\\n",
       "0                 188          0  Métro Angrignon (Lamont /  des Trinitaires)   \n",
       "1                 778          1  Métro Angrignon (Lamont /  des Trinitaires)   \n",
       "2                 504          1  Métro Angrignon (Lamont /  des Trinitaires)   \n",
       "3                 780          1  Métro Angrignon (Lamont /  des Trinitaires)   \n",
       "4                 185          1  Métro Angrignon (Lamont /  des Trinitaires)   \n",
       "\n",
       "   start_station_latitude  start_station_longitude  \\\n",
       "0                45.44691                -73.60363   \n",
       "1                45.44691                -73.60363   \n",
       "2                45.44691                -73.60363   \n",
       "3                45.44691                -73.60363   \n",
       "4                45.44691                -73.60363   \n",
       "\n",
       "                              end_station_name  end_station_latitude  \\\n",
       "0  Bibliothèque de Verdun (Brown / Bannantyne)             45.448262   \n",
       "1            Métro Jolicoeur (de Sève / Drake)             45.456086   \n",
       "2                              Gagne / LaSalle             45.422451   \n",
       "3                         LaSalle / 80e avenue             45.415769   \n",
       "4       Parc des Rapides (LaSalle / 6e avenue)             45.429471   \n",
       "\n",
       "   end_station_longitude   duration  start_weekday  end_weekday  \n",
       "0             -73.577856  10.783333              7            7  \n",
       "1             -73.581937   8.416667              7            7  \n",
       "2             -73.601194  35.266667              1            1  \n",
       "3             -73.637924  29.050000              5            5  \n",
       "4             -73.593099  21.666667              5            5  "
      ]
     },
     "execution_count": 5,
     "metadata": {},
     "output_type": "execute_result"
    }
   ],
   "source": [
    "df.head()"
   ]
  },
  {
   "cell_type": "markdown",
   "id": "e02a8191",
   "metadata": {},
   "source": [
    "# Split Start/End Times"
   ]
  },
  {
   "cell_type": "markdown",
   "id": "7456b34c",
   "metadata": {},
   "source": [
    "Now, since each column should only contain only one information, we should split the datetime columns into separated columns."
   ]
  },
  {
   "cell_type": "code",
   "execution_count": 6,
   "id": "e56f813b",
   "metadata": {},
   "outputs": [],
   "source": [
    "# split start datetime columns\n",
    "df['start_year'] = df['start_date'].dt.year\n",
    "df['start_month'] = df['start_date'].dt.month\n",
    "df['start_day'] = df['start_date'].dt.day\n",
    "df['start_hour'] = df['start_date'].dt.hour\n",
    "df['start_minute'] = df['start_date'].dt.minute\n",
    "df['start_second'] = df['start_date'].dt.second\n",
    "\n",
    "# split end datetime columns\n",
    "df['end_year'] = df['end_date'].dt.year\n",
    "df['end_month'] = df['end_date'].dt.month\n",
    "df['end_day'] = df['end_date'].dt.day\n",
    "df['end_hour'] = df['end_date'].dt.hour\n",
    "df['end_minute'] = df['end_date'].dt.minute\n",
    "df['end_second'] = df['end_date'].dt.second"
   ]
  },
  {
   "cell_type": "code",
   "execution_count": 7,
   "id": "bb312179",
   "metadata": {},
   "outputs": [],
   "source": [
    "# drop original start/end date columns\n",
    "df = df.drop(columns=['start_date','end_date'])"
   ]
  },
  {
   "cell_type": "markdown",
   "id": "e6290843",
   "metadata": {},
   "source": [
    "Because we are analyzing trip behaviours, milliseconds provide a high level of granularity, but it might be unnecessary for our analysis. As we are more interested in patterns that occur on a broader timescale, such as minutes and hours, rather than fractions of a second. Also inclusion of milliseconds increases the volume of dataframe, potentially making the dataset larger and more complex. By omitting milliseconds, we can have a more manageable and efficient analysis without sacrificing essential information. So I am not including milliseconds from the start/end time columns."
   ]
  },
  {
   "cell_type": "code",
   "execution_count": 8,
   "id": "36402172",
   "metadata": {},
   "outputs": [
    {
     "data": {
      "text/plain": [
       "199"
      ]
     },
     "execution_count": 8,
     "metadata": {},
     "output_type": "execute_result"
    }
   ],
   "source": [
    "# check if excluding milliseconds introduces back any duplicates into our dataframe\n",
    "df.duplicated().sum()"
   ]
  },
  {
   "cell_type": "code",
   "execution_count": 9,
   "id": "54afdb48",
   "metadata": {},
   "outputs": [
    {
     "data": {
      "text/html": [
       "<div>\n",
       "<style scoped>\n",
       "    .dataframe tbody tr th:only-of-type {\n",
       "        vertical-align: middle;\n",
       "    }\n",
       "\n",
       "    .dataframe tbody tr th {\n",
       "        vertical-align: top;\n",
       "    }\n",
       "\n",
       "    .dataframe thead th {\n",
       "        text-align: right;\n",
       "    }\n",
       "</style>\n",
       "<table border=\"1\" class=\"dataframe\">\n",
       "  <thead>\n",
       "    <tr style=\"text-align: right;\">\n",
       "      <th></th>\n",
       "      <th>emplacement_pk_start</th>\n",
       "      <th>emplacement_pk_end</th>\n",
       "      <th>is_member</th>\n",
       "      <th>start_station_name</th>\n",
       "      <th>start_station_latitude</th>\n",
       "      <th>start_station_longitude</th>\n",
       "      <th>end_station_name</th>\n",
       "      <th>end_station_latitude</th>\n",
       "      <th>end_station_longitude</th>\n",
       "      <th>duration</th>\n",
       "      <th>start_weekday</th>\n",
       "      <th>end_weekday</th>\n",
       "      <th>start_year</th>\n",
       "      <th>start_month</th>\n",
       "      <th>start_day</th>\n",
       "      <th>start_hour</th>\n",
       "      <th>start_minute</th>\n",
       "      <th>start_second</th>\n",
       "      <th>end_year</th>\n",
       "      <th>end_month</th>\n",
       "      <th>end_day</th>\n",
       "      <th>end_hour</th>\n",
       "      <th>end_minute</th>\n",
       "      <th>end_second</th>\n",
       "    </tr>\n",
       "  </thead>\n",
       "  <tbody>\n",
       "    <tr>\n",
       "      <th>87523</th>\n",
       "      <td>75</td>\n",
       "      <td>10</td>\n",
       "      <td>1</td>\n",
       "      <td>St-Joseph / 8e avenue Lachine</td>\n",
       "      <td>45.431550</td>\n",
       "      <td>-73.671120</td>\n",
       "      <td>Métro Angrignon (Lamont /  des Trinitaires)</td>\n",
       "      <td>45.446910</td>\n",
       "      <td>-73.603630</td>\n",
       "      <td>24.366667</td>\n",
       "      <td>5</td>\n",
       "      <td>5</td>\n",
       "      <td>2021</td>\n",
       "      <td>8</td>\n",
       "      <td>6</td>\n",
       "      <td>12</td>\n",
       "      <td>44</td>\n",
       "      <td>59</td>\n",
       "      <td>2021</td>\n",
       "      <td>8</td>\n",
       "      <td>6</td>\n",
       "      <td>13</td>\n",
       "      <td>9</td>\n",
       "      <td>22</td>\n",
       "    </tr>\n",
       "    <tr>\n",
       "      <th>175805</th>\n",
       "      <td>141</td>\n",
       "      <td>532</td>\n",
       "      <td>0</td>\n",
       "      <td>Marché Maisonneuve</td>\n",
       "      <td>45.553219</td>\n",
       "      <td>-73.539782</td>\n",
       "      <td>Marché Atwater</td>\n",
       "      <td>45.480208</td>\n",
       "      <td>-73.577599</td>\n",
       "      <td>58.483333</td>\n",
       "      <td>6</td>\n",
       "      <td>6</td>\n",
       "      <td>2021</td>\n",
       "      <td>5</td>\n",
       "      <td>1</td>\n",
       "      <td>14</td>\n",
       "      <td>53</td>\n",
       "      <td>46</td>\n",
       "      <td>2021</td>\n",
       "      <td>5</td>\n",
       "      <td>1</td>\n",
       "      <td>15</td>\n",
       "      <td>52</td>\n",
       "      <td>15</td>\n",
       "    </tr>\n",
       "    <tr>\n",
       "      <th>177777</th>\n",
       "      <td>141</td>\n",
       "      <td>937</td>\n",
       "      <td>0</td>\n",
       "      <td>Marché Maisonneuve</td>\n",
       "      <td>45.553219</td>\n",
       "      <td>-73.539782</td>\n",
       "      <td>Ste-Claire / Pierre-Tétreault</td>\n",
       "      <td>45.601913</td>\n",
       "      <td>-73.524418</td>\n",
       "      <td>28.233333</td>\n",
       "      <td>6</td>\n",
       "      <td>6</td>\n",
       "      <td>2021</td>\n",
       "      <td>9</td>\n",
       "      <td>4</td>\n",
       "      <td>21</td>\n",
       "      <td>49</td>\n",
       "      <td>48</td>\n",
       "      <td>2021</td>\n",
       "      <td>9</td>\n",
       "      <td>4</td>\n",
       "      <td>22</td>\n",
       "      <td>18</td>\n",
       "      <td>2</td>\n",
       "    </tr>\n",
       "    <tr>\n",
       "      <th>198322</th>\n",
       "      <td>144</td>\n",
       "      <td>299</td>\n",
       "      <td>1</td>\n",
       "      <td>Ontario / Viau</td>\n",
       "      <td>45.559482</td>\n",
       "      <td>-73.535496</td>\n",
       "      <td>Poupart / Ontario</td>\n",
       "      <td>45.531939</td>\n",
       "      <td>-73.553439</td>\n",
       "      <td>28.300000</td>\n",
       "      <td>6</td>\n",
       "      <td>6</td>\n",
       "      <td>2021</td>\n",
       "      <td>5</td>\n",
       "      <td>22</td>\n",
       "      <td>14</td>\n",
       "      <td>22</td>\n",
       "      <td>32</td>\n",
       "      <td>2021</td>\n",
       "      <td>5</td>\n",
       "      <td>22</td>\n",
       "      <td>14</td>\n",
       "      <td>50</td>\n",
       "      <td>50</td>\n",
       "    </tr>\n",
       "    <tr>\n",
       "      <th>236964</th>\n",
       "      <td>149</td>\n",
       "      <td>266</td>\n",
       "      <td>1</td>\n",
       "      <td>des Érables / Rachel</td>\n",
       "      <td>45.533547</td>\n",
       "      <td>-73.566867</td>\n",
       "      <td>Marie-Anne / de la Roche</td>\n",
       "      <td>45.527758</td>\n",
       "      <td>-73.576185</td>\n",
       "      <td>5.733333</td>\n",
       "      <td>7</td>\n",
       "      <td>7</td>\n",
       "      <td>2021</td>\n",
       "      <td>9</td>\n",
       "      <td>12</td>\n",
       "      <td>12</td>\n",
       "      <td>12</td>\n",
       "      <td>31</td>\n",
       "      <td>2021</td>\n",
       "      <td>9</td>\n",
       "      <td>12</td>\n",
       "      <td>12</td>\n",
       "      <td>18</td>\n",
       "      <td>16</td>\n",
       "    </tr>\n",
       "    <tr>\n",
       "      <th>...</th>\n",
       "      <td>...</td>\n",
       "      <td>...</td>\n",
       "      <td>...</td>\n",
       "      <td>...</td>\n",
       "      <td>...</td>\n",
       "      <td>...</td>\n",
       "      <td>...</td>\n",
       "      <td>...</td>\n",
       "      <td>...</td>\n",
       "      <td>...</td>\n",
       "      <td>...</td>\n",
       "      <td>...</td>\n",
       "      <td>...</td>\n",
       "      <td>...</td>\n",
       "      <td>...</td>\n",
       "      <td>...</td>\n",
       "      <td>...</td>\n",
       "      <td>...</td>\n",
       "      <td>...</td>\n",
       "      <td>...</td>\n",
       "      <td>...</td>\n",
       "      <td>...</td>\n",
       "      <td>...</td>\n",
       "      <td>...</td>\n",
       "    </tr>\n",
       "    <tr>\n",
       "      <th>5203570</th>\n",
       "      <td>1046</td>\n",
       "      <td>316</td>\n",
       "      <td>1</td>\n",
       "      <td>Robin / de la Visitation</td>\n",
       "      <td>45.520923</td>\n",
       "      <td>-73.559177</td>\n",
       "      <td>Prince-Arthur / du Parc</td>\n",
       "      <td>45.510590</td>\n",
       "      <td>-73.575470</td>\n",
       "      <td>14.233333</td>\n",
       "      <td>7</td>\n",
       "      <td>7</td>\n",
       "      <td>2021</td>\n",
       "      <td>8</td>\n",
       "      <td>29</td>\n",
       "      <td>0</td>\n",
       "      <td>17</td>\n",
       "      <td>16</td>\n",
       "      <td>2021</td>\n",
       "      <td>8</td>\n",
       "      <td>29</td>\n",
       "      <td>0</td>\n",
       "      <td>31</td>\n",
       "      <td>31</td>\n",
       "    </tr>\n",
       "    <tr>\n",
       "      <th>5221911</th>\n",
       "      <td>1066</td>\n",
       "      <td>289</td>\n",
       "      <td>1</td>\n",
       "      <td>Dorion / Gauthier</td>\n",
       "      <td>45.530674</td>\n",
       "      <td>-73.566250</td>\n",
       "      <td>Métro Papineau (Cartier / Ste-Catherine)</td>\n",
       "      <td>45.523530</td>\n",
       "      <td>-73.551990</td>\n",
       "      <td>6.616667</td>\n",
       "      <td>7</td>\n",
       "      <td>7</td>\n",
       "      <td>2021</td>\n",
       "      <td>11</td>\n",
       "      <td>14</td>\n",
       "      <td>16</td>\n",
       "      <td>42</td>\n",
       "      <td>49</td>\n",
       "      <td>2021</td>\n",
       "      <td>11</td>\n",
       "      <td>14</td>\n",
       "      <td>16</td>\n",
       "      <td>49</td>\n",
       "      <td>27</td>\n",
       "    </tr>\n",
       "    <tr>\n",
       "      <th>5269001</th>\n",
       "      <td>1081</td>\n",
       "      <td>963</td>\n",
       "      <td>1</td>\n",
       "      <td>Monk / Jacques-Hertel</td>\n",
       "      <td>45.459753</td>\n",
       "      <td>-73.596421</td>\n",
       "      <td>Travaux publics LaSalle (Cordner / Léger)</td>\n",
       "      <td>45.445272</td>\n",
       "      <td>-73.624484</td>\n",
       "      <td>29.300000</td>\n",
       "      <td>6</td>\n",
       "      <td>6</td>\n",
       "      <td>2021</td>\n",
       "      <td>9</td>\n",
       "      <td>25</td>\n",
       "      <td>12</td>\n",
       "      <td>26</td>\n",
       "      <td>44</td>\n",
       "      <td>2021</td>\n",
       "      <td>9</td>\n",
       "      <td>25</td>\n",
       "      <td>12</td>\n",
       "      <td>56</td>\n",
       "      <td>3</td>\n",
       "    </tr>\n",
       "    <tr>\n",
       "      <th>5270135</th>\n",
       "      <td>1083</td>\n",
       "      <td>573</td>\n",
       "      <td>0</td>\n",
       "      <td>de l’hôtel de ville / Saint-Joseph</td>\n",
       "      <td>45.524277</td>\n",
       "      <td>-73.589290</td>\n",
       "      <td>Parc Père-Marquette (Chambord / Rosemont)</td>\n",
       "      <td>45.537088</td>\n",
       "      <td>-73.593219</td>\n",
       "      <td>9.366667</td>\n",
       "      <td>4</td>\n",
       "      <td>4</td>\n",
       "      <td>2021</td>\n",
       "      <td>8</td>\n",
       "      <td>26</td>\n",
       "      <td>22</td>\n",
       "      <td>55</td>\n",
       "      <td>48</td>\n",
       "      <td>2021</td>\n",
       "      <td>8</td>\n",
       "      <td>26</td>\n",
       "      <td>23</td>\n",
       "      <td>5</td>\n",
       "      <td>10</td>\n",
       "    </tr>\n",
       "    <tr>\n",
       "      <th>5300964</th>\n",
       "      <td>1123</td>\n",
       "      <td>384</td>\n",
       "      <td>1</td>\n",
       "      <td>Bibliothèque d'Ahuntsic (Lajeunesse / Fleury)</td>\n",
       "      <td>45.553400</td>\n",
       "      <td>-73.662255</td>\n",
       "      <td>Cypress / Peel</td>\n",
       "      <td>45.499325</td>\n",
       "      <td>-73.571768</td>\n",
       "      <td>42.933333</td>\n",
       "      <td>5</td>\n",
       "      <td>5</td>\n",
       "      <td>2021</td>\n",
       "      <td>10</td>\n",
       "      <td>8</td>\n",
       "      <td>7</td>\n",
       "      <td>41</td>\n",
       "      <td>22</td>\n",
       "      <td>2021</td>\n",
       "      <td>10</td>\n",
       "      <td>8</td>\n",
       "      <td>8</td>\n",
       "      <td>24</td>\n",
       "      <td>19</td>\n",
       "    </tr>\n",
       "  </tbody>\n",
       "</table>\n",
       "<p>199 rows × 24 columns</p>\n",
       "</div>"
      ],
      "text/plain": [
       "         emplacement_pk_start  emplacement_pk_end  is_member  \\\n",
       "87523                      75                  10          1   \n",
       "175805                    141                 532          0   \n",
       "177777                    141                 937          0   \n",
       "198322                    144                 299          1   \n",
       "236964                    149                 266          1   \n",
       "...                       ...                 ...        ...   \n",
       "5203570                  1046                 316          1   \n",
       "5221911                  1066                 289          1   \n",
       "5269001                  1081                 963          1   \n",
       "5270135                  1083                 573          0   \n",
       "5300964                  1123                 384          1   \n",
       "\n",
       "                                    start_station_name  \\\n",
       "87523                    St-Joseph / 8e avenue Lachine   \n",
       "175805                              Marché Maisonneuve   \n",
       "177777                              Marché Maisonneuve   \n",
       "198322                                  Ontario / Viau   \n",
       "236964                            des Érables / Rachel   \n",
       "...                                                ...   \n",
       "5203570                       Robin / de la Visitation   \n",
       "5221911                              Dorion / Gauthier   \n",
       "5269001                          Monk / Jacques-Hertel   \n",
       "5270135             de l’hôtel de ville / Saint-Joseph   \n",
       "5300964  Bibliothèque d'Ahuntsic (Lajeunesse / Fleury)   \n",
       "\n",
       "         start_station_latitude  start_station_longitude  \\\n",
       "87523                 45.431550               -73.671120   \n",
       "175805                45.553219               -73.539782   \n",
       "177777                45.553219               -73.539782   \n",
       "198322                45.559482               -73.535496   \n",
       "236964                45.533547               -73.566867   \n",
       "...                         ...                      ...   \n",
       "5203570               45.520923               -73.559177   \n",
       "5221911               45.530674               -73.566250   \n",
       "5269001               45.459753               -73.596421   \n",
       "5270135               45.524277               -73.589290   \n",
       "5300964               45.553400               -73.662255   \n",
       "\n",
       "                                    end_station_name  end_station_latitude  \\\n",
       "87523    Métro Angrignon (Lamont /  des Trinitaires)             45.446910   \n",
       "175805                                Marché Atwater             45.480208   \n",
       "177777                 Ste-Claire / Pierre-Tétreault             45.601913   \n",
       "198322                             Poupart / Ontario             45.531939   \n",
       "236964                      Marie-Anne / de la Roche             45.527758   \n",
       "...                                              ...                   ...   \n",
       "5203570                      Prince-Arthur / du Parc             45.510590   \n",
       "5221911     Métro Papineau (Cartier / Ste-Catherine)             45.523530   \n",
       "5269001    Travaux publics LaSalle (Cordner / Léger)             45.445272   \n",
       "5270135    Parc Père-Marquette (Chambord / Rosemont)             45.537088   \n",
       "5300964                               Cypress / Peel             45.499325   \n",
       "\n",
       "         end_station_longitude   duration  start_weekday  end_weekday  \\\n",
       "87523               -73.603630  24.366667              5            5   \n",
       "175805              -73.577599  58.483333              6            6   \n",
       "177777              -73.524418  28.233333              6            6   \n",
       "198322              -73.553439  28.300000              6            6   \n",
       "236964              -73.576185   5.733333              7            7   \n",
       "...                        ...        ...            ...          ...   \n",
       "5203570             -73.575470  14.233333              7            7   \n",
       "5221911             -73.551990   6.616667              7            7   \n",
       "5269001             -73.624484  29.300000              6            6   \n",
       "5270135             -73.593219   9.366667              4            4   \n",
       "5300964             -73.571768  42.933333              5            5   \n",
       "\n",
       "         start_year  start_month  start_day  start_hour  start_minute  \\\n",
       "87523          2021            8          6          12            44   \n",
       "175805         2021            5          1          14            53   \n",
       "177777         2021            9          4          21            49   \n",
       "198322         2021            5         22          14            22   \n",
       "236964         2021            9         12          12            12   \n",
       "...             ...          ...        ...         ...           ...   \n",
       "5203570        2021            8         29           0            17   \n",
       "5221911        2021           11         14          16            42   \n",
       "5269001        2021            9         25          12            26   \n",
       "5270135        2021            8         26          22            55   \n",
       "5300964        2021           10          8           7            41   \n",
       "\n",
       "         start_second  end_year  end_month  end_day  end_hour  end_minute  \\\n",
       "87523              59      2021          8        6        13           9   \n",
       "175805             46      2021          5        1        15          52   \n",
       "177777             48      2021          9        4        22          18   \n",
       "198322             32      2021          5       22        14          50   \n",
       "236964             31      2021          9       12        12          18   \n",
       "...               ...       ...        ...      ...       ...         ...   \n",
       "5203570            16      2021          8       29         0          31   \n",
       "5221911            49      2021         11       14        16          49   \n",
       "5269001            44      2021          9       25        12          56   \n",
       "5270135            48      2021          8       26        23           5   \n",
       "5300964            22      2021         10        8         8          24   \n",
       "\n",
       "         end_second  \n",
       "87523            22  \n",
       "175805           15  \n",
       "177777            2  \n",
       "198322           50  \n",
       "236964           16  \n",
       "...             ...  \n",
       "5203570          31  \n",
       "5221911          27  \n",
       "5269001           3  \n",
       "5270135          10  \n",
       "5300964          19  \n",
       "\n",
       "[199 rows x 24 columns]"
      ]
     },
     "execution_count": 9,
     "metadata": {},
     "output_type": "execute_result"
    }
   ],
   "source": [
    "# look at these duplicates\n",
    "df[df.duplicated()]"
   ]
  },
  {
   "cell_type": "markdown",
   "id": "93ae2e62",
   "metadata": {},
   "source": [
    "It appears that there are 207 duplicated entries that were distinctive from each other at the millisecond level within the dataset before we omitting the milliseconds. However, given that this constitutes only a small fraction of the entire dataframe, it seems reasonable to streamline our analysis by removing these duplicated entries."
   ]
  },
  {
   "cell_type": "code",
   "execution_count": 10,
   "id": "7cf833ce",
   "metadata": {},
   "outputs": [],
   "source": [
    "# drop duplicates\n",
    "df = df.drop_duplicates(keep='first')"
   ]
  },
  {
   "cell_type": "markdown",
   "id": "05a26ce9",
   "metadata": {},
   "source": [
    "# Distribution of Features"
   ]
  },
  {
   "cell_type": "markdown",
   "id": "e726660f",
   "metadata": {},
   "source": [
    "First, I will plot the density graphs of features that are essential for our analysis to gain insights into the data, identifying potential issues for making informed decisions during the data analysis process."
   ]
  },
  {
   "cell_type": "code",
   "execution_count": 11,
   "id": "b1b8acac",
   "metadata": {},
   "outputs": [],
   "source": [
    "# select the features we want\n",
    "features = ['emplacement_pk_start','emplacement_pk_end','duration','is_member','start_month','start_day','start_weekday']"
   ]
  },
  {
   "cell_type": "code",
   "execution_count": 12,
   "id": "07a93d23",
   "metadata": {
    "scrolled": false
   },
   "outputs": [
    {
     "data": {
      "image/png": "[encoded data removed]",
      "text/plain": [
       "<Figure size 1500x1500 with 8 Axes>"
      ]
     },
     "metadata": {},
     "output_type": "display_data"
    }
   ],
   "source": [
    "# create subplots for the distribution of features\n",
    "\n",
    "fig, axes = plt.subplots(nrows=4,\n",
    "                      ncols=2,\n",
    "                      figsize=(15,15))\n",
    "fig.suptitle('Histogram of The Selected Features')\n",
    "\n",
    "axes = axes.flatten()\n",
    "\n",
    "for i, feature in enumerate(features):\n",
    "    sns.histplot(df[feature],\n",
    "                bins=20,\n",
    "                kde=True,\n",
    "                ax=axes[i])\n",
    "    axes[i].set_title(feature)\n",
    "    \n",
    "plt.tight_layout()\n",
    "\n",
    "plt.show()"
   ]
  },
  {
   "cell_type": "markdown",
   "id": "334759e8",
   "metadata": {},
   "source": [
    "**Observation:**\n",
    "- 'emplacement_pk_start' and 'emplacement_pk_end' follow the similar distribution. This suggests that the popularity of a station is not determined by its specific function, such as being primarily a pickup or drop-off point for bikes. Instead, it implies that other factors, possibly geographical considerations, play a more significant role in influencing station popularity. I will delve deeper into this later.\n",
    "- The majority of the trips were taken under 1 hour duration.\n",
    "- Member usage is about 5 times more than non-member usage.\n",
    "- People tend to use more bikes during warmer months, with August and September standing out as the peak months.\n",
    "- Bike usage is consistently spread across weekdays, but there is a slight uptick at the beginning of the weekends, followed by a decline on Sundays."
   ]
  },
  {
   "cell_type": "markdown",
   "id": "8f118d4d",
   "metadata": {},
   "source": [
    "# Trip Duration"
   ]
  },
  {
   "cell_type": "markdown",
   "id": "d9c0e2f3",
   "metadata": {},
   "source": [
    "The company wants to know how the behaviors differ between members and casual riders, let's explore their trip patterns, see if we can derive some insights from it."
   ]
  },
  {
   "cell_type": "code",
   "execution_count": 13,
   "id": "e5d23386",
   "metadata": {},
   "outputs": [
    {
     "data": {
      "image/png": "[encoded data removed]",
      "text/plain": [
       "<Figure size 640x480 with 1 Axes>"
      ]
     },
     "metadata": {},
     "output_type": "display_data"
    }
   ],
   "source": [
    "# violin plot of trip duraions\n",
    "sns.violinplot(data=df,\n",
    "              x='is_member',\n",
    "              y='duration')\n",
    "\n",
    "plt.title('Trip Duration of Members and Non-members')\n",
    "\n",
    "plt.show()"
   ]
  },
  {
   "cell_type": "markdown",
   "id": "f95aa81d",
   "metadata": {},
   "source": [
    "Due to the prevalence of sparse data points in the dataset, it is hard to see the difference at a broader scale.Let's narrow our focus and zoom in for a more detailed examination of the plots."
   ]
  },
  {
   "cell_type": "code",
   "execution_count": 14,
   "id": "54db9681",
   "metadata": {},
   "outputs": [
    {
     "data": {
      "image/png": "[encoded data removed]",
      "text/plain": [
       "<Figure size 640x480 with 1 Axes>"
      ]
     },
     "metadata": {},
     "output_type": "display_data"
    }
   ],
   "source": [
    "sns.violinplot(data=df,\n",
    "              x='is_member',\n",
    "              y='duration')\n",
    "\n",
    "# set the axis limit to zoom in on the range up to 80 minutes of duration\n",
    "plt.ylim(-5,80)\n",
    "\n",
    "plt.title('Trip Duration of Members and Non-members')\n",
    "\n",
    "plt.show()"
   ]
  },
  {
   "cell_type": "markdown",
   "id": "01a9de36",
   "metadata": {},
   "source": [
    "Looking at the duration distribution for the two membership groups, members typically engage in shorter trips compared to casual riders. I will also make a histogram for a granular dissect of this observation."
   ]
  },
  {
   "cell_type": "code",
   "execution_count": 15,
   "id": "e69ea830",
   "metadata": {},
   "outputs": [],
   "source": [
    "member_trips = df[df['is_member']==1]\n",
    "non_member_trips = df[df['is_member']==0]"
   ]
  },
  {
   "cell_type": "code",
   "execution_count": 16,
   "id": "33db70b5",
   "metadata": {},
   "outputs": [
    {
     "data": {
      "image/png": "[encoded data removed]",
      "text/plain": [
       "<Figure size 640x480 with 1 Axes>"
      ]
     },
     "metadata": {},
     "output_type": "display_data"
    }
   ],
   "source": [
    "# create the histogram for members and non-members trip duration\n",
    "\n",
    "plt.hist(member_trips['duration'],\n",
    "        alpha=0.5,\n",
    "        bins=30,\n",
    "        label='Members')\n",
    "plt.hist(non_member_trips['duration'],\n",
    "        alpha=0.5,\n",
    "        bins=30,\n",
    "        label='Non-members')\n",
    "\n",
    "plt.legend()\n",
    "plt.title('Histogram of Trip Duration')\n",
    "\n",
    "plt.show()"
   ]
  },
  {
   "cell_type": "markdown",
   "id": "c57b01f6",
   "metadata": {},
   "source": [
    "Same problem here with this histogram, due to sparse data points, it is hard to see the pattern of distribution of trips longer than 50 minutes. I will zoom in on various trip duration ranges for a granular look."
   ]
  },
  {
   "cell_type": "code",
   "execution_count": 17,
   "id": "457236a2",
   "metadata": {},
   "outputs": [
    {
     "data": {
      "image/png": "[encoded data removed]",
      "text/plain": [
       "<Figure size 600x500 with 1 Axes>"
      ]
     },
     "metadata": {},
     "output_type": "display_data"
    },
    {
     "data": {
      "image/png": "[encoded data removed]",
      "text/plain": [
       "<Figure size 600x500 with 1 Axes>"
      ]
     },
     "metadata": {},
     "output_type": "display_data"
    },
    {
     "data": {
      "image/png": "[encoded data removed]",
      "text/plain": [
       "<Figure size 600x500 with 1 Axes>"
      ]
     },
     "metadata": {},
     "output_type": "display_data"
    }
   ],
   "source": [
    "# # trips range from 5 to 50 minutes\n",
    "plt.figure(figsize=(6,5))\n",
    "plt.hist(member_trips['duration'],\n",
    "        alpha=0.5,\n",
    "        bins=40,\n",
    "        label='Members')\n",
    "plt.hist(non_member_trips['duration'],\n",
    "        alpha=0.5,\n",
    "        bins=40,\n",
    "        label='Non-members')\n",
    "plt.legend()\n",
    "plt.title('Histogram of Trip Duration (5-50 mins)')\n",
    "# set the axis limit to zoom in on the range from 5 to 50 minutes\n",
    "plt.xlim(0,50)\n",
    "plt.show()\n",
    "\n",
    "# trips range from 50 to 150 minutes\n",
    "plt.figure(figsize=(6,5))\n",
    "plt.hist(member_trips['duration'],\n",
    "        alpha=0.5,\n",
    "        bins=40,\n",
    "        label='Members')\n",
    "plt.hist(non_member_trips['duration'],\n",
    "        alpha=0.5,\n",
    "        bins=40,\n",
    "        label='Non-members')\n",
    "plt.legend()\n",
    "plt.title('Histogram of Trip Duration (50-150 mins)')\n",
    "# set the axis limit to zoom in on the range from 50 to 150 minutes\n",
    "plt.ylim(0,20000)\n",
    "plt.xlim(50,150)\n",
    "plt.show()\n",
    "\n",
    "# trips range from 150 to 300 minutes\n",
    "plt.figure(figsize=(6,5))\n",
    "plt.hist(member_trips['duration'],\n",
    "        alpha=0.5,\n",
    "        bins=40,\n",
    "        label='Members')\n",
    "plt.hist(non_member_trips['duration'],\n",
    "        alpha=0.5,\n",
    "        bins=40,\n",
    "        label='Non-members')\n",
    "plt.legend()\n",
    "plt.title('Histogram of Trip Duration (150-240 mins)')\n",
    "# set the axis limit to zoom in on the range from 150 to 240 minutes\n",
    "plt.ylim(0,350)\n",
    "plt.xlim(150,250)\n",
    "plt.show()"
   ]
  },
  {
   "cell_type": "markdown",
   "id": "c75865c8",
   "metadata": {},
   "source": [
    "**Observation:** Short trips lasting under 1 hour are predominantly utilized by members, with casual riders showing a gradual increase in numbers from 55 to 160 minutes, surpassing members within this range. However, for longer-duration trips exceeding 160 minutes, the member user base regains dominance over non-members."
   ]
  },
  {
   "cell_type": "markdown",
   "id": "9fe22efb",
   "metadata": {},
   "source": [
    "# Geographical Patterns"
   ]
  },
  {
   "cell_type": "markdown",
   "id": "093a3de9",
   "metadata": {},
   "source": [
    "We have observed that two membership groups use the bikes differently across the various trip duration ranges.  I will now explore if there is a relationship between geographic locations and bike usage."
   ]
  },
  {
   "cell_type": "code",
   "execution_count": 18,
   "id": "22dde0d5",
   "metadata": {},
   "outputs": [
    {
     "data": {
      "text/html": [
       "<div>\n",
       "<style scoped>\n",
       "    .dataframe tbody tr th:only-of-type {\n",
       "        vertical-align: middle;\n",
       "    }\n",
       "\n",
       "    .dataframe tbody tr th {\n",
       "        vertical-align: top;\n",
       "    }\n",
       "\n",
       "    .dataframe thead th {\n",
       "        text-align: right;\n",
       "    }\n",
       "</style>\n",
       "<table border=\"1\" class=\"dataframe\">\n",
       "  <thead>\n",
       "    <tr style=\"text-align: right;\">\n",
       "      <th></th>\n",
       "      <th>start_station_name</th>\n",
       "      <th>start_station_latitude</th>\n",
       "      <th>start_station_longitude</th>\n",
       "      <th>duration</th>\n",
       "    </tr>\n",
       "  </thead>\n",
       "  <tbody>\n",
       "    <tr>\n",
       "      <th>0</th>\n",
       "      <td>10e avenue / Holt</td>\n",
       "      <td>45.551912</td>\n",
       "      <td>-73.579211</td>\n",
       "      <td>13.882094</td>\n",
       "    </tr>\n",
       "    <tr>\n",
       "      <th>1</th>\n",
       "      <td>10e avenue / Masson</td>\n",
       "      <td>45.550306</td>\n",
       "      <td>-73.573353</td>\n",
       "      <td>13.253929</td>\n",
       "    </tr>\n",
       "    <tr>\n",
       "      <th>2</th>\n",
       "      <td>12e avenue / St-Zotique</td>\n",
       "      <td>45.556867</td>\n",
       "      <td>-73.589307</td>\n",
       "      <td>16.558185</td>\n",
       "    </tr>\n",
       "    <tr>\n",
       "      <th>3</th>\n",
       "      <td>15e avenue / Masson</td>\n",
       "      <td>45.553898</td>\n",
       "      <td>-73.571387</td>\n",
       "      <td>14.392172</td>\n",
       "    </tr>\n",
       "    <tr>\n",
       "      <th>4</th>\n",
       "      <td>16e avenue / Beaubien</td>\n",
       "      <td>45.558281</td>\n",
       "      <td>-73.583159</td>\n",
       "      <td>15.477071</td>\n",
       "    </tr>\n",
       "    <tr>\n",
       "      <th>...</th>\n",
       "      <td>...</td>\n",
       "      <td>...</td>\n",
       "      <td>...</td>\n",
       "      <td>...</td>\n",
       "    </tr>\n",
       "    <tr>\n",
       "      <th>819</th>\n",
       "      <td>du Tricentenaire / Prince-Albert</td>\n",
       "      <td>45.649546</td>\n",
       "      <td>-73.491916</td>\n",
       "      <td>28.466228</td>\n",
       "    </tr>\n",
       "    <tr>\n",
       "      <th>820</th>\n",
       "      <td>la Fontaine / Alexandre-de-Sève</td>\n",
       "      <td>45.523304</td>\n",
       "      <td>-73.558000</td>\n",
       "      <td>12.635524</td>\n",
       "    </tr>\n",
       "    <tr>\n",
       "      <th>821</th>\n",
       "      <td>Édouard-Montpetit / de Stirling</td>\n",
       "      <td>45.507230</td>\n",
       "      <td>-73.615085</td>\n",
       "      <td>13.672681</td>\n",
       "    </tr>\n",
       "    <tr>\n",
       "      <th>822</th>\n",
       "      <td>Émile-Duployé / Sherbrooke</td>\n",
       "      <td>45.527201</td>\n",
       "      <td>-73.564729</td>\n",
       "      <td>12.509022</td>\n",
       "    </tr>\n",
       "    <tr>\n",
       "      <th>823</th>\n",
       "      <td>Émile-Journault / de Chateaubriand</td>\n",
       "      <td>45.549833</td>\n",
       "      <td>-73.640633</td>\n",
       "      <td>14.590393</td>\n",
       "    </tr>\n",
       "  </tbody>\n",
       "</table>\n",
       "<p>824 rows × 4 columns</p>\n",
       "</div>"
      ],
      "text/plain": [
       "                     start_station_name  start_station_latitude  \\\n",
       "0                     10e avenue / Holt               45.551912   \n",
       "1                   10e avenue / Masson               45.550306   \n",
       "2               12e avenue / St-Zotique               45.556867   \n",
       "3                   15e avenue / Masson               45.553898   \n",
       "4                 16e avenue / Beaubien               45.558281   \n",
       "..                                  ...                     ...   \n",
       "819    du Tricentenaire / Prince-Albert               45.649546   \n",
       "820     la Fontaine / Alexandre-de-Sève               45.523304   \n",
       "821     Édouard-Montpetit / de Stirling               45.507230   \n",
       "822          Émile-Duployé / Sherbrooke               45.527201   \n",
       "823  Émile-Journault / de Chateaubriand               45.549833   \n",
       "\n",
       "     start_station_longitude   duration  \n",
       "0                 -73.579211  13.882094  \n",
       "1                 -73.573353  13.253929  \n",
       "2                 -73.589307  16.558185  \n",
       "3                 -73.571387  14.392172  \n",
       "4                 -73.583159  15.477071  \n",
       "..                       ...        ...  \n",
       "819               -73.491916  28.466228  \n",
       "820               -73.558000  12.635524  \n",
       "821               -73.615085  13.672681  \n",
       "822               -73.564729  12.509022  \n",
       "823               -73.640633  14.590393  \n",
       "\n",
       "[824 rows x 4 columns]"
      ]
     },
     "execution_count": 18,
     "metadata": {},
     "output_type": "execute_result"
    }
   ],
   "source": [
    "# group trips by locations\n",
    "avg_duration_by_station = df.groupby(['start_station_name','start_station_latitude','start_station_longitude'])['duration'].mean().reset_index()\n",
    "avg_duration_by_station"
   ]
  },
  {
   "cell_type": "code",
   "execution_count": 23,
   "id": "55ba37ce",
   "metadata": {},
   "outputs": [
    {
     "data": {
      "application/vnd.plotly.v1+json": {
       "config": {
        "plotlyServerURL": "https://plot.ly"
       },
       "data": [
        {
         "customdata": [
          [
           13.882093687517852
          ],
          [
           13.253928960971216
          ],
          [
           16.55818536162841
          ],
          [
           14.392172422786036
          ],
          [
           15.477070621468926
          ],
          [
           18.372373374401093
          ],
          [
           15.060651289009499
          ],
          [
           15.929803377284294
          ],
          [
           43.53232323232323
          ],
          [
           35.78974358974359
          ],
          [
           17.143383475038153
          ],
          [
           15.226925497600503
          ],
          [
           14.948256654327515
          ],
          [
           13.070540913269998
          ],
          [
           16.847577792217166
          ],
          [
           15.91264487714418
          ],
          [
           18.316600946372237
          ],
          [
           18.26217084136159
          ],
          [
           21.135611854684512
          ],
          [
           21.593400824896886
          ],
          [
           15.459069543549665
          ],
          [
           16.65470507107999
          ],
          [
           14.348302923288209
          ],
          [
           19.254333056017746
          ],
          [
           17.866666666666667
          ],
          [
           13.109700452803901
          ],
          [
           13.089827078734363
          ],
          [
           14.205389894140817
          ],
          [
           13.689329643296434
          ],
          [
           14.105030782761654
          ],
          [
           13.556761268781303
          ],
          [
           23.552953586497893
          ],
          [
           22.689893617021276
          ],
          [
           28.511111111111113
          ],
          [
           34.79495412844037
          ],
          [
           15.499251863230358
          ],
          [
           14.212778967404235
          ],
          [
           15.25748987854251
          ],
          [
           29.08828250401284
          ],
          [
           12.730215786962988
          ],
          [
           15.53773690078038
          ],
          [
           12.918389973487585
          ],
          [
           12.26093179252175
          ],
          [
           18.739550264550264
          ],
          [
           31.921199442119942
          ],
          [
           11.080559530197341
          ],
          [
           26.62583857442348
          ],
          [
           20.160330188679247
          ],
          [
           16.675185764567853
          ],
          [
           13.276247455575726
          ],
          [
           10.571686019278653
          ],
          [
           11.658827334744766
          ],
          [
           14.285862733171127
          ],
          [
           15.266624790619765
          ],
          [
           12.672844805362207
          ],
          [
           15.329855267847458
          ],
          [
           15.863587216861697
          ],
          [
           16.611895215183107
          ],
          [
           11.793393548387098
          ],
          [
           13.811863273867145
          ],
          [
           18.22825797190608
          ],
          [
           17.400025680534156
          ],
          [
           12.947068234109864
          ],
          [
           16.169449869791666
          ],
          [
           16.28242620988166
          ],
          [
           16.635901542111505
          ],
          [
           17.41818217418546
          ],
          [
           12.873758973575683
          ],
          [
           23.164326952294136
          ],
          [
           13.179336368234699
          ],
          [
           12.711301560758082
          ],
          [
           11.44467506579966
          ],
          [
           12.306362030334366
          ],
          [
           12.39210686095932
          ],
          [
           10.844318181818181
          ],
          [
           13.628742203742204
          ],
          [
           16.19545454545454
          ],
          [
           15.095649717514123
          ],
          [
           12.343280857859913
          ],
          [
           25.76772727272727
          ],
          [
           12.307361249584579
          ],
          [
           15.312768733505324
          ],
          [
           14.431416881998276
          ],
          [
           13.369910769869266
          ],
          [
           16.1650154354225
          ],
          [
           13.66089641530371
          ],
          [
           11.611517370356282
          ],
          [
           14.063159940209268
          ],
          [
           14.05551120267834
          ],
          [
           12.748376157917953
          ],
          [
           13.010306577927457
          ],
          [
           14.104824029126213
          ],
          [
           13.592395254382215
          ],
          [
           12.404637347896903
          ],
          [
           12.963572897761646
          ],
          [
           12.319578834198103
          ],
          [
           11.153944892253804
          ],
          [
           20.26343438538206
          ],
          [
           14.427533917691559
          ],
          [
           21.866650016650016
          ],
          [
           13.678771929824562
          ],
          [
           16.012777777777778
          ],
          [
           15.867119083344699
          ],
          [
           15.290123456790123
          ],
          [
           18.5385944092827
          ],
          [
           13.683446171622524
          ],
          [
           12.393995032223417
          ],
          [
           14.447756605691056
          ],
          [
           14.446326372776488
          ],
          [
           13.560800265648348
          ],
          [
           13.052098445595854
          ],
          [
           12.076208390332877
          ],
          [
           11.662104733131923
          ],
          [
           13.457432885041479
          ],
          [
           11.819661025486047
          ],
          [
           11.900680735194008
          ],
          [
           15.103679919413228
          ],
          [
           12.476110811296996
          ],
          [
           29.080965860353405
          ],
          [
           16.607928475033738
          ],
          [
           17.479185484509944
          ],
          [
           19.120298490523208
          ],
          [
           21.148803952158087
          ],
          [
           13.126013949363006
          ],
          [
           10.791724590670375
          ],
          [
           15.273282642894598
          ],
          [
           13.616066554010139
          ],
          [
           11.263049891315598
          ],
          [
           13.75363579714313
          ],
          [
           18.0030890052356
          ],
          [
           13.700198370527808
          ],
          [
           21.84780621572212
          ],
          [
           13.896495486747941
          ],
          [
           13.133229240596169
          ],
          [
           13.86718254935413
          ],
          [
           12.350989958987412
          ],
          [
           14.958214845100791
          ],
          [
           11.8049843158963
          ],
          [
           13.501724055817498
          ],
          [
           22.330686641697877
          ],
          [
           17.837111260806108
          ],
          [
           12.792439701706762
          ],
          [
           11.908828183172004
          ],
          [
           11.831859371971312
          ],
          [
           12.727289215686275
          ],
          [
           15.5906722208609
          ],
          [
           14.742135016918379
          ],
          [
           25.235528455284552
          ],
          [
           16.398949115044246
          ],
          [
           14.419179284617073
          ],
          [
           15.586678191345687
          ],
          [
           15.002366271837309
          ],
          [
           18.31567856422666
          ],
          [
           36.69449472096531
          ],
          [
           13.487205081669691
          ],
          [
           13.375456292026897
          ],
          [
           14.915537548707048
          ],
          [
           11.454778629203917
          ],
          [
           21.337459150326797
          ],
          [
           14.911009407576913
          ],
          [
           15.963711529627929
          ],
          [
           34.91691542288557
          ],
          [
           14.505563177838756
          ],
          [
           14.351903133274492
          ],
          [
           12.443926853423882
          ],
          [
           12.18825542734207
          ],
          [
           11.77078447339848
          ],
          [
           13.564207808224458
          ],
          [
           13.377396280400573
          ],
          [
           14.566619541313228
          ],
          [
           14.989230875163534
          ],
          [
           11.115991126034297
          ],
          [
           12.263082269598343
          ],
          [
           13.186828837912781
          ],
          [
           11.229627544797824
          ],
          [
           14.443783333333332
          ],
          [
           15.15122745131779
          ],
          [
           17.074595290654894
          ],
          [
           17.22106670703401
          ],
          [
           16.687037037037037
          ],
          [
           18.505779889152812
          ],
          [
           17.207894201424214
          ],
          [
           12.966867557893199
          ],
          [
           11.759030520374656
          ],
          [
           12.08671135139111
          ],
          [
           21.671128170894526
          ],
          [
           15.490607224118316
          ],
          [
           13.064624399333137
          ],
          [
           12.257936507936508
          ],
          [
           14.376258278145693
          ],
          [
           14.841105619622917
          ],
          [
           14.323492578112585
          ],
          [
           17.32936030982906
          ],
          [
           18.126949025487257
          ],
          [
           14.043586391237396
          ],
          [
           20.849761465066177
          ],
          [
           16.857605971450365
          ],
          [
           14.108975360055528
          ],
          [
           16.881897435897436
          ],
          [
           12.379566941140592
          ],
          [
           13.364688284115035
          ],
          [
           15.94102347813862
          ],
          [
           27.493847874720355
          ],
          [
           19.9458600541542
          ],
          [
           20.20483643542019
          ],
          [
           15.74772483365529
          ],
          [
           17.367850813597553
          ],
          [
           21.69225035161744
          ],
          [
           12.332485300768882
          ],
          [
           14.225094775774387
          ],
          [
           13.194059298016132
          ],
          [
           12.648816568047337
          ],
          [
           13.004417742706838
          ],
          [
           12.603910062512604
          ],
          [
           26.82952380952381
          ],
          [
           24.852450032237268
          ],
          [
           13.438579181055747
          ],
          [
           14.917719606122649
          ],
          [
           11.380975745970959
          ],
          [
           11.253747239901287
          ],
          [
           12.023435054773083
          ],
          [
           16.568202936664477
          ],
          [
           12.387613343315863
          ],
          [
           12.717673071058249
          ],
          [
           12.160243989953356
          ],
          [
           14.275530171582803
          ],
          [
           12.17048682001724
          ],
          [
           12.900898748577928
          ],
          [
           12.115899386175608
          ],
          [
           11.079539733908666
          ],
          [
           11.064416079473258
          ],
          [
           12.154046997389035
          ],
          [
           19.159776134729924
          ],
          [
           26.782817109144545
          ],
          [
           15.109925283200772
          ],
          [
           15.150417693782526
          ],
          [
           18.785638440860215
          ],
          [
           18.025992063492065
          ],
          [
           17.07199362974519
          ],
          [
           18.357135383971542
          ],
          [
           13.683865702961063
          ],
          [
           18.28962199312715
          ],
          [
           11.651116755362038
          ],
          [
           15.283827853515104
          ],
          [
           16.64736137667304
          ],
          [
           14.996684118673649
          ],
          [
           13.666378439079168
          ],
          [
           18.76801714898178
          ],
          [
           15.710920089143583
          ],
          [
           14.989317375886523
          ],
          [
           12.714545900032668
          ],
          [
           14.694280335939762
          ],
          [
           11.495335754468417
          ],
          [
           15.305421117044949
          ],
          [
           13.162061961925549
          ],
          [
           12.932717216872994
          ],
          [
           13.018653604028957
          ],
          [
           14.594376935906599
          ],
          [
           15.805197132616488
          ],
          [
           11.544087336892051
          ],
          [
           11.359415379766784
          ],
          [
           14.835169785169784
          ],
          [
           11.580286819369096
          ],
          [
           13.108782017773132
          ],
          [
           19.497730403205612
          ],
          [
           33.882781582952816
          ],
          [
           19.173219241443107
          ],
          [
           16.72915803406998
          ],
          [
           17.640724671669794
          ],
          [
           26.007256554307116
          ],
          [
           19.33139606396064
          ],
          [
           16.81851303561148
          ],
          [
           16.478691468455647
          ],
          [
           13.904841500553708
          ],
          [
           14.54813849590469
          ],
          [
           12.199003095261615
          ],
          [
           15.640211485277371
          ],
          [
           13.232286436938992
          ],
          [
           13.974112360456212
          ],
          [
           16.71631790744467
          ],
          [
           10.833723875870804
          ],
          [
           18.741662447257383
          ],
          [
           23.188203901361796
          ],
          [
           15.152901870943108
          ],
          [
           27.767770034843206
          ],
          [
           28.913595387840672
          ],
          [
           21.94420457465947
          ],
          [
           18.396397927796666
          ],
          [
           12.817873074657015
          ],
          [
           12.65672163918041
          ],
          [
           14.693138912369681
          ],
          [
           28.94754303599374
          ],
          [
           13.672847258561545
          ],
          [
           14.274260452817716
          ],
          [
           16.28677597955707
          ],
          [
           29.03333333333333
          ],
          [
           18.245245783997127
          ],
          [
           12.67473125079044
          ],
          [
           26.932037037037034
          ],
          [
           11.774230548152794
          ],
          [
           11.802196037584357
          ],
          [
           11.872363005697238
          ],
          [
           12.019888527401578
          ],
          [
           12.388990271720898
          ],
          [
           27.056006944444444
          ],
          [
           37.88869047619048
          ],
          [
           12.618101612412532
          ],
          [
           16.43464912280702
          ],
          [
           15.121794055201699
          ],
          [
           13.589711296260415
          ],
          [
           12.9452088922959
          ],
          [
           20.604758757435558
          ],
          [
           13.674073023079833
          ],
          [
           14.284849000908265
          ],
          [
           11.936092005863118
          ],
          [
           14.550601771121823
          ],
          [
           13.449359605911331
          ],
          [
           14.24044710163764
          ],
          [
           14.056884345115444
          ],
          [
           15.134050954539212
          ],
          [
           13.511685383699167
          ],
          [
           15.470527838033261
          ],
          [
           14.718087941372419
          ],
          [
           13.560340196956131
          ],
          [
           20.854494934592307
          ],
          [
           15.51172631841261
          ],
          [
           11.885204081632653
          ],
          [
           14.14169665249155
          ],
          [
           11.825117790011408
          ],
          [
           11.740878527336859
          ],
          [
           11.200713012477719
          ],
          [
           12.511309309309308
          ],
          [
           21.8455223880597
          ],
          [
           13.980881916629581
          ],
          [
           15.47079969242599
          ],
          [
           20.405235468092364
          ],
          [
           15.74825623814388
          ],
          [
           14.906857281318148
          ],
          [
           17.271576106352605
          ],
          [
           11.109443244540438
          ],
          [
           11.452536370597244
          ],
          [
           11.266190978236313
          ],
          [
           11.650000000000002
          ],
          [
           10.481236051937513
          ],
          [
           16.9397808908046
          ],
          [
           10.66506699006699
          ],
          [
           13.50797007156799
          ],
          [
           11.776553338133937
          ],
          [
           12.095783337106633
          ],
          [
           13.1438223334376
          ],
          [
           13.188011734897986
          ],
          [
           10.794397134746909
          ],
          [
           12.027813163481953
          ],
          [
           15.215471307883758
          ],
          [
           18.565626175253854
          ],
          [
           12.118117301160845
          ],
          [
           14.16044776119403
          ],
          [
           12.652959957929532
          ],
          [
           11.579139460319688
          ],
          [
           15.015357028498238
          ],
          [
           14.2781192339505
          ],
          [
           14.92410511887817
          ],
          [
           12.131666743291495
          ],
          [
           11.474721422203936
          ],
          [
           12.183164926837973
          ],
          [
           14.899191695388149
          ],
          [
           14.172650439486137
          ],
          [
           14.553239656518345
          ],
          [
           17.128860722610725
          ],
          [
           14.873909395973154
          ],
          [
           11.57380620091399
          ],
          [
           13.140844422127376
          ],
          [
           14.305286418493965
          ],
          [
           16.09504461942257
          ],
          [
           17.080240432169212
          ],
          [
           22.166294202118113
          ],
          [
           16.743244709712425
          ],
          [
           14.577699417733392
          ],
          [
           12.171484174583798
          ],
          [
           11.312648533553128
          ],
          [
           13.9184459575197
          ],
          [
           17.32013349038084
          ],
          [
           25.98674288006418
          ],
          [
           15.948459075831213
          ],
          [
           13.0213687150838
          ],
          [
           12.088513696772445
          ],
          [
           11.16405700211119
          ],
          [
           11.583636215600064
          ],
          [
           9.996465767457742
          ],
          [
           14.925560147125628
          ],
          [
           20.723685540950452
          ],
          [
           15.068227176220805
          ],
          [
           11.556677300306498
          ],
          [
           12.736980013943759
          ],
          [
           11.78901794661565
          ],
          [
           12.322844764497527
          ],
          [
           17.301324200913243
          ],
          [
           15.171928287783228
          ],
          [
           10.366593633984541
          ],
          [
           10.279303137092317
          ],
          [
           13.228053646641543
          ],
          [
           14.46292735042735
          ],
          [
           16.311046885035324
          ],
          [
           24.169287293536218
          ],
          [
           10.977313499359296
          ],
          [
           13.458253143443674
          ],
          [
           11.65382567335161
          ],
          [
           23.279023354564757
          ],
          [
           12.859098403599605
          ],
          [
           15.605780555842546
          ],
          [
           15.304852725065492
          ],
          [
           17.41805967200158
          ],
          [
           14.119435501180511
          ],
          [
           14.092552612128992
          ],
          [
           18.28741938588892
          ],
          [
           13.238790722235763
          ],
          [
           12.91385685520776
          ],
          [
           13.27508544368952
          ],
          [
           17.504994885782477
          ],
          [
           11.634169786770759
          ],
          [
           15.8865084404932
          ],
          [
           12.402311565313418
          ],
          [
           16.811976682564918
          ],
          [
           16.50460432444298
          ],
          [
           14.18266174298375
          ],
          [
           14.441511326860839
          ],
          [
           15.092690076781839
          ],
          [
           15.768290236062485
          ],
          [
           11.328917364196894
          ],
          [
           12.854427328932202
          ],
          [
           10.89856540084388
          ],
          [
           14.161649799416486
          ],
          [
           17.728087066631737
          ],
          [
           20.1359068627451
          ],
          [
           14.310944326990837
          ],
          [
           14.3022162567112
          ],
          [
           18.39949170679508
          ],
          [
           23.01063340410474
          ],
          [
           14.13728292896997
          ],
          [
           17.62932194616977
          ],
          [
           14.947955974842765
          ],
          [
           27.870627450980393
          ],
          [
           13.5843370568237
          ],
          [
           18.621763835653283
          ],
          [
           12.56455698179206
          ],
          [
           15.575574446161772
          ],
          [
           16.95422791212265
          ],
          [
           21.04914902449149
          ],
          [
           13.041070877934892
          ],
          [
           15.698171135385632
          ],
          [
           14.919448138297872
          ],
          [
           13.09077380952381
          ],
          [
           17.22177331732144
          ],
          [
           13.126144976616674
          ],
          [
           15.380251256281406
          ],
          [
           21.13946466809422
          ],
          [
           12.082251029309854
          ],
          [
           12.585197368421053
          ],
          [
           18.109666666666666
          ],
          [
           16.168609379235566
          ],
          [
           13.910483870967743
          ],
          [
           22.487932960893854
          ],
          [
           21.008333333333333
          ],
          [
           32.93244047619048
          ],
          [
           26.6
          ],
          [
           16.482188295165393
          ],
          [
           16.165199797673242
          ],
          [
           24.98125
          ],
          [
           28.338690476190475
          ],
          [
           18.269218143837662
          ],
          [
           31.835523321956767
          ],
          [
           16.78935404977701
          ],
          [
           20.075185185185184
          ],
          [
           19.41231448054553
          ],
          [
           23.967521367521368
          ],
          [
           14.129060340244552
          ],
          [
           29.46607210171002
          ],
          [
           15.8651515648221
          ],
          [
           14.204438806487987
          ],
          [
           14.802867023650156
          ],
          [
           15.72112472107487
          ],
          [
           25.77559523809524
          ],
          [
           30.881343283582087
          ],
          [
           15.062683786505538
          ],
          [
           24.826999999999998
          ],
          [
           35.363117283950615
          ],
          [
           23.12621247113164
          ],
          [
           11.77249974922259
          ],
          [
           20.47553191489362
          ],
          [
           17.092889127709118
          ],
          [
           21.255761316872427
          ],
          [
           18.76345543598234
          ],
          [
           36.089414414414414
          ],
          [
           26.3527027027027
          ],
          [
           20.91339113680154
          ],
          [
           23.63550724637681
          ],
          [
           13.480555555555556
          ],
          [
           13.556984561752987
          ],
          [
           11.12019549370444
          ],
          [
           16.519491525423728
          ],
          [
           28.637198067632852
          ],
          [
           15.588223684210526
          ],
          [
           13.719373508353222
          ],
          [
           12.375803938234878
          ],
          [
           25.04342465753425
          ],
          [
           14.213235294117647
          ],
          [
           32.01580459770115
          ],
          [
           31.929856512141278
          ],
          [
           15.997698983670206
          ],
          [
           12.353333333333333
          ],
          [
           26.52695035460993
          ],
          [
           14.615181907571287
          ],
          [
           12.259988385598142
          ],
          [
           32.87966101694915
          ],
          [
           37.727450980392156
          ],
          [
           18.61507141211702
          ],
          [
           12.898984593837536
          ],
          [
           19.267230769230768
          ],
          [
           14.052451523545706
          ],
          [
           20.136011904761904
          ],
          [
           20.929037587773646
          ],
          [
           38.81175548589342
          ],
          [
           12.415466916477666
          ],
          [
           26.535992075904492
          ],
          [
           19.85724027276374
          ],
          [
           25.108133669609078
          ],
          [
           26.44929141973718
          ],
          [
           25.070091324200913
          ],
          [
           14.126535168874744
          ],
          [
           14.37936876504988
          ],
          [
           14.899787052810902
          ],
          [
           28.994376441369525
          ],
          [
           36.502030217186025
          ],
          [
           20.259893348301993
          ],
          [
           21.653527174579807
          ],
          [
           18.973166994966075
          ],
          [
           18.613219696969697
          ],
          [
           16.979919786096257
          ],
          [
           16.91641933473553
          ],
          [
           17.313479415670653
          ],
          [
           15.064580021197667
          ],
          [
           20.647423896499237
          ],
          [
           26.722587064676613
          ],
          [
           14.099084878637118
          ],
          [
           10.859822658402203
          ],
          [
           11.881565211379584
          ],
          [
           13.243189368770766
          ],
          [
           9.579725270784019
          ],
          [
           12.993688020928394
          ],
          [
           13.979628792445247
          ],
          [
           14.017459373761394
          ],
          [
           11.61312633703938
          ],
          [
           11.482834528076463
          ],
          [
           16.616237942122186
          ],
          [
           31.687167224613425
          ],
          [
           14.601601153039832
          ],
          [
           15.342595852895148
          ],
          [
           12.598621275966586
          ],
          [
           13.90729456645015
          ],
          [
           20.340182421227194
          ],
          [
           14.459249835850295
          ],
          [
           13.07468586650583
          ],
          [
           14.830000000000002
          ],
          [
           12.286047852151396
          ],
          [
           16.064681122448977
          ],
          [
           15.025688015855096
          ],
          [
           12.58205511794997
          ],
          [
           13.82827269636178
          ],
          [
           16.766666666666666
          ],
          [
           14.360646176118488
          ],
          [
           12.48374210330732
          ],
          [
           24.21838905775076
          ],
          [
           11.686327641672854
          ],
          [
           14.287053067369213
          ],
          [
           11.63548585485855
          ],
          [
           16.166817701253585
          ],
          [
           21.320519684187754
          ],
          [
           14.725396825396826
          ],
          [
           11.401788779287383
          ],
          [
           12.528244338407937
          ],
          [
           11.939228628745228
          ],
          [
           12.136431174656574
          ],
          [
           22.955005241090145
          ],
          [
           11.114700854700855
          ],
          [
           15.540723844282237
          ],
          [
           18.493089430894308
          ],
          [
           13.334673993233102
          ],
          [
           13.419338256588473
          ],
          [
           14.350148294611962
          ],
          [
           14.602342697386149
          ],
          [
           13.379226161168553
          ],
          [
           12.41680154820549
          ],
          [
           16.99719705920966
          ],
          [
           15.086771561771561
          ],
          [
           15.61722895040369
          ],
          [
           12.896947870712163
          ],
          [
           14.668078009845901
          ],
          [
           14.218392909038071
          ],
          [
           15.09358125062732
          ],
          [
           11.62305551874917
          ],
          [
           11.845685849128415
          ],
          [
           12.586172472387425
          ],
          [
           13.296780855199223
          ],
          [
           11.710710597492008
          ],
          [
           18.129995317412536
          ],
          [
           12.1294254501315
          ],
          [
           14.760792872967594
          ],
          [
           19.0802734375
          ],
          [
           20.773036398467433
          ],
          [
           17.937856709168184
          ],
          [
           19.7327797573598
          ],
          [
           13.217293255842112
          ],
          [
           14.221520642630301
          ],
          [
           10.767773882020053
          ],
          [
           13.657067289619247
          ],
          [
           14.790468514199478
          ],
          [
           12.74517537546183
          ],
          [
           14.799419457735246
          ],
          [
           15.654543412837443
          ],
          [
           11.908221036685767
          ],
          [
           11.708290168100078
          ],
          [
           12.253739782527182
          ],
          [
           12.169108382274425
          ],
          [
           13.638107363814697
          ],
          [
           12.39576264339958
          ],
          [
           11.816718566472725
          ],
          [
           14.336506268005918
          ],
          [
           16.59138576779026
          ],
          [
           15.669935962251431
          ],
          [
           11.541763439382487
          ],
          [
           11.57055033557047
          ],
          [
           15.566709844559586
          ],
          [
           11.113564213564214
          ],
          [
           15.901210637284906
          ],
          [
           15.58132783574554
          ],
          [
           16.695327876185363
          ],
          [
           14.709731682146542
          ],
          [
           28.48257287705957
          ],
          [
           35.27609274040289
          ],
          [
           35.05810520665593
          ],
          [
           33.792652606310014
          ],
          [
           32.82209797657082
          ],
          [
           14.453000000000001
          ],
          [
           13.887002204471928
          ],
          [
           14.953213432146372
          ],
          [
           13.971530740276034
          ],
          [
           18.83434974135144
          ],
          [
           19.919911894273127
          ],
          [
           13.651791051058634
          ],
          [
           16.3323819534282
          ],
          [
           16.27574957134251
          ],
          [
           11.214119575993289
          ],
          [
           12.621096096096096
          ],
          [
           13.56185770750988
          ],
          [
           15.507173202614378
          ],
          [
           15.087960428073668
          ],
          [
           13.474670708760192
          ],
          [
           14.812563429571304
          ],
          [
           14.436965466360205
          ],
          [
           17.241840556447297
          ],
          [
           16.731919970631424
          ],
          [
           23.30008880994671
          ],
          [
           11.920873389063043
          ],
          [
           11.555770449040432
          ],
          [
           17.4741929651545
          ],
          [
           20.12917791779178
          ],
          [
           14.503126122888968
          ],
          [
           16.78893632512576
          ],
          [
           20.524074074074075
          ],
          [
           28.39281970649895
          ],
          [
           23.385426237876466
          ],
          [
           19.486709677419356
          ],
          [
           25.600253164556964
          ],
          [
           12.824545344692163
          ],
          [
           15.190940756841107
          ],
          [
           21.114580278592374
          ],
          [
           14.049415204678363
          ],
          [
           10.863444396434458
          ],
          [
           10.958351231386025
          ],
          [
           12.088244552805381
          ],
          [
           14.043438845218041
          ],
          [
           15.525441329179646
          ],
          [
           15.8248673420164
          ],
          [
           32.5404516866781
          ],
          [
           15.711213759951931
          ],
          [
           17.09769472665699
          ],
          [
           16.883658219623133
          ],
          [
           12.446278545249505
          ],
          [
           11.795492766032186
          ],
          [
           12.346242750273179
          ],
          [
           11.669737532808398
          ],
          [
           12.098321048321049
          ],
          [
           18.242066895368783
          ],
          [
           13.617949497251983
          ],
          [
           14.232041658847814
          ],
          [
           13.36115408739285
          ],
          [
           14.076224899598396
          ],
          [
           14.603462897526503
          ],
          [
           13.988478788626919
          ],
          [
           14.709573485967503
          ],
          [
           14.858450272218388
          ],
          [
           14.145382048072912
          ],
          [
           12.002275600505689
          ],
          [
           12.71491082767379
          ],
          [
           14.216955349115972
          ],
          [
           14.738781297134238
          ],
          [
           14.899906842818428
          ],
          [
           16.002721934369603
          ],
          [
           16.402391546162402
          ],
          [
           12.736510074345437
          ],
          [
           24.344758539458187
          ],
          [
           14.102966072415699
          ],
          [
           12.418172850747402
          ],
          [
           15.290016984336669
          ],
          [
           12.347424544314073
          ],
          [
           12.235405449502366
          ],
          [
           12.482439286062615
          ],
          [
           13.73196088826059
          ],
          [
           11.959326681954112
          ],
          [
           11.899035037058427
          ],
          [
           12.000155947189922
          ],
          [
           14.381630195430773
          ],
          [
           15.111182717837314
          ],
          [
           11.017515979336311
          ],
          [
           14.955405005182882
          ],
          [
           15.498178049312676
          ],
          [
           22.211827956989247
          ],
          [
           13.245723379074304
          ],
          [
           13.758252100840338
          ],
          [
           11.450550496126137
          ],
          [
           15.245978232869655
          ],
          [
           11.336692739671077
          ],
          [
           11.491488730723605
          ],
          [
           14.30313253012048
          ],
          [
           15.83981699654414
          ],
          [
           26.44780701754386
          ],
          [
           14.766759362254355
          ],
          [
           15.198978388998036
          ],
          [
           16.73021625652498
          ],
          [
           16.05558144049699
          ],
          [
           13.816044519073452
          ],
          [
           11.542634671440702
          ],
          [
           11.523924731182795
          ],
          [
           11.548106765983862
          ],
          [
           13.24911468264778
          ],
          [
           20.7643016403886
          ],
          [
           12.385181354295959
          ],
          [
           14.441801697530865
          ],
          [
           15.451948503827417
          ],
          [
           15.037229938271604
          ],
          [
           14.403842245475268
          ],
          [
           14.060122956800933
          ],
          [
           14.815398958400309
          ],
          [
           15.001440809968846
          ],
          [
           10.65860152650276
          ],
          [
           12.322746682629951
          ],
          [
           11.929533951560854
          ],
          [
           12.368575092122299
          ],
          [
           15.799724786931819
          ],
          [
           13.332905389775618
          ],
          [
           13.545624999999998
          ],
          [
           14.666907648118396
          ],
          [
           10.776289989680082
          ],
          [
           15.666276994078718
          ],
          [
           20.15864814814815
          ],
          [
           13.785592402509101
          ],
          [
           15.426866385911179
          ],
          [
           19.960115410726406
          ],
          [
           12.249441276424168
          ],
          [
           12.4882785393924
          ],
          [
           11.305588599752168
          ],
          [
           12.080303821257047
          ],
          [
           11.128897502153317
          ],
          [
           13.572704924805816
          ],
          [
           12.888546673787905
          ],
          [
           14.800041594675882
          ],
          [
           15.253536141445657
          ],
          [
           20.4881865515914
          ],
          [
           19.94054561660406
          ],
          [
           23.671601741183412
          ],
          [
           22.747590526996444
          ],
          [
           15.755498922592409
          ],
          [
           16.297486979166667
          ],
          [
           19.58502412309297
          ],
          [
           14.890608438988394
          ],
          [
           13.513850001866578
          ],
          [
           23.65874587458746
          ],
          [
           12.577331218050414
          ],
          [
           14.0663504724947
          ],
          [
           13.391794823705927
          ],
          [
           30.18848797250859
          ],
          [
           13.617129529182035
          ],
          [
           15.499703344120817
          ],
          [
           10.998005698005699
          ],
          [
           18.740507726269318
          ],
          [
           14.965061755993963
          ],
          [
           23.6602191196432
          ],
          [
           27.066148850272075
          ],
          [
           16.246050955414013
          ],
          [
           30.273168214654284
          ],
          [
           16.42118754904525
          ],
          [
           11.973438792390406
          ],
          [
           14.094519969278034
          ],
          [
           14.763861024033439
          ],
          [
           14.483896982310092
          ],
          [
           12.064564770390678
          ],
          [
           13.30028408254585
          ],
          [
           11.38409229673349
          ],
          [
           17.703017847885654
          ],
          [
           13.758825768388999
          ],
          [
           14.17719467180228
          ],
          [
           11.391261597131312
          ],
          [
           12.221527777777778
          ],
          [
           13.51301784450908
          ],
          [
           13.142578602239011
          ],
          [
           13.583205070842654
          ],
          [
           14.935729060889843
          ],
          [
           13.774430810171497
          ],
          [
           25.150782688766117
          ],
          [
           28.466228070175436
          ],
          [
           12.63552416052416
          ],
          [
           13.67268084881198
          ],
          [
           12.50902151518222
          ],
          [
           14.59039279572812
          ]
         ],
         "hovertemplate": "Duration=%{marker.color:.2f}<br>Station=%{text}<br>Latitude=%{lat}<br>Longitude=%{lon}<extra></extra>",
         "lat": [
          45.5519116,
          45.550306,
          45.556867,
          45.553898,
          45.558281,
          45.56244,
          45.55287,
          45.557896,
          45.4329767,
          45.4397787,
          45.561594,
          45.551937,
          45.5452,
          45.5478,
          45.564944,
          45.5636787,
          45.564353,
          45.567766,
          45.4328944,
          45.562509,
          45.457893,
          45.570081,
          45.5480035,
          45.57179,
          45.440347,
          45.456885,
          45.456365,
          45.5475583,
          45.5499,
          45.5545638,
          45.547108,
          45.5648113,
          45.5616903,
          45.434898,
          45.4316481,
          45.532331,
          45.52123,
          45.5003388,
          45.53308,
          45.5428981,
          45.4949697,
          45.453319,
          45.453016,
          45.6109266,
          45.6514058,
          45.5206338,
          45.5061758,
          45.480495,
          45.491226,
          45.484018,
          45.508567,
          45.506587,
          45.5043468,
          45.5043468,
          45.544284,
          45.515299,
          45.531177,
          45.549868,
          45.45073,
          45.553457,
          45.491513,
          45.506843,
          45.523035,
          45.482778,
          45.5581597,
          45.553053,
          45.464877,
          45.538403,
          45.459986,
          45.524287,
          45.526267,
          45.519088,
          45.5216853,
          45.522719,
          45.5216853,
          45.4479158,
          45.6027276,
          45.5534001,
          45.448262,
          45.504635,
          45.4953231,
          45.496583,
          45.4953231,
          45.520688,
          45.5274603,
          45.522586,
          45.5278492,
          45.47993,
          45.4808458,
          45.537041,
          45.54006,
          45.5432845,
          45.541586,
          45.5252551,
          45.534136,
          45.53848,
          45.527432,
          45.5258899,
          45.53696,
          45.597221,
          45.5200191,
          45.5616903,
          45.5039817,
          45.5039817,
          45.587531,
          45.527795,
          45.52479,
          45.5231722,
          45.486319,
          45.546797,
          45.539236,
          45.532674,
          45.538021,
          45.541247,
          45.535828,
          45.525933,
          45.534727,
          45.527513,
          45.506373,
          45.5147343,
          45.574147,
          45.540686,
          45.538308,
          45.544376,
          45.5368558,
          45.5522894,
          45.54257,
          45.534185,
          45.539932,
          45.559828,
          45.544846,
          45.5668693,
          45.536738,
          45.53867,
          45.483928,
          45.4922268,
          45.4918,
          45.5303649,
          45.506251,
          45.559872,
          45.547581,
          45.5106246,
          45.513303,
          45.517354,
          45.5251603,
          45.531611,
          45.539984,
          45.537226,
          45.553262,
          45.4959617,
          45.498112,
          45.499325,
          45.435665,
          45.6174998,
          45.540881,
          45.5408227,
          45.514379,
          45.5302211,
          45.4975038,
          45.5539483,
          45.551192,
          45.4433506,
          45.516783,
          45.519153,
          45.5306736,
          45.526991,
          45.531634,
          45.533348,
          45.539316,
          45.540951,
          45.541955,
          45.526252,
          45.5224026,
          45.534882,
          45.5003924,
          45.498639,
          45.49947,
          45.5750536,
          45.457597,
          45.6096263,
          45.6096263,
          45.495581,
          45.520604,
          45.516876,
          45.515092,
          45.587778,
          45.5280002,
          45.522225,
          45.5207958,
          45.524394,
          45.482098,
          45.54111,
          45.4818451,
          45.4528579,
          45.4924627,
          45.456823,
          45.499757,
          45.549714,
          45.5575132,
          45.54206,
          45.543452,
          45.5398641,
          45.576,
          45.553579,
          45.5705064,
          45.477923,
          45.563872,
          45.592596,
          45.539224,
          45.5439195,
          45.5365054,
          45.5303174,
          45.533924,
          45.5321322,
          45.422451,
          45.539726,
          45.516897,
          45.5476247,
          45.5358344,
          45.532978,
          45.53092,
          45.5359,
          45.529666,
          45.532926,
          45.531674,
          45.485048,
          45.533735,
          45.5378393,
          45.5251147,
          45.530816,
          45.532008,
          45.5375266,
          45.50919,
          45.429711,
          45.461078,
          45.520222,
          45.51405,
          45.5169365,
          45.466569,
          45.470544,
          45.47968,
          45.4763443,
          45.514108,
          45.5396786,
          45.543424,
          45.539663,
          45.490042,
          45.560762,
          45.456355,
          45.474565,
          45.5295036,
          45.537891,
          45.527839,
          45.464892,
          45.482826,
          45.534453,
          45.535295,
          45.526058,
          45.5284463,
          45.509759,
          45.507717,
          45.524942,
          45.51069,
          45.52974,
          45.575707,
          45.5319436,
          45.579325,
          45.496302,
          45.552123,
          45.472503,
          45.554947,
          45.5265,
          45.495415,
          45.52765,
          45.5244504,
          45.5201249,
          45.506371,
          45.523027,
          45.549598,
          45.45002,
          45.491687,
          45.5129332,
          45.521565,
          45.5597053,
          45.4163102,
          45.4157687,
          45.437914,
          45.446934,
          45.519895,
          45.5149954,
          45.490628,
          45.539806,
          45.543771,
          45.542119,
          45.5455805,
          45.6145192,
          45.4385441,
          45.529134,
          45.549783,
          45.537205,
          45.532514,
          45.519216,
          45.520179,
          45.522365,
          45.552298,
          45.5502232,
          45.538839,
          45.5507836,
          45.5507836,
          45.493034,
          45.486219,
          45.595875,
          45.528366,
          45.53057,
          45.523194,
          45.548186,
          45.551585,
          45.55001,
          45.546661,
          45.5517743,
          45.544599,
          45.554961,
          45.493569,
          45.492222,
          45.471669,
          45.4957609,
          45.495709,
          45.49683,
          45.527041,
          45.5252675,
          45.5252675,
          45.524628,
          45.593985,
          45.5007599,
          45.5013987,
          45.480208,
          45.536785,
          45.553219,
          45.471743,
          45.5317737,
          45.524683,
          45.527758,
          45.5310066,
          45.530871,
          45.567352,
          45.5338507,
          45.547408,
          45.53543,
          45.529802,
          45.550684,
          45.538799,
          45.53229,
          45.5157751,
          45.5011651,
          45.4891131,
          45.502813,
          45.4818402,
          45.5394606,
          45.537114,
          45.500832,
          45.501715,
          45.500208,
          45.512541,
          45.508141,
          45.509361,
          45.549686,
          45.5415485,
          45.4597531,
          45.4584299,
          45.5717982,
          45.521081,
          45.519139,
          45.53318,
          45.5315651,
          45.523575,
          45.44691,
          45.569789,
          45.489476,
          45.53536,
          45.519132,
          45.4983122,
          45.576963,
          45.56003,
          45.510351,
          45.478228,
          45.546408,
          45.5474078,
          45.533706,
          45.4891,
          45.495045,
          45.556751,
          45.596797,
          45.5435597,
          45.5390004,
          45.4560855,
          45.546907,
          45.582847,
          45.470696,
          45.527231,
          45.527616,
          45.4836285,
          45.4836285,
          45.4832209,
          45.523319,
          45.494872,
          45.450851,
          45.524673,
          45.558109,
          45.52353,
          45.5303513,
          45.50038,
          45.5552411,
          45.5552411,
          45.477249,
          45.50623,
          45.5082046,
          45.494564,
          45.54178,
          45.589175,
          45.531783,
          45.550692,
          45.5179989,
          45.4856314,
          45.485385,
          45.51066,
          45.559199,
          45.50367,
          45.473868,
          45.459488,
          45.561783,
          45.4789684,
          45.5357088,
          45.462726,
          45.500451,
          45.508439,
          45.510086,
          45.444547,
          45.444043,
          45.549695,
          45.500105,
          45.4942598,
          45.592803,
          45.4941979,
          45.507144,
          45.493029,
          45.477353,
          45.4804701,
          45.52246,
          45.545776,
          45.556262,
          45.559482,
          45.489727,
          45.470366,
          45.5199567,
          45.52114,
          45.559884,
          45.5340705,
          45.516181,
          45.5200557,
          45.4669357,
          45.502989,
          45.5691762,
          45.5707266,
          45.5904902,
          45.442397,
          45.4689119,
          45.4690265,
          45.4398238,
          45.5684396,
          45.5460356,
          45.426124,
          45.5616903,
          45.5716274,
          45.5716274,
          45.43746,
          45.551584,
          45.5128006,
          45.51484,
          45.517,
          45.515617,
          45.505721,
          45.4460609,
          45.4380555,
          45.472561,
          45.472561,
          45.6144298,
          45.460023,
          45.5314746,
          45.5794057,
          45.4826927,
          45.484919,
          45.5649368,
          45.5223415,
          45.5883561,
          45.5880822,
          45.5175831,
          45.58116,
          45.518309,
          45.5190491,
          45.5286305,
          45.502828,
          45.515007,
          45.537088,
          45.539324,
          45.4391447,
          45.5259138,
          45.5990861,
          45.562668,
          45.4801338,
          45.5259138,
          45.6062348,
          45.461685,
          45.4617012,
          45.4365683,
          45.4383671,
          45.5648113,
          45.5446806,
          45.4904723,
          45.5480925,
          45.5864002,
          45.595352,
          45.526765,
          45.515604,
          45.5018635,
          45.471882,
          45.5760003,
          45.429471,
          45.5131776,
          45.5451997,
          45.544513,
          45.5449577,
          45.5783318,
          45.4305431,
          45.460729,
          45.4981,
          45.580315,
          45.52841,
          45.5129939,
          45.4999647,
          45.4986055,
          45.4984678,
          45.46714,
          45.6400029,
          45.515901,
          45.5217675,
          45.523492,
          45.519373,
          45.527009,
          45.531939,
          45.529002,
          45.5169478,
          45.512587,
          45.51059,
          45.5570222,
          45.513741,
          45.497605,
          45.5311169,
          45.51754,
          45.485889,
          45.6046208,
          45.52689,
          45.467369,
          45.6407393,
          45.525628,
          45.48498,
          45.4875216,
          45.522278,
          45.5461147,
          45.5032151,
          45.5032151,
          45.503858,
          45.5594955,
          45.5209227,
          45.480914,
          45.4786714,
          45.4802642,
          45.56833,
          45.550899,
          45.521564,
          45.51908,
          45.515616,
          45.475743,
          45.5832879,
          45.5271166,
          45.5262351,
          45.5036663,
          45.514767,
          45.5128612,
          45.512797,
          45.513405,
          45.483006,
          45.5367,
          45.4898298,
          45.5548617,
          -1,
          45.516091,
          45.50206,
          45.505359,
          45.4751933,
          45.520524,
          45.51889,
          45.518128,
          45.514114,
          45.516427,
          45.504591,
          45.4953717,
          45.5099315,
          45.539824,
          45.533682,
          45.5363438,
          45.477605,
          45.52029,
          45.5149464,
          45.514773,
          45.5208548,
          45.512871,
          45.527933,
          45.538738,
          45.535248,
          45.5236149,
          45.5166644,
          45.518593,
          45.526557,
          45.532265,
          45.5295036,
          45.5205595,
          45.543699,
          45.5426454,
          45.5002783,
          45.522426,
          45.52931,
          45.514335,
          45.5280879,
          45.501441,
          45.506421,
          45.502786,
          45.489186,
          45.641557,
          45.4335565,
          45.433251,
          45.43155,
          45.4335565,
          45.494514,
          45.495789,
          45.49368,
          45.498578,
          45.501967,
          45.463397,
          45.52951,
          45.507838,
          45.507078,
          45.5271166,
          45.525931,
          45.501041,
          45.539385,
          45.515065,
          45.5262351,
          45.5128938,
          45.492897,
          45.5036663,
          45.6019133,
          45.519492,
          45.510072,
          45.512832,
          45.472668,
          45.5040143,
          45.516079,
          45.497055,
          45.5684203,
          45.4250597,
          45.508978,
          45.544149,
          45.4452719,
          45.49123,
          45.478888,
          45.457509,
          45.50235,
          45.506511,
          45.507402,
          45.518967,
          45.547405,
          45.54523,
          45.475963,
          45.435996,
          45.477429,
          45.481291,
          45.505312,
          45.5251147,
          45.521342,
          45.520188,
          45.523544,
          45.51829,
          45.561059,
          45.523856,
          45.530505,
          45.527363,
          45.4575911,
          45.4650577,
          45.510142,
          45.497165,
          45.498919,
          45.516818,
          45.519581,
          45.537628,
          45.492825,
          45.550768,
          45.557192,
          45.554133,
          45.52687,
          45.53341,
          45.58116,
          45.5070965,
          45.53611,
          45.549755,
          45.533409,
          45.538984,
          45.529971,
          45.546539,
          45.529408,
          45.524037,
          45.521751,
          45.5403962,
          45.549911,
          45.525109,
          45.545955,
          45.5472345,
          45.588303,
          45.5319579,
          45.534298,
          45.525648,
          45.54078,
          45.529686,
          45.527748,
          45.5388872,
          45.542485,
          45.6112307,
          45.6112307,
          45.471179,
          45.494564,
          45.501449,
          45.543651,
          45.533314,
          45.529326,
          45.5302211,
          45.4813667,
          45.579349,
          45.5409997,
          45.505386,
          45.505063,
          45.51567,
          45.486971,
          45.502311000000006,
          45.502145,
          45.46982,
          45.528724,
          45.53045,
          45.526027,
          45.524963,
          45.477107,
          45.5392943,
          45.5439624,
          45.54717,
          45.5386271,
          45.506899,
          45.570657,
          45.536261,
          45.557921,
          45.512559,
          45.521496,
          45.518253,
          45.517401,
          45.514565,
          45.5242771,
          45.51166,
          45.463254,
          45.463001,
          45.499191,
          45.51086,
          45.497515,
          45.50761,
          45.504242,
          45.486241,
          45.468927,
          45.4676657,
          45.500606,
          45.499745,
          45.5762592,
          45.537159,
          45.54167,
          45.544867,
          45.4718801,
          45.5541523,
          45.549963,
          45.5242771,
          45.487531,
          45.490452,
          45.4940443,
          45.5992655,
          45.6059017,
          45.590892,
          45.5008765,
          45.487723,
          45.4987648,
          45.549121,
          45.5413694,
          45.5384608,
          45.533547,
          45.5358535,
          45.509655,
          45.534563,
          45.543763,
          45.51941,
          45.5444714,
          45.524518,
          45.522866,
          45.505011,
          45.508205,
          45.544819,
          45.551886,
          45.649546,
          45.5233037,
          45.50723,
          45.527201,
          45.549833
         ],
         "legendgroup": "",
         "lon": [
          -73.5792112,
          -73.573353,
          -73.589307,
          -73.571387,
          -73.583159,
          -73.595333,
          -73.565631,
          -73.576529,
          -73.6808154,
          -73.6813706,
          -73.585643,
          -73.593928,
          -73.576451,
          -73.584867,
          -73.577639,
          -73.5716045,
          -73.571244,
          -73.579688,
          -73.5968529,
          -73.61656,
          -73.567528,
          -73.573047,
          -73.5813899,
          -73.564315,
          -73.7023133,
          -73.572607,
          -73.57614,
          -73.5754719,
          -73.583084,
          -73.5961568,
          -73.569367,
          -73.5958041,
          -73.610512,
          -73.670819,
          -73.6711246,
          -73.620187,
          -73.553861,
          -73.6826205,
          -73.694597,
          -73.561846,
          -73.558042,
          -73.576775,
          -73.571915,
          -73.5467345,
          -73.5004127,
          -73.563906,
          -73.7111861,
          -73.577827,
          -73.58763,
          -73.563437,
          -73.577698,
          -73.573299,
          -73.5689485,
          -73.5689485,
          -73.54534,
          -73.561273,
          -73.632136,
          -73.647657,
          -73.572575,
          -73.587842,
          -73.633649,
          -73.681757,
          -73.565395,
          -73.584621,
          -73.5484001,
          -73.532427,
          -73.626597,
          -73.561964,
          -73.543956,
          -73.604973,
          -73.603191,
          -73.569509,
          -73.5749415,
          -73.577204,
          -73.5749415,
          -73.5838187,
          -73.5579303,
          -73.6622545,
          -73.577856,
          -73.704432,
          -73.5738867,
          -73.576502,
          -73.5738867,
          -73.608428,
          -73.6241752,
          -73.612658,
          -73.5918613,
          -73.555921,
          -73.5838616,
          -73.602026,
          -73.60897,
          -73.6162861,
          -73.612481,
          -73.5752406,
          -73.595478,
          -73.60556,
          -73.579917,
          -73.6500344,
          -73.61199,
          -73.56279,
          -73.6189073,
          -73.610512,
          -73.6228395,
          -73.6228395,
          -73.531907,
          -73.571939,
          -73.56545,
          -73.6180971,
          -73.570233,
          -73.602664,
          -73.585946,
          -73.571776,
          -73.583524,
          -73.591044,
          -73.57869,
          -73.595253,
          -73.614793,
          -73.598791,
          -73.524577,
          -73.691449,
          -73.574621,
          -73.653376,
          -73.654884,
          -73.595645,
          -73.5793731,
          -73.6130065,
          -73.592144,
          -73.573589,
          -73.599343,
          -73.658325,
          -73.610536,
          -73.6410168,
          -73.565167,
          -73.56936,
          -73.577312,
          -73.5847816,
          -73.584006,
          -73.5843927,
          -73.571391,
          -73.615541,
          -73.665234,
          -73.5669033,
          -73.572961,
          -73.582129,
          -73.5992467,
          -73.6133498,
          -73.638135,
          -73.495067,
          -73.638615,
          -73.5732535,
          -73.577615,
          -73.571768,
          -73.605652,
          -73.6060113,
          -73.584157,
          -73.5842103,
          -73.610871,
          -73.5769965,
          -73.5528445,
          -73.6115748,
          -73.540873,
          -73.7169045,
          -73.611423,
          -73.616469,
          -73.5662503,
          -73.558212,
          -73.5682458,
          -73.605834,
          -73.620661,
          -73.626375,
          -73.629942,
          -73.589758,
          -73.5811767,
          -73.609412,
          -73.578168,
          -73.574227,
          -73.57591,
          -73.5389322,
          -73.590529,
          -73.522739,
          -73.522739,
          -73.553711,
          -73.575984,
          -73.57946,
          -73.581142,
          -73.569354,
          -73.6192358,
          -73.606687,
          -73.6032707,
          -73.611423,
          -73.574876,
          -73.54755,
          -73.6303738,
          -73.5892488,
          -73.5607839,
          -73.546804,
          -73.629298,
          -73.563848,
          -73.6017948,
          -73.597873,
          -73.60101,
          -73.6203128,
          -73.646765,
          -73.662083,
          -73.6517805,
          -73.559038,
          -73.655568,
          -73.566175,
          -73.573837,
          -73.5842489,
          -73.5680392,
          -73.5548669,
          -73.562425,
          -73.5587601,
          -73.601194,
          -73.677165,
          -73.563949,
          -73.6120248,
          -73.5870212,
          -73.581222,
          -73.57674,
          -73.622443,
          -73.567336,
          -73.56378,
          -73.565413,
          -73.571963,
          -73.589307,
          -73.5748386,
          -73.586006,
          -73.581626,
          -73.580444,
          -73.5751244,
          -73.6603206,
          -73.6338834,
          -73.567307,
          -73.629856,
          -73.6472556,
          -73.640483,
          -73.623295,
          -73.63168,
          -73.56385,
          -73.6062594,
          -73.57523,
          -73.6345875,
          -73.632462,
          -73.634475,
          -73.567111,
          -73.650561,
          -73.597557,
          -73.624036,
          -73.6048646,
          -73.618215,
          -73.594821,
          -73.566998,
          -73.590843,
          -73.559652,
          -73.55116,
          -73.612969,
          -73.6187021,
          -73.576107,
          -73.57167,
          -73.610606,
          -73.57805,
          -73.59527,
          -73.561562,
          -73.7136054,
          -73.570504,
          -73.629822,
          -73.630103,
          -73.539285,
          -73.555295,
          -73.545753,
          -73.622341,
          -73.6123,
          -73.6051744,
          -73.5952138,
          -73.564201,
          -73.60184,
          -73.541874,
          -73.600306,
          -73.576767,
          -73.6338902,
          -73.535332,
          -73.5515544,
          -73.6129159,
          -73.6379242,
          -73.58274,
          -73.572199,
          -73.596827,
          -73.5591692,
          -73.628878,
          -73.687266,
          -73.628509,
          -73.622547,
          -73.6349,
          -73.6122447,
          -73.6202163,
          -73.559234,
          -73.7063098,
          -73.579254,
          -73.584811,
          -73.57718,
          -73.579424,
          -73.584146,
          -73.7073827,
          -73.7054669,
          -73.552779,
          -73.5341,
          -73.5341,
          -73.583836,
          -73.573747,
          -73.523528,
          -73.551171,
          -73.54913,
          -73.555843,
          -73.59201,
          -73.599165,
          -73.59576,
          -73.588684,
          -73.6034784,
          -73.588223,
          -73.610737,
          -73.568576,
          -73.569348,
          -73.582644,
          -73.5768262,
          -73.576952,
          -73.57913,
          -73.593471,
          -73.5952374,
          -73.5952374,
          -73.595811,
          -73.6376721,
          -73.5704827,
          -73.5717863,
          -73.577599,
          -73.614888,
          -73.539782,
          -73.613924,
          -73.5724462,
          -73.578897,
          -73.576185,
          -73.5987988,
          -73.598345,
          -73.653787,
          -73.5789116,
          -73.607669,
          -73.5822,
          -73.57029,
          -73.615293,
          -73.5887,
          -73.57544,
          -73.6006093,
          -73.6205475,
          -73.6470129,
          -73.576024,
          -73.595379,
          -73.5760564,
          -73.571003,
          -73.572459,
          -73.57413,
          -73.571138,
          -73.570677,
          -73.57493,
          -73.573864,
          -73.591155,
          -73.5650124,
          -73.5964214,
          -73.5960603,
          -73.5415497,
          -73.562275,
          -73.557866,
          -73.61544,
          -73.6169464,
          -73.623443,
          -73.60363,
          -73.548081,
          -73.584566,
          -73.603635,
          -73.5578897,
          -73.567256,
          -73.546836,
          -73.681336,
          -73.556508,
          -73.569651,
          -73.638428,
          -73.6076689,
          -73.552179,
          -73.57656,
          -73.57783,
          -73.667162,
          -73.535179,
          -73.627772,
          -73.614251,
          -73.5819371,
          -73.551557,
          -73.542476,
          -73.565422,
          -73.586726,
          -73.589115,
          -73.5797026,
          -73.5797026,
          -73.5807636,
          -73.520127,
          -73.571124,
          -73.594027,
          -73.58255,
          -73.719598,
          -73.55199,
          -73.6243924,
          -73.57507,
          -73.5508221,
          -73.5508221,
          -73.587238,
          -73.55976,
          -73.5688144,
          -73.638702,
          -73.555714,
          -73.539656,
          -73.597793,
          -73.656367,
          -73.5681841,
          -73.6287649,
          -73.628142,
          -73.56497,
          -73.599658,
          -73.61848,
          -73.604538,
          -73.572092,
          -73.546611,
          -73.6195993,
          -73.6196235,
          -73.565959,
          -73.661428,
          -73.672965,
          -73.611429,
          -73.575091,
          -73.613752,
          -73.554647,
          -73.560199,
          -73.5638181,
          -73.510466,
          -73.5637477,
          -73.555119,
          -73.564818,
          -73.615372,
          -73.6112161,
          -73.691564,
          -73.562175,
          -73.537441,
          -73.535496,
          -73.564063,
          -73.589816,
          -73.5548166,
          -73.54926,
          -73.633568,
          -73.5626507,
          -73.6085433,
          -73.6779515,
          -73.6315311,
          -73.689113,
          -73.6362934,
          -73.737086,
          -73.5902694,
          -73.7176502,
          -73.6095089,
          -73.609537,
          -73.6948782,
          -73.6752021,
          -73.6465985,
          -73.657416,
          -73.610512,
          -73.5920477,
          -73.5920477,
          -73.6935318,
          -73.561916,
          -73.5311159,
          -73.584779,
          -73.589,
          -73.614991,
          -73.629459,
          -73.6507995,
          -73.6727393,
          -73.5699892,
          -73.5699892,
          -73.6122333,
          -73.644442,
          -73.5924205,
          -73.6025888,
          -73.6348128,
          -73.6374146,
          -73.5555911,
          -73.7216789,
          -73.6317122,
          -73.6322231,
          -73.7266141,
          -73.6412434,
          -73.603286,
          -73.6049806,
          -73.6773124,
          -73.527793,
          -73.619788,
          -73.593219,
          -73.5958784,
          -73.5917366,
          -73.6891115,
          -73.6369479,
          -73.692362,
          -73.5859081,
          -73.6891115,
          -73.6287838,
          -73.584039,
          -73.5840715,
          -73.7083697,
          -73.7154669,
          -73.5958041,
          -73.6101606,
          -73.6385324,
          -73.624261,
          -73.5952181,
          -73.55859,
          -73.730423,
          -73.572135,
          -73.543961,
          -73.6400217,
          -73.6467648,
          -73.593099,
          -73.7130609,
          -73.5764507,
          -73.571564,
          -73.5728859,
          -73.655954,
          -73.6690244,
          -73.634073,
          -73.652942,
          -73.535314,
          -73.517166,
          -73.6824985,
          -73.5561544,
          -73.5692275,
          -73.5684335,
          -73.54259,
          -73.490113,
          -73.559948,
          -73.5571025,
          -73.56073,
          -73.551958,
          -73.585766,
          -73.553439,
          -73.546199,
          -73.6263156,
          -73.573739,
          -73.57547,
          -73.6599016,
          -73.538382,
          -73.55535,
          -73.6322325,
          -73.597832,
          -73.577514,
          -73.5159963,
          -73.57264,
          -73.570769,
          -73.5008258,
          -73.581775,
          -73.560333,
          -73.565003,
          -73.577591,
          -73.5570931,
          -73.5699785,
          -73.5699785,
          -73.5710943,
          -73.6989176,
          -73.5591772,
          -73.56846,
          -73.565705,
          -73.5809936,
          -73.566663,
          -73.62108,
          -73.570367,
          -73.5727,
          -73.575808,
          -73.564601,
          -73.6327636,
          -73.5977359,
          -73.54895,
          -73.5695761,
          -73.565491,
          -73.5615949,
          -73.561463,
          -73.562594,
          -73.562187,
          -73.56081,
          -73.5896777,
          -73.5327172,
          -1,
          -73.570129,
          -73.56295,
          -73.567741,
          -73.5809433,
          -73.567697,
          -73.56353,
          -73.561851,
          -73.552645,
          -73.558112,
          -73.559188,
          -73.5685891,
          -73.5638067,
          -73.508752,
          -73.515261,
          -73.5127777,
          -73.573775,
          -73.568119,
          -73.5562329,
          -73.578312,
          -73.6157396,
          -73.558466,
          -73.601223,
          -73.628022,
          -73.617564,
          -73.5924574,
          -73.5772204,
          -73.581566,
          -73.598276,
          -73.611063,
          -73.6048646,
          -73.5858203,
          -73.553673,
          -73.6224445,
          -73.5598773,
          -73.574184,
          -73.588657,
          -73.556464,
          -73.5858625,
          -73.560144,
          -73.556466,
          -73.559134,
          -73.5719,
          -73.500375,
          -73.6840434,
          -73.693962,
          -73.67112,
          -73.6840434,
          -73.583368,
          -73.582596,
          -73.579146,
          -73.560242,
          -73.555153,
          -73.596436,
          -73.61068,
          -73.563136,
          -73.561395,
          -73.5977359,
          -73.598839,
          -73.577178,
          -73.541,
          -73.55923,
          -73.54895,
          -73.5612479,
          -73.580294,
          -73.5695761,
          -73.5244185,
          -73.685104,
          -73.570752,
          -73.576888,
          -73.58539,
          -73.7044269,
          -73.607798,
          -73.618652,
          -73.7468728,
          -73.6495992,
          -73.698564,
          -73.66752,
          -73.6244836,
          -73.580782,
          -73.581989,
          -73.639485,
          -73.566583,
          -73.576669,
          -73.578444,
          -73.583616,
          -73.544674,
          -73.53725,
          -73.6072344,
          -73.680111,
          -73.600169,
          -73.60033,
          -73.560891,
          -73.586006,
          -73.589419,
          -73.590559,
          -73.587332,
          -73.59235,
          -73.603967,
          -73.600127,
          -73.614708,
          -73.607723,
          -73.5675594,
          -73.5667753,
          -73.624752,
          -73.55933,
          -73.557254,
          -73.554188,
          -73.560116,
          -73.553394,
          -73.557978,
          -73.549427,
          -73.569847,
          -73.560226,
          -73.626723,
          -73.601124,
          -73.641243,
          -73.5684416,
          -73.576287,
          -73.605566,
          -73.570657,
          -73.582445,
          -73.563053,
          -73.598665,
          -73.578154,
          -73.590143,
          -73.585268,
          -73.6168179,
          -73.558263,
          -73.560206,
          -73.626992,
          -73.6310256,
          -73.5778372,
          -73.607001,
          -73.612172,
          -73.592928,
          -73.630401,
          -73.601728,
          -73.597439,
          -73.623907,
          -73.636342,
          -73.5312416,
          -73.5312416,
          -73.627002,
          -73.638702,
          -73.633051,
          -73.60565,
          -73.583737,
          -73.574806,
          -73.5769965,
          -73.5643189,
          -73.581681,
          -73.5582626,
          -73.570432,
          -73.5706812,
          -73.561009,
          -73.589293,
          -73.5733635,
          -73.57342700000001,
          -73.616961,
          -73.583859,
          -73.587638,
          -73.577859,
          -73.575559,
          -73.621438,
          -73.6004199,
          -73.6107682,
          -73.618041,
          -73.5528392,
          -73.623526,
          -73.651842,
          -73.607546,
          -73.529147,
          -73.677011,
          -73.596827,
          -73.588338,
          -73.574605,
          -73.568407,
          -73.5892904,
          -73.562136,
          -73.575879,
          -73.571569,
          -73.569421,
          -73.54983,
          -73.552571,
          -73.551836,
          -73.55347,
          -73.5957277,
          -73.61987,
          -73.5939178,
          -73.565448,
          -73.579034,
          -73.5383123,
          -73.597476,
          -73.607604,
          -73.614841,
          -73.5379797,
          -73.5474935,
          -73.534434,
          -73.5892904,
          -73.56507,
          -73.560172,
          -73.6544949,
          -73.5122607,
          -73.5343695,
          -73.640617,
          -73.5590056,
          -73.569083,
          -73.5544766,
          -73.600874,
          -73.583974,
          -73.5776791,
          -73.566867,
          -73.5720545,
          -73.554009,
          -73.554787,
          -73.56772,
          -73.58685,
          -73.5672507,
          -73.571977,
          -73.568377,
          -73.572028,
          -73.568814,
          -73.62151,
          -73.74444,
          -73.491916,
          -73.5579997,
          -73.615085,
          -73.564729,
          -73.640633
         ],
         "marker": {
          "color": [
           13.882093687517852,
           13.253928960971216,
           16.55818536162841,
           14.392172422786036,
           15.477070621468926,
           18.372373374401093,
           15.060651289009499,
           15.929803377284294,
           43.53232323232323,
           35.78974358974359,
           17.143383475038153,
           15.226925497600503,
           14.948256654327515,
           13.070540913269998,
           16.847577792217166,
           15.91264487714418,
           18.316600946372237,
           18.26217084136159,
           21.135611854684512,
           21.593400824896886,
           15.459069543549665,
           16.65470507107999,
           14.348302923288209,
           19.254333056017746,
           17.866666666666667,
           13.109700452803901,
           13.089827078734363,
           14.205389894140817,
           13.689329643296434,
           14.105030782761654,
           13.556761268781303,
           23.552953586497893,
           22.689893617021276,
           28.511111111111113,
           34.79495412844037,
           15.499251863230358,
           14.212778967404235,
           15.25748987854251,
           29.08828250401284,
           12.730215786962988,
           15.53773690078038,
           12.918389973487585,
           12.26093179252175,
           18.739550264550264,
           31.921199442119942,
           11.080559530197341,
           26.62583857442348,
           20.160330188679247,
           16.675185764567853,
           13.276247455575726,
           10.571686019278653,
           11.658827334744766,
           14.285862733171127,
           15.266624790619765,
           12.672844805362207,
           15.329855267847458,
           15.863587216861697,
           16.611895215183107,
           11.793393548387098,
           13.811863273867145,
           18.22825797190608,
           17.400025680534156,
           12.947068234109864,
           16.169449869791666,
           16.28242620988166,
           16.635901542111505,
           17.41818217418546,
           12.873758973575683,
           23.164326952294136,
           13.179336368234699,
           12.711301560758082,
           11.44467506579966,
           12.306362030334366,
           12.39210686095932,
           10.844318181818181,
           13.628742203742204,
           16.19545454545454,
           15.095649717514123,
           12.343280857859913,
           25.76772727272727,
           12.307361249584579,
           15.312768733505324,
           14.431416881998276,
           13.369910769869266,
           16.1650154354225,
           13.66089641530371,
           11.611517370356282,
           14.063159940209268,
           14.05551120267834,
           12.748376157917953,
           13.010306577927457,
           14.104824029126213,
           13.592395254382215,
           12.404637347896903,
           12.963572897761646,
           12.319578834198103,
           11.153944892253804,
           20.26343438538206,
           14.427533917691559,
           21.866650016650016,
           13.678771929824562,
           16.012777777777778,
           15.867119083344699,
           15.290123456790123,
           18.5385944092827,
           13.683446171622524,
           12.393995032223417,
           14.447756605691056,
           14.446326372776488,
           13.560800265648348,
           13.052098445595854,
           12.076208390332877,
           11.662104733131923,
           13.457432885041479,
           11.819661025486047,
           11.900680735194008,
           15.103679919413228,
           12.476110811296996,
           29.080965860353405,
           16.607928475033738,
           17.479185484509944,
           19.120298490523208,
           21.148803952158087,
           13.126013949363006,
           10.791724590670375,
           15.273282642894598,
           13.616066554010139,
           11.263049891315598,
           13.75363579714313,
           18.0030890052356,
           13.700198370527808,
           21.84780621572212,
           13.896495486747941,
           13.133229240596169,
           13.86718254935413,
           12.350989958987412,
           14.958214845100791,
           11.8049843158963,
           13.501724055817498,
           22.330686641697877,
           17.837111260806108,
           12.792439701706762,
           11.908828183172004,
           11.831859371971312,
           12.727289215686275,
           15.5906722208609,
           14.742135016918379,
           25.235528455284552,
           16.398949115044246,
           14.419179284617073,
           15.586678191345687,
           15.002366271837309,
           18.31567856422666,
           36.69449472096531,
           13.487205081669691,
           13.375456292026897,
           14.915537548707048,
           11.454778629203917,
           21.337459150326797,
           14.911009407576913,
           15.963711529627929,
           34.91691542288557,
           14.505563177838756,
           14.351903133274492,
           12.443926853423882,
           12.18825542734207,
           11.77078447339848,
           13.564207808224458,
           13.377396280400573,
           14.566619541313228,
           14.989230875163534,
           11.115991126034297,
           12.263082269598343,
           13.186828837912781,
           11.229627544797824,
           14.443783333333332,
           15.15122745131779,
           17.074595290654894,
           17.22106670703401,
           16.687037037037037,
           18.505779889152812,
           17.207894201424214,
           12.966867557893199,
           11.759030520374656,
           12.08671135139111,
           21.671128170894526,
           15.490607224118316,
           13.064624399333137,
           12.257936507936508,
           14.376258278145693,
           14.841105619622917,
           14.323492578112585,
           17.32936030982906,
           18.126949025487257,
           14.043586391237396,
           20.849761465066177,
           16.857605971450365,
           14.108975360055528,
           16.881897435897436,
           12.379566941140592,
           13.364688284115035,
           15.94102347813862,
           27.493847874720355,
           19.9458600541542,
           20.20483643542019,
           15.74772483365529,
           17.367850813597553,
           21.69225035161744,
           12.332485300768882,
           14.225094775774387,
           13.194059298016132,
           12.648816568047337,
           13.004417742706838,
           12.603910062512604,
           26.82952380952381,
           24.852450032237268,
           13.438579181055747,
           14.917719606122649,
           11.380975745970959,
           11.253747239901287,
           12.023435054773083,
           16.568202936664477,
           12.387613343315863,
           12.717673071058249,
           12.160243989953356,
           14.275530171582803,
           12.17048682001724,
           12.900898748577928,
           12.115899386175608,
           11.079539733908666,
           11.064416079473258,
           12.154046997389035,
           19.159776134729924,
           26.782817109144545,
           15.109925283200772,
           15.150417693782526,
           18.785638440860215,
           18.025992063492065,
           17.07199362974519,
           18.357135383971542,
           13.683865702961063,
           18.28962199312715,
           11.651116755362038,
           15.283827853515104,
           16.64736137667304,
           14.996684118673649,
           13.666378439079168,
           18.76801714898178,
           15.710920089143583,
           14.989317375886523,
           12.714545900032668,
           14.694280335939762,
           11.495335754468417,
           15.305421117044949,
           13.162061961925549,
           12.932717216872994,
           13.018653604028957,
           14.594376935906599,
           15.805197132616488,
           11.544087336892051,
           11.359415379766784,
           14.835169785169784,
           11.580286819369096,
           13.108782017773132,
           19.497730403205612,
           33.882781582952816,
           19.173219241443107,
           16.72915803406998,
           17.640724671669794,
           26.007256554307116,
           19.33139606396064,
           16.81851303561148,
           16.478691468455647,
           13.904841500553708,
           14.54813849590469,
           12.199003095261615,
           15.640211485277371,
           13.232286436938992,
           13.974112360456212,
           16.71631790744467,
           10.833723875870804,
           18.741662447257383,
           23.188203901361796,
           15.152901870943108,
           27.767770034843206,
           28.913595387840672,
           21.94420457465947,
           18.396397927796666,
           12.817873074657015,
           12.65672163918041,
           14.693138912369681,
           28.94754303599374,
           13.672847258561545,
           14.274260452817716,
           16.28677597955707,
           29.03333333333333,
           18.245245783997127,
           12.67473125079044,
           26.932037037037034,
           11.774230548152794,
           11.802196037584357,
           11.872363005697238,
           12.019888527401578,
           12.388990271720898,
           27.056006944444444,
           37.88869047619048,
           12.618101612412532,
           16.43464912280702,
           15.121794055201699,
           13.589711296260415,
           12.9452088922959,
           20.604758757435558,
           13.674073023079833,
           14.284849000908265,
           11.936092005863118,
           14.550601771121823,
           13.449359605911331,
           14.24044710163764,
           14.056884345115444,
           15.134050954539212,
           13.511685383699167,
           15.470527838033261,
           14.718087941372419,
           13.560340196956131,
           20.854494934592307,
           15.51172631841261,
           11.885204081632653,
           14.14169665249155,
           11.825117790011408,
           11.740878527336859,
           11.200713012477719,
           12.511309309309308,
           21.8455223880597,
           13.980881916629581,
           15.47079969242599,
           20.405235468092364,
           15.74825623814388,
           14.906857281318148,
           17.271576106352605,
           11.109443244540438,
           11.452536370597244,
           11.266190978236313,
           11.650000000000002,
           10.481236051937513,
           16.9397808908046,
           10.66506699006699,
           13.50797007156799,
           11.776553338133937,
           12.095783337106633,
           13.1438223334376,
           13.188011734897986,
           10.794397134746909,
           12.027813163481953,
           15.215471307883758,
           18.565626175253854,
           12.118117301160845,
           14.16044776119403,
           12.652959957929532,
           11.579139460319688,
           15.015357028498238,
           14.2781192339505,
           14.92410511887817,
           12.131666743291495,
           11.474721422203936,
           12.183164926837973,
           14.899191695388149,
           14.172650439486137,
           14.553239656518345,
           17.128860722610725,
           14.873909395973154,
           11.57380620091399,
           13.140844422127376,
           14.305286418493965,
           16.09504461942257,
           17.080240432169212,
           22.166294202118113,
           16.743244709712425,
           14.577699417733392,
           12.171484174583798,
           11.312648533553128,
           13.9184459575197,
           17.32013349038084,
           25.98674288006418,
           15.948459075831213,
           13.0213687150838,
           12.088513696772445,
           11.16405700211119,
           11.583636215600064,
           9.996465767457742,
           14.925560147125628,
           20.723685540950452,
           15.068227176220805,
           11.556677300306498,
           12.736980013943759,
           11.78901794661565,
           12.322844764497527,
           17.301324200913243,
           15.171928287783228,
           10.366593633984541,
           10.279303137092317,
           13.228053646641543,
           14.46292735042735,
           16.311046885035324,
           24.169287293536218,
           10.977313499359296,
           13.458253143443674,
           11.65382567335161,
           23.279023354564757,
           12.859098403599605,
           15.605780555842546,
           15.304852725065492,
           17.41805967200158,
           14.119435501180511,
           14.092552612128992,
           18.28741938588892,
           13.238790722235763,
           12.91385685520776,
           13.27508544368952,
           17.504994885782477,
           11.634169786770759,
           15.8865084404932,
           12.402311565313418,
           16.811976682564918,
           16.50460432444298,
           14.18266174298375,
           14.441511326860839,
           15.092690076781839,
           15.768290236062485,
           11.328917364196894,
           12.854427328932202,
           10.89856540084388,
           14.161649799416486,
           17.728087066631737,
           20.1359068627451,
           14.310944326990837,
           14.3022162567112,
           18.39949170679508,
           23.01063340410474,
           14.13728292896997,
           17.62932194616977,
           14.947955974842765,
           27.870627450980393,
           13.5843370568237,
           18.621763835653283,
           12.56455698179206,
           15.575574446161772,
           16.95422791212265,
           21.04914902449149,
           13.041070877934892,
           15.698171135385632,
           14.919448138297872,
           13.09077380952381,
           17.22177331732144,
           13.126144976616674,
           15.380251256281406,
           21.13946466809422,
           12.082251029309854,
           12.585197368421053,
           18.109666666666666,
           16.168609379235566,
           13.910483870967743,
           22.487932960893854,
           21.008333333333333,
           32.93244047619048,
           26.6,
           16.482188295165393,
           16.165199797673242,
           24.98125,
           28.338690476190475,
           18.269218143837662,
           31.835523321956767,
           16.78935404977701,
           20.075185185185184,
           19.41231448054553,
           23.967521367521368,
           14.129060340244552,
           29.46607210171002,
           15.8651515648221,
           14.204438806487987,
           14.802867023650156,
           15.72112472107487,
           25.77559523809524,
           30.881343283582087,
           15.062683786505538,
           24.826999999999998,
           35.363117283950615,
           23.12621247113164,
           11.77249974922259,
           20.47553191489362,
           17.092889127709118,
           21.255761316872427,
           18.76345543598234,
           36.089414414414414,
           26.3527027027027,
           20.91339113680154,
           23.63550724637681,
           13.480555555555556,
           13.556984561752987,
           11.12019549370444,
           16.519491525423728,
           28.637198067632852,
           15.588223684210526,
           13.719373508353222,
           12.375803938234878,
           25.04342465753425,
           14.213235294117647,
           32.01580459770115,
           31.929856512141278,
           15.997698983670206,
           12.353333333333333,
           26.52695035460993,
           14.615181907571287,
           12.259988385598142,
           32.87966101694915,
           37.727450980392156,
           18.61507141211702,
           12.898984593837536,
           19.267230769230768,
           14.052451523545706,
           20.136011904761904,
           20.929037587773646,
           38.81175548589342,
           12.415466916477666,
           26.535992075904492,
           19.85724027276374,
           25.108133669609078,
           26.44929141973718,
           25.070091324200913,
           14.126535168874744,
           14.37936876504988,
           14.899787052810902,
           28.994376441369525,
           36.502030217186025,
           20.259893348301993,
           21.653527174579807,
           18.973166994966075,
           18.613219696969697,
           16.979919786096257,
           16.91641933473553,
           17.313479415670653,
           15.064580021197667,
           20.647423896499237,
           26.722587064676613,
           14.099084878637118,
           10.859822658402203,
           11.881565211379584,
           13.243189368770766,
           9.579725270784019,
           12.993688020928394,
           13.979628792445247,
           14.017459373761394,
           11.61312633703938,
           11.482834528076463,
           16.616237942122186,
           31.687167224613425,
           14.601601153039832,
           15.342595852895148,
           12.598621275966586,
           13.90729456645015,
           20.340182421227194,
           14.459249835850295,
           13.07468586650583,
           14.830000000000002,
           12.286047852151396,
           16.064681122448977,
           15.025688015855096,
           12.58205511794997,
           13.82827269636178,
           16.766666666666666,
           14.360646176118488,
           12.48374210330732,
           24.21838905775076,
           11.686327641672854,
           14.287053067369213,
           11.63548585485855,
           16.166817701253585,
           21.320519684187754,
           14.725396825396826,
           11.401788779287383,
           12.528244338407937,
           11.939228628745228,
           12.136431174656574,
           22.955005241090145,
           11.114700854700855,
           15.540723844282237,
           18.493089430894308,
           13.334673993233102,
           13.419338256588473,
           14.350148294611962,
           14.602342697386149,
           13.379226161168553,
           12.41680154820549,
           16.99719705920966,
           15.086771561771561,
           15.61722895040369,
           12.896947870712163,
           14.668078009845901,
           14.218392909038071,
           15.09358125062732,
           11.62305551874917,
           11.845685849128415,
           12.586172472387425,
           13.296780855199223,
           11.710710597492008,
           18.129995317412536,
           12.1294254501315,
           14.760792872967594,
           19.0802734375,
           20.773036398467433,
           17.937856709168184,
           19.7327797573598,
           13.217293255842112,
           14.221520642630301,
           10.767773882020053,
           13.657067289619247,
           14.790468514199478,
           12.74517537546183,
           14.799419457735246,
           15.654543412837443,
           11.908221036685767,
           11.708290168100078,
           12.253739782527182,
           12.169108382274425,
           13.638107363814697,
           12.39576264339958,
           11.816718566472725,
           14.336506268005918,
           16.59138576779026,
           15.669935962251431,
           11.541763439382487,
           11.57055033557047,
           15.566709844559586,
           11.113564213564214,
           15.901210637284906,
           15.58132783574554,
           16.695327876185363,
           14.709731682146542,
           28.48257287705957,
           35.27609274040289,
           35.05810520665593,
           33.792652606310014,
           32.82209797657082,
           14.453000000000001,
           13.887002204471928,
           14.953213432146372,
           13.971530740276034,
           18.83434974135144,
           19.919911894273127,
           13.651791051058634,
           16.3323819534282,
           16.27574957134251,
           11.214119575993289,
           12.621096096096096,
           13.56185770750988,
           15.507173202614378,
           15.087960428073668,
           13.474670708760192,
           14.812563429571304,
           14.436965466360205,
           17.241840556447297,
           16.731919970631424,
           23.30008880994671,
           11.920873389063043,
           11.555770449040432,
           17.4741929651545,
           20.12917791779178,
           14.503126122888968,
           16.78893632512576,
           20.524074074074075,
           28.39281970649895,
           23.385426237876466,
           19.486709677419356,
           25.600253164556964,
           12.824545344692163,
           15.190940756841107,
           21.114580278592374,
           14.049415204678363,
           10.863444396434458,
           10.958351231386025,
           12.088244552805381,
           14.043438845218041,
           15.525441329179646,
           15.8248673420164,
           32.5404516866781,
           15.711213759951931,
           17.09769472665699,
           16.883658219623133,
           12.446278545249505,
           11.795492766032186,
           12.346242750273179,
           11.669737532808398,
           12.098321048321049,
           18.242066895368783,
           13.617949497251983,
           14.232041658847814,
           13.36115408739285,
           14.076224899598396,
           14.603462897526503,
           13.988478788626919,
           14.709573485967503,
           14.858450272218388,
           14.145382048072912,
           12.002275600505689,
           12.71491082767379,
           14.216955349115972,
           14.738781297134238,
           14.899906842818428,
           16.002721934369603,
           16.402391546162402,
           12.736510074345437,
           24.344758539458187,
           14.102966072415699,
           12.418172850747402,
           15.290016984336669,
           12.347424544314073,
           12.235405449502366,
           12.482439286062615,
           13.73196088826059,
           11.959326681954112,
           11.899035037058427,
           12.000155947189922,
           14.381630195430773,
           15.111182717837314,
           11.017515979336311,
           14.955405005182882,
           15.498178049312676,
           22.211827956989247,
           13.245723379074304,
           13.758252100840338,
           11.450550496126137,
           15.245978232869655,
           11.336692739671077,
           11.491488730723605,
           14.30313253012048,
           15.83981699654414,
           26.44780701754386,
           14.766759362254355,
           15.198978388998036,
           16.73021625652498,
           16.05558144049699,
           13.816044519073452,
           11.542634671440702,
           11.523924731182795,
           11.548106765983862,
           13.24911468264778,
           20.7643016403886,
           12.385181354295959,
           14.441801697530865,
           15.451948503827417,
           15.037229938271604,
           14.403842245475268,
           14.060122956800933,
           14.815398958400309,
           15.001440809968846,
           10.65860152650276,
           12.322746682629951,
           11.929533951560854,
           12.368575092122299,
           15.799724786931819,
           13.332905389775618,
           13.545624999999998,
           14.666907648118396,
           10.776289989680082,
           15.666276994078718,
           20.15864814814815,
           13.785592402509101,
           15.426866385911179,
           19.960115410726406,
           12.249441276424168,
           12.4882785393924,
           11.305588599752168,
           12.080303821257047,
           11.128897502153317,
           13.572704924805816,
           12.888546673787905,
           14.800041594675882,
           15.253536141445657,
           20.4881865515914,
           19.94054561660406,
           23.671601741183412,
           22.747590526996444,
           15.755498922592409,
           16.297486979166667,
           19.58502412309297,
           14.890608438988394,
           13.513850001866578,
           23.65874587458746,
           12.577331218050414,
           14.0663504724947,
           13.391794823705927,
           30.18848797250859,
           13.617129529182035,
           15.499703344120817,
           10.998005698005699,
           18.740507726269318,
           14.965061755993963,
           23.6602191196432,
           27.066148850272075,
           16.246050955414013,
           30.273168214654284,
           16.42118754904525,
           11.973438792390406,
           14.094519969278034,
           14.763861024033439,
           14.483896982310092,
           12.064564770390678,
           13.30028408254585,
           11.38409229673349,
           17.703017847885654,
           13.758825768388999,
           14.17719467180228,
           11.391261597131312,
           12.221527777777778,
           13.51301784450908,
           13.142578602239011,
           13.583205070842654,
           14.935729060889843,
           13.774430810171497,
           25.150782688766117,
           28.466228070175436,
           12.63552416052416,
           13.67268084881198,
           12.50902151518222,
           14.59039279572812
          ],
          "coloraxis": "coloraxis",
          "size": [
           13.882093687517852,
           13.253928960971216,
           16.55818536162841,
           14.392172422786036,
           15.477070621468926,
           18.372373374401093,
           15.060651289009499,
           15.929803377284294,
           43.53232323232323,
           35.78974358974359,
           17.143383475038153,
           15.226925497600503,
           14.948256654327515,
           13.070540913269998,
           16.847577792217166,
           15.91264487714418,
           18.316600946372237,
           18.26217084136159,
           21.135611854684512,
           21.593400824896886,
           15.459069543549665,
           16.65470507107999,
           14.348302923288209,
           19.254333056017746,
           17.866666666666667,
           13.109700452803901,
           13.089827078734363,
           14.205389894140817,
           13.689329643296434,
           14.105030782761654,
           13.556761268781303,
           23.552953586497893,
           22.689893617021276,
           28.511111111111113,
           34.79495412844037,
           15.499251863230358,
           14.212778967404235,
           15.25748987854251,
           29.08828250401284,
           12.730215786962988,
           15.53773690078038,
           12.918389973487585,
           12.26093179252175,
           18.739550264550264,
           31.921199442119942,
           11.080559530197341,
           26.62583857442348,
           20.160330188679247,
           16.675185764567853,
           13.276247455575726,
           10.571686019278653,
           11.658827334744766,
           14.285862733171127,
           15.266624790619765,
           12.672844805362207,
           15.329855267847458,
           15.863587216861697,
           16.611895215183107,
           11.793393548387098,
           13.811863273867145,
           18.22825797190608,
           17.400025680534156,
           12.947068234109864,
           16.169449869791666,
           16.28242620988166,
           16.635901542111505,
           17.41818217418546,
           12.873758973575683,
           23.164326952294136,
           13.179336368234699,
           12.711301560758082,
           11.44467506579966,
           12.306362030334366,
           12.39210686095932,
           10.844318181818181,
           13.628742203742204,
           16.19545454545454,
           15.095649717514123,
           12.343280857859913,
           25.76772727272727,
           12.307361249584579,
           15.312768733505324,
           14.431416881998276,
           13.369910769869266,
           16.1650154354225,
           13.66089641530371,
           11.611517370356282,
           14.063159940209268,
           14.05551120267834,
           12.748376157917953,
           13.010306577927457,
           14.104824029126213,
           13.592395254382215,
           12.404637347896903,
           12.963572897761646,
           12.319578834198103,
           11.153944892253804,
           20.26343438538206,
           14.427533917691559,
           21.866650016650016,
           13.678771929824562,
           16.012777777777778,
           15.867119083344699,
           15.290123456790123,
           18.5385944092827,
           13.683446171622524,
           12.393995032223417,
           14.447756605691056,
           14.446326372776488,
           13.560800265648348,
           13.052098445595854,
           12.076208390332877,
           11.662104733131923,
           13.457432885041479,
           11.819661025486047,
           11.900680735194008,
           15.103679919413228,
           12.476110811296996,
           29.080965860353405,
           16.607928475033738,
           17.479185484509944,
           19.120298490523208,
           21.148803952158087,
           13.126013949363006,
           10.791724590670375,
           15.273282642894598,
           13.616066554010139,
           11.263049891315598,
           13.75363579714313,
           18.0030890052356,
           13.700198370527808,
           21.84780621572212,
           13.896495486747941,
           13.133229240596169,
           13.86718254935413,
           12.350989958987412,
           14.958214845100791,
           11.8049843158963,
           13.501724055817498,
           22.330686641697877,
           17.837111260806108,
           12.792439701706762,
           11.908828183172004,
           11.831859371971312,
           12.727289215686275,
           15.5906722208609,
           14.742135016918379,
           25.235528455284552,
           16.398949115044246,
           14.419179284617073,
           15.586678191345687,
           15.002366271837309,
           18.31567856422666,
           36.69449472096531,
           13.487205081669691,
           13.375456292026897,
           14.915537548707048,
           11.454778629203917,
           21.337459150326797,
           14.911009407576913,
           15.963711529627929,
           34.91691542288557,
           14.505563177838756,
           14.351903133274492,
           12.443926853423882,
           12.18825542734207,
           11.77078447339848,
           13.564207808224458,
           13.377396280400573,
           14.566619541313228,
           14.989230875163534,
           11.115991126034297,
           12.263082269598343,
           13.186828837912781,
           11.229627544797824,
           14.443783333333332,
           15.15122745131779,
           17.074595290654894,
           17.22106670703401,
           16.687037037037037,
           18.505779889152812,
           17.207894201424214,
           12.966867557893199,
           11.759030520374656,
           12.08671135139111,
           21.671128170894526,
           15.490607224118316,
           13.064624399333137,
           12.257936507936508,
           14.376258278145693,
           14.841105619622917,
           14.323492578112585,
           17.32936030982906,
           18.126949025487257,
           14.043586391237396,
           20.849761465066177,
           16.857605971450365,
           14.108975360055528,
           16.881897435897436,
           12.379566941140592,
           13.364688284115035,
           15.94102347813862,
           27.493847874720355,
           19.9458600541542,
           20.20483643542019,
           15.74772483365529,
           17.367850813597553,
           21.69225035161744,
           12.332485300768882,
           14.225094775774387,
           13.194059298016132,
           12.648816568047337,
           13.004417742706838,
           12.603910062512604,
           26.82952380952381,
           24.852450032237268,
           13.438579181055747,
           14.917719606122649,
           11.380975745970959,
           11.253747239901287,
           12.023435054773083,
           16.568202936664477,
           12.387613343315863,
           12.717673071058249,
           12.160243989953356,
           14.275530171582803,
           12.17048682001724,
           12.900898748577928,
           12.115899386175608,
           11.079539733908666,
           11.064416079473258,
           12.154046997389035,
           19.159776134729924,
           26.782817109144545,
           15.109925283200772,
           15.150417693782526,
           18.785638440860215,
           18.025992063492065,
           17.07199362974519,
           18.357135383971542,
           13.683865702961063,
           18.28962199312715,
           11.651116755362038,
           15.283827853515104,
           16.64736137667304,
           14.996684118673649,
           13.666378439079168,
           18.76801714898178,
           15.710920089143583,
           14.989317375886523,
           12.714545900032668,
           14.694280335939762,
           11.495335754468417,
           15.305421117044949,
           13.162061961925549,
           12.932717216872994,
           13.018653604028957,
           14.594376935906599,
           15.805197132616488,
           11.544087336892051,
           11.359415379766784,
           14.835169785169784,
           11.580286819369096,
           13.108782017773132,
           19.497730403205612,
           33.882781582952816,
           19.173219241443107,
           16.72915803406998,
           17.640724671669794,
           26.007256554307116,
           19.33139606396064,
           16.81851303561148,
           16.478691468455647,
           13.904841500553708,
           14.54813849590469,
           12.199003095261615,
           15.640211485277371,
           13.232286436938992,
           13.974112360456212,
           16.71631790744467,
           10.833723875870804,
           18.741662447257383,
           23.188203901361796,
           15.152901870943108,
           27.767770034843206,
           28.913595387840672,
           21.94420457465947,
           18.396397927796666,
           12.817873074657015,
           12.65672163918041,
           14.693138912369681,
           28.94754303599374,
           13.672847258561545,
           14.274260452817716,
           16.28677597955707,
           29.03333333333333,
           18.245245783997127,
           12.67473125079044,
           26.932037037037034,
           11.774230548152794,
           11.802196037584357,
           11.872363005697238,
           12.019888527401578,
           12.388990271720898,
           27.056006944444444,
           37.88869047619048,
           12.618101612412532,
           16.43464912280702,
           15.121794055201699,
           13.589711296260415,
           12.9452088922959,
           20.604758757435558,
           13.674073023079833,
           14.284849000908265,
           11.936092005863118,
           14.550601771121823,
           13.449359605911331,
           14.24044710163764,
           14.056884345115444,
           15.134050954539212,
           13.511685383699167,
           15.470527838033261,
           14.718087941372419,
           13.560340196956131,
           20.854494934592307,
           15.51172631841261,
           11.885204081632653,
           14.14169665249155,
           11.825117790011408,
           11.740878527336859,
           11.200713012477719,
           12.511309309309308,
           21.8455223880597,
           13.980881916629581,
           15.47079969242599,
           20.405235468092364,
           15.74825623814388,
           14.906857281318148,
           17.271576106352605,
           11.109443244540438,
           11.452536370597244,
           11.266190978236313,
           11.650000000000002,
           10.481236051937513,
           16.9397808908046,
           10.66506699006699,
           13.50797007156799,
           11.776553338133937,
           12.095783337106633,
           13.1438223334376,
           13.188011734897986,
           10.794397134746909,
           12.027813163481953,
           15.215471307883758,
           18.565626175253854,
           12.118117301160845,
           14.16044776119403,
           12.652959957929532,
           11.579139460319688,
           15.015357028498238,
           14.2781192339505,
           14.92410511887817,
           12.131666743291495,
           11.474721422203936,
           12.183164926837973,
           14.899191695388149,
           14.172650439486137,
           14.553239656518345,
           17.128860722610725,
           14.873909395973154,
           11.57380620091399,
           13.140844422127376,
           14.305286418493965,
           16.09504461942257,
           17.080240432169212,
           22.166294202118113,
           16.743244709712425,
           14.577699417733392,
           12.171484174583798,
           11.312648533553128,
           13.9184459575197,
           17.32013349038084,
           25.98674288006418,
           15.948459075831213,
           13.0213687150838,
           12.088513696772445,
           11.16405700211119,
           11.583636215600064,
           9.996465767457742,
           14.925560147125628,
           20.723685540950452,
           15.068227176220805,
           11.556677300306498,
           12.736980013943759,
           11.78901794661565,
           12.322844764497527,
           17.301324200913243,
           15.171928287783228,
           10.366593633984541,
           10.279303137092317,
           13.228053646641543,
           14.46292735042735,
           16.311046885035324,
           24.169287293536218,
           10.977313499359296,
           13.458253143443674,
           11.65382567335161,
           23.279023354564757,
           12.859098403599605,
           15.605780555842546,
           15.304852725065492,
           17.41805967200158,
           14.119435501180511,
           14.092552612128992,
           18.28741938588892,
           13.238790722235763,
           12.91385685520776,
           13.27508544368952,
           17.504994885782477,
           11.634169786770759,
           15.8865084404932,
           12.402311565313418,
           16.811976682564918,
           16.50460432444298,
           14.18266174298375,
           14.441511326860839,
           15.092690076781839,
           15.768290236062485,
           11.328917364196894,
           12.854427328932202,
           10.89856540084388,
           14.161649799416486,
           17.728087066631737,
           20.1359068627451,
           14.310944326990837,
           14.3022162567112,
           18.39949170679508,
           23.01063340410474,
           14.13728292896997,
           17.62932194616977,
           14.947955974842765,
           27.870627450980393,
           13.5843370568237,
           18.621763835653283,
           12.56455698179206,
           15.575574446161772,
           16.95422791212265,
           21.04914902449149,
           13.041070877934892,
           15.698171135385632,
           14.919448138297872,
           13.09077380952381,
           17.22177331732144,
           13.126144976616674,
           15.380251256281406,
           21.13946466809422,
           12.082251029309854,
           12.585197368421053,
           18.109666666666666,
           16.168609379235566,
           13.910483870967743,
           22.487932960893854,
           21.008333333333333,
           32.93244047619048,
           26.6,
           16.482188295165393,
           16.165199797673242,
           24.98125,
           28.338690476190475,
           18.269218143837662,
           31.835523321956767,
           16.78935404977701,
           20.075185185185184,
           19.41231448054553,
           23.967521367521368,
           14.129060340244552,
           29.46607210171002,
           15.8651515648221,
           14.204438806487987,
           14.802867023650156,
           15.72112472107487,
           25.77559523809524,
           30.881343283582087,
           15.062683786505538,
           24.826999999999998,
           35.363117283950615,
           23.12621247113164,
           11.77249974922259,
           20.47553191489362,
           17.092889127709118,
           21.255761316872427,
           18.76345543598234,
           36.089414414414414,
           26.3527027027027,
           20.91339113680154,
           23.63550724637681,
           13.480555555555556,
           13.556984561752987,
           11.12019549370444,
           16.519491525423728,
           28.637198067632852,
           15.588223684210526,
           13.719373508353222,
           12.375803938234878,
           25.04342465753425,
           14.213235294117647,
           32.01580459770115,
           31.929856512141278,
           15.997698983670206,
           12.353333333333333,
           26.52695035460993,
           14.615181907571287,
           12.259988385598142,
           32.87966101694915,
           37.727450980392156,
           18.61507141211702,
           12.898984593837536,
           19.267230769230768,
           14.052451523545706,
           20.136011904761904,
           20.929037587773646,
           38.81175548589342,
           12.415466916477666,
           26.535992075904492,
           19.85724027276374,
           25.108133669609078,
           26.44929141973718,
           25.070091324200913,
           14.126535168874744,
           14.37936876504988,
           14.899787052810902,
           28.994376441369525,
           36.502030217186025,
           20.259893348301993,
           21.653527174579807,
           18.973166994966075,
           18.613219696969697,
           16.979919786096257,
           16.91641933473553,
           17.313479415670653,
           15.064580021197667,
           20.647423896499237,
           26.722587064676613,
           14.099084878637118,
           10.859822658402203,
           11.881565211379584,
           13.243189368770766,
           9.579725270784019,
           12.993688020928394,
           13.979628792445247,
           14.017459373761394,
           11.61312633703938,
           11.482834528076463,
           16.616237942122186,
           31.687167224613425,
           14.601601153039832,
           15.342595852895148,
           12.598621275966586,
           13.90729456645015,
           20.340182421227194,
           14.459249835850295,
           13.07468586650583,
           14.830000000000002,
           12.286047852151396,
           16.064681122448977,
           15.025688015855096,
           12.58205511794997,
           13.82827269636178,
           16.766666666666666,
           14.360646176118488,
           12.48374210330732,
           24.21838905775076,
           11.686327641672854,
           14.287053067369213,
           11.63548585485855,
           16.166817701253585,
           21.320519684187754,
           14.725396825396826,
           11.401788779287383,
           12.528244338407937,
           11.939228628745228,
           12.136431174656574,
           22.955005241090145,
           11.114700854700855,
           15.540723844282237,
           18.493089430894308,
           13.334673993233102,
           13.419338256588473,
           14.350148294611962,
           14.602342697386149,
           13.379226161168553,
           12.41680154820549,
           16.99719705920966,
           15.086771561771561,
           15.61722895040369,
           12.896947870712163,
           14.668078009845901,
           14.218392909038071,
           15.09358125062732,
           11.62305551874917,
           11.845685849128415,
           12.586172472387425,
           13.296780855199223,
           11.710710597492008,
           18.129995317412536,
           12.1294254501315,
           14.760792872967594,
           19.0802734375,
           20.773036398467433,
           17.937856709168184,
           19.7327797573598,
           13.217293255842112,
           14.221520642630301,
           10.767773882020053,
           13.657067289619247,
           14.790468514199478,
           12.74517537546183,
           14.799419457735246,
           15.654543412837443,
           11.908221036685767,
           11.708290168100078,
           12.253739782527182,
           12.169108382274425,
           13.638107363814697,
           12.39576264339958,
           11.816718566472725,
           14.336506268005918,
           16.59138576779026,
           15.669935962251431,
           11.541763439382487,
           11.57055033557047,
           15.566709844559586,
           11.113564213564214,
           15.901210637284906,
           15.58132783574554,
           16.695327876185363,
           14.709731682146542,
           28.48257287705957,
           35.27609274040289,
           35.05810520665593,
           33.792652606310014,
           32.82209797657082,
           14.453000000000001,
           13.887002204471928,
           14.953213432146372,
           13.971530740276034,
           18.83434974135144,
           19.919911894273127,
           13.651791051058634,
           16.3323819534282,
           16.27574957134251,
           11.214119575993289,
           12.621096096096096,
           13.56185770750988,
           15.507173202614378,
           15.087960428073668,
           13.474670708760192,
           14.812563429571304,
           14.436965466360205,
           17.241840556447297,
           16.731919970631424,
           23.30008880994671,
           11.920873389063043,
           11.555770449040432,
           17.4741929651545,
           20.12917791779178,
           14.503126122888968,
           16.78893632512576,
           20.524074074074075,
           28.39281970649895,
           23.385426237876466,
           19.486709677419356,
           25.600253164556964,
           12.824545344692163,
           15.190940756841107,
           21.114580278592374,
           14.049415204678363,
           10.863444396434458,
           10.958351231386025,
           12.088244552805381,
           14.043438845218041,
           15.525441329179646,
           15.8248673420164,
           32.5404516866781,
           15.711213759951931,
           17.09769472665699,
           16.883658219623133,
           12.446278545249505,
           11.795492766032186,
           12.346242750273179,
           11.669737532808398,
           12.098321048321049,
           18.242066895368783,
           13.617949497251983,
           14.232041658847814,
           13.36115408739285,
           14.076224899598396,
           14.603462897526503,
           13.988478788626919,
           14.709573485967503,
           14.858450272218388,
           14.145382048072912,
           12.002275600505689,
           12.71491082767379,
           14.216955349115972,
           14.738781297134238,
           14.899906842818428,
           16.002721934369603,
           16.402391546162402,
           12.736510074345437,
           24.344758539458187,
           14.102966072415699,
           12.418172850747402,
           15.290016984336669,
           12.347424544314073,
           12.235405449502366,
           12.482439286062615,
           13.73196088826059,
           11.959326681954112,
           11.899035037058427,
           12.000155947189922,
           14.381630195430773,
           15.111182717837314,
           11.017515979336311,
           14.955405005182882,
           15.498178049312676,
           22.211827956989247,
           13.245723379074304,
           13.758252100840338,
           11.450550496126137,
           15.245978232869655,
           11.336692739671077,
           11.491488730723605,
           14.30313253012048,
           15.83981699654414,
           26.44780701754386,
           14.766759362254355,
           15.198978388998036,
           16.73021625652498,
           16.05558144049699,
           13.816044519073452,
           11.542634671440702,
           11.523924731182795,
           11.548106765983862,
           13.24911468264778,
           20.7643016403886,
           12.385181354295959,
           14.441801697530865,
           15.451948503827417,
           15.037229938271604,
           14.403842245475268,
           14.060122956800933,
           14.815398958400309,
           15.001440809968846,
           10.65860152650276,
           12.322746682629951,
           11.929533951560854,
           12.368575092122299,
           15.799724786931819,
           13.332905389775618,
           13.545624999999998,
           14.666907648118396,
           10.776289989680082,
           15.666276994078718,
           20.15864814814815,
           13.785592402509101,
           15.426866385911179,
           19.960115410726406,
           12.249441276424168,
           12.4882785393924,
           11.305588599752168,
           12.080303821257047,
           11.128897502153317,
           13.572704924805816,
           12.888546673787905,
           14.800041594675882,
           15.253536141445657,
           20.4881865515914,
           19.94054561660406,
           23.671601741183412,
           22.747590526996444,
           15.755498922592409,
           16.297486979166667,
           19.58502412309297,
           14.890608438988394,
           13.513850001866578,
           23.65874587458746,
           12.577331218050414,
           14.0663504724947,
           13.391794823705927,
           30.18848797250859,
           13.617129529182035,
           15.499703344120817,
           10.998005698005699,
           18.740507726269318,
           14.965061755993963,
           23.6602191196432,
           27.066148850272075,
           16.246050955414013,
           30.273168214654284,
           16.42118754904525,
           11.973438792390406,
           14.094519969278034,
           14.763861024033439,
           14.483896982310092,
           12.064564770390678,
           13.30028408254585,
           11.38409229673349,
           17.703017847885654,
           13.758825768388999,
           14.17719467180228,
           11.391261597131312,
           12.221527777777778,
           13.51301784450908,
           13.142578602239011,
           13.583205070842654,
           14.935729060889843,
           13.774430810171497,
           25.150782688766117,
           28.466228070175436,
           12.63552416052416,
           13.67268084881198,
           12.50902151518222,
           14.59039279572812
          ],
          "sizemode": "area",
          "sizeref": 0.10883080808080807
         },
         "mode": "markers+text",
         "name": "",
         "showlegend": false,
         "subplot": "mapbox",
         "text": [
          "10e avenue / Holt",
          "10e avenue / Masson",
          "12e avenue / St-Zotique",
          "15e avenue / Masson",
          "16e avenue / Beaubien",
          "16e avenue / Jean-Talon",
          "16e avenue / St-Joseph",
          "18e avenue / Rosemont",
          "18e avenue / St-Joseph Lachine",
          "19e avenue / Saint-Antoine",
          "19e avenue / St-Zotique",
          "1ère  avenue / St-Zotique",
          "1ère avenue / Masson",
          "1ère avenue / Rosemont",
          "26e avenue / Beaubien",
          "27e avenue / Rosemont",
          "28e avenue / Rosemont",
          "29e avenue / St-Zotique",
          "2e avenue / Centrale",
          "2e avenue / Jean-Rivard",
          "2e avenue / Wellington",
          "35e avenue / Beaubien",
          "3e avenue / Holt",
          "41e avenue / Rosemont",
          "41e avenue / Victoria",
          "4e avenue / de Verdun",
          "5e avenue / Bannantyne",
          "5e avenue / Masson",
          "5e avenue / Rosemont",
          "6e avenue / Bélanger",
          "7e avenue / St-Joseph Rosemont",
          "8e avenue / Everett",
          "8e avenue / Jarry",
          "8e avenue / Notre-Dame Lachine",
          "8e avenue / Saint-Joseph Lachine",
          "Alexandra / Jean-Talon",
          "Alexandre-DeSève / Ste-Catherine",
          "Alexis-Nihon / St-Louis",
          "Alfred Laliberté / de Poutrincourt",
          "André-Laurendeau / Rachel",
          "Ann / Ottawa",
          "Argyle / Bannantyne",
          "Argyle / de Verdun",
          "Aréna Chaumont (Chaumont / des Ormeaux)",
          "Aréna Rodrigue-Gilbert (du Tricentenaire / de Montigny)",
          "Atateken / du Square Amherst",
          "Ateliers municipaux de St-Laurent (Cavendish / Poirier)",
          "Atwater / Greene",
          "Atwater / Sherbrooke",
          "Augustin-Cantin / Shearer",
          "Aylmer / Prince-Arthur",
          "Aylmer / Sherbrooke",
          "Aylmer / Ste-Catherine",
          "Aylmer/ Sainte-Catherine",
          "Aylwin / Ontario",
          "BAnQ (Berri / de Maisonneuve)",
          "Ball / Querbes",
          "Basile-Routhier / Chabanel",
          "Beatty / de Verdun",
          "Beaubien / 8e avenue",
          "Beaucourt / de la Côte-Ste-Catherine",
          "Beaudet / Marcel-Laurin",
          "Beaudry / Sherbrooke",
          "Bel Air / St-Antoine",
          "Bennett / Pierre-de-Coubertin",
          "Bennett / Ste-Catherine",
          "Benny / Sherbrooke",
          "Bercy / Rachel",
          "Berlioz / de l'Île des Soeurs",
          "Bernard / Jeanne-Mance",
          "Bernard / St-Urbain",
          "Berri / Cherrier",
          "Berri / Duluth",
          "Berri / Rachel",
          "Berri/ Duluth",
          "Beurling / Godin",
          "Bibliothèque Jean-Corbeil (Goncourt / Place Montrichard)",
          "Bibliothèque d'Ahuntsic (Lajeunesse / Fleury)",
          "Bibliothèque de Verdun (Brown / Bannantyne)",
          "Bibliothèque du Boisé (Thimens / Todd)",
          "Bishop / René-Lévesque",
          "Bishop / Ste-Catherine",
          "Bishop/ René-Lévesque",
          "Bloomfield / Bernard",
          "Bloomfield / Jean-Talon",
          "Bloomfield / Van Horne",
          "Boucher / St-Denis",
          "Bourgeoys / Favard",
          "Bourget / St-Jacques",
          "Boyer / Beaubien",
          "Boyer / Bélanger",
          "Boyer / Everett",
          "Boyer / Jean-Talon",
          "Boyer / Rachel",
          "Boyer / Rosemont",
          "Boyer / St-Zotique",
          "Boyer / du Mont-Royal",
          "Brittany / Ainsley",
          "Bélanger / St-Denis",
          "Bélanger / des Galeries d'Anjou",
          "CCI Outremont (Dollard / Durcharme)",
          "CHSLD St-Michel (8e avenue / Jarry)",
          "CHU Sainte-Justine (de la Côte Sainte-Catherine / Hudson)",
          "CHU Ste-Justine (de la Côte Ste-Catherine / Hudson)",
          "CIUSSS (du Trianon / Pierre-de-Coubertin)",
          "Calixa-Lavallée / Rachel",
          "Calixa-Lavallée / Sherbrooke",
          "Campus MIL (Outremont / Thérèse-Lavoie Roux)",
          "Canning / Notre-Dame",
          "Cartier / Bélanger",
          "Cartier / Dandurand",
          "Cartier / Marie-Anne",
          "Cartier / Masson",
          "Cartier / Rosemont",
          "Cartier / St-Joseph",
          "Casgrain / Maguire",
          "Casgrain / Mozart",
          "Casgrain / St-Viateur",
          "Casino de Montréal",
          "Centre des loisirs (Tassé / Grenet)",
          "Centre ÉPIC (St-Zotique / 40e avenue)",
          "Chabanel / de l'Esplanade",
          "Chabanel / du Parc",
          "Chabot / Beaubien",
          "Chabot / Laurier",
          "Chabot / Villeray",
          "Chabot / de Bellechasse",
          "Chabot / du Mont-Royal",
          "Chambord / Beaubien",
          "Chambord / Fleury",
          "Chambord / Jean-Talon",
          "Champdoré / de Lorimier",
          "Chapleau / Terrasse Mercure",
          "Chapleau / du Mont-Royal",
          "Charlevoix / Lionel-Groulx",
          "Chomedey / Lincoln",
          "Chomedey / de Maisonneuve",
          "Christophe-Colomb / St-Joseph",
          "City Councillors / du President-Kennedy",
          "Cité des Arts du Cirque (Paul Boutet / des Regrattiers)",
          "Clark / Fleury",
          "Clark / Ontario",
          "Clark / Prince-Arthur",
          "Clark / Rachel",
          "Clark / St-Viateur",
          "Clark / St-Zotique",
          "Clark / de Liège",
          "Collège Édouard-Montpetit (de Gentilly / de Normandie)",
          "Complexe sportif Claude-Robillard",
          "Crescent / René-Lévesque",
          "Crescent / de Maisonneuve",
          "Cypress / Peel",
          "Cégep André-Laurendeau",
          "Cégep Marie-Victorin",
          "Dandurand / de Lorimier",
          "Dandurand / des Érables",
          "Davaar / de la Côte-Ste-Catherine",
          "De Lanaudière / du Mont-Royal",
          "De la Commune / King",
          "Des Érables / Villeray",
          "Desjardins / Ontario",
          "Dixie / 53e avenue",
          "Dollard / Bernard",
          "Dollard / Van Horne",
          "Dorion / Gauthier",
          "Dorion / Ontario",
          "Dorion / Rachel",
          "Drolet / Beaubien",
          "Drolet / Faillon",
          "Drolet / Gounod",
          "Drolet / Jarry",
          "Drolet / Laurier",
          "Drolet / Marie-Anne",
          "Drolet / St-Zotique",
          "Drummond / Sherbrooke",
          "Drummond / Ste-Catherine",
          "Drummond / de Maisonneuve",
          "Du Quesne / Pierre-de-Coubertin",
          "Dubois / Eadie",
          "Duchesneau / Marseille",
          "Duchesneau / de Marseille",
          "Duke / Brennan",
          "Duluth / St-Denis",
          "Duluth / St-Laurent",
          "Duluth / de l'Esplanade",
          "Dumesnil / Bélanger",
          "Durocher / Beaumont",
          "Durocher / Bernard",
          "Durocher / St-Viateur",
          "Durocher / Van Horne",
          "Duvernay / Charlevoix",
          "Dézéry / Ontario",
          "Earnscliffe / Queen-Mary",
          "Egan / Laurendeau",
          "Eleanor / Ottawa",
          "Elgar / de l'Île-des-Sœurs",
          "Ellendale / de la Côte-des-Neiges",
          "Ernest-Gendreau / du Mont-Royal",
          "Everett / 8e avenue",
          "Fabre / Beaubien",
          "Fabre / St-Zotique",
          "Faillon / St-Denis",
          "Fleury / André-Jobin",
          "Fleury / Lajeunesse",
          "Fleury / de St-Firmin",
          "Fortune / Wellington",
          "Francis / Fleury",
          "François-Boivin / Bélanger",
          "Fullum / Gilford",
          "Fullum / Holt",
          "Fullum / Marie-Anne",
          "Fullum / Ontario",
          "Fullum / Sherbrooke",
          "Fullum / de Rouen",
          "Gagne / LaSalle",
          "Gare Bois-de-Boulogne",
          "Gare d'autocars de Montréal (Berri / Ontario)",
          "Garnier / Everett",
          "Garnier / St-Grégoire",
          "Garnier / St-Joseph",
          "Garnier / du Mont-Royal",
          "Gary-Carter / St-Laurent",
          "Gauthier / Papineau",
          "Gauthier / Parthenais",
          "Gauthier / de Lorimier",
          "Georges-Vanier / Notre-Dame",
          "Gerry-Boulet / St-Grégoire",
          "Gilford / Parthenais",
          "Gilford / St-Denis",
          "Gilford / de Brébeuf",
          "Gilford / de Lanaudière",
          "Gilford / des Érables",
          "Glengarry / Graham",
          "Gloria / Dollard",
          "Gordon / Wellington",
          "Graham / Brookfield",
          "Graham / Kindersley",
          "Graham / Wicksteed",
          "Grand Boulevard / Sherbrooke",
          "Grand Boulevard / de Terrebonne",
          "Grand Trunk / d'Hibernia",
          "Grey / Sherbrooke",
          "Guilbault / Clark",
          "Guizot / Clark",
          "Guizot / St-Denis",
          "Guizot / St-Laurent",
          "Guy / Notre-Dame",
          "Hamel / Sauvé",
          "Hamilton / Jolicoeur",
          "Harvard / de Monkland",
          "Henri-Julien / de Bellechasse",
          "Henri-Julien / de Castelnau",
          "Henri-Julien / du Carmel",
          "Hickson / Wellington",
          "Hillside / Ste-Catherine",
          "Hochelaga / Chapleau",
          "Hogan / Ontario",
          "Hutchison / Beaubien",
          "Hutchison / Beaumont",
          "Hutchison / Prince-Arthur",
          "Hutchison / Sherbrooke",
          "Hutchison / Van Horne",
          "Hutchison / des Pins",
          "Hélène-Baillargeon / St-Denis",
          "Hôpital Maisonneuve-Rosemont (Rosemont / Chatelain)",
          "Hôpital Sacré-Coeur (Forbes)",
          "Hôpital Santa Cabrini (St-Zotique / Jeanne-Jugan)",
          "Hôpital général juif (de la Côte Ste-Catherine / Légaré)",
          "Jacques-Casault / Christophe-Colomb",
          "Jacques-Le Ber / de la Pointe Nord",
          "Jardin Botanique (Pie-IX / Sherbrooke)",
          "Jean Langlois / Fullum",
          "Jean-Brillant / de la Côte-des-Neiges",
          "Jeanne-Mance / Beaubien",
          "Jeanne-Mance / Bernard",
          "Jeanne-Mance / Laurier",
          "Jeanne-Mance / René-Lévesque",
          "Jeanne-Mance / St-Viateur",
          "Jeanne-d'Arc / Ontario",
          "Jogues / Allard",
          "Joseph-Manseau / René-Lévesque",
          "Kirkfield / de Chambois",
          "La Ronde",
          "La Tour de Montréal (Pierre-de-Coubertin / Bennett)",
          "LaSalle / 37e avenue",
          "LaSalle / 80e avenue",
          "LaSalle / Crawford",
          "LaSalle / Godin",
          "Labadie / du Parc",
          "Labelle / Ste-Catherine",
          "Lacombe / Victoria",
          "Laforest / Dudemaine",
          "Lajeunesse / Jarry",
          "Lajeunesse / Villeray",
          "Lajeunesse / de Liège",
          "Langelier / Marie-Victorin",
          "Lapierre / Serge",
          "Larivière / de Lorimier",
          "Laurier / Parisi",
          "Laurier / de Bordeaux",
          "Laurier / de Brébeuf",
          "Laval / Duluth",
          "Laval / Rachel",
          "Laval / du Mont-Royal",
          "Legrand / Cartier",
          "Legrand / Laurier",
          "Lespérance / de Rouen",
          "Letourneaux / Ste-Catherine",
          "Letourneux / Ste-Catherine",
          "Lincoln / du Fort",
          "Lionel-Groulx / George-Vanier",
          "Liébert / Hochelaga",
          "Logan / Fullum",
          "Logan / d'Iberville",
          "Logan / de Champlain",
          "Louis-Hébert / Beaubien",
          "Louis-Hébert / Bélanger",
          "Louis-Hébert / St-Zotique",
          "Louis-Hébert / de Bellechasse",
          "Louis-Hémon / Jean-Talon",
          "Louis-Hémon / Rosemont",
          "Louis-Hémon / Villeray",
          "Lucien L'Allier / St-Jacques",
          "Lusignan / St-Jacques",
          "Léa-Roback / Sir-Georges-Etienne-Cartier",
          "Mackay / Sainte-Catherine",
          "Mackay / Ste-Catherine",
          "Mackay / de Maisonneuve",
          "Maguire / Henri-Julien",
          "Maguire / Saint-Dominique",
          "Maguire / St-Dominique",
          "Maguire / St-Laurent",
          "Mairie d'arrondissement Montréal-Nord (Hébert / de Charleroi)",
          "Mansfield / Cathcart",
          "Mansfield / Ste-Catherine",
          "Marché Atwater",
          "Marché Jean-Talon (Henri-Julien / Jean-Talon)",
          "Marché Maisonneuve",
          "Marcil / Sherbrooke",
          "Marie-Anne / Papineau",
          "Marie-Anne / St-Hubert",
          "Marie-Anne / de la Roche",
          "Marmier",
          "Marmier / St-Denis",
          "Marquette / Fleury",
          "Marquette / Gilford",
          "Marquette / Jean-Talon",
          "Marquette / Laurier",
          "Marquette / Rachel",
          "Marquette / Villeray",
          "Marquette / des Carrières",
          "Marquette / du Mont-Royal",
          "McCulloch / de la Côte Ste-Catherine",
          "McKenna / Édouard-Montpetit",
          "McLynn / Plamondon",
          "McTavish / Sherbrooke",
          "Melville / de Maisonneuve",
          "Messier / St-Joseph",
          "Messier / du Mont-Royal",
          "Metcalfe / St-Catherine",
          "Metcalfe / de Maisonneuve",
          "Metcalfe / du Square-Dorchester",
          "Milton / Clark",
          "Milton / Durocher",
          "Milton / du Parc",
          "Molson / Beaubien",
          "Molson / William-Tremblay",
          "Monk / Jacques-Hertel",
          "Monk / de Biencourt",
          "Monsabré / Boileau",
          "Montcalm / Ontario",
          "Montcalm / de Maisonneuve",
          "Mozart / St-Laurent",
          "Mozart / Waverly",
          "Métro Acadie (de l'Acadie / Beaumont)",
          "Métro Angrignon (Lamont /  des Trinitaires)",
          "Métro Assomption (Chauveau / de l'Assomption)",
          "Métro Atwater (Atwater / Ste-Catherine)",
          "Métro Beaubien (de Chateaubriand / Beaubien)",
          "Métro Beaudry (Montcalm / de Maisonneuve)",
          "Métro Bonaventure (de la Gauchetière / de la Cathédrale)",
          "Métro Cadillac (de Cadillac / Sherbrooke)",
          "Métro Cartier",
          "Métro Champ-de-Mars (Viger / Sanguinet)",
          "Métro Charlevoix (Centre / Charlevoix)",
          "Métro Crémazie (Crémazie / Lajeunesse)",
          "Métro Fabre (Marquette / Jean-Talon)",
          "Métro Frontenac (Ontario / du Havre)",
          "Métro Georges-Vanier (St-Antoine / Canning)",
          "Métro Guy-Concordia (Guy / St-Catherine)",
          "Métro Henri-Bourassa (Henri-Bourassa / Millen)",
          "Métro Honoré-Beaugrand (Sherbrooke / Honoré-Beaugrand)",
          "Métro Jarry (Lajeunesse / Jarry)",
          "Métro Jean-Talon (Berri / Jean-Talon)",
          "Métro Jolicoeur (de Sève / Drake)",
          "Métro Joliette  (Joliette / Hochelaga)",
          "Métro Langelier (Langelier / Sherbrooke)",
          "Métro Lasalle (de Rushbrooke / Caisse)",
          "Métro Laurier (Berri / St-Joseph)",
          "Métro Laurier (Rivard / Laurier)",
          "Métro Lionel-Groulx (Saint-Jacques/ Atwater)",
          "Métro Lionel-Groulx (St-Jacques / Atwater)",
          "Métro Lionel-Groulx (Walker / Saint-Jacques)",
          "Métro Longueuil - Université de Sherbrooke",
          "Métro Lucien-L'Allier  (Lucien l'Allier / Argyle)",
          "Métro Monk (Allard / Beaulieu)",
          "Métro Mont-Royal (Rivard / du Mont-Royal)",
          "Métro Montmorency",
          "Métro Papineau (Cartier / Ste-Catherine)",
          "Métro Parc  (Hutchison / Ogilvy)",
          "Métro Peel (de Maisonneuve / Stanley)",
          "Métro Pie-IX (Pierre-de-Coubertin / De La Salle)",
          "Métro Pie-IX (Pierre-de-Coubertin / de la Salle)",
          "Métro Place St-Henri (St-Ferdinand / St-Jacques)",
          "Métro Place-d'Armes (Viger / St-Urbain)",
          "Métro Place-des-Arts (du Président-Kennedy / Jeanne-Mance)",
          "Métro Plamondon (de Kent / Victoria)",
          "Métro Préfontaine (Moreau / Hochelaga)",
          "Métro Radisson (Sherbrooke / des Groseilliers)",
          "Métro Rosemont (de St-Vallier / Rosemont)",
          "Métro Sauvé (Berri / Sauvé)",
          "Métro Sherbrooke (de Rigaud / St-Denis)",
          "Métro Snowdon (Dornal / Westbury)",
          "Métro Snowdon (de Westbury / Queen-Mary)",
          "Métro St-Laurent (de Maisonneuve / St-Laurent)",
          "Métro St-Michel (Shaughnessy / St-Michel)",
          "Métro Université de Montréal (Édouard-Montpetit / Louis-Collin)",
          "Métro Vendôme (de Marlowe / de Maisonneuve)",
          "Métro Verdun (Willibrord / de Verdun)",
          "Métro Viau (Pierre-de-Coubertin / Viau)",
          "Métro Villa-Maria (de Monkland / Décarie)",
          "Métro de Castelnau (de Castelnau / St-Laurent)",
          "Métro de l'Église (Ross / de l'Église)",
          "Métro de la Savane (de Sorel / Bougainville)",
          "Métro du Collège (Cartier / Décarie)",
          "Métro Édouard-Montpetit (du Mont-Royal / Vincent-d'Indy)",
          "Natatorium (LaSalle / Rolland)",
          "Newman / Senkus",
          "Nicolet / Sherbrooke",
          "Notre-Dame / Gauvin",
          "Notre-Dame / Jean-d'Estrées",
          "Notre-Dame / Liébert",
          "Notre-Dame / Murray",
          "Notre-Dame / St-Gabriel",
          "Notre-Dame / de la Montagne",
          "Notre-Dame-de-Grâce / Décarie",
          "Notre-Dame-de-Grâce / Westmount",
          "O'Brien / Poirier",
          "Omer-Lavallée / du Midway",
          "Ontario / Sicard",
          "Ontario / Viau",
          "Ottawa / William",
          "Palm / St-Rémi",
          "Panet / Ste-Catherine",
          "Papineau / René-Lévesque",
          "Papineau / Émile-Journault",
          "Parc Baldwin (Fullum / Sherbrooke)",
          "Parc Beaubien (Stuart / St-Viateur)",
          "Parc Beaulac (rue Élizabeth)",
          "Parc Benny (Benny / de Monkland)",
          "Parc Chamberland (Dorais / de l'Église)",
          "Parc Champdoré (Champdoré / de Lille)",
          "Parc Chopin (Dumouchel / Tessier)",
          "Parc Delorme (Malouin / Laferté)",
          "Parc Dixie (54e avenue / Dixie)",
          "Parc Georges St-Pierre (Oxford / Upper Lachine)",
          "Parc Georges St-Pierre (Upper Lachine / Oxford)",
          "Parc Grovehill (St-Antoine / Ivan-Franko)",
          "Parc Henri-Durant (Léger / Henri-Durant)",
          "Parc Henri-Julien (Legendre / Henri-Julien)",
          "Parc Highlands (Highlands / LaSalle)",
          "Parc Howard (de l'Épée / de Liège)",
          "Parc Hébert ( Provencher / Buies)",
          "Parc Hébert (Provencher / Buies)",
          "Parc Ivan-Franko (33e avenue / Victoria)",
          "Parc J.-Arthur-Champagne (de Chambly / du Mont-Royal)",
          "Parc Jean-Drapeau (Chemin Macdonald)",
          "Parc Jeanne Mance (monument sir George-Etienne Cartier)",
          "Parc Jeanne-Mance (du Mont-Royal / du Parc)",
          "Parc Joyce (Rockland / Lajoie)",
          "Parc Kent (de Kent / Hudson)",
          "Parc Kirkland (des Érables / Boyer)",
          "Parc LaSalle (10e avenue / Victoria)",
          "Parc Labelle (LaSalle / Henri-Duhamel)",
          "Parc Labelle (Lasalle/ Henri Duhamel)",
          "Parc Langelier - Marie-Victorin",
          "Parc Loyola (Somerled / Doherty)",
          "Parc Ludger-Duvernay (St-André / St-Hubert)",
          "Parc Luigi-Pirandello (de Bretagne / Jean-Rivard)",
          "Parc MacDonald (Clanranald / Isabella)",
          "Parc MacDonald (Earnscliffe / Dupuis)",
          "Parc Maisonneuve (Viau / Sherbrooke)",
          "Parc Marlborough (Beauzèle / Robichaud)",
          "Parc Maurice Bélanger (Forest / de l'Hôtel-de-Ville)",
          "Parc Maurice Bélanger (Hebert / Forest)",
          "Parc Noel-Nord (Toupin / Keller)",
          "Parc Ottawa (de Belleville / Fleury)",
          "Parc Outremont (Bloomfield / Elmwood)",
          "Parc Outremont (Bloomfield / St-Viateur)",
          "Parc Painter (Marcotte / Quenneville)",
          "Parc Plage",
          "Parc Pratt (Dunlop / Van Horne)",
          "Parc Père-Marquette (Chambord / Rosemont)",
          "Parc Père-Marquette (de Lanaudière / de Bellechasse)",
          "Parc Reine-Élizabeth (Penniston / Crawford)",
          "Parc Saint-Laurent (Dutrisac)",
          "Parc Sauvé (Balzac / de Bayonne)",
          "Parc St-Claude (7e avenue / 8e rue)",
          "Parc St-Henri (Laporte / Guay)",
          "Parc St-Laurent (Dutrisac)",
          "Parc St-Laurent (Salk / Thomas-Chapais)",
          "Parc St-Paul (Le Caron / Marc-Sauvalle)",
          "Parc St-Paul (Marc-Sauvalle / Le Caron)",
          "Parc Stoney-Point (St-Joseph / 47e avenue)",
          "Parc Summerlea (53e avenue / St-Joseph)",
          "Parc Tino-Rossi (18e avenue / Everett)",
          "Parc Turin (Chambord / Jean-Talon)",
          "Parc Van Horne (de la Peltrie / de Westbury)",
          "Parc Villeray (Christophe-Colomb / Jarry)",
          "Parc Wilfrid-Bastien (Lacordaire / des Galets)",
          "Parc d'Antioche (Place d'Antioche / St-Zotique)",
          "Parc de Beauséjour (Gouin / Henri-d'Arles)",
          "Parc de Bullion (de Bullion / Prince-Arthur)",
          "Parc de Dieppe",
          "Parc de la Confédération (Fielding / West Hill)",
          "Parc des Hirondelles (Fleury / André-Jobin)",
          "Parc des Rapides (LaSalle / 6e avenue)",
          "Parc du Bois-Franc (de l'Équateur / des Andes)",
          "Parc du Pélican (1ère avenue / Masson)",
          "Parc du Pélican (2e avenue / St-Joseph)",
          "Parc du Pélican (Laurier/ 2e avenue)",
          "Parc nature de l'Île-de-la-Visitation (Gouin / de Bruchési)",
          "Parc riverain de Lachine (des Iroquois)",
          "Park Row O / Sherbrooke",
          "Paré / Mountain Sights",
          "Pierre-de-Coubertin / Langelier",
          "Place Longueuil",
          "Place Rodolphe-Rousseau (Gohier / Édouard-Laurin)",
          "Place d'Youville / McGill",
          "Place du Canada ( Peel / de la Gauchetière)",
          "Place du Canada (Peel / de la Gauchetière)",
          "Place du Commerce",
          "Place du Village-de-la-Pointe-aux-Trembles (St-Jean-Baptiste / Notre-Dame)",
          "Place Émilie-Gamelin (St-Hubert / de Maisonneuve)",
          "Plessis / Logan",
          "Plessis / Ontario",
          "Plessis / René-Lévesque",
          "Pontiac / Gilford",
          "Poupart / Ontario",
          "Poupart / Ste-Catherine",
          "Pratt / Bates",
          "Prince-Arthur / St-Urbain",
          "Prince-Arthur / du Parc",
          "Péloquin / Fleury",
          "Quai de la navette fluviale",
          "Queen / Wellington",
          "Querbes / Ball",
          "Querbes / Laurier",
          "Quesnel / Vinet",
          "REV (Souligny / Desmarteau)",
          "Rachel / de Brébeuf",
          "Regina / de Verdun",
          "René-Lévesque / 9e avenue",
          "Resther / du Mont-Royal",
          "Richardson / de Montmorency",
          "Richmond / des Bassins",
          "Rivard / Rachel",
          "Rivier / Davidson",
          "Robert Bourassa / Sainte-Catherine",
          "Robert-Bourassa / Ste-Catherine",
          "Robert-Bourassa / de Maisonneuve",
          "Robin / 15e rue",
          "Robin / de la Visitation",
          "Ropery / Augustin-Cantin",
          "Ropery / Grand Trunk",
          "Rose-de-Lima / Workman",
          "Rosemont / Viau",
          "Rousselot / Jarry",
          "Roy / St-André",
          "Roy / St-Denis",
          "Roy / St-Laurent",
          "Ryde / Charlevoix",
          "Sabrevois / des Récollets",
          "Saint-Viateur / Casgrain",
          "Sainte-Catherine / Parthenais",
          "Sainte-Catherine / Union",
          "Sanguinet / Ontario",
          "Sanguinet / Sainte-Catherine",
          "Sanguinet / Ste-Catherine",
          "Sanguinet / de Maisonneuve",
          "Shearer / Centre",
          "Sherbrooke / Frontenac",
          "Sherbrooke / Vignal",
          "Sicard / Adam",
          "Smith / Peel",
          "Square St-Louis (du Square St-Louis / Laval)",
          "Square Victoria (Viger / du Square-Victoria)",
          "St-Alexandre / Ste-Catherine",
          "St-Ambroise / Louis-Cyr",
          "St-André / Cherrier",
          "St-André / Ontario",
          "St-André / Robin",
          "St-André / St-Antoine",
          "St-André / Ste-Catherine",
          "St-Antoine / St-François-Xavier",
          "St-Antoine / de la Montagne",
          "St-Catherine / St-Laurent",
          "St-Charles / Grant",
          "St-Charles / Montarville",
          "St-Charles / St-Sylvestre",
          "St-Charles / Thomas-Keefer",
          "St-Christophe / Cherrier",
          "St-Christophe / René-Lévesque",
          "St-Cuthbert / St-Urbain",
          "St-Cyril / Wiseman",
          "St-Denis / René-Lévesque",
          "St-Dominique / Bernard",
          "St-Dominique / Gounod",
          "St-Dominique / Jean-Talon",
          "St-Dominique / Laurier",
          "St-Dominique / Napoléon",
          "St-Dominique / Rachel",
          "St-Dominique / St-Viateur",
          "St-Dominique / St-Zotique",
          "St-Dominique / de Bellechasse",
          "St-Dominique / du Mont-Royal",
          "St-Germain / Hochelaga",
          "St-Gérard / Villeray",
          "St-Henri / Notre-Dame",
          "St-Hubert / Duluth",
          "St-Hubert / Laurier",
          "St-Hubert / René-Lévesque",
          "St-Hubert / St-Joseph",
          "St-Jacques / McGill",
          "St-Jacques / St-Laurent",
          "St-Jacques / St-Pierre",
          "St-Jacques / des Seigneurs",
          "St-Jean-Baptiste / René-Lévesque",
          "St-Joseph / 21e avenue Lachine",
          "St-Joseph / 34e avenue Lachine",
          "St-Joseph / 8e avenue Lachine",
          "St-Joseph /21e avenue Lachine",
          "St-Marc / Sherbrooke",
          "St-Mathieu / Sherbrooke",
          "St-Mathieu / Ste-Catherine",
          "St-Maurice / Robert-Bourassa",
          "St-Nicolas / Place d'Youville",
          "St-Patrick / Briand",
          "St-Urbain / Beaubien",
          "St-Urbain / René-Lévesque",
          "St-Urbain / de la Gauchetière",
          "St-Viateur / Casgrain",
          "St-Viateur / St-Laurent",
          "Stanley / Sherbrooke",
          "Ste-Catherine / Dezery",
          "Ste-Catherine / Labelle",
          "Ste-Catherine / Parthenais",
          "Ste-Catherine / Sanguinet",
          "Ste-Catherine / St-Marc",
          "Ste-Catherine / Union",
          "Ste-Claire / Pierre-Tétreault",
          "Ste-Croix / Tassé",
          "Ste-Famille / Sherbrooke",
          "Ste-Famille / des Pins",
          "Ste-Émilie / Sir-Georges-Etienne-Cartier",
          "Stinson / Montpellier",
          "Stuart / St-Viateur",
          "Swail / Decelles",
          "Terminus Le Carrefour (Terry-Fox / Le Carr)",
          "Terminus Newman (Airlie / Lafleur)",
          "Thimens / Alexis-Nihon",
          "Tolhurst / Fleury",
          "Travaux publics LaSalle (Cordner / Léger)",
          "Tupper / du Fort",
          "Turgeon / Notre-Dame",
          "U. Concordia - Campus Loyola (Sherbrooke / West Broadway)",
          "Union / René-Lévesque",
          "University / Milton",
          "University / Prince-Arthur",
          "Vallières / St-Laurent",
          "Valois / Ontario",
          "Valois / Ste-Catherine",
          "Vendôme / Sherbrooke",
          "Victoria / 18e avenue Lachine",
          "Victoria / de Maisonneuve",
          "Victoria Hall",
          "Viger / Chenneville",
          "Villeneuve / St-Denis",
          "Villeneuve / St-Laurent",
          "Villeneuve / St-Urbain",
          "Villeneuve / de l'Hôtel-de-Ville",
          "Villeneuve / du Parc",
          "Villeray / St-Michel",
          "Waverly / St-Viateur",
          "Waverly / St-Zotique",
          "Waverly / Van Horne",
          "Wellington / 2e avenue",
          "Wellington / Hickson",
          "Wilderton  / Van Horne",
          "William / Robert-Bourassa",
          "William / St-Henri",
          "Wolfe / René-Lévesque",
          "Wolfe / Robin",
          "Wurtele / de Rouen",
          "Young / Wellington",
          "d'Orléans / Hochelaga",
          "d'Orléans / Masson",
          "d'Orléans / du Mont-Royal",
          "d'Outremont / Ogilvy",
          "de Bellechasse / de St-Vallier",
          "de Belleville / Fleury",
          "de Bleury / de Maisonneuve",
          "de Bordeaux / Gilford",
          "de Bordeaux / Jean-Talon",
          "de Bordeaux / Marie-Anne",
          "de Bordeaux / Masson",
          "de Bordeaux / Sherbrooke",
          "de Bordeaux / St-Zotique",
          "de Brébeuf / du Mont-Royal",
          "de Bullion / St-Joseph",
          "de Bullion / du Mont-Royal",
          "de Castelnau / Lajeunesse",
          "de Chambly / Rachel",
          "de Champlain / Ontario",
          "de Chateaubriand / Jarry",
          "de Chateaubriand / Leman",
          "de Côme / Jean-Talon",
          "de Gaspé / Beaubien",
          "de Gaspé / Dante",
          "de Gaspé / Fairmount",
          "de Gaspé / Jarry",
          "de Gaspé / Marmier",
          "de Gaspé / St-Viateur",
          "de Gaspé / Villeray",
          "de Gaspé / de Liège",
          "de Grosbois / Ducheneau",
          "de Grosbois / Duchesneau",
          "de Hampton / de Monkland",
          "de Kent / Victoria",
          "de Kent / de la Côte-des-Neiges",
          "de Lanaudière / Bélanger",
          "de Lanaudière / Laurier",
          "de Lanaudière / Marie-Anne",
          "de Lanaudière / du Mont-Royal",
          "de Laprairie / Centre",
          "de Lisieux / Jean-Talon",
          "de Léry / Sherbrooke",
          "de Maisonneuve / Aylmer (est)",
          "de Maisonneuve / Aylmer (ouest)",
          "de Maisonneuve / Berri",
          "de Maisonneuve / Greene",
          "de Maisonneuve / Mansfield (nord)",
          "de Maisonneuve / Mansfield (sud)",
          "de Melrose / Sherbrooke",
          "de Mentana / Gilford",
          "de Mentana / Laurier",
          "de Mentana / Marie-Anne",
          "de Mentana / Rachel",
          "de Monkland / Girouard",
          "de Normanville / Beaubien",
          "de Normanville / Jean-Talon",
          "de Normanville / Villeray",
          "de Rouen / Lespérance",
          "de Soissons / de Darlington",
          "de St-Firmin / Fleury",
          "de St-Vallier / St-Zotique",
          "de Ville-Marie / Ste-Catherine",
          "de l'Eglise / St-Germain",
          "de l'Esplanade / Fairmount",
          "de l'Esplanade / du Mont-Royal",
          "de l'Hôtel-de-Ville / Roy",
          "de l'Hôtel-de-Ville / Sherbrooke",
          "de l'Hôtel-de-Ville / St-Joseph",
          "de l'Hôtel-de-Ville / Ste-Catherine",
          "de l'Église / Bannantyne",
          "de l'Église / de Verdun",
          "de la Cathédrale / René-Lévesque",
          "de la Commune / Berri",
          "de la Commune / King",
          "de la Commune / Place Jacques-Cartier",
          "de la Commune / St-Sulpice",
          "de la Côte St-Antoine / Argyle",
          "de la Côte St-Antoine / Royal",
          "de la Côte St-Paul / St-Ambroise",
          "de la Gauchetière / Robert-Bourassa",
          "de la Montagne / Sherbrooke",
          "de la Pépinière / Pierre-de-Coubertin",
          "de la Roche /  de Bellechasse",
          "de la Roche / Bélanger",
          "de la Roche / Everett",
          "de la Rotonde / Jacques-Le Ber",
          "de la Salle / Hochelaga",
          "de la Salle / Ste-Catherine",
          "de l’hôtel de ville / Saint-Joseph",
          "des Bassins / Richmond",
          "des Bassins / du Séminaire",
          "des Jockeys / Décarie",
          "des Ormeaux / Notre-Dame",
          "des Ormeaux / de Grosbois",
          "des Récollets / Martial",
          "des Récollets / McGill",
          "des Seigneurs / Notre-Dame",
          "des Soeurs-Grises / Marguerite-d'Youville",
          "des Érables / Bélanger",
          "des Érables / Dandurand",
          "des Érables / Laurier",
          "des Érables / Rachel",
          "des Érables / du Mont-Royal",
          "du Champ-de-Mars / Gosford",
          "du Havre / de Rouen",
          "du Mont-Royal / Augustin-Frigon",
          "du Mont-Royal / Clark",
          "du Mont-Royal / Laurendeau",
          "du Parc-La Fontaine / Duluth",
          "du Parc-La Fontaine / Roy",
          "du President-Kennedy / Union",
          "du Président-Kennedy / Jeanne-Mance",
          "du Rosaire / St-Hubert",
          "du Souvenir / Chomedey",
          "du Tricentenaire / Prince-Albert",
          "la Fontaine / Alexandre-de-Sève",
          "Édouard-Montpetit / de Stirling",
          "Émile-Duployé / Sherbrooke",
          "Émile-Journault / de Chateaubriand"
         ],
         "type": "scattermapbox"
        }
       ],
       "layout": {
        "coloraxis": {
         "colorbar": {
          "title": {
           "text": "Duration"
          }
         },
         "colorscale": [
          [
           0,
           "#000004"
          ],
          [
           0.1111111111111111,
           "#180f3d"
          ],
          [
           0.2222222222222222,
           "#440f76"
          ],
          [
           0.3333333333333333,
           "#721f81"
          ],
          [
           0.4444444444444444,
           "#9e2f7f"
          ],
          [
           0.5555555555555556,
           "#cd4071"
          ],
          [
           0.6666666666666666,
           "#f1605d"
          ],
          [
           0.7777777777777778,
           "#fd9668"
          ],
          [
           0.8888888888888888,
           "#feca8d"
          ],
          [
           1,
           "#fcfdbf"
          ]
         ]
        },
        "legend": {
         "itemsizing": "constant",
         "tracegroupgap": 0
        },
        "mapbox": {
         "center": {
          "lat": 45.524353057055286,
          "lon": -73.57442217036842
         },
         "domain": {
          "x": [
           0,
           1
          ],
          "y": [
           0,
           1
          ]
         },
         "style": "open-street-map",
         "zoom": 9.8
        },
        "margin": {
         "b": 0,
         "l": 0,
         "r": 0,
         "t": 0
        },
        "template": {
         "data": {
          "bar": [
           {
            "error_x": {
             "color": "#2a3f5f"
            },
            "error_y": {
             "color": "#2a3f5f"
            },
            "marker": {
             "line": {
              "color": "#E5ECF6",
              "width": 0.5
             },
             "pattern": {
              "fillmode": "overlay",
              "size": 10,
              "solidity": 0.2
             }
            },
            "type": "bar"
           }
          ],
          "barpolar": [
           {
            "marker": {
             "line": {
              "color": "#E5ECF6",
              "width": 0.5
             },
             "pattern": {
              "fillmode": "overlay",
              "size": 10,
              "solidity": 0.2
             }
            },
            "type": "barpolar"
           }
          ],
          "carpet": [
           {
            "aaxis": {
             "endlinecolor": "#2a3f5f",
             "gridcolor": "white",
             "linecolor": "white",
             "minorgridcolor": "white",
             "startlinecolor": "#2a3f5f"
            },
            "baxis": {
             "endlinecolor": "#2a3f5f",
             "gridcolor": "white",
             "linecolor": "white",
             "minorgridcolor": "white",
             "startlinecolor": "#2a3f5f"
            },
            "type": "carpet"
           }
          ],
          "choropleth": [
           {
            "colorbar": {
             "outlinewidth": 0,
             "ticks": ""
            },
            "type": "choropleth"
           }
          ],
          "contour": [
           {
            "colorbar": {
             "outlinewidth": 0,
             "ticks": ""
            },
            "colorscale": [
             [
              0,
              "#0d0887"
             ],
             [
              0.1111111111111111,
              "#46039f"
             ],
             [
              0.2222222222222222,
              "#7201a8"
             ],
             [
              0.3333333333333333,
              "#9c179e"
             ],
             [
              0.4444444444444444,
              "#bd3786"
             ],
             [
              0.5555555555555556,
              "#d8576b"
             ],
             [
              0.6666666666666666,
              "#ed7953"
             ],
             [
              0.7777777777777778,
              "#fb9f3a"
             ],
             [
              0.8888888888888888,
              "#fdca26"
             ],
             [
              1,
              "#f0f921"
             ]
            ],
            "type": "contour"
           }
          ],
          "contourcarpet": [
           {
            "colorbar": {
             "outlinewidth": 0,
             "ticks": ""
            },
            "type": "contourcarpet"
           }
          ],
          "heatmap": [
           {
            "colorbar": {
             "outlinewidth": 0,
             "ticks": ""
            },
            "colorscale": [
             [
              0,
              "#0d0887"
             ],
             [
              0.1111111111111111,
              "#46039f"
             ],
             [
              0.2222222222222222,
              "#7201a8"
             ],
             [
              0.3333333333333333,
              "#9c179e"
             ],
             [
              0.4444444444444444,
              "#bd3786"
             ],
             [
              0.5555555555555556,
              "#d8576b"
             ],
             [
              0.6666666666666666,
              "#ed7953"
             ],
             [
              0.7777777777777778,
              "#fb9f3a"
             ],
             [
              0.8888888888888888,
              "#fdca26"
             ],
             [
              1,
              "#f0f921"
             ]
            ],
            "type": "heatmap"
           }
          ],
          "heatmapgl": [
           {
            "colorbar": {
             "outlinewidth": 0,
             "ticks": ""
            },
            "colorscale": [
             [
              0,
              "#0d0887"
             ],
             [
              0.1111111111111111,
              "#46039f"
             ],
             [
              0.2222222222222222,
              "#7201a8"
             ],
             [
              0.3333333333333333,
              "#9c179e"
             ],
             [
              0.4444444444444444,
              "#bd3786"
             ],
             [
              0.5555555555555556,
              "#d8576b"
             ],
             [
              0.6666666666666666,
              "#ed7953"
             ],
             [
              0.7777777777777778,
              "#fb9f3a"
             ],
             [
              0.8888888888888888,
              "#fdca26"
             ],
             [
              1,
              "#f0f921"
             ]
            ],
            "type": "heatmapgl"
           }
          ],
          "histogram": [
           {
            "marker": {
             "pattern": {
              "fillmode": "overlay",
              "size": 10,
              "solidity": 0.2
             }
            },
            "type": "histogram"
           }
          ],
          "histogram2d": [
           {
            "colorbar": {
             "outlinewidth": 0,
             "ticks": ""
            },
            "colorscale": [
             [
              0,
              "#0d0887"
             ],
             [
              0.1111111111111111,
              "#46039f"
             ],
             [
              0.2222222222222222,
              "#7201a8"
             ],
             [
              0.3333333333333333,
              "#9c179e"
             ],
             [
              0.4444444444444444,
              "#bd3786"
             ],
             [
              0.5555555555555556,
              "#d8576b"
             ],
             [
              0.6666666666666666,
              "#ed7953"
             ],
             [
              0.7777777777777778,
              "#fb9f3a"
             ],
             [
              0.8888888888888888,
              "#fdca26"
             ],
             [
              1,
              "#f0f921"
             ]
            ],
            "type": "histogram2d"
           }
          ],
          "histogram2dcontour": [
           {
            "colorbar": {
             "outlinewidth": 0,
             "ticks": ""
            },
            "colorscale": [
             [
              0,
              "#0d0887"
             ],
             [
              0.1111111111111111,
              "#46039f"
             ],
             [
              0.2222222222222222,
              "#7201a8"
             ],
             [
              0.3333333333333333,
              "#9c179e"
             ],
             [
              0.4444444444444444,
              "#bd3786"
             ],
             [
              0.5555555555555556,
              "#d8576b"
             ],
             [
              0.6666666666666666,
              "#ed7953"
             ],
             [
              0.7777777777777778,
              "#fb9f3a"
             ],
             [
              0.8888888888888888,
              "#fdca26"
             ],
             [
              1,
              "#f0f921"
             ]
            ],
            "type": "histogram2dcontour"
           }
          ],
          "mesh3d": [
           {
            "colorbar": {
             "outlinewidth": 0,
             "ticks": ""
            },
            "type": "mesh3d"
           }
          ],
          "parcoords": [
           {
            "line": {
             "colorbar": {
              "outlinewidth": 0,
              "ticks": ""
             }
            },
            "type": "parcoords"
           }
          ],
          "pie": [
           {
            "automargin": true,
            "type": "pie"
           }
          ],
          "scatter": [
           {
            "fillpattern": {
             "fillmode": "overlay",
             "size": 10,
             "solidity": 0.2
            },
            "type": "scatter"
           }
          ],
          "scatter3d": [
           {
            "line": {
             "colorbar": {
              "outlinewidth": 0,
              "ticks": ""
             }
            },
            "marker": {
             "colorbar": {
              "outlinewidth": 0,
              "ticks": ""
             }
            },
            "type": "scatter3d"
           }
          ],
          "scattercarpet": [
           {
            "marker": {
             "colorbar": {
              "outlinewidth": 0,
              "ticks": ""
             }
            },
            "type": "scattercarpet"
           }
          ],
          "scattergeo": [
           {
            "marker": {
             "colorbar": {
              "outlinewidth": 0,
              "ticks": ""
             }
            },
            "type": "scattergeo"
           }
          ],
          "scattergl": [
           {
            "marker": {
             "colorbar": {
              "outlinewidth": 0,
              "ticks": ""
             }
            },
            "type": "scattergl"
           }
          ],
          "scattermapbox": [
           {
            "marker": {
             "colorbar": {
              "outlinewidth": 0,
              "ticks": ""
             }
            },
            "type": "scattermapbox"
           }
          ],
          "scatterpolar": [
           {
            "marker": {
             "colorbar": {
              "outlinewidth": 0,
              "ticks": ""
             }
            },
            "type": "scatterpolar"
           }
          ],
          "scatterpolargl": [
           {
            "marker": {
             "colorbar": {
              "outlinewidth": 0,
              "ticks": ""
             }
            },
            "type": "scatterpolargl"
           }
          ],
          "scatterternary": [
           {
            "marker": {
             "colorbar": {
              "outlinewidth": 0,
              "ticks": ""
             }
            },
            "type": "scatterternary"
           }
          ],
          "surface": [
           {
            "colorbar": {
             "outlinewidth": 0,
             "ticks": ""
            },
            "colorscale": [
             [
              0,
              "#0d0887"
             ],
             [
              0.1111111111111111,
              "#46039f"
             ],
             [
              0.2222222222222222,
              "#7201a8"
             ],
             [
              0.3333333333333333,
              "#9c179e"
             ],
             [
              0.4444444444444444,
              "#bd3786"
             ],
             [
              0.5555555555555556,
              "#d8576b"
             ],
             [
              0.6666666666666666,
              "#ed7953"
             ],
             [
              0.7777777777777778,
              "#fb9f3a"
             ],
             [
              0.8888888888888888,
              "#fdca26"
             ],
             [
              1,
              "#f0f921"
             ]
            ],
            "type": "surface"
           }
          ],
          "table": [
           {
            "cells": {
             "fill": {
              "color": "#EBF0F8"
             },
             "line": {
              "color": "white"
             }
            },
            "header": {
             "fill": {
              "color": "#C8D4E3"
             },
             "line": {
              "color": "white"
             }
            },
            "type": "table"
           }
          ]
         },
         "layout": {
          "annotationdefaults": {
           "arrowcolor": "#2a3f5f",
           "arrowhead": 0,
           "arrowwidth": 1
          },
          "autotypenumbers": "strict",
          "coloraxis": {
           "colorbar": {
            "outlinewidth": 0,
            "ticks": ""
           }
          },
          "colorscale": {
           "diverging": [
            [
             0,
             "#8e0152"
            ],
            [
             0.1,
             "#c51b7d"
            ],
            [
             0.2,
             "#de77ae"
            ],
            [
             0.3,
             "#f1b6da"
            ],
            [
             0.4,
             "#fde0ef"
            ],
            [
             0.5,
             "#f7f7f7"
            ],
            [
             0.6,
             "#e6f5d0"
            ],
            [
             0.7,
             "#b8e186"
            ],
            [
             0.8,
             "#7fbc41"
            ],
            [
             0.9,
             "#4d9221"
            ],
            [
             1,
             "#276419"
            ]
           ],
           "sequential": [
            [
             0,
             "#0d0887"
            ],
            [
             0.1111111111111111,
             "#46039f"
            ],
            [
             0.2222222222222222,
             "#7201a8"
            ],
            [
             0.3333333333333333,
             "#9c179e"
            ],
            [
             0.4444444444444444,
             "#bd3786"
            ],
            [
             0.5555555555555556,
             "#d8576b"
            ],
            [
             0.6666666666666666,
             "#ed7953"
            ],
            [
             0.7777777777777778,
             "#fb9f3a"
            ],
            [
             0.8888888888888888,
             "#fdca26"
            ],
            [
             1,
             "#f0f921"
            ]
           ],
           "sequentialminus": [
            [
             0,
             "#0d0887"
            ],
            [
             0.1111111111111111,
             "#46039f"
            ],
            [
             0.2222222222222222,
             "#7201a8"
            ],
            [
             0.3333333333333333,
             "#9c179e"
            ],
            [
             0.4444444444444444,
             "#bd3786"
            ],
            [
             0.5555555555555556,
             "#d8576b"
            ],
            [
             0.6666666666666666,
             "#ed7953"
            ],
            [
             0.7777777777777778,
             "#fb9f3a"
            ],
            [
             0.8888888888888888,
             "#fdca26"
            ],
            [
             1,
             "#f0f921"
            ]
           ]
          },
          "colorway": [
           "#636efa",
           "#EF553B",
           "#00cc96",
           "#ab63fa",
           "#FFA15A",
           "#19d3f3",
           "#FF6692",
           "#B6E880",
           "#FF97FF",
           "#FECB52"
          ],
          "font": {
           "color": "#2a3f5f"
          },
          "geo": {
           "bgcolor": "white",
           "lakecolor": "white",
           "landcolor": "#E5ECF6",
           "showlakes": true,
           "showland": true,
           "subunitcolor": "white"
          },
          "hoverlabel": {
           "align": "left"
          },
          "hovermode": "closest",
          "mapbox": {
           "style": "light"
          },
          "paper_bgcolor": "white",
          "plot_bgcolor": "#E5ECF6",
          "polar": {
           "angularaxis": {
            "gridcolor": "white",
            "linecolor": "white",
            "ticks": ""
           },
           "bgcolor": "#E5ECF6",
           "radialaxis": {
            "gridcolor": "white",
            "linecolor": "white",
            "ticks": ""
           }
          },
          "scene": {
           "xaxis": {
            "backgroundcolor": "#E5ECF6",
            "gridcolor": "white",
            "gridwidth": 2,
            "linecolor": "white",
            "showbackground": true,
            "ticks": "",
            "zerolinecolor": "white"
           },
           "yaxis": {
            "backgroundcolor": "#E5ECF6",
            "gridcolor": "white",
            "gridwidth": 2,
            "linecolor": "white",
            "showbackground": true,
            "ticks": "",
            "zerolinecolor": "white"
           },
           "zaxis": {
            "backgroundcolor": "#E5ECF6",
            "gridcolor": "white",
            "gridwidth": 2,
            "linecolor": "white",
            "showbackground": true,
            "ticks": "",
            "zerolinecolor": "white"
           }
          },
          "shapedefaults": {
           "line": {
            "color": "#2a3f5f"
           }
          },
          "ternary": {
           "aaxis": {
            "gridcolor": "white",
            "linecolor": "white",
            "ticks": ""
           },
           "baxis": {
            "gridcolor": "white",
            "linecolor": "white",
            "ticks": ""
           },
           "bgcolor": "#E5ECF6",
           "caxis": {
            "gridcolor": "white",
            "linecolor": "white",
            "ticks": ""
           }
          },
          "title": {
           "x": 0.05
          },
          "xaxis": {
           "automargin": true,
           "gridcolor": "white",
           "linecolor": "white",
           "ticks": "",
           "title": {
            "standoff": 15
           },
           "zerolinecolor": "white",
           "zerolinewidth": 2
          },
          "yaxis": {
           "automargin": true,
           "gridcolor": "white",
           "linecolor": "white",
           "ticks": "",
           "title": {
            "standoff": 15
           },
           "zerolinecolor": "white",
           "zerolinewidth": 2
          }
         }
        }
       }
      },
      "text/html": [
       "<div>                            <div id=\"268833fe-c60f-4e2f-8b06-baff1b3bbd36\" class=\"plotly-graph-div\" style=\"height:525px; width:100%;\"></div>            <script type=\"text/javascript\">                require([\"plotly\"], function(Plotly) {                    window.PLOTLYENV=window.PLOTLYENV || {};                                    if (document.getElementById(\"268833fe-c60f-4e2f-8b06-baff1b3bbd36\")) {                    Plotly.newPlot(                        \"268833fe-c60f-4e2f-8b06-baff1b3bbd36\",                        [{\"customdata\":[[13.882093687517852],[13.253928960971216],[16.55818536162841],[14.392172422786036],[15.477070621468926],[18.372373374401093],[15.060651289009499],[15.929803377284294],[43.53232323232323],[35.78974358974359],[17.143383475038153],[15.226925497600503],[14.948256654327515],[13.070540913269998],[16.847577792217166],[15.91264487714418],[18.316600946372237],[18.26217084136159],[21.135611854684512],[21.593400824896886],[15.459069543549665],[16.65470507107999],[14.348302923288209],[19.254333056017746],[17.866666666666667],[13.109700452803901],[13.089827078734363],[14.205389894140817],[13.689329643296434],[14.105030782761654],[13.556761268781303],[23.552953586497893],[22.689893617021276],[28.511111111111113],[34.79495412844037],[15.499251863230358],[14.212778967404235],[15.25748987854251],[29.08828250401284],[12.730215786962988],[15.53773690078038],[12.918389973487585],[12.26093179252175],[18.739550264550264],[31.921199442119942],[11.080559530197341],[26.62583857442348],[20.160330188679247],[16.675185764567853],[13.276247455575726],[10.571686019278653],[11.658827334744766],[14.285862733171127],[15.266624790619765],[12.672844805362207],[15.329855267847458],[15.863587216861697],[16.611895215183107],[11.793393548387098],[13.811863273867145],[18.22825797190608],[17.400025680534156],[12.947068234109864],[16.169449869791666],[16.28242620988166],[16.635901542111505],[17.41818217418546],[12.873758973575683],[23.164326952294136],[13.179336368234699],[12.711301560758082],[11.44467506579966],[12.306362030334366],[12.39210686095932],[10.844318181818181],[13.628742203742204],[16.19545454545454],[15.095649717514123],[12.343280857859913],[25.76772727272727],[12.307361249584579],[15.312768733505324],[14.431416881998276],[13.369910769869266],[16.1650154354225],[13.66089641530371],[11.611517370356282],[14.063159940209268],[14.05551120267834],[12.748376157917953],[13.010306577927457],[14.104824029126213],[13.592395254382215],[12.404637347896903],[12.963572897761646],[12.319578834198103],[11.153944892253804],[20.26343438538206],[14.427533917691559],[21.866650016650016],[13.678771929824562],[16.012777777777778],[15.867119083344699],[15.290123456790123],[18.5385944092827],[13.683446171622524],[12.393995032223417],[14.447756605691056],[14.446326372776488],[13.560800265648348],[13.052098445595854],[12.076208390332877],[11.662104733131923],[13.457432885041479],[11.819661025486047],[11.900680735194008],[15.103679919413228],[12.476110811296996],[29.080965860353405],[16.607928475033738],[17.479185484509944],[19.120298490523208],[21.148803952158087],[13.126013949363006],[10.791724590670375],[15.273282642894598],[13.616066554010139],[11.263049891315598],[13.75363579714313],[18.0030890052356],[13.700198370527808],[21.84780621572212],[13.896495486747941],[13.133229240596169],[13.86718254935413],[12.350989958987412],[14.958214845100791],[11.8049843158963],[13.501724055817498],[22.330686641697877],[17.837111260806108],[12.792439701706762],[11.908828183172004],[11.831859371971312],[12.727289215686275],[15.5906722208609],[14.742135016918379],[25.235528455284552],[16.398949115044246],[14.419179284617073],[15.586678191345687],[15.002366271837309],[18.31567856422666],[36.69449472096531],[13.487205081669691],[13.375456292026897],[14.915537548707048],[11.454778629203917],[21.337459150326797],[14.911009407576913],[15.963711529627929],[34.91691542288557],[14.505563177838756],[14.351903133274492],[12.443926853423882],[12.18825542734207],[11.77078447339848],[13.564207808224458],[13.377396280400573],[14.566619541313228],[14.989230875163534],[11.115991126034297],[12.263082269598343],[13.186828837912781],[11.229627544797824],[14.443783333333332],[15.15122745131779],[17.074595290654894],[17.22106670703401],[16.687037037037037],[18.505779889152812],[17.207894201424214],[12.966867557893199],[11.759030520374656],[12.08671135139111],[21.671128170894526],[15.490607224118316],[13.064624399333137],[12.257936507936508],[14.376258278145693],[14.841105619622917],[14.323492578112585],[17.32936030982906],[18.126949025487257],[14.043586391237396],[20.849761465066177],[16.857605971450365],[14.108975360055528],[16.881897435897436],[12.379566941140592],[13.364688284115035],[15.94102347813862],[27.493847874720355],[19.9458600541542],[20.20483643542019],[15.74772483365529],[17.367850813597553],[21.69225035161744],[12.332485300768882],[14.225094775774387],[13.194059298016132],[12.648816568047337],[13.004417742706838],[12.603910062512604],[26.82952380952381],[24.852450032237268],[13.438579181055747],[14.917719606122649],[11.380975745970959],[11.253747239901287],[12.023435054773083],[16.568202936664477],[12.387613343315863],[12.717673071058249],[12.160243989953356],[14.275530171582803],[12.17048682001724],[12.900898748577928],[12.115899386175608],[11.079539733908666],[11.064416079473258],[12.154046997389035],[19.159776134729924],[26.782817109144545],[15.109925283200772],[15.150417693782526],[18.785638440860215],[18.025992063492065],[17.07199362974519],[18.357135383971542],[13.683865702961063],[18.28962199312715],[11.651116755362038],[15.283827853515104],[16.64736137667304],[14.996684118673649],[13.666378439079168],[18.76801714898178],[15.710920089143583],[14.989317375886523],[12.714545900032668],[14.694280335939762],[11.495335754468417],[15.305421117044949],[13.162061961925549],[12.932717216872994],[13.018653604028957],[14.594376935906599],[15.805197132616488],[11.544087336892051],[11.359415379766784],[14.835169785169784],[11.580286819369096],[13.108782017773132],[19.497730403205612],[33.882781582952816],[19.173219241443107],[16.72915803406998],[17.640724671669794],[26.007256554307116],[19.33139606396064],[16.81851303561148],[16.478691468455647],[13.904841500553708],[14.54813849590469],[12.199003095261615],[15.640211485277371],[13.232286436938992],[13.974112360456212],[16.71631790744467],[10.833723875870804],[18.741662447257383],[23.188203901361796],[15.152901870943108],[27.767770034843206],[28.913595387840672],[21.94420457465947],[18.396397927796666],[12.817873074657015],[12.65672163918041],[14.693138912369681],[28.94754303599374],[13.672847258561545],[14.274260452817716],[16.28677597955707],[29.03333333333333],[18.245245783997127],[12.67473125079044],[26.932037037037034],[11.774230548152794],[11.802196037584357],[11.872363005697238],[12.019888527401578],[12.388990271720898],[27.056006944444444],[37.88869047619048],[12.618101612412532],[16.43464912280702],[15.121794055201699],[13.589711296260415],[12.9452088922959],[20.604758757435558],[13.674073023079833],[14.284849000908265],[11.936092005863118],[14.550601771121823],[13.449359605911331],[14.24044710163764],[14.056884345115444],[15.134050954539212],[13.511685383699167],[15.470527838033261],[14.718087941372419],[13.560340196956131],[20.854494934592307],[15.51172631841261],[11.885204081632653],[14.14169665249155],[11.825117790011408],[11.740878527336859],[11.200713012477719],[12.511309309309308],[21.8455223880597],[13.980881916629581],[15.47079969242599],[20.405235468092364],[15.74825623814388],[14.906857281318148],[17.271576106352605],[11.109443244540438],[11.452536370597244],[11.266190978236313],[11.650000000000002],[10.481236051937513],[16.9397808908046],[10.66506699006699],[13.50797007156799],[11.776553338133937],[12.095783337106633],[13.1438223334376],[13.188011734897986],[10.794397134746909],[12.027813163481953],[15.215471307883758],[18.565626175253854],[12.118117301160845],[14.16044776119403],[12.652959957929532],[11.579139460319688],[15.015357028498238],[14.2781192339505],[14.92410511887817],[12.131666743291495],[11.474721422203936],[12.183164926837973],[14.899191695388149],[14.172650439486137],[14.553239656518345],[17.128860722610725],[14.873909395973154],[11.57380620091399],[13.140844422127376],[14.305286418493965],[16.09504461942257],[17.080240432169212],[22.166294202118113],[16.743244709712425],[14.577699417733392],[12.171484174583798],[11.312648533553128],[13.9184459575197],[17.32013349038084],[25.98674288006418],[15.948459075831213],[13.0213687150838],[12.088513696772445],[11.16405700211119],[11.583636215600064],[9.996465767457742],[14.925560147125628],[20.723685540950452],[15.068227176220805],[11.556677300306498],[12.736980013943759],[11.78901794661565],[12.322844764497527],[17.301324200913243],[15.171928287783228],[10.366593633984541],[10.279303137092317],[13.228053646641543],[14.46292735042735],[16.311046885035324],[24.169287293536218],[10.977313499359296],[13.458253143443674],[11.65382567335161],[23.279023354564757],[12.859098403599605],[15.605780555842546],[15.304852725065492],[17.41805967200158],[14.119435501180511],[14.092552612128992],[18.28741938588892],[13.238790722235763],[12.91385685520776],[13.27508544368952],[17.504994885782477],[11.634169786770759],[15.8865084404932],[12.402311565313418],[16.811976682564918],[16.50460432444298],[14.18266174298375],[14.441511326860839],[15.092690076781839],[15.768290236062485],[11.328917364196894],[12.854427328932202],[10.89856540084388],[14.161649799416486],[17.728087066631737],[20.1359068627451],[14.310944326990837],[14.3022162567112],[18.39949170679508],[23.01063340410474],[14.13728292896997],[17.62932194616977],[14.947955974842765],[27.870627450980393],[13.5843370568237],[18.621763835653283],[12.56455698179206],[15.575574446161772],[16.95422791212265],[21.04914902449149],[13.041070877934892],[15.698171135385632],[14.919448138297872],[13.09077380952381],[17.22177331732144],[13.126144976616674],[15.380251256281406],[21.13946466809422],[12.082251029309854],[12.585197368421053],[18.109666666666666],[16.168609379235566],[13.910483870967743],[22.487932960893854],[21.008333333333333],[32.93244047619048],[26.6],[16.482188295165393],[16.165199797673242],[24.98125],[28.338690476190475],[18.269218143837662],[31.835523321956767],[16.78935404977701],[20.075185185185184],[19.41231448054553],[23.967521367521368],[14.129060340244552],[29.46607210171002],[15.8651515648221],[14.204438806487987],[14.802867023650156],[15.72112472107487],[25.77559523809524],[30.881343283582087],[15.062683786505538],[24.826999999999998],[35.363117283950615],[23.12621247113164],[11.77249974922259],[20.47553191489362],[17.092889127709118],[21.255761316872427],[18.76345543598234],[36.089414414414414],[26.3527027027027],[20.91339113680154],[23.63550724637681],[13.480555555555556],[13.556984561752987],[11.12019549370444],[16.519491525423728],[28.637198067632852],[15.588223684210526],[13.719373508353222],[12.375803938234878],[25.04342465753425],[14.213235294117647],[32.01580459770115],[31.929856512141278],[15.997698983670206],[12.353333333333333],[26.52695035460993],[14.615181907571287],[12.259988385598142],[32.87966101694915],[37.727450980392156],[18.61507141211702],[12.898984593837536],[19.267230769230768],[14.052451523545706],[20.136011904761904],[20.929037587773646],[38.81175548589342],[12.415466916477666],[26.535992075904492],[19.85724027276374],[25.108133669609078],[26.44929141973718],[25.070091324200913],[14.126535168874744],[14.37936876504988],[14.899787052810902],[28.994376441369525],[36.502030217186025],[20.259893348301993],[21.653527174579807],[18.973166994966075],[18.613219696969697],[16.979919786096257],[16.91641933473553],[17.313479415670653],[15.064580021197667],[20.647423896499237],[26.722587064676613],[14.099084878637118],[10.859822658402203],[11.881565211379584],[13.243189368770766],[9.579725270784019],[12.993688020928394],[13.979628792445247],[14.017459373761394],[11.61312633703938],[11.482834528076463],[16.616237942122186],[31.687167224613425],[14.601601153039832],[15.342595852895148],[12.598621275966586],[13.90729456645015],[20.340182421227194],[14.459249835850295],[13.07468586650583],[14.830000000000002],[12.286047852151396],[16.064681122448977],[15.025688015855096],[12.58205511794997],[13.82827269636178],[16.766666666666666],[14.360646176118488],[12.48374210330732],[24.21838905775076],[11.686327641672854],[14.287053067369213],[11.63548585485855],[16.166817701253585],[21.320519684187754],[14.725396825396826],[11.401788779287383],[12.528244338407937],[11.939228628745228],[12.136431174656574],[22.955005241090145],[11.114700854700855],[15.540723844282237],[18.493089430894308],[13.334673993233102],[13.419338256588473],[14.350148294611962],[14.602342697386149],[13.379226161168553],[12.41680154820549],[16.99719705920966],[15.086771561771561],[15.61722895040369],[12.896947870712163],[14.668078009845901],[14.218392909038071],[15.09358125062732],[11.62305551874917],[11.845685849128415],[12.586172472387425],[13.296780855199223],[11.710710597492008],[18.129995317412536],[12.1294254501315],[14.760792872967594],[19.0802734375],[20.773036398467433],[17.937856709168184],[19.7327797573598],[13.217293255842112],[14.221520642630301],[10.767773882020053],[13.657067289619247],[14.790468514199478],[12.74517537546183],[14.799419457735246],[15.654543412837443],[11.908221036685767],[11.708290168100078],[12.253739782527182],[12.169108382274425],[13.638107363814697],[12.39576264339958],[11.816718566472725],[14.336506268005918],[16.59138576779026],[15.669935962251431],[11.541763439382487],[11.57055033557047],[15.566709844559586],[11.113564213564214],[15.901210637284906],[15.58132783574554],[16.695327876185363],[14.709731682146542],[28.48257287705957],[35.27609274040289],[35.05810520665593],[33.792652606310014],[32.82209797657082],[14.453000000000001],[13.887002204471928],[14.953213432146372],[13.971530740276034],[18.83434974135144],[19.919911894273127],[13.651791051058634],[16.3323819534282],[16.27574957134251],[11.214119575993289],[12.621096096096096],[13.56185770750988],[15.507173202614378],[15.087960428073668],[13.474670708760192],[14.812563429571304],[14.436965466360205],[17.241840556447297],[16.731919970631424],[23.30008880994671],[11.920873389063043],[11.555770449040432],[17.4741929651545],[20.12917791779178],[14.503126122888968],[16.78893632512576],[20.524074074074075],[28.39281970649895],[23.385426237876466],[19.486709677419356],[25.600253164556964],[12.824545344692163],[15.190940756841107],[21.114580278592374],[14.049415204678363],[10.863444396434458],[10.958351231386025],[12.088244552805381],[14.043438845218041],[15.525441329179646],[15.8248673420164],[32.5404516866781],[15.711213759951931],[17.09769472665699],[16.883658219623133],[12.446278545249505],[11.795492766032186],[12.346242750273179],[11.669737532808398],[12.098321048321049],[18.242066895368783],[13.617949497251983],[14.232041658847814],[13.36115408739285],[14.076224899598396],[14.603462897526503],[13.988478788626919],[14.709573485967503],[14.858450272218388],[14.145382048072912],[12.002275600505689],[12.71491082767379],[14.216955349115972],[14.738781297134238],[14.899906842818428],[16.002721934369603],[16.402391546162402],[12.736510074345437],[24.344758539458187],[14.102966072415699],[12.418172850747402],[15.290016984336669],[12.347424544314073],[12.235405449502366],[12.482439286062615],[13.73196088826059],[11.959326681954112],[11.899035037058427],[12.000155947189922],[14.381630195430773],[15.111182717837314],[11.017515979336311],[14.955405005182882],[15.498178049312676],[22.211827956989247],[13.245723379074304],[13.758252100840338],[11.450550496126137],[15.245978232869655],[11.336692739671077],[11.491488730723605],[14.30313253012048],[15.83981699654414],[26.44780701754386],[14.766759362254355],[15.198978388998036],[16.73021625652498],[16.05558144049699],[13.816044519073452],[11.542634671440702],[11.523924731182795],[11.548106765983862],[13.24911468264778],[20.7643016403886],[12.385181354295959],[14.441801697530865],[15.451948503827417],[15.037229938271604],[14.403842245475268],[14.060122956800933],[14.815398958400309],[15.001440809968846],[10.65860152650276],[12.322746682629951],[11.929533951560854],[12.368575092122299],[15.799724786931819],[13.332905389775618],[13.545624999999998],[14.666907648118396],[10.776289989680082],[15.666276994078718],[20.15864814814815],[13.785592402509101],[15.426866385911179],[19.960115410726406],[12.249441276424168],[12.4882785393924],[11.305588599752168],[12.080303821257047],[11.128897502153317],[13.572704924805816],[12.888546673787905],[14.800041594675882],[15.253536141445657],[20.4881865515914],[19.94054561660406],[23.671601741183412],[22.747590526996444],[15.755498922592409],[16.297486979166667],[19.58502412309297],[14.890608438988394],[13.513850001866578],[23.65874587458746],[12.577331218050414],[14.0663504724947],[13.391794823705927],[30.18848797250859],[13.617129529182035],[15.499703344120817],[10.998005698005699],[18.740507726269318],[14.965061755993963],[23.6602191196432],[27.066148850272075],[16.246050955414013],[30.273168214654284],[16.42118754904525],[11.973438792390406],[14.094519969278034],[14.763861024033439],[14.483896982310092],[12.064564770390678],[13.30028408254585],[11.38409229673349],[17.703017847885654],[13.758825768388999],[14.17719467180228],[11.391261597131312],[12.221527777777778],[13.51301784450908],[13.142578602239011],[13.583205070842654],[14.935729060889843],[13.774430810171497],[25.150782688766117],[28.466228070175436],[12.63552416052416],[13.67268084881198],[12.50902151518222],[14.59039279572812]],\"hovertemplate\":\"Duration=%{marker.color:.2f}<br>Station=%{text}<br>Latitude=%{lat}<br>Longitude=%{lon}<extra></extra>\",\"lat\":[45.5519116,45.550306,45.556867,45.553898,45.558281,45.56244,45.55287,45.557896,45.4329767,45.4397787,45.561594,45.551937,45.5452,45.5478,45.564944,45.5636787,45.564353,45.567766,45.4328944,45.562509,45.457893,45.570081,45.5480035,45.57179,45.440347,45.456885,45.456365,45.5475583,45.5499,45.5545638,45.547108,45.5648113,45.5616903,45.434898,45.4316481,45.532331,45.52123,45.5003388,45.53308,45.5428981,45.4949697,45.453319,45.453016,45.6109266,45.6514058,45.5206338,45.5061758,45.480495,45.491226,45.484018,45.508567,45.506587,45.5043468,45.5043468,45.544284,45.515299,45.531177,45.549868,45.45073,45.553457,45.491513,45.506843,45.523035,45.482778,45.5581597,45.553053,45.464877,45.538403,45.459986,45.524287,45.526267,45.519088,45.5216853,45.522719,45.5216853,45.4479158,45.6027276,45.5534001,45.448262,45.504635,45.4953231,45.496583,45.4953231,45.520688,45.5274603,45.522586,45.5278492,45.47993,45.4808458,45.537041,45.54006,45.5432845,45.541586,45.5252551,45.534136,45.53848,45.527432,45.5258899,45.53696,45.597221,45.5200191,45.5616903,45.5039817,45.5039817,45.587531,45.527795,45.52479,45.5231722,45.486319,45.546797,45.539236,45.532674,45.538021,45.541247,45.535828,45.525933,45.534727,45.527513,45.506373,45.5147343,45.574147,45.540686,45.538308,45.544376,45.5368558,45.5522894,45.54257,45.534185,45.539932,45.559828,45.544846,45.5668693,45.536738,45.53867,45.483928,45.4922268,45.4918,45.5303649,45.506251,45.559872,45.547581,45.5106246,45.513303,45.517354,45.5251603,45.531611,45.539984,45.537226,45.553262,45.4959617,45.498112,45.499325,45.435665,45.6174998,45.540881,45.5408227,45.514379,45.5302211,45.4975038,45.5539483,45.551192,45.4433506,45.516783,45.519153,45.5306736,45.526991,45.531634,45.533348,45.539316,45.540951,45.541955,45.526252,45.5224026,45.534882,45.5003924,45.498639,45.49947,45.5750536,45.457597,45.6096263,45.6096263,45.495581,45.520604,45.516876,45.515092,45.587778,45.5280002,45.522225,45.5207958,45.524394,45.482098,45.54111,45.4818451,45.4528579,45.4924627,45.456823,45.499757,45.549714,45.5575132,45.54206,45.543452,45.5398641,45.576,45.553579,45.5705064,45.477923,45.563872,45.592596,45.539224,45.5439195,45.5365054,45.5303174,45.533924,45.5321322,45.422451,45.539726,45.516897,45.5476247,45.5358344,45.532978,45.53092,45.5359,45.529666,45.532926,45.531674,45.485048,45.533735,45.5378393,45.5251147,45.530816,45.532008,45.5375266,45.50919,45.429711,45.461078,45.520222,45.51405,45.5169365,45.466569,45.470544,45.47968,45.4763443,45.514108,45.5396786,45.543424,45.539663,45.490042,45.560762,45.456355,45.474565,45.5295036,45.537891,45.527839,45.464892,45.482826,45.534453,45.535295,45.526058,45.5284463,45.509759,45.507717,45.524942,45.51069,45.52974,45.575707,45.5319436,45.579325,45.496302,45.552123,45.472503,45.554947,45.5265,45.495415,45.52765,45.5244504,45.5201249,45.506371,45.523027,45.549598,45.45002,45.491687,45.5129332,45.521565,45.5597053,45.4163102,45.4157687,45.437914,45.446934,45.519895,45.5149954,45.490628,45.539806,45.543771,45.542119,45.5455805,45.6145192,45.4385441,45.529134,45.549783,45.537205,45.532514,45.519216,45.520179,45.522365,45.552298,45.5502232,45.538839,45.5507836,45.5507836,45.493034,45.486219,45.595875,45.528366,45.53057,45.523194,45.548186,45.551585,45.55001,45.546661,45.5517743,45.544599,45.554961,45.493569,45.492222,45.471669,45.4957609,45.495709,45.49683,45.527041,45.5252675,45.5252675,45.524628,45.593985,45.5007599,45.5013987,45.480208,45.536785,45.553219,45.471743,45.5317737,45.524683,45.527758,45.5310066,45.530871,45.567352,45.5338507,45.547408,45.53543,45.529802,45.550684,45.538799,45.53229,45.5157751,45.5011651,45.4891131,45.502813,45.4818402,45.5394606,45.537114,45.500832,45.501715,45.500208,45.512541,45.508141,45.509361,45.549686,45.5415485,45.4597531,45.4584299,45.5717982,45.521081,45.519139,45.53318,45.5315651,45.523575,45.44691,45.569789,45.489476,45.53536,45.519132,45.4983122,45.576963,45.56003,45.510351,45.478228,45.546408,45.5474078,45.533706,45.4891,45.495045,45.556751,45.596797,45.5435597,45.5390004,45.4560855,45.546907,45.582847,45.470696,45.527231,45.527616,45.4836285,45.4836285,45.4832209,45.523319,45.494872,45.450851,45.524673,45.558109,45.52353,45.5303513,45.50038,45.5552411,45.5552411,45.477249,45.50623,45.5082046,45.494564,45.54178,45.589175,45.531783,45.550692,45.5179989,45.4856314,45.485385,45.51066,45.559199,45.50367,45.473868,45.459488,45.561783,45.4789684,45.5357088,45.462726,45.500451,45.508439,45.510086,45.444547,45.444043,45.549695,45.500105,45.4942598,45.592803,45.4941979,45.507144,45.493029,45.477353,45.4804701,45.52246,45.545776,45.556262,45.559482,45.489727,45.470366,45.5199567,45.52114,45.559884,45.5340705,45.516181,45.5200557,45.4669357,45.502989,45.5691762,45.5707266,45.5904902,45.442397,45.4689119,45.4690265,45.4398238,45.5684396,45.5460356,45.426124,45.5616903,45.5716274,45.5716274,45.43746,45.551584,45.5128006,45.51484,45.517,45.515617,45.505721,45.4460609,45.4380555,45.472561,45.472561,45.6144298,45.460023,45.5314746,45.5794057,45.4826927,45.484919,45.5649368,45.5223415,45.5883561,45.5880822,45.5175831,45.58116,45.518309,45.5190491,45.5286305,45.502828,45.515007,45.537088,45.539324,45.4391447,45.5259138,45.5990861,45.562668,45.4801338,45.5259138,45.6062348,45.461685,45.4617012,45.4365683,45.4383671,45.5648113,45.5446806,45.4904723,45.5480925,45.5864002,45.595352,45.526765,45.515604,45.5018635,45.471882,45.5760003,45.429471,45.5131776,45.5451997,45.544513,45.5449577,45.5783318,45.4305431,45.460729,45.4981,45.580315,45.52841,45.5129939,45.4999647,45.4986055,45.4984678,45.46714,45.6400029,45.515901,45.5217675,45.523492,45.519373,45.527009,45.531939,45.529002,45.5169478,45.512587,45.51059,45.5570222,45.513741,45.497605,45.5311169,45.51754,45.485889,45.6046208,45.52689,45.467369,45.6407393,45.525628,45.48498,45.4875216,45.522278,45.5461147,45.5032151,45.5032151,45.503858,45.5594955,45.5209227,45.480914,45.4786714,45.4802642,45.56833,45.550899,45.521564,45.51908,45.515616,45.475743,45.5832879,45.5271166,45.5262351,45.5036663,45.514767,45.5128612,45.512797,45.513405,45.483006,45.5367,45.4898298,45.5548617,-1.0,45.516091,45.50206,45.505359,45.4751933,45.520524,45.51889,45.518128,45.514114,45.516427,45.504591,45.4953717,45.5099315,45.539824,45.533682,45.5363438,45.477605,45.52029,45.5149464,45.514773,45.5208548,45.512871,45.527933,45.538738,45.535248,45.5236149,45.5166644,45.518593,45.526557,45.532265,45.5295036,45.5205595,45.543699,45.5426454,45.5002783,45.522426,45.52931,45.514335,45.5280879,45.501441,45.506421,45.502786,45.489186,45.641557,45.4335565,45.433251,45.43155,45.4335565,45.494514,45.495789,45.49368,45.498578,45.501967,45.463397,45.52951,45.507838,45.507078,45.5271166,45.525931,45.501041,45.539385,45.515065,45.5262351,45.5128938,45.492897,45.5036663,45.6019133,45.519492,45.510072,45.512832,45.472668,45.5040143,45.516079,45.497055,45.5684203,45.4250597,45.508978,45.544149,45.4452719,45.49123,45.478888,45.457509,45.50235,45.506511,45.507402,45.518967,45.547405,45.54523,45.475963,45.435996,45.477429,45.481291,45.505312,45.5251147,45.521342,45.520188,45.523544,45.51829,45.561059,45.523856,45.530505,45.527363,45.4575911,45.4650577,45.510142,45.497165,45.498919,45.516818,45.519581,45.537628,45.492825,45.550768,45.557192,45.554133,45.52687,45.53341,45.58116,45.5070965,45.53611,45.549755,45.533409,45.538984,45.529971,45.546539,45.529408,45.524037,45.521751,45.5403962,45.549911,45.525109,45.545955,45.5472345,45.588303,45.5319579,45.534298,45.525648,45.54078,45.529686,45.527748,45.5388872,45.542485,45.6112307,45.6112307,45.471179,45.494564,45.501449,45.543651,45.533314,45.529326,45.5302211,45.4813667,45.579349,45.5409997,45.505386,45.505063,45.51567,45.486971,45.502311000000006,45.502145,45.46982,45.528724,45.53045,45.526027,45.524963,45.477107,45.5392943,45.5439624,45.54717,45.5386271,45.506899,45.570657,45.536261,45.557921,45.512559,45.521496,45.518253,45.517401,45.514565,45.5242771,45.51166,45.463254,45.463001,45.499191,45.51086,45.497515,45.50761,45.504242,45.486241,45.468927,45.4676657,45.500606,45.499745,45.5762592,45.537159,45.54167,45.544867,45.4718801,45.5541523,45.549963,45.5242771,45.487531,45.490452,45.4940443,45.5992655,45.6059017,45.590892,45.5008765,45.487723,45.4987648,45.549121,45.5413694,45.5384608,45.533547,45.5358535,45.509655,45.534563,45.543763,45.51941,45.5444714,45.524518,45.522866,45.505011,45.508205,45.544819,45.551886,45.649546,45.5233037,45.50723,45.527201,45.549833],\"legendgroup\":\"\",\"lon\":[-73.5792112,-73.573353,-73.589307,-73.571387,-73.583159,-73.595333,-73.565631,-73.576529,-73.6808154,-73.6813706,-73.585643,-73.593928,-73.576451,-73.584867,-73.577639,-73.5716045,-73.571244,-73.579688,-73.5968529,-73.61656,-73.567528,-73.573047,-73.5813899,-73.564315,-73.7023133,-73.572607,-73.57614,-73.5754719,-73.583084,-73.5961568,-73.569367,-73.5958041,-73.610512,-73.670819,-73.6711246,-73.620187,-73.553861,-73.6826205,-73.694597,-73.561846,-73.558042,-73.576775,-73.571915,-73.5467345,-73.5004127,-73.563906,-73.7111861,-73.577827,-73.58763,-73.563437,-73.577698,-73.573299,-73.5689485,-73.5689485,-73.54534,-73.561273,-73.632136,-73.647657,-73.572575,-73.587842,-73.633649,-73.681757,-73.565395,-73.584621,-73.5484001,-73.532427,-73.626597,-73.561964,-73.543956,-73.604973,-73.603191,-73.569509,-73.5749415,-73.577204,-73.5749415,-73.5838187,-73.5579303,-73.6622545,-73.577856,-73.704432,-73.5738867,-73.576502,-73.5738867,-73.608428,-73.6241752,-73.612658,-73.5918613,-73.555921,-73.5838616,-73.602026,-73.60897,-73.6162861,-73.612481,-73.5752406,-73.595478,-73.60556,-73.579917,-73.6500344,-73.61199,-73.56279,-73.6189073,-73.610512,-73.6228395,-73.6228395,-73.531907,-73.571939,-73.56545,-73.6180971,-73.570233,-73.602664,-73.585946,-73.571776,-73.583524,-73.591044,-73.57869,-73.595253,-73.614793,-73.598791,-73.524577,-73.691449,-73.574621,-73.653376,-73.654884,-73.595645,-73.5793731,-73.6130065,-73.592144,-73.573589,-73.599343,-73.658325,-73.610536,-73.6410168,-73.565167,-73.56936,-73.577312,-73.5847816,-73.584006,-73.5843927,-73.571391,-73.615541,-73.665234,-73.5669033,-73.572961,-73.582129,-73.5992467,-73.6133498,-73.638135,-73.495067,-73.638615,-73.5732535,-73.577615,-73.571768,-73.605652,-73.6060113,-73.584157,-73.5842103,-73.610871,-73.5769965,-73.5528445,-73.6115748,-73.540873,-73.7169045,-73.611423,-73.616469,-73.5662503,-73.558212,-73.5682458,-73.605834,-73.620661,-73.626375,-73.629942,-73.589758,-73.5811767,-73.609412,-73.578168,-73.574227,-73.57591,-73.5389322,-73.590529,-73.522739,-73.522739,-73.553711,-73.575984,-73.57946,-73.581142,-73.569354,-73.6192358,-73.606687,-73.6032707,-73.611423,-73.574876,-73.54755,-73.6303738,-73.5892488,-73.5607839,-73.546804,-73.629298,-73.563848,-73.6017948,-73.597873,-73.60101,-73.6203128,-73.646765,-73.662083,-73.6517805,-73.559038,-73.655568,-73.566175,-73.573837,-73.5842489,-73.5680392,-73.5548669,-73.562425,-73.5587601,-73.601194,-73.677165,-73.563949,-73.6120248,-73.5870212,-73.581222,-73.57674,-73.622443,-73.567336,-73.56378,-73.565413,-73.571963,-73.589307,-73.5748386,-73.586006,-73.581626,-73.580444,-73.5751244,-73.6603206,-73.6338834,-73.567307,-73.629856,-73.6472556,-73.640483,-73.623295,-73.63168,-73.56385,-73.6062594,-73.57523,-73.6345875,-73.632462,-73.634475,-73.567111,-73.650561,-73.597557,-73.624036,-73.6048646,-73.618215,-73.594821,-73.566998,-73.590843,-73.559652,-73.55116,-73.612969,-73.6187021,-73.576107,-73.57167,-73.610606,-73.57805,-73.59527,-73.561562,-73.7136054,-73.570504,-73.629822,-73.630103,-73.539285,-73.555295,-73.545753,-73.622341,-73.6123,-73.6051744,-73.5952138,-73.564201,-73.60184,-73.541874,-73.600306,-73.576767,-73.6338902,-73.535332,-73.5515544,-73.6129159,-73.6379242,-73.58274,-73.572199,-73.596827,-73.5591692,-73.628878,-73.687266,-73.628509,-73.622547,-73.6349,-73.6122447,-73.6202163,-73.559234,-73.7063098,-73.579254,-73.584811,-73.57718,-73.579424,-73.584146,-73.7073827,-73.7054669,-73.552779,-73.5341,-73.5341,-73.583836,-73.573747,-73.523528,-73.551171,-73.54913,-73.555843,-73.59201,-73.599165,-73.59576,-73.588684,-73.6034784,-73.588223,-73.610737,-73.568576,-73.569348,-73.582644,-73.5768262,-73.576952,-73.57913,-73.593471,-73.5952374,-73.5952374,-73.595811,-73.6376721,-73.5704827,-73.5717863,-73.577599,-73.614888,-73.539782,-73.613924,-73.5724462,-73.578897,-73.576185,-73.5987988,-73.598345,-73.653787,-73.5789116,-73.607669,-73.5822,-73.57029,-73.615293,-73.5887,-73.57544,-73.6006093,-73.6205475,-73.6470129,-73.576024,-73.595379,-73.5760564,-73.571003,-73.572459,-73.57413,-73.571138,-73.570677,-73.57493,-73.573864,-73.591155,-73.5650124,-73.5964214,-73.5960603,-73.5415497,-73.562275,-73.557866,-73.61544,-73.6169464,-73.623443,-73.60363,-73.548081,-73.584566,-73.603635,-73.5578897,-73.567256,-73.546836,-73.681336,-73.556508,-73.569651,-73.638428,-73.6076689,-73.552179,-73.57656,-73.57783,-73.667162,-73.535179,-73.627772,-73.614251,-73.5819371,-73.551557,-73.542476,-73.565422,-73.586726,-73.589115,-73.5797026,-73.5797026,-73.5807636,-73.520127,-73.571124,-73.594027,-73.58255,-73.719598,-73.55199,-73.6243924,-73.57507,-73.5508221,-73.5508221,-73.587238,-73.55976,-73.5688144,-73.638702,-73.555714,-73.539656,-73.597793,-73.656367,-73.5681841,-73.6287649,-73.628142,-73.56497,-73.599658,-73.61848,-73.604538,-73.572092,-73.546611,-73.6195993,-73.6196235,-73.565959,-73.661428,-73.672965,-73.611429,-73.575091,-73.613752,-73.554647,-73.560199,-73.5638181,-73.510466,-73.5637477,-73.555119,-73.564818,-73.615372,-73.6112161,-73.691564,-73.562175,-73.537441,-73.535496,-73.564063,-73.589816,-73.5548166,-73.54926,-73.633568,-73.5626507,-73.6085433,-73.6779515,-73.6315311,-73.689113,-73.6362934,-73.737086,-73.5902694,-73.7176502,-73.6095089,-73.609537,-73.6948782,-73.6752021,-73.6465985,-73.657416,-73.610512,-73.5920477,-73.5920477,-73.6935318,-73.561916,-73.5311159,-73.584779,-73.589,-73.614991,-73.629459,-73.6507995,-73.6727393,-73.5699892,-73.5699892,-73.6122333,-73.644442,-73.5924205,-73.6025888,-73.6348128,-73.6374146,-73.5555911,-73.7216789,-73.6317122,-73.6322231,-73.7266141,-73.6412434,-73.603286,-73.6049806,-73.6773124,-73.527793,-73.619788,-73.593219,-73.5958784,-73.5917366,-73.6891115,-73.6369479,-73.692362,-73.5859081,-73.6891115,-73.6287838,-73.584039,-73.5840715,-73.7083697,-73.7154669,-73.5958041,-73.6101606,-73.6385324,-73.624261,-73.5952181,-73.55859,-73.730423,-73.572135,-73.543961,-73.6400217,-73.6467648,-73.593099,-73.7130609,-73.5764507,-73.571564,-73.5728859,-73.655954,-73.6690244,-73.634073,-73.652942,-73.535314,-73.517166,-73.6824985,-73.5561544,-73.5692275,-73.5684335,-73.54259,-73.490113,-73.559948,-73.5571025,-73.56073,-73.551958,-73.585766,-73.553439,-73.546199,-73.6263156,-73.573739,-73.57547,-73.6599016,-73.538382,-73.55535,-73.6322325,-73.597832,-73.577514,-73.5159963,-73.57264,-73.570769,-73.5008258,-73.581775,-73.560333,-73.565003,-73.577591,-73.5570931,-73.5699785,-73.5699785,-73.5710943,-73.6989176,-73.5591772,-73.56846,-73.565705,-73.5809936,-73.566663,-73.62108,-73.570367,-73.5727,-73.575808,-73.564601,-73.6327636,-73.5977359,-73.54895,-73.5695761,-73.565491,-73.5615949,-73.561463,-73.562594,-73.562187,-73.56081,-73.5896777,-73.5327172,-1.0,-73.570129,-73.56295,-73.567741,-73.5809433,-73.567697,-73.56353,-73.561851,-73.552645,-73.558112,-73.559188,-73.5685891,-73.5638067,-73.508752,-73.515261,-73.5127777,-73.573775,-73.568119,-73.5562329,-73.578312,-73.6157396,-73.558466,-73.601223,-73.628022,-73.617564,-73.5924574,-73.5772204,-73.581566,-73.598276,-73.611063,-73.6048646,-73.5858203,-73.553673,-73.6224445,-73.5598773,-73.574184,-73.588657,-73.556464,-73.5858625,-73.560144,-73.556466,-73.559134,-73.5719,-73.500375,-73.6840434,-73.693962,-73.67112,-73.6840434,-73.583368,-73.582596,-73.579146,-73.560242,-73.555153,-73.596436,-73.61068,-73.563136,-73.561395,-73.5977359,-73.598839,-73.577178,-73.541,-73.55923,-73.54895,-73.5612479,-73.580294,-73.5695761,-73.5244185,-73.685104,-73.570752,-73.576888,-73.58539,-73.7044269,-73.607798,-73.618652,-73.7468728,-73.6495992,-73.698564,-73.66752,-73.6244836,-73.580782,-73.581989,-73.639485,-73.566583,-73.576669,-73.578444,-73.583616,-73.544674,-73.53725,-73.6072344,-73.680111,-73.600169,-73.60033,-73.560891,-73.586006,-73.589419,-73.590559,-73.587332,-73.59235,-73.603967,-73.600127,-73.614708,-73.607723,-73.5675594,-73.5667753,-73.624752,-73.55933,-73.557254,-73.554188,-73.560116,-73.553394,-73.557978,-73.549427,-73.569847,-73.560226,-73.626723,-73.601124,-73.641243,-73.5684416,-73.576287,-73.605566,-73.570657,-73.582445,-73.563053,-73.598665,-73.578154,-73.590143,-73.585268,-73.6168179,-73.558263,-73.560206,-73.626992,-73.6310256,-73.5778372,-73.607001,-73.612172,-73.592928,-73.630401,-73.601728,-73.597439,-73.623907,-73.636342,-73.5312416,-73.5312416,-73.627002,-73.638702,-73.633051,-73.60565,-73.583737,-73.574806,-73.5769965,-73.5643189,-73.581681,-73.5582626,-73.570432,-73.5706812,-73.561009,-73.589293,-73.5733635,-73.57342700000001,-73.616961,-73.583859,-73.587638,-73.577859,-73.575559,-73.621438,-73.6004199,-73.6107682,-73.618041,-73.5528392,-73.623526,-73.651842,-73.607546,-73.529147,-73.677011,-73.596827,-73.588338,-73.574605,-73.568407,-73.5892904,-73.562136,-73.575879,-73.571569,-73.569421,-73.54983,-73.552571,-73.551836,-73.55347,-73.5957277,-73.61987,-73.5939178,-73.565448,-73.579034,-73.5383123,-73.597476,-73.607604,-73.614841,-73.5379797,-73.5474935,-73.534434,-73.5892904,-73.56507,-73.560172,-73.6544949,-73.5122607,-73.5343695,-73.640617,-73.5590056,-73.569083,-73.5544766,-73.600874,-73.583974,-73.5776791,-73.566867,-73.5720545,-73.554009,-73.554787,-73.56772,-73.58685,-73.5672507,-73.571977,-73.568377,-73.572028,-73.568814,-73.62151,-73.74444,-73.491916,-73.5579997,-73.615085,-73.564729,-73.640633],\"marker\":{\"color\":[13.882093687517852,13.253928960971216,16.55818536162841,14.392172422786036,15.477070621468926,18.372373374401093,15.060651289009499,15.929803377284294,43.53232323232323,35.78974358974359,17.143383475038153,15.226925497600503,14.948256654327515,13.070540913269998,16.847577792217166,15.91264487714418,18.316600946372237,18.26217084136159,21.135611854684512,21.593400824896886,15.459069543549665,16.65470507107999,14.348302923288209,19.254333056017746,17.866666666666667,13.109700452803901,13.089827078734363,14.205389894140817,13.689329643296434,14.105030782761654,13.556761268781303,23.552953586497893,22.689893617021276,28.511111111111113,34.79495412844037,15.499251863230358,14.212778967404235,15.25748987854251,29.08828250401284,12.730215786962988,15.53773690078038,12.918389973487585,12.26093179252175,18.739550264550264,31.921199442119942,11.080559530197341,26.62583857442348,20.160330188679247,16.675185764567853,13.276247455575726,10.571686019278653,11.658827334744766,14.285862733171127,15.266624790619765,12.672844805362207,15.329855267847458,15.863587216861697,16.611895215183107,11.793393548387098,13.811863273867145,18.22825797190608,17.400025680534156,12.947068234109864,16.169449869791666,16.28242620988166,16.635901542111505,17.41818217418546,12.873758973575683,23.164326952294136,13.179336368234699,12.711301560758082,11.44467506579966,12.306362030334366,12.39210686095932,10.844318181818181,13.628742203742204,16.19545454545454,15.095649717514123,12.343280857859913,25.76772727272727,12.307361249584579,15.312768733505324,14.431416881998276,13.369910769869266,16.1650154354225,13.66089641530371,11.611517370356282,14.063159940209268,14.05551120267834,12.748376157917953,13.010306577927457,14.104824029126213,13.592395254382215,12.404637347896903,12.963572897761646,12.319578834198103,11.153944892253804,20.26343438538206,14.427533917691559,21.866650016650016,13.678771929824562,16.012777777777778,15.867119083344699,15.290123456790123,18.5385944092827,13.683446171622524,12.393995032223417,14.447756605691056,14.446326372776488,13.560800265648348,13.052098445595854,12.076208390332877,11.662104733131923,13.457432885041479,11.819661025486047,11.900680735194008,15.103679919413228,12.476110811296996,29.080965860353405,16.607928475033738,17.479185484509944,19.120298490523208,21.148803952158087,13.126013949363006,10.791724590670375,15.273282642894598,13.616066554010139,11.263049891315598,13.75363579714313,18.0030890052356,13.700198370527808,21.84780621572212,13.896495486747941,13.133229240596169,13.86718254935413,12.350989958987412,14.958214845100791,11.8049843158963,13.501724055817498,22.330686641697877,17.837111260806108,12.792439701706762,11.908828183172004,11.831859371971312,12.727289215686275,15.5906722208609,14.742135016918379,25.235528455284552,16.398949115044246,14.419179284617073,15.586678191345687,15.002366271837309,18.31567856422666,36.69449472096531,13.487205081669691,13.375456292026897,14.915537548707048,11.454778629203917,21.337459150326797,14.911009407576913,15.963711529627929,34.91691542288557,14.505563177838756,14.351903133274492,12.443926853423882,12.18825542734207,11.77078447339848,13.564207808224458,13.377396280400573,14.566619541313228,14.989230875163534,11.115991126034297,12.263082269598343,13.186828837912781,11.229627544797824,14.443783333333332,15.15122745131779,17.074595290654894,17.22106670703401,16.687037037037037,18.505779889152812,17.207894201424214,12.966867557893199,11.759030520374656,12.08671135139111,21.671128170894526,15.490607224118316,13.064624399333137,12.257936507936508,14.376258278145693,14.841105619622917,14.323492578112585,17.32936030982906,18.126949025487257,14.043586391237396,20.849761465066177,16.857605971450365,14.108975360055528,16.881897435897436,12.379566941140592,13.364688284115035,15.94102347813862,27.493847874720355,19.9458600541542,20.20483643542019,15.74772483365529,17.367850813597553,21.69225035161744,12.332485300768882,14.225094775774387,13.194059298016132,12.648816568047337,13.004417742706838,12.603910062512604,26.82952380952381,24.852450032237268,13.438579181055747,14.917719606122649,11.380975745970959,11.253747239901287,12.023435054773083,16.568202936664477,12.387613343315863,12.717673071058249,12.160243989953356,14.275530171582803,12.17048682001724,12.900898748577928,12.115899386175608,11.079539733908666,11.064416079473258,12.154046997389035,19.159776134729924,26.782817109144545,15.109925283200772,15.150417693782526,18.785638440860215,18.025992063492065,17.07199362974519,18.357135383971542,13.683865702961063,18.28962199312715,11.651116755362038,15.283827853515104,16.64736137667304,14.996684118673649,13.666378439079168,18.76801714898178,15.710920089143583,14.989317375886523,12.714545900032668,14.694280335939762,11.495335754468417,15.305421117044949,13.162061961925549,12.932717216872994,13.018653604028957,14.594376935906599,15.805197132616488,11.544087336892051,11.359415379766784,14.835169785169784,11.580286819369096,13.108782017773132,19.497730403205612,33.882781582952816,19.173219241443107,16.72915803406998,17.640724671669794,26.007256554307116,19.33139606396064,16.81851303561148,16.478691468455647,13.904841500553708,14.54813849590469,12.199003095261615,15.640211485277371,13.232286436938992,13.974112360456212,16.71631790744467,10.833723875870804,18.741662447257383,23.188203901361796,15.152901870943108,27.767770034843206,28.913595387840672,21.94420457465947,18.396397927796666,12.817873074657015,12.65672163918041,14.693138912369681,28.94754303599374,13.672847258561545,14.274260452817716,16.28677597955707,29.03333333333333,18.245245783997127,12.67473125079044,26.932037037037034,11.774230548152794,11.802196037584357,11.872363005697238,12.019888527401578,12.388990271720898,27.056006944444444,37.88869047619048,12.618101612412532,16.43464912280702,15.121794055201699,13.589711296260415,12.9452088922959,20.604758757435558,13.674073023079833,14.284849000908265,11.936092005863118,14.550601771121823,13.449359605911331,14.24044710163764,14.056884345115444,15.134050954539212,13.511685383699167,15.470527838033261,14.718087941372419,13.560340196956131,20.854494934592307,15.51172631841261,11.885204081632653,14.14169665249155,11.825117790011408,11.740878527336859,11.200713012477719,12.511309309309308,21.8455223880597,13.980881916629581,15.47079969242599,20.405235468092364,15.74825623814388,14.906857281318148,17.271576106352605,11.109443244540438,11.452536370597244,11.266190978236313,11.650000000000002,10.481236051937513,16.9397808908046,10.66506699006699,13.50797007156799,11.776553338133937,12.095783337106633,13.1438223334376,13.188011734897986,10.794397134746909,12.027813163481953,15.215471307883758,18.565626175253854,12.118117301160845,14.16044776119403,12.652959957929532,11.579139460319688,15.015357028498238,14.2781192339505,14.92410511887817,12.131666743291495,11.474721422203936,12.183164926837973,14.899191695388149,14.172650439486137,14.553239656518345,17.128860722610725,14.873909395973154,11.57380620091399,13.140844422127376,14.305286418493965,16.09504461942257,17.080240432169212,22.166294202118113,16.743244709712425,14.577699417733392,12.171484174583798,11.312648533553128,13.9184459575197,17.32013349038084,25.98674288006418,15.948459075831213,13.0213687150838,12.088513696772445,11.16405700211119,11.583636215600064,9.996465767457742,14.925560147125628,20.723685540950452,15.068227176220805,11.556677300306498,12.736980013943759,11.78901794661565,12.322844764497527,17.301324200913243,15.171928287783228,10.366593633984541,10.279303137092317,13.228053646641543,14.46292735042735,16.311046885035324,24.169287293536218,10.977313499359296,13.458253143443674,11.65382567335161,23.279023354564757,12.859098403599605,15.605780555842546,15.304852725065492,17.41805967200158,14.119435501180511,14.092552612128992,18.28741938588892,13.238790722235763,12.91385685520776,13.27508544368952,17.504994885782477,11.634169786770759,15.8865084404932,12.402311565313418,16.811976682564918,16.50460432444298,14.18266174298375,14.441511326860839,15.092690076781839,15.768290236062485,11.328917364196894,12.854427328932202,10.89856540084388,14.161649799416486,17.728087066631737,20.1359068627451,14.310944326990837,14.3022162567112,18.39949170679508,23.01063340410474,14.13728292896997,17.62932194616977,14.947955974842765,27.870627450980393,13.5843370568237,18.621763835653283,12.56455698179206,15.575574446161772,16.95422791212265,21.04914902449149,13.041070877934892,15.698171135385632,14.919448138297872,13.09077380952381,17.22177331732144,13.126144976616674,15.380251256281406,21.13946466809422,12.082251029309854,12.585197368421053,18.109666666666666,16.168609379235566,13.910483870967743,22.487932960893854,21.008333333333333,32.93244047619048,26.6,16.482188295165393,16.165199797673242,24.98125,28.338690476190475,18.269218143837662,31.835523321956767,16.78935404977701,20.075185185185184,19.41231448054553,23.967521367521368,14.129060340244552,29.46607210171002,15.8651515648221,14.204438806487987,14.802867023650156,15.72112472107487,25.77559523809524,30.881343283582087,15.062683786505538,24.826999999999998,35.363117283950615,23.12621247113164,11.77249974922259,20.47553191489362,17.092889127709118,21.255761316872427,18.76345543598234,36.089414414414414,26.3527027027027,20.91339113680154,23.63550724637681,13.480555555555556,13.556984561752987,11.12019549370444,16.519491525423728,28.637198067632852,15.588223684210526,13.719373508353222,12.375803938234878,25.04342465753425,14.213235294117647,32.01580459770115,31.929856512141278,15.997698983670206,12.353333333333333,26.52695035460993,14.615181907571287,12.259988385598142,32.87966101694915,37.727450980392156,18.61507141211702,12.898984593837536,19.267230769230768,14.052451523545706,20.136011904761904,20.929037587773646,38.81175548589342,12.415466916477666,26.535992075904492,19.85724027276374,25.108133669609078,26.44929141973718,25.070091324200913,14.126535168874744,14.37936876504988,14.899787052810902,28.994376441369525,36.502030217186025,20.259893348301993,21.653527174579807,18.973166994966075,18.613219696969697,16.979919786096257,16.91641933473553,17.313479415670653,15.064580021197667,20.647423896499237,26.722587064676613,14.099084878637118,10.859822658402203,11.881565211379584,13.243189368770766,9.579725270784019,12.993688020928394,13.979628792445247,14.017459373761394,11.61312633703938,11.482834528076463,16.616237942122186,31.687167224613425,14.601601153039832,15.342595852895148,12.598621275966586,13.90729456645015,20.340182421227194,14.459249835850295,13.07468586650583,14.830000000000002,12.286047852151396,16.064681122448977,15.025688015855096,12.58205511794997,13.82827269636178,16.766666666666666,14.360646176118488,12.48374210330732,24.21838905775076,11.686327641672854,14.287053067369213,11.63548585485855,16.166817701253585,21.320519684187754,14.725396825396826,11.401788779287383,12.528244338407937,11.939228628745228,12.136431174656574,22.955005241090145,11.114700854700855,15.540723844282237,18.493089430894308,13.334673993233102,13.419338256588473,14.350148294611962,14.602342697386149,13.379226161168553,12.41680154820549,16.99719705920966,15.086771561771561,15.61722895040369,12.896947870712163,14.668078009845901,14.218392909038071,15.09358125062732,11.62305551874917,11.845685849128415,12.586172472387425,13.296780855199223,11.710710597492008,18.129995317412536,12.1294254501315,14.760792872967594,19.0802734375,20.773036398467433,17.937856709168184,19.7327797573598,13.217293255842112,14.221520642630301,10.767773882020053,13.657067289619247,14.790468514199478,12.74517537546183,14.799419457735246,15.654543412837443,11.908221036685767,11.708290168100078,12.253739782527182,12.169108382274425,13.638107363814697,12.39576264339958,11.816718566472725,14.336506268005918,16.59138576779026,15.669935962251431,11.541763439382487,11.57055033557047,15.566709844559586,11.113564213564214,15.901210637284906,15.58132783574554,16.695327876185363,14.709731682146542,28.48257287705957,35.27609274040289,35.05810520665593,33.792652606310014,32.82209797657082,14.453000000000001,13.887002204471928,14.953213432146372,13.971530740276034,18.83434974135144,19.919911894273127,13.651791051058634,16.3323819534282,16.27574957134251,11.214119575993289,12.621096096096096,13.56185770750988,15.507173202614378,15.087960428073668,13.474670708760192,14.812563429571304,14.436965466360205,17.241840556447297,16.731919970631424,23.30008880994671,11.920873389063043,11.555770449040432,17.4741929651545,20.12917791779178,14.503126122888968,16.78893632512576,20.524074074074075,28.39281970649895,23.385426237876466,19.486709677419356,25.600253164556964,12.824545344692163,15.190940756841107,21.114580278592374,14.049415204678363,10.863444396434458,10.958351231386025,12.088244552805381,14.043438845218041,15.525441329179646,15.8248673420164,32.5404516866781,15.711213759951931,17.09769472665699,16.883658219623133,12.446278545249505,11.795492766032186,12.346242750273179,11.669737532808398,12.098321048321049,18.242066895368783,13.617949497251983,14.232041658847814,13.36115408739285,14.076224899598396,14.603462897526503,13.988478788626919,14.709573485967503,14.858450272218388,14.145382048072912,12.002275600505689,12.71491082767379,14.216955349115972,14.738781297134238,14.899906842818428,16.002721934369603,16.402391546162402,12.736510074345437,24.344758539458187,14.102966072415699,12.418172850747402,15.290016984336669,12.347424544314073,12.235405449502366,12.482439286062615,13.73196088826059,11.959326681954112,11.899035037058427,12.000155947189922,14.381630195430773,15.111182717837314,11.017515979336311,14.955405005182882,15.498178049312676,22.211827956989247,13.245723379074304,13.758252100840338,11.450550496126137,15.245978232869655,11.336692739671077,11.491488730723605,14.30313253012048,15.83981699654414,26.44780701754386,14.766759362254355,15.198978388998036,16.73021625652498,16.05558144049699,13.816044519073452,11.542634671440702,11.523924731182795,11.548106765983862,13.24911468264778,20.7643016403886,12.385181354295959,14.441801697530865,15.451948503827417,15.037229938271604,14.403842245475268,14.060122956800933,14.815398958400309,15.001440809968846,10.65860152650276,12.322746682629951,11.929533951560854,12.368575092122299,15.799724786931819,13.332905389775618,13.545624999999998,14.666907648118396,10.776289989680082,15.666276994078718,20.15864814814815,13.785592402509101,15.426866385911179,19.960115410726406,12.249441276424168,12.4882785393924,11.305588599752168,12.080303821257047,11.128897502153317,13.572704924805816,12.888546673787905,14.800041594675882,15.253536141445657,20.4881865515914,19.94054561660406,23.671601741183412,22.747590526996444,15.755498922592409,16.297486979166667,19.58502412309297,14.890608438988394,13.513850001866578,23.65874587458746,12.577331218050414,14.0663504724947,13.391794823705927,30.18848797250859,13.617129529182035,15.499703344120817,10.998005698005699,18.740507726269318,14.965061755993963,23.6602191196432,27.066148850272075,16.246050955414013,30.273168214654284,16.42118754904525,11.973438792390406,14.094519969278034,14.763861024033439,14.483896982310092,12.064564770390678,13.30028408254585,11.38409229673349,17.703017847885654,13.758825768388999,14.17719467180228,11.391261597131312,12.221527777777778,13.51301784450908,13.142578602239011,13.583205070842654,14.935729060889843,13.774430810171497,25.150782688766117,28.466228070175436,12.63552416052416,13.67268084881198,12.50902151518222,14.59039279572812],\"coloraxis\":\"coloraxis\",\"size\":[13.882093687517852,13.253928960971216,16.55818536162841,14.392172422786036,15.477070621468926,18.372373374401093,15.060651289009499,15.929803377284294,43.53232323232323,35.78974358974359,17.143383475038153,15.226925497600503,14.948256654327515,13.070540913269998,16.847577792217166,15.91264487714418,18.316600946372237,18.26217084136159,21.135611854684512,21.593400824896886,15.459069543549665,16.65470507107999,14.348302923288209,19.254333056017746,17.866666666666667,13.109700452803901,13.089827078734363,14.205389894140817,13.689329643296434,14.105030782761654,13.556761268781303,23.552953586497893,22.689893617021276,28.511111111111113,34.79495412844037,15.499251863230358,14.212778967404235,15.25748987854251,29.08828250401284,12.730215786962988,15.53773690078038,12.918389973487585,12.26093179252175,18.739550264550264,31.921199442119942,11.080559530197341,26.62583857442348,20.160330188679247,16.675185764567853,13.276247455575726,10.571686019278653,11.658827334744766,14.285862733171127,15.266624790619765,12.672844805362207,15.329855267847458,15.863587216861697,16.611895215183107,11.793393548387098,13.811863273867145,18.22825797190608,17.400025680534156,12.947068234109864,16.169449869791666,16.28242620988166,16.635901542111505,17.41818217418546,12.873758973575683,23.164326952294136,13.179336368234699,12.711301560758082,11.44467506579966,12.306362030334366,12.39210686095932,10.844318181818181,13.628742203742204,16.19545454545454,15.095649717514123,12.343280857859913,25.76772727272727,12.307361249584579,15.312768733505324,14.431416881998276,13.369910769869266,16.1650154354225,13.66089641530371,11.611517370356282,14.063159940209268,14.05551120267834,12.748376157917953,13.010306577927457,14.104824029126213,13.592395254382215,12.404637347896903,12.963572897761646,12.319578834198103,11.153944892253804,20.26343438538206,14.427533917691559,21.866650016650016,13.678771929824562,16.012777777777778,15.867119083344699,15.290123456790123,18.5385944092827,13.683446171622524,12.393995032223417,14.447756605691056,14.446326372776488,13.560800265648348,13.052098445595854,12.076208390332877,11.662104733131923,13.457432885041479,11.819661025486047,11.900680735194008,15.103679919413228,12.476110811296996,29.080965860353405,16.607928475033738,17.479185484509944,19.120298490523208,21.148803952158087,13.126013949363006,10.791724590670375,15.273282642894598,13.616066554010139,11.263049891315598,13.75363579714313,18.0030890052356,13.700198370527808,21.84780621572212,13.896495486747941,13.133229240596169,13.86718254935413,12.350989958987412,14.958214845100791,11.8049843158963,13.501724055817498,22.330686641697877,17.837111260806108,12.792439701706762,11.908828183172004,11.831859371971312,12.727289215686275,15.5906722208609,14.742135016918379,25.235528455284552,16.398949115044246,14.419179284617073,15.586678191345687,15.002366271837309,18.31567856422666,36.69449472096531,13.487205081669691,13.375456292026897,14.915537548707048,11.454778629203917,21.337459150326797,14.911009407576913,15.963711529627929,34.91691542288557,14.505563177838756,14.351903133274492,12.443926853423882,12.18825542734207,11.77078447339848,13.564207808224458,13.377396280400573,14.566619541313228,14.989230875163534,11.115991126034297,12.263082269598343,13.186828837912781,11.229627544797824,14.443783333333332,15.15122745131779,17.074595290654894,17.22106670703401,16.687037037037037,18.505779889152812,17.207894201424214,12.966867557893199,11.759030520374656,12.08671135139111,21.671128170894526,15.490607224118316,13.064624399333137,12.257936507936508,14.376258278145693,14.841105619622917,14.323492578112585,17.32936030982906,18.126949025487257,14.043586391237396,20.849761465066177,16.857605971450365,14.108975360055528,16.881897435897436,12.379566941140592,13.364688284115035,15.94102347813862,27.493847874720355,19.9458600541542,20.20483643542019,15.74772483365529,17.367850813597553,21.69225035161744,12.332485300768882,14.225094775774387,13.194059298016132,12.648816568047337,13.004417742706838,12.603910062512604,26.82952380952381,24.852450032237268,13.438579181055747,14.917719606122649,11.380975745970959,11.253747239901287,12.023435054773083,16.568202936664477,12.387613343315863,12.717673071058249,12.160243989953356,14.275530171582803,12.17048682001724,12.900898748577928,12.115899386175608,11.079539733908666,11.064416079473258,12.154046997389035,19.159776134729924,26.782817109144545,15.109925283200772,15.150417693782526,18.785638440860215,18.025992063492065,17.07199362974519,18.357135383971542,13.683865702961063,18.28962199312715,11.651116755362038,15.283827853515104,16.64736137667304,14.996684118673649,13.666378439079168,18.76801714898178,15.710920089143583,14.989317375886523,12.714545900032668,14.694280335939762,11.495335754468417,15.305421117044949,13.162061961925549,12.932717216872994,13.018653604028957,14.594376935906599,15.805197132616488,11.544087336892051,11.359415379766784,14.835169785169784,11.580286819369096,13.108782017773132,19.497730403205612,33.882781582952816,19.173219241443107,16.72915803406998,17.640724671669794,26.007256554307116,19.33139606396064,16.81851303561148,16.478691468455647,13.904841500553708,14.54813849590469,12.199003095261615,15.640211485277371,13.232286436938992,13.974112360456212,16.71631790744467,10.833723875870804,18.741662447257383,23.188203901361796,15.152901870943108,27.767770034843206,28.913595387840672,21.94420457465947,18.396397927796666,12.817873074657015,12.65672163918041,14.693138912369681,28.94754303599374,13.672847258561545,14.274260452817716,16.28677597955707,29.03333333333333,18.245245783997127,12.67473125079044,26.932037037037034,11.774230548152794,11.802196037584357,11.872363005697238,12.019888527401578,12.388990271720898,27.056006944444444,37.88869047619048,12.618101612412532,16.43464912280702,15.121794055201699,13.589711296260415,12.9452088922959,20.604758757435558,13.674073023079833,14.284849000908265,11.936092005863118,14.550601771121823,13.449359605911331,14.24044710163764,14.056884345115444,15.134050954539212,13.511685383699167,15.470527838033261,14.718087941372419,13.560340196956131,20.854494934592307,15.51172631841261,11.885204081632653,14.14169665249155,11.825117790011408,11.740878527336859,11.200713012477719,12.511309309309308,21.8455223880597,13.980881916629581,15.47079969242599,20.405235468092364,15.74825623814388,14.906857281318148,17.271576106352605,11.109443244540438,11.452536370597244,11.266190978236313,11.650000000000002,10.481236051937513,16.9397808908046,10.66506699006699,13.50797007156799,11.776553338133937,12.095783337106633,13.1438223334376,13.188011734897986,10.794397134746909,12.027813163481953,15.215471307883758,18.565626175253854,12.118117301160845,14.16044776119403,12.652959957929532,11.579139460319688,15.015357028498238,14.2781192339505,14.92410511887817,12.131666743291495,11.474721422203936,12.183164926837973,14.899191695388149,14.172650439486137,14.553239656518345,17.128860722610725,14.873909395973154,11.57380620091399,13.140844422127376,14.305286418493965,16.09504461942257,17.080240432169212,22.166294202118113,16.743244709712425,14.577699417733392,12.171484174583798,11.312648533553128,13.9184459575197,17.32013349038084,25.98674288006418,15.948459075831213,13.0213687150838,12.088513696772445,11.16405700211119,11.583636215600064,9.996465767457742,14.925560147125628,20.723685540950452,15.068227176220805,11.556677300306498,12.736980013943759,11.78901794661565,12.322844764497527,17.301324200913243,15.171928287783228,10.366593633984541,10.279303137092317,13.228053646641543,14.46292735042735,16.311046885035324,24.169287293536218,10.977313499359296,13.458253143443674,11.65382567335161,23.279023354564757,12.859098403599605,15.605780555842546,15.304852725065492,17.41805967200158,14.119435501180511,14.092552612128992,18.28741938588892,13.238790722235763,12.91385685520776,13.27508544368952,17.504994885782477,11.634169786770759,15.8865084404932,12.402311565313418,16.811976682564918,16.50460432444298,14.18266174298375,14.441511326860839,15.092690076781839,15.768290236062485,11.328917364196894,12.854427328932202,10.89856540084388,14.161649799416486,17.728087066631737,20.1359068627451,14.310944326990837,14.3022162567112,18.39949170679508,23.01063340410474,14.13728292896997,17.62932194616977,14.947955974842765,27.870627450980393,13.5843370568237,18.621763835653283,12.56455698179206,15.575574446161772,16.95422791212265,21.04914902449149,13.041070877934892,15.698171135385632,14.919448138297872,13.09077380952381,17.22177331732144,13.126144976616674,15.380251256281406,21.13946466809422,12.082251029309854,12.585197368421053,18.109666666666666,16.168609379235566,13.910483870967743,22.487932960893854,21.008333333333333,32.93244047619048,26.6,16.482188295165393,16.165199797673242,24.98125,28.338690476190475,18.269218143837662,31.835523321956767,16.78935404977701,20.075185185185184,19.41231448054553,23.967521367521368,14.129060340244552,29.46607210171002,15.8651515648221,14.204438806487987,14.802867023650156,15.72112472107487,25.77559523809524,30.881343283582087,15.062683786505538,24.826999999999998,35.363117283950615,23.12621247113164,11.77249974922259,20.47553191489362,17.092889127709118,21.255761316872427,18.76345543598234,36.089414414414414,26.3527027027027,20.91339113680154,23.63550724637681,13.480555555555556,13.556984561752987,11.12019549370444,16.519491525423728,28.637198067632852,15.588223684210526,13.719373508353222,12.375803938234878,25.04342465753425,14.213235294117647,32.01580459770115,31.929856512141278,15.997698983670206,12.353333333333333,26.52695035460993,14.615181907571287,12.259988385598142,32.87966101694915,37.727450980392156,18.61507141211702,12.898984593837536,19.267230769230768,14.052451523545706,20.136011904761904,20.929037587773646,38.81175548589342,12.415466916477666,26.535992075904492,19.85724027276374,25.108133669609078,26.44929141973718,25.070091324200913,14.126535168874744,14.37936876504988,14.899787052810902,28.994376441369525,36.502030217186025,20.259893348301993,21.653527174579807,18.973166994966075,18.613219696969697,16.979919786096257,16.91641933473553,17.313479415670653,15.064580021197667,20.647423896499237,26.722587064676613,14.099084878637118,10.859822658402203,11.881565211379584,13.243189368770766,9.579725270784019,12.993688020928394,13.979628792445247,14.017459373761394,11.61312633703938,11.482834528076463,16.616237942122186,31.687167224613425,14.601601153039832,15.342595852895148,12.598621275966586,13.90729456645015,20.340182421227194,14.459249835850295,13.07468586650583,14.830000000000002,12.286047852151396,16.064681122448977,15.025688015855096,12.58205511794997,13.82827269636178,16.766666666666666,14.360646176118488,12.48374210330732,24.21838905775076,11.686327641672854,14.287053067369213,11.63548585485855,16.166817701253585,21.320519684187754,14.725396825396826,11.401788779287383,12.528244338407937,11.939228628745228,12.136431174656574,22.955005241090145,11.114700854700855,15.540723844282237,18.493089430894308,13.334673993233102,13.419338256588473,14.350148294611962,14.602342697386149,13.379226161168553,12.41680154820549,16.99719705920966,15.086771561771561,15.61722895040369,12.896947870712163,14.668078009845901,14.218392909038071,15.09358125062732,11.62305551874917,11.845685849128415,12.586172472387425,13.296780855199223,11.710710597492008,18.129995317412536,12.1294254501315,14.760792872967594,19.0802734375,20.773036398467433,17.937856709168184,19.7327797573598,13.217293255842112,14.221520642630301,10.767773882020053,13.657067289619247,14.790468514199478,12.74517537546183,14.799419457735246,15.654543412837443,11.908221036685767,11.708290168100078,12.253739782527182,12.169108382274425,13.638107363814697,12.39576264339958,11.816718566472725,14.336506268005918,16.59138576779026,15.669935962251431,11.541763439382487,11.57055033557047,15.566709844559586,11.113564213564214,15.901210637284906,15.58132783574554,16.695327876185363,14.709731682146542,28.48257287705957,35.27609274040289,35.05810520665593,33.792652606310014,32.82209797657082,14.453000000000001,13.887002204471928,14.953213432146372,13.971530740276034,18.83434974135144,19.919911894273127,13.651791051058634,16.3323819534282,16.27574957134251,11.214119575993289,12.621096096096096,13.56185770750988,15.507173202614378,15.087960428073668,13.474670708760192,14.812563429571304,14.436965466360205,17.241840556447297,16.731919970631424,23.30008880994671,11.920873389063043,11.555770449040432,17.4741929651545,20.12917791779178,14.503126122888968,16.78893632512576,20.524074074074075,28.39281970649895,23.385426237876466,19.486709677419356,25.600253164556964,12.824545344692163,15.190940756841107,21.114580278592374,14.049415204678363,10.863444396434458,10.958351231386025,12.088244552805381,14.043438845218041,15.525441329179646,15.8248673420164,32.5404516866781,15.711213759951931,17.09769472665699,16.883658219623133,12.446278545249505,11.795492766032186,12.346242750273179,11.669737532808398,12.098321048321049,18.242066895368783,13.617949497251983,14.232041658847814,13.36115408739285,14.076224899598396,14.603462897526503,13.988478788626919,14.709573485967503,14.858450272218388,14.145382048072912,12.002275600505689,12.71491082767379,14.216955349115972,14.738781297134238,14.899906842818428,16.002721934369603,16.402391546162402,12.736510074345437,24.344758539458187,14.102966072415699,12.418172850747402,15.290016984336669,12.347424544314073,12.235405449502366,12.482439286062615,13.73196088826059,11.959326681954112,11.899035037058427,12.000155947189922,14.381630195430773,15.111182717837314,11.017515979336311,14.955405005182882,15.498178049312676,22.211827956989247,13.245723379074304,13.758252100840338,11.450550496126137,15.245978232869655,11.336692739671077,11.491488730723605,14.30313253012048,15.83981699654414,26.44780701754386,14.766759362254355,15.198978388998036,16.73021625652498,16.05558144049699,13.816044519073452,11.542634671440702,11.523924731182795,11.548106765983862,13.24911468264778,20.7643016403886,12.385181354295959,14.441801697530865,15.451948503827417,15.037229938271604,14.403842245475268,14.060122956800933,14.815398958400309,15.001440809968846,10.65860152650276,12.322746682629951,11.929533951560854,12.368575092122299,15.799724786931819,13.332905389775618,13.545624999999998,14.666907648118396,10.776289989680082,15.666276994078718,20.15864814814815,13.785592402509101,15.426866385911179,19.960115410726406,12.249441276424168,12.4882785393924,11.305588599752168,12.080303821257047,11.128897502153317,13.572704924805816,12.888546673787905,14.800041594675882,15.253536141445657,20.4881865515914,19.94054561660406,23.671601741183412,22.747590526996444,15.755498922592409,16.297486979166667,19.58502412309297,14.890608438988394,13.513850001866578,23.65874587458746,12.577331218050414,14.0663504724947,13.391794823705927,30.18848797250859,13.617129529182035,15.499703344120817,10.998005698005699,18.740507726269318,14.965061755993963,23.6602191196432,27.066148850272075,16.246050955414013,30.273168214654284,16.42118754904525,11.973438792390406,14.094519969278034,14.763861024033439,14.483896982310092,12.064564770390678,13.30028408254585,11.38409229673349,17.703017847885654,13.758825768388999,14.17719467180228,11.391261597131312,12.221527777777778,13.51301784450908,13.142578602239011,13.583205070842654,14.935729060889843,13.774430810171497,25.150782688766117,28.466228070175436,12.63552416052416,13.67268084881198,12.50902151518222,14.59039279572812],\"sizemode\":\"area\",\"sizeref\":0.10883080808080807},\"mode\":\"markers+text\",\"name\":\"\",\"showlegend\":false,\"subplot\":\"mapbox\",\"text\":[\"10e avenue / Holt\",\"10e avenue / Masson\",\"12e avenue / St-Zotique\",\"15e avenue / Masson\",\"16e avenue / Beaubien\",\"16e avenue / Jean-Talon\",\"16e avenue / St-Joseph\",\"18e avenue / Rosemont\",\"18e avenue / St-Joseph Lachine\",\"19e avenue / Saint-Antoine\",\"19e avenue / St-Zotique\",\"1\\u00e8re  avenue / St-Zotique\",\"1\\u00e8re avenue / Masson\",\"1\\u00e8re avenue / Rosemont\",\"26e avenue / Beaubien\",\"27e avenue / Rosemont\",\"28e avenue / Rosemont\",\"29e avenue / St-Zotique\",\"2e avenue / Centrale\",\"2e avenue / Jean-Rivard\",\"2e avenue / Wellington\",\"35e avenue / Beaubien\",\"3e avenue / Holt\",\"41e avenue / Rosemont\",\"41e avenue / Victoria\",\"4e avenue / de Verdun\",\"5e avenue / Bannantyne\",\"5e avenue / Masson\",\"5e avenue / Rosemont\",\"6e avenue / B\\u00e9langer\",\"7e avenue / St-Joseph Rosemont\",\"8e avenue / Everett\",\"8e avenue / Jarry\",\"8e avenue / Notre-Dame Lachine\",\"8e avenue / Saint-Joseph Lachine\",\"Alexandra / Jean-Talon\",\"Alexandre-DeS\\u00e8ve / Ste-Catherine\",\"Alexis-Nihon / St-Louis\",\"Alfred Lalibert\\u00e9 / de Poutrincourt\",\"Andr\\u00e9-Laurendeau / Rachel\",\"Ann / Ottawa\",\"Argyle / Bannantyne\",\"Argyle / de Verdun\",\"Ar\\u00e9na Chaumont (Chaumont / des Ormeaux)\",\"Ar\\u00e9na Rodrigue-Gilbert (du Tricentenaire / de Montigny)\",\"Atateken / du Square Amherst\",\"Ateliers municipaux de St-Laurent (Cavendish / Poirier)\",\"Atwater / Greene\",\"Atwater / Sherbrooke\",\"Augustin-Cantin / Shearer\",\"Aylmer / Prince-Arthur\",\"Aylmer / Sherbrooke\",\"Aylmer / Ste-Catherine\",\"Aylmer/ Sainte-Catherine\",\"Aylwin / Ontario\",\"BAnQ (Berri / de Maisonneuve)\",\"Ball / Querbes\",\"Basile-Routhier / Chabanel\",\"Beatty / de Verdun\",\"Beaubien / 8e avenue\",\"Beaucourt / de la C\\u00f4te-Ste-Catherine\",\"Beaudet / Marcel-Laurin\",\"Beaudry / Sherbrooke\",\"Bel Air / St-Antoine\",\"Bennett / Pierre-de-Coubertin\",\"Bennett / Ste-Catherine\",\"Benny / Sherbrooke\",\"Bercy / Rachel\",\"Berlioz / de l'\\u00cele des Soeurs\",\"Bernard / Jeanne-Mance\",\"Bernard / St-Urbain\",\"Berri / Cherrier\",\"Berri / Duluth\",\"Berri / Rachel\",\"Berri/ Duluth\",\"Beurling / Godin\",\"Biblioth\\u00e8que Jean-Corbeil (Goncourt / Place Montrichard)\",\"Biblioth\\u00e8que d'Ahuntsic (Lajeunesse / Fleury)\",\"Biblioth\\u00e8que de Verdun (Brown / Bannantyne)\",\"Biblioth\\u00e8que du Bois\\u00e9 (Thimens / Todd)\",\"Bishop / Ren\\u00e9-L\\u00e9vesque\",\"Bishop / Ste-Catherine\",\"Bishop/ Ren\\u00e9-L\\u00e9vesque\",\"Bloomfield / Bernard\",\"Bloomfield / Jean-Talon\",\"Bloomfield / Van Horne\",\"Boucher / St-Denis\",\"Bourgeoys / Favard\",\"Bourget / St-Jacques\",\"Boyer / Beaubien\",\"Boyer / B\\u00e9langer\",\"Boyer / Everett\",\"Boyer / Jean-Talon\",\"Boyer / Rachel\",\"Boyer / Rosemont\",\"Boyer / St-Zotique\",\"Boyer / du Mont-Royal\",\"Brittany / Ainsley\",\"B\\u00e9langer / St-Denis\",\"B\\u00e9langer / des Galeries d'Anjou\",\"CCI Outremont (Dollard / Durcharme)\",\"CHSLD St-Michel (8e avenue / Jarry)\",\"CHU Sainte-Justine (de la C\\u00f4te Sainte-Catherine / Hudson)\",\"CHU Ste-Justine (de la C\\u00f4te Ste-Catherine / Hudson)\",\"CIUSSS (du Trianon / Pierre-de-Coubertin)\",\"Calixa-Lavall\\u00e9e / Rachel\",\"Calixa-Lavall\\u00e9e / Sherbrooke\",\"Campus MIL (Outremont / Th\\u00e9r\\u00e8se-Lavoie Roux)\",\"Canning / Notre-Dame\",\"Cartier / B\\u00e9langer\",\"Cartier / Dandurand\",\"Cartier / Marie-Anne\",\"Cartier / Masson\",\"Cartier / Rosemont\",\"Cartier / St-Joseph\",\"Casgrain / Maguire\",\"Casgrain / Mozart\",\"Casgrain / St-Viateur\",\"Casino de Montr\\u00e9al\",\"Centre des loisirs (Tass\\u00e9 / Grenet)\",\"Centre \\u00c9PIC (St-Zotique / 40e avenue)\",\"Chabanel / de l'Esplanade\",\"Chabanel / du Parc\",\"Chabot / Beaubien\",\"Chabot / Laurier\",\"Chabot / Villeray\",\"Chabot / de Bellechasse\",\"Chabot / du Mont-Royal\",\"Chambord / Beaubien\",\"Chambord / Fleury\",\"Chambord / Jean-Talon\",\"Champdor\\u00e9 / de Lorimier\",\"Chapleau / Terrasse Mercure\",\"Chapleau / du Mont-Royal\",\"Charlevoix / Lionel-Groulx\",\"Chomedey / Lincoln\",\"Chomedey / de Maisonneuve\",\"Christophe-Colomb / St-Joseph\",\"City Councillors / du President-Kennedy\",\"Cit\\u00e9 des Arts du Cirque (Paul Boutet / des Regrattiers)\",\"Clark / Fleury\",\"Clark / Ontario\",\"Clark / Prince-Arthur\",\"Clark / Rachel\",\"Clark / St-Viateur\",\"Clark / St-Zotique\",\"Clark / de Li\\u00e8ge\",\"Coll\\u00e8ge \\u00c9douard-Montpetit (de Gentilly / de Normandie)\",\"Complexe sportif Claude-Robillard\",\"Crescent / Ren\\u00e9-L\\u00e9vesque\",\"Crescent / de Maisonneuve\",\"Cypress / Peel\",\"C\\u00e9gep Andr\\u00e9-Laurendeau\",\"C\\u00e9gep Marie-Victorin\",\"Dandurand / de Lorimier\",\"Dandurand / des \\u00c9rables\",\"Davaar / de la C\\u00f4te-Ste-Catherine\",\"De Lanaudi\\u00e8re / du Mont-Royal\",\"De la Commune / King\",\"Des \\u00c9rables / Villeray\",\"Desjardins / Ontario\",\"Dixie / 53e avenue\",\"Dollard / Bernard\",\"Dollard / Van Horne\",\"Dorion / Gauthier\",\"Dorion / Ontario\",\"Dorion / Rachel\",\"Drolet / Beaubien\",\"Drolet / Faillon\",\"Drolet / Gounod\",\"Drolet / Jarry\",\"Drolet / Laurier\",\"Drolet / Marie-Anne\",\"Drolet / St-Zotique\",\"Drummond / Sherbrooke\",\"Drummond / Ste-Catherine\",\"Drummond / de Maisonneuve\",\"Du Quesne / Pierre-de-Coubertin\",\"Dubois / Eadie\",\"Duchesneau / Marseille\",\"Duchesneau / de Marseille\",\"Duke / Brennan\",\"Duluth / St-Denis\",\"Duluth / St-Laurent\",\"Duluth / de l'Esplanade\",\"Dumesnil / B\\u00e9langer\",\"Durocher / Beaumont\",\"Durocher / Bernard\",\"Durocher / St-Viateur\",\"Durocher / Van Horne\",\"Duvernay / Charlevoix\",\"D\\u00e9z\\u00e9ry / Ontario\",\"Earnscliffe / Queen-Mary\",\"Egan / Laurendeau\",\"Eleanor / Ottawa\",\"Elgar / de l'\\u00cele-des-S\\u0153urs\",\"Ellendale / de la C\\u00f4te-des-Neiges\",\"Ernest-Gendreau / du Mont-Royal\",\"Everett / 8e avenue\",\"Fabre / Beaubien\",\"Fabre / St-Zotique\",\"Faillon / St-Denis\",\"Fleury / Andr\\u00e9-Jobin\",\"Fleury / Lajeunesse\",\"Fleury / de St-Firmin\",\"Fortune / Wellington\",\"Francis / Fleury\",\"Fran\\u00e7ois-Boivin / B\\u00e9langer\",\"Fullum / Gilford\",\"Fullum / Holt\",\"Fullum / Marie-Anne\",\"Fullum / Ontario\",\"Fullum / Sherbrooke\",\"Fullum / de Rouen\",\"Gagne / LaSalle\",\"Gare Bois-de-Boulogne\",\"Gare d'autocars de Montr\\u00e9al (Berri / Ontario)\",\"Garnier / Everett\",\"Garnier / St-Gr\\u00e9goire\",\"Garnier / St-Joseph\",\"Garnier / du Mont-Royal\",\"Gary-Carter / St-Laurent\",\"Gauthier / Papineau\",\"Gauthier / Parthenais\",\"Gauthier / de Lorimier\",\"Georges-Vanier / Notre-Dame\",\"Gerry-Boulet / St-Gr\\u00e9goire\",\"Gilford / Parthenais\",\"Gilford / St-Denis\",\"Gilford / de Br\\u00e9beuf\",\"Gilford / de Lanaudi\\u00e8re\",\"Gilford / des \\u00c9rables\",\"Glengarry / Graham\",\"Gloria / Dollard\",\"Gordon / Wellington\",\"Graham / Brookfield\",\"Graham / Kindersley\",\"Graham / Wicksteed\",\"Grand Boulevard / Sherbrooke\",\"Grand Boulevard / de Terrebonne\",\"Grand Trunk / d'Hibernia\",\"Grey / Sherbrooke\",\"Guilbault / Clark\",\"Guizot / Clark\",\"Guizot / St-Denis\",\"Guizot / St-Laurent\",\"Guy / Notre-Dame\",\"Hamel / Sauv\\u00e9\",\"Hamilton / Jolicoeur\",\"Harvard / de Monkland\",\"Henri-Julien / de Bellechasse\",\"Henri-Julien / de Castelnau\",\"Henri-Julien / du Carmel\",\"Hickson / Wellington\",\"Hillside / Ste-Catherine\",\"Hochelaga / Chapleau\",\"Hogan / Ontario\",\"Hutchison / Beaubien\",\"Hutchison / Beaumont\",\"Hutchison / Prince-Arthur\",\"Hutchison / Sherbrooke\",\"Hutchison / Van Horne\",\"Hutchison / des Pins\",\"H\\u00e9l\\u00e8ne-Baillargeon / St-Denis\",\"H\\u00f4pital Maisonneuve-Rosemont (Rosemont / Chatelain)\",\"H\\u00f4pital Sacr\\u00e9-Coeur (Forbes)\",\"H\\u00f4pital Santa Cabrini (St-Zotique / Jeanne-Jugan)\",\"H\\u00f4pital g\\u00e9n\\u00e9ral juif (de la C\\u00f4te Ste-Catherine / L\\u00e9gar\\u00e9)\",\"Jacques-Casault / Christophe-Colomb\",\"Jacques-Le Ber / de la Pointe Nord\",\"Jardin Botanique (Pie-IX / Sherbrooke)\",\"Jean Langlois / Fullum\",\"Jean-Brillant / de la C\\u00f4te-des-Neiges\",\"Jeanne-Mance / Beaubien\",\"Jeanne-Mance / Bernard\",\"Jeanne-Mance / Laurier\",\"Jeanne-Mance / Ren\\u00e9-L\\u00e9vesque\",\"Jeanne-Mance / St-Viateur\",\"Jeanne-d'Arc / Ontario\",\"Jogues / Allard\",\"Joseph-Manseau / Ren\\u00e9-L\\u00e9vesque\",\"Kirkfield / de Chambois\",\"La Ronde\",\"La Tour de Montr\\u00e9al (Pierre-de-Coubertin / Bennett)\",\"LaSalle / 37e avenue\",\"LaSalle / 80e avenue\",\"LaSalle / Crawford\",\"LaSalle / Godin\",\"Labadie / du Parc\",\"Labelle / Ste-Catherine\",\"Lacombe / Victoria\",\"Laforest / Dudemaine\",\"Lajeunesse / Jarry\",\"Lajeunesse / Villeray\",\"Lajeunesse / de Li\\u00e8ge\",\"Langelier / Marie-Victorin\",\"Lapierre / Serge\",\"Larivi\\u00e8re / de Lorimier\",\"Laurier / Parisi\",\"Laurier / de Bordeaux\",\"Laurier / de Br\\u00e9beuf\",\"Laval / Duluth\",\"Laval / Rachel\",\"Laval / du Mont-Royal\",\"Legrand / Cartier\",\"Legrand / Laurier\",\"Lesp\\u00e9rance / de Rouen\",\"Letourneaux / Ste-Catherine\",\"Letourneux / Ste-Catherine\",\"Lincoln / du Fort\",\"Lionel-Groulx / George-Vanier\",\"Li\\u00e9bert / Hochelaga\",\"Logan / Fullum\",\"Logan / d'Iberville\",\"Logan / de Champlain\",\"Louis-H\\u00e9bert / Beaubien\",\"Louis-H\\u00e9bert / B\\u00e9langer\",\"Louis-H\\u00e9bert / St-Zotique\",\"Louis-H\\u00e9bert / de Bellechasse\",\"Louis-H\\u00e9mon / Jean-Talon\",\"Louis-H\\u00e9mon / Rosemont\",\"Louis-H\\u00e9mon / Villeray\",\"Lucien L'Allier / St-Jacques\",\"Lusignan / St-Jacques\",\"L\\u00e9a-Roback / Sir-Georges-Etienne-Cartier\",\"Mackay / Sainte-Catherine\",\"Mackay / Ste-Catherine\",\"Mackay / de Maisonneuve\",\"Maguire / Henri-Julien\",\"Maguire / Saint-Dominique\",\"Maguire / St-Dominique\",\"Maguire / St-Laurent\",\"Mairie d'arrondissement Montr\\u00e9al-Nord (H\\u00e9bert / de Charleroi)\",\"Mansfield / Cathcart\",\"Mansfield / Ste-Catherine\",\"March\\u00e9 Atwater\",\"March\\u00e9 Jean-Talon (Henri-Julien / Jean-Talon)\",\"March\\u00e9 Maisonneuve\",\"Marcil / Sherbrooke\",\"Marie-Anne / Papineau\",\"Marie-Anne / St-Hubert\",\"Marie-Anne / de la Roche\",\"Marmier\",\"Marmier / St-Denis\",\"Marquette / Fleury\",\"Marquette / Gilford\",\"Marquette / Jean-Talon\",\"Marquette / Laurier\",\"Marquette / Rachel\",\"Marquette / Villeray\",\"Marquette / des Carri\\u00e8res\",\"Marquette / du Mont-Royal\",\"McCulloch / de la C\\u00f4te Ste-Catherine\",\"McKenna / \\u00c9douard-Montpetit\",\"McLynn / Plamondon\",\"McTavish / Sherbrooke\",\"Melville / de Maisonneuve\",\"Messier / St-Joseph\",\"Messier / du Mont-Royal\",\"Metcalfe / St-Catherine\",\"Metcalfe / de Maisonneuve\",\"Metcalfe / du Square-Dorchester\",\"Milton / Clark\",\"Milton / Durocher\",\"Milton / du Parc\",\"Molson / Beaubien\",\"Molson / William-Tremblay\",\"Monk / Jacques-Hertel\",\"Monk / de Biencourt\",\"Monsabr\\u00e9 / Boileau\",\"Montcalm / Ontario\",\"Montcalm / de Maisonneuve\",\"Mozart / St-Laurent\",\"Mozart / Waverly\",\"M\\u00e9tro Acadie (de l'Acadie / Beaumont)\",\"M\\u00e9tro Angrignon (Lamont /  des Trinitaires)\",\"M\\u00e9tro Assomption (Chauveau / de l'Assomption)\",\"M\\u00e9tro Atwater (Atwater / Ste-Catherine)\",\"M\\u00e9tro Beaubien (de Chateaubriand / Beaubien)\",\"M\\u00e9tro Beaudry (Montcalm / de Maisonneuve)\",\"M\\u00e9tro Bonaventure (de la Gaucheti\\u00e8re / de la Cath\\u00e9drale)\",\"M\\u00e9tro Cadillac (de Cadillac / Sherbrooke)\",\"M\\u00e9tro Cartier\",\"M\\u00e9tro Champ-de-Mars (Viger / Sanguinet)\",\"M\\u00e9tro Charlevoix (Centre / Charlevoix)\",\"M\\u00e9tro Cr\\u00e9mazie (Cr\\u00e9mazie / Lajeunesse)\",\"M\\u00e9tro Fabre (Marquette / Jean-Talon)\",\"M\\u00e9tro Frontenac (Ontario / du Havre)\",\"M\\u00e9tro Georges-Vanier (St-Antoine / Canning)\",\"M\\u00e9tro Guy-Concordia (Guy / St-Catherine)\",\"M\\u00e9tro Henri-Bourassa (Henri-Bourassa / Millen)\",\"M\\u00e9tro Honor\\u00e9-Beaugrand (Sherbrooke / Honor\\u00e9-Beaugrand)\",\"M\\u00e9tro Jarry (Lajeunesse / Jarry)\",\"M\\u00e9tro Jean-Talon (Berri / Jean-Talon)\",\"M\\u00e9tro Jolicoeur (de S\\u00e8ve / Drake)\",\"M\\u00e9tro Joliette  (Joliette / Hochelaga)\",\"M\\u00e9tro Langelier (Langelier / Sherbrooke)\",\"M\\u00e9tro Lasalle (de Rushbrooke / Caisse)\",\"M\\u00e9tro Laurier (Berri / St-Joseph)\",\"M\\u00e9tro Laurier (Rivard / Laurier)\",\"M\\u00e9tro Lionel-Groulx (Saint-Jacques/ Atwater)\",\"M\\u00e9tro Lionel-Groulx (St-Jacques / Atwater)\",\"M\\u00e9tro Lionel-Groulx (Walker / Saint-Jacques)\",\"M\\u00e9tro Longueuil - Universit\\u00e9 de Sherbrooke\",\"M\\u00e9tro Lucien-L'Allier  (Lucien l'Allier / Argyle)\",\"M\\u00e9tro Monk (Allard / Beaulieu)\",\"M\\u00e9tro Mont-Royal (Rivard / du Mont-Royal)\",\"M\\u00e9tro Montmorency\",\"M\\u00e9tro Papineau (Cartier / Ste-Catherine)\",\"M\\u00e9tro Parc  (Hutchison / Ogilvy)\",\"M\\u00e9tro Peel (de Maisonneuve / Stanley)\",\"M\\u00e9tro Pie-IX (Pierre-de-Coubertin / De La Salle)\",\"M\\u00e9tro Pie-IX (Pierre-de-Coubertin / de la Salle)\",\"M\\u00e9tro Place St-Henri (St-Ferdinand / St-Jacques)\",\"M\\u00e9tro Place-d'Armes (Viger / St-Urbain)\",\"M\\u00e9tro Place-des-Arts (du Pr\\u00e9sident-Kennedy / Jeanne-Mance)\",\"M\\u00e9tro Plamondon (de Kent / Victoria)\",\"M\\u00e9tro Pr\\u00e9fontaine (Moreau / Hochelaga)\",\"M\\u00e9tro Radisson (Sherbrooke / des Groseilliers)\",\"M\\u00e9tro Rosemont (de St-Vallier / Rosemont)\",\"M\\u00e9tro Sauv\\u00e9 (Berri / Sauv\\u00e9)\",\"M\\u00e9tro Sherbrooke (de Rigaud / St-Denis)\",\"M\\u00e9tro Snowdon (Dornal / Westbury)\",\"M\\u00e9tro Snowdon (de Westbury / Queen-Mary)\",\"M\\u00e9tro St-Laurent (de Maisonneuve / St-Laurent)\",\"M\\u00e9tro St-Michel (Shaughnessy / St-Michel)\",\"M\\u00e9tro Universit\\u00e9 de Montr\\u00e9al (\\u00c9douard-Montpetit / Louis-Collin)\",\"M\\u00e9tro Vend\\u00f4me (de Marlowe / de Maisonneuve)\",\"M\\u00e9tro Verdun (Willibrord / de Verdun)\",\"M\\u00e9tro Viau (Pierre-de-Coubertin / Viau)\",\"M\\u00e9tro Villa-Maria (de Monkland / D\\u00e9carie)\",\"M\\u00e9tro de Castelnau (de Castelnau / St-Laurent)\",\"M\\u00e9tro de l'\\u00c9glise (Ross / de l'\\u00c9glise)\",\"M\\u00e9tro de la Savane (de Sorel / Bougainville)\",\"M\\u00e9tro du Coll\\u00e8ge (Cartier / D\\u00e9carie)\",\"M\\u00e9tro \\u00c9douard-Montpetit (du Mont-Royal / Vincent-d'Indy)\",\"Natatorium (LaSalle / Rolland)\",\"Newman / Senkus\",\"Nicolet / Sherbrooke\",\"Notre-Dame / Gauvin\",\"Notre-Dame / Jean-d'Estr\\u00e9es\",\"Notre-Dame / Li\\u00e9bert\",\"Notre-Dame / Murray\",\"Notre-Dame / St-Gabriel\",\"Notre-Dame / de la Montagne\",\"Notre-Dame-de-Gr\\u00e2ce / D\\u00e9carie\",\"Notre-Dame-de-Gr\\u00e2ce / Westmount\",\"O'Brien / Poirier\",\"Omer-Lavall\\u00e9e / du Midway\",\"Ontario / Sicard\",\"Ontario / Viau\",\"Ottawa / William\",\"Palm / St-R\\u00e9mi\",\"Panet / Ste-Catherine\",\"Papineau / Ren\\u00e9-L\\u00e9vesque\",\"Papineau / \\u00c9mile-Journault\",\"Parc Baldwin (Fullum / Sherbrooke)\",\"Parc Beaubien (Stuart / St-Viateur)\",\"Parc Beaulac (rue \\u00c9lizabeth)\",\"Parc Benny (Benny / de Monkland)\",\"Parc Chamberland (Dorais / de l'\\u00c9glise)\",\"Parc Champdor\\u00e9 (Champdor\\u00e9 / de Lille)\",\"Parc Chopin (Dumouchel / Tessier)\",\"Parc Delorme (Malouin / Lafert\\u00e9)\",\"Parc Dixie (54e avenue / Dixie)\",\"Parc Georges St-Pierre (Oxford / Upper Lachine)\",\"Parc Georges St-Pierre (Upper Lachine / Oxford)\",\"Parc Grovehill (St-Antoine / Ivan-Franko)\",\"Parc Henri-Durant (L\\u00e9ger / Henri-Durant)\",\"Parc Henri-Julien (Legendre / Henri-Julien)\",\"Parc Highlands (Highlands / LaSalle)\",\"Parc Howard (de l'\\u00c9p\\u00e9e / de Li\\u00e8ge)\",\"Parc H\\u00e9bert ( Provencher / Buies)\",\"Parc H\\u00e9bert (Provencher / Buies)\",\"Parc Ivan-Franko (33e avenue / Victoria)\",\"Parc J.-Arthur-Champagne (de Chambly / du Mont-Royal)\",\"Parc Jean-Drapeau (Chemin Macdonald)\",\"Parc Jeanne Mance (monument sir George-Etienne Cartier)\",\"Parc Jeanne-Mance (du Mont-Royal / du Parc)\",\"Parc Joyce (Rockland / Lajoie)\",\"Parc Kent (de Kent / Hudson)\",\"Parc Kirkland (des \\u00c9rables / Boyer)\",\"Parc LaSalle (10e avenue / Victoria)\",\"Parc Labelle (LaSalle / Henri-Duhamel)\",\"Parc Labelle (Lasalle/ Henri Duhamel)\",\"Parc Langelier - Marie-Victorin\",\"Parc Loyola (Somerled / Doherty)\",\"Parc Ludger-Duvernay (St-Andr\\u00e9 / St-Hubert)\",\"Parc Luigi-Pirandello (de Bretagne / Jean-Rivard)\",\"Parc MacDonald (Clanranald / Isabella)\",\"Parc MacDonald (Earnscliffe / Dupuis)\",\"Parc Maisonneuve (Viau / Sherbrooke)\",\"Parc Marlborough (Beauz\\u00e8le / Robichaud)\",\"Parc Maurice B\\u00e9langer (Forest / de l'H\\u00f4tel-de-Ville)\",\"Parc Maurice B\\u00e9langer (Hebert / Forest)\",\"Parc Noel-Nord (Toupin / Keller)\",\"Parc Ottawa (de Belleville / Fleury)\",\"Parc Outremont (Bloomfield / Elmwood)\",\"Parc Outremont (Bloomfield / St-Viateur)\",\"Parc Painter (Marcotte / Quenneville)\",\"Parc Plage\",\"Parc Pratt (Dunlop / Van Horne)\",\"Parc P\\u00e8re-Marquette (Chambord / Rosemont)\",\"Parc P\\u00e8re-Marquette (de Lanaudi\\u00e8re / de Bellechasse)\",\"Parc Reine-\\u00c9lizabeth (Penniston / Crawford)\",\"Parc Saint-Laurent (Dutrisac)\",\"Parc Sauv\\u00e9 (Balzac / de Bayonne)\",\"Parc St-Claude (7e avenue / 8e rue)\",\"Parc St-Henri (Laporte / Guay)\",\"Parc St-Laurent (Dutrisac)\",\"Parc St-Laurent (Salk / Thomas-Chapais)\",\"Parc St-Paul (Le Caron / Marc-Sauvalle)\",\"Parc St-Paul (Marc-Sauvalle / Le Caron)\",\"Parc Stoney-Point (St-Joseph / 47e avenue)\",\"Parc Summerlea (53e avenue / St-Joseph)\",\"Parc Tino-Rossi (18e avenue / Everett)\",\"Parc Turin (Chambord / Jean-Talon)\",\"Parc Van Horne (de la Peltrie / de Westbury)\",\"Parc Villeray (Christophe-Colomb / Jarry)\",\"Parc Wilfrid-Bastien (Lacordaire / des Galets)\",\"Parc d'Antioche (Place d'Antioche / St-Zotique)\",\"Parc de Beaus\\u00e9jour (Gouin / Henri-d'Arles)\",\"Parc de Bullion (de Bullion / Prince-Arthur)\",\"Parc de Dieppe\",\"Parc de la Conf\\u00e9d\\u00e9ration (Fielding / West Hill)\",\"Parc des Hirondelles (Fleury / Andr\\u00e9-Jobin)\",\"Parc des Rapides (LaSalle / 6e avenue)\",\"Parc du Bois-Franc (de l'\\u00c9quateur / des Andes)\",\"Parc du P\\u00e9lican (1\\u00e8re avenue / Masson)\",\"Parc du P\\u00e9lican (2e avenue / St-Joseph)\",\"Parc du P\\u00e9lican (Laurier/ 2e avenue)\",\"Parc nature de l'\\u00cele-de-la-Visitation (Gouin / de Bruch\\u00e9si)\",\"Parc riverain de Lachine (des Iroquois)\",\"Park Row O / Sherbrooke\",\"Par\\u00e9 / Mountain Sights\",\"Pierre-de-Coubertin / Langelier\",\"Place Longueuil\",\"Place Rodolphe-Rousseau (Gohier / \\u00c9douard-Laurin)\",\"Place d'Youville / McGill\",\"Place du Canada ( Peel / de la Gaucheti\\u00e8re)\",\"Place du Canada (Peel / de la Gaucheti\\u00e8re)\",\"Place du Commerce\",\"Place du Village-de-la-Pointe-aux-Trembles (St-Jean-Baptiste / Notre-Dame)\",\"Place \\u00c9milie-Gamelin (St-Hubert / de Maisonneuve)\",\"Plessis / Logan\",\"Plessis / Ontario\",\"Plessis / Ren\\u00e9-L\\u00e9vesque\",\"Pontiac / Gilford\",\"Poupart / Ontario\",\"Poupart / Ste-Catherine\",\"Pratt / Bates\",\"Prince-Arthur / St-Urbain\",\"Prince-Arthur / du Parc\",\"P\\u00e9loquin / Fleury\",\"Quai de la navette fluviale\",\"Queen / Wellington\",\"Querbes / Ball\",\"Querbes / Laurier\",\"Quesnel / Vinet\",\"REV (Souligny / Desmarteau)\",\"Rachel / de Br\\u00e9beuf\",\"Regina / de Verdun\",\"Ren\\u00e9-L\\u00e9vesque / 9e avenue\",\"Resther / du Mont-Royal\",\"Richardson / de Montmorency\",\"Richmond / des Bassins\",\"Rivard / Rachel\",\"Rivier / Davidson\",\"Robert Bourassa / Sainte-Catherine\",\"Robert-Bourassa / Ste-Catherine\",\"Robert-Bourassa / de Maisonneuve\",\"Robin / 15e rue\",\"Robin / de la Visitation\",\"Ropery / Augustin-Cantin\",\"Ropery / Grand Trunk\",\"Rose-de-Lima / Workman\",\"Rosemont / Viau\",\"Rousselot / Jarry\",\"Roy / St-Andr\\u00e9\",\"Roy / St-Denis\",\"Roy / St-Laurent\",\"Ryde / Charlevoix\",\"Sabrevois / des R\\u00e9collets\",\"Saint-Viateur / Casgrain\",\"Sainte-Catherine / Parthenais\",\"Sainte-Catherine / Union\",\"Sanguinet / Ontario\",\"Sanguinet / Sainte-Catherine\",\"Sanguinet / Ste-Catherine\",\"Sanguinet / de Maisonneuve\",\"Shearer / Centre\",\"Sherbrooke / Frontenac\",\"Sherbrooke / Vignal\",\"Sicard / Adam\",\"Smith / Peel\",\"Square St-Louis (du Square St-Louis / Laval)\",\"Square Victoria (Viger / du Square-Victoria)\",\"St-Alexandre / Ste-Catherine\",\"St-Ambroise / Louis-Cyr\",\"St-Andr\\u00e9 / Cherrier\",\"St-Andr\\u00e9 / Ontario\",\"St-Andr\\u00e9 / Robin\",\"St-Andr\\u00e9 / St-Antoine\",\"St-Andr\\u00e9 / Ste-Catherine\",\"St-Antoine / St-Fran\\u00e7ois-Xavier\",\"St-Antoine / de la Montagne\",\"St-Catherine / St-Laurent\",\"St-Charles / Grant\",\"St-Charles / Montarville\",\"St-Charles / St-Sylvestre\",\"St-Charles / Thomas-Keefer\",\"St-Christophe / Cherrier\",\"St-Christophe / Ren\\u00e9-L\\u00e9vesque\",\"St-Cuthbert / St-Urbain\",\"St-Cyril / Wiseman\",\"St-Denis / Ren\\u00e9-L\\u00e9vesque\",\"St-Dominique / Bernard\",\"St-Dominique / Gounod\",\"St-Dominique / Jean-Talon\",\"St-Dominique / Laurier\",\"St-Dominique / Napol\\u00e9on\",\"St-Dominique / Rachel\",\"St-Dominique / St-Viateur\",\"St-Dominique / St-Zotique\",\"St-Dominique / de Bellechasse\",\"St-Dominique / du Mont-Royal\",\"St-Germain / Hochelaga\",\"St-G\\u00e9rard / Villeray\",\"St-Henri / Notre-Dame\",\"St-Hubert / Duluth\",\"St-Hubert / Laurier\",\"St-Hubert / Ren\\u00e9-L\\u00e9vesque\",\"St-Hubert / St-Joseph\",\"St-Jacques / McGill\",\"St-Jacques / St-Laurent\",\"St-Jacques / St-Pierre\",\"St-Jacques / des Seigneurs\",\"St-Jean-Baptiste / Ren\\u00e9-L\\u00e9vesque\",\"St-Joseph / 21e avenue Lachine\",\"St-Joseph / 34e avenue Lachine\",\"St-Joseph / 8e avenue Lachine\",\"St-Joseph /21e avenue Lachine\",\"St-Marc / Sherbrooke\",\"St-Mathieu / Sherbrooke\",\"St-Mathieu / Ste-Catherine\",\"St-Maurice / Robert-Bourassa\",\"St-Nicolas / Place d'Youville\",\"St-Patrick / Briand\",\"St-Urbain / Beaubien\",\"St-Urbain / Ren\\u00e9-L\\u00e9vesque\",\"St-Urbain / de la Gaucheti\\u00e8re\",\"St-Viateur / Casgrain\",\"St-Viateur / St-Laurent\",\"Stanley / Sherbrooke\",\"Ste-Catherine / Dezery\",\"Ste-Catherine / Labelle\",\"Ste-Catherine / Parthenais\",\"Ste-Catherine / Sanguinet\",\"Ste-Catherine / St-Marc\",\"Ste-Catherine / Union\",\"Ste-Claire / Pierre-T\\u00e9treault\",\"Ste-Croix / Tass\\u00e9\",\"Ste-Famille / Sherbrooke\",\"Ste-Famille / des Pins\",\"Ste-\\u00c9milie / Sir-Georges-Etienne-Cartier\",\"Stinson / Montpellier\",\"Stuart / St-Viateur\",\"Swail / Decelles\",\"Terminus Le Carrefour (Terry-Fox / Le Carr)\",\"Terminus Newman (Airlie / Lafleur)\",\"Thimens / Alexis-Nihon\",\"Tolhurst / Fleury\",\"Travaux publics LaSalle (Cordner / L\\u00e9ger)\",\"Tupper / du Fort\",\"Turgeon / Notre-Dame\",\"U. Concordia - Campus Loyola (Sherbrooke / West Broadway)\",\"Union / Ren\\u00e9-L\\u00e9vesque\",\"University / Milton\",\"University / Prince-Arthur\",\"Valli\\u00e8res / St-Laurent\",\"Valois / Ontario\",\"Valois / Ste-Catherine\",\"Vend\\u00f4me / Sherbrooke\",\"Victoria / 18e avenue Lachine\",\"Victoria / de Maisonneuve\",\"Victoria Hall\",\"Viger / Chenneville\",\"Villeneuve / St-Denis\",\"Villeneuve / St-Laurent\",\"Villeneuve / St-Urbain\",\"Villeneuve / de l'H\\u00f4tel-de-Ville\",\"Villeneuve / du Parc\",\"Villeray / St-Michel\",\"Waverly / St-Viateur\",\"Waverly / St-Zotique\",\"Waverly / Van Horne\",\"Wellington / 2e avenue\",\"Wellington / Hickson\",\"Wilderton  / Van Horne\",\"William / Robert-Bourassa\",\"William / St-Henri\",\"Wolfe / Ren\\u00e9-L\\u00e9vesque\",\"Wolfe / Robin\",\"Wurtele / de Rouen\",\"Young / Wellington\",\"d'Orl\\u00e9ans / Hochelaga\",\"d'Orl\\u00e9ans / Masson\",\"d'Orl\\u00e9ans / du Mont-Royal\",\"d'Outremont / Ogilvy\",\"de Bellechasse / de St-Vallier\",\"de Belleville / Fleury\",\"de Bleury / de Maisonneuve\",\"de Bordeaux / Gilford\",\"de Bordeaux / Jean-Talon\",\"de Bordeaux / Marie-Anne\",\"de Bordeaux / Masson\",\"de Bordeaux / Sherbrooke\",\"de Bordeaux / St-Zotique\",\"de Br\\u00e9beuf / du Mont-Royal\",\"de Bullion / St-Joseph\",\"de Bullion / du Mont-Royal\",\"de Castelnau / Lajeunesse\",\"de Chambly / Rachel\",\"de Champlain / Ontario\",\"de Chateaubriand / Jarry\",\"de Chateaubriand / Leman\",\"de C\\u00f4me / Jean-Talon\",\"de Gasp\\u00e9 / Beaubien\",\"de Gasp\\u00e9 / Dante\",\"de Gasp\\u00e9 / Fairmount\",\"de Gasp\\u00e9 / Jarry\",\"de Gasp\\u00e9 / Marmier\",\"de Gasp\\u00e9 / St-Viateur\",\"de Gasp\\u00e9 / Villeray\",\"de Gasp\\u00e9 / de Li\\u00e8ge\",\"de Grosbois / Ducheneau\",\"de Grosbois / Duchesneau\",\"de Hampton / de Monkland\",\"de Kent / Victoria\",\"de Kent / de la C\\u00f4te-des-Neiges\",\"de Lanaudi\\u00e8re / B\\u00e9langer\",\"de Lanaudi\\u00e8re / Laurier\",\"de Lanaudi\\u00e8re / Marie-Anne\",\"de Lanaudi\\u00e8re / du Mont-Royal\",\"de Laprairie / Centre\",\"de Lisieux / Jean-Talon\",\"de L\\u00e9ry / Sherbrooke\",\"de Maisonneuve / Aylmer (est)\",\"de Maisonneuve / Aylmer (ouest)\",\"de Maisonneuve / Berri\",\"de Maisonneuve / Greene\",\"de Maisonneuve / Mansfield (nord)\",\"de Maisonneuve / Mansfield (sud)\",\"de Melrose / Sherbrooke\",\"de Mentana / Gilford\",\"de Mentana / Laurier\",\"de Mentana / Marie-Anne\",\"de Mentana / Rachel\",\"de Monkland / Girouard\",\"de Normanville / Beaubien\",\"de Normanville / Jean-Talon\",\"de Normanville / Villeray\",\"de Rouen / Lesp\\u00e9rance\",\"de Soissons / de Darlington\",\"de St-Firmin / Fleury\",\"de St-Vallier / St-Zotique\",\"de Ville-Marie / Ste-Catherine\",\"de l'Eglise / St-Germain\",\"de l'Esplanade / Fairmount\",\"de l'Esplanade / du Mont-Royal\",\"de l'H\\u00f4tel-de-Ville / Roy\",\"de l'H\\u00f4tel-de-Ville / Sherbrooke\",\"de l'H\\u00f4tel-de-Ville / St-Joseph\",\"de l'H\\u00f4tel-de-Ville / Ste-Catherine\",\"de l'\\u00c9glise / Bannantyne\",\"de l'\\u00c9glise / de Verdun\",\"de la Cath\\u00e9drale / Ren\\u00e9-L\\u00e9vesque\",\"de la Commune / Berri\",\"de la Commune / King\",\"de la Commune / Place Jacques-Cartier\",\"de la Commune / St-Sulpice\",\"de la C\\u00f4te St-Antoine / Argyle\",\"de la C\\u00f4te St-Antoine / Royal\",\"de la C\\u00f4te St-Paul / St-Ambroise\",\"de la Gaucheti\\u00e8re / Robert-Bourassa\",\"de la Montagne / Sherbrooke\",\"de la P\\u00e9pini\\u00e8re / Pierre-de-Coubertin\",\"de la Roche /  de Bellechasse\",\"de la Roche / B\\u00e9langer\",\"de la Roche / Everett\",\"de la Rotonde / Jacques-Le Ber\",\"de la Salle / Hochelaga\",\"de la Salle / Ste-Catherine\",\"de l\\u2019h\\u00f4tel de ville / Saint-Joseph\",\"des Bassins / Richmond\",\"des Bassins / du S\\u00e9minaire\",\"des Jockeys / D\\u00e9carie\",\"des Ormeaux / Notre-Dame\",\"des Ormeaux / de Grosbois\",\"des R\\u00e9collets / Martial\",\"des R\\u00e9collets / McGill\",\"des Seigneurs / Notre-Dame\",\"des Soeurs-Grises / Marguerite-d'Youville\",\"des \\u00c9rables / B\\u00e9langer\",\"des \\u00c9rables / Dandurand\",\"des \\u00c9rables / Laurier\",\"des \\u00c9rables / Rachel\",\"des \\u00c9rables / du Mont-Royal\",\"du Champ-de-Mars / Gosford\",\"du Havre / de Rouen\",\"du Mont-Royal / Augustin-Frigon\",\"du Mont-Royal / Clark\",\"du Mont-Royal / Laurendeau\",\"du Parc-La Fontaine / Duluth\",\"du Parc-La Fontaine / Roy\",\"du President-Kennedy / Union\",\"du Pr\\u00e9sident-Kennedy / Jeanne-Mance\",\"du Rosaire / St-Hubert\",\"du Souvenir / Chomedey\",\"du Tricentenaire / Prince-Albert\",\"la Fontaine / Alexandre-de-S\\u00e8ve\",\"\\u00c9douard-Montpetit / de Stirling\",\"\\u00c9mile-Duploy\\u00e9 / Sherbrooke\",\"\\u00c9mile-Journault / de Chateaubriand\"],\"type\":\"scattermapbox\"}],                        {\"template\":{\"data\":{\"histogram2dcontour\":[{\"type\":\"histogram2dcontour\",\"colorbar\":{\"outlinewidth\":0,\"ticks\":\"\"},\"colorscale\":[[0.0,\"#0d0887\"],[0.1111111111111111,\"#46039f\"],[0.2222222222222222,\"#7201a8\"],[0.3333333333333333,\"#9c179e\"],[0.4444444444444444,\"#bd3786\"],[0.5555555555555556,\"#d8576b\"],[0.6666666666666666,\"#ed7953\"],[0.7777777777777778,\"#fb9f3a\"],[0.8888888888888888,\"#fdca26\"],[1.0,\"#f0f921\"]]}],\"choropleth\":[{\"type\":\"choropleth\",\"colorbar\":{\"outlinewidth\":0,\"ticks\":\"\"}}],\"histogram2d\":[{\"type\":\"histogram2d\",\"colorbar\":{\"outlinewidth\":0,\"ticks\":\"\"},\"colorscale\":[[0.0,\"#0d0887\"],[0.1111111111111111,\"#46039f\"],[0.2222222222222222,\"#7201a8\"],[0.3333333333333333,\"#9c179e\"],[0.4444444444444444,\"#bd3786\"],[0.5555555555555556,\"#d8576b\"],[0.6666666666666666,\"#ed7953\"],[0.7777777777777778,\"#fb9f3a\"],[0.8888888888888888,\"#fdca26\"],[1.0,\"#f0f921\"]]}],\"heatmap\":[{\"type\":\"heatmap\",\"colorbar\":{\"outlinewidth\":0,\"ticks\":\"\"},\"colorscale\":[[0.0,\"#0d0887\"],[0.1111111111111111,\"#46039f\"],[0.2222222222222222,\"#7201a8\"],[0.3333333333333333,\"#9c179e\"],[0.4444444444444444,\"#bd3786\"],[0.5555555555555556,\"#d8576b\"],[0.6666666666666666,\"#ed7953\"],[0.7777777777777778,\"#fb9f3a\"],[0.8888888888888888,\"#fdca26\"],[1.0,\"#f0f921\"]]}],\"heatmapgl\":[{\"type\":\"heatmapgl\",\"colorbar\":{\"outlinewidth\":0,\"ticks\":\"\"},\"colorscale\":[[0.0,\"#0d0887\"],[0.1111111111111111,\"#46039f\"],[0.2222222222222222,\"#7201a8\"],[0.3333333333333333,\"#9c179e\"],[0.4444444444444444,\"#bd3786\"],[0.5555555555555556,\"#d8576b\"],[0.6666666666666666,\"#ed7953\"],[0.7777777777777778,\"#fb9f3a\"],[0.8888888888888888,\"#fdca26\"],[1.0,\"#f0f921\"]]}],\"contourcarpet\":[{\"type\":\"contourcarpet\",\"colorbar\":{\"outlinewidth\":0,\"ticks\":\"\"}}],\"contour\":[{\"type\":\"contour\",\"colorbar\":{\"outlinewidth\":0,\"ticks\":\"\"},\"colorscale\":[[0.0,\"#0d0887\"],[0.1111111111111111,\"#46039f\"],[0.2222222222222222,\"#7201a8\"],[0.3333333333333333,\"#9c179e\"],[0.4444444444444444,\"#bd3786\"],[0.5555555555555556,\"#d8576b\"],[0.6666666666666666,\"#ed7953\"],[0.7777777777777778,\"#fb9f3a\"],[0.8888888888888888,\"#fdca26\"],[1.0,\"#f0f921\"]]}],\"surface\":[{\"type\":\"surface\",\"colorbar\":{\"outlinewidth\":0,\"ticks\":\"\"},\"colorscale\":[[0.0,\"#0d0887\"],[0.1111111111111111,\"#46039f\"],[0.2222222222222222,\"#7201a8\"],[0.3333333333333333,\"#9c179e\"],[0.4444444444444444,\"#bd3786\"],[0.5555555555555556,\"#d8576b\"],[0.6666666666666666,\"#ed7953\"],[0.7777777777777778,\"#fb9f3a\"],[0.8888888888888888,\"#fdca26\"],[1.0,\"#f0f921\"]]}],\"mesh3d\":[{\"type\":\"mesh3d\",\"colorbar\":{\"outlinewidth\":0,\"ticks\":\"\"}}],\"scatter\":[{\"fillpattern\":{\"fillmode\":\"overlay\",\"size\":10,\"solidity\":0.2},\"type\":\"scatter\"}],\"parcoords\":[{\"type\":\"parcoords\",\"line\":{\"colorbar\":{\"outlinewidth\":0,\"ticks\":\"\"}}}],\"scatterpolargl\":[{\"type\":\"scatterpolargl\",\"marker\":{\"colorbar\":{\"outlinewidth\":0,\"ticks\":\"\"}}}],\"bar\":[{\"error_x\":{\"color\":\"#2a3f5f\"},\"error_y\":{\"color\":\"#2a3f5f\"},\"marker\":{\"line\":{\"color\":\"#E5ECF6\",\"width\":0.5},\"pattern\":{\"fillmode\":\"overlay\",\"size\":10,\"solidity\":0.2}},\"type\":\"bar\"}],\"scattergeo\":[{\"type\":\"scattergeo\",\"marker\":{\"colorbar\":{\"outlinewidth\":0,\"ticks\":\"\"}}}],\"scatterpolar\":[{\"type\":\"scatterpolar\",\"marker\":{\"colorbar\":{\"outlinewidth\":0,\"ticks\":\"\"}}}],\"histogram\":[{\"marker\":{\"pattern\":{\"fillmode\":\"overlay\",\"size\":10,\"solidity\":0.2}},\"type\":\"histogram\"}],\"scattergl\":[{\"type\":\"scattergl\",\"marker\":{\"colorbar\":{\"outlinewidth\":0,\"ticks\":\"\"}}}],\"scatter3d\":[{\"type\":\"scatter3d\",\"line\":{\"colorbar\":{\"outlinewidth\":0,\"ticks\":\"\"}},\"marker\":{\"colorbar\":{\"outlinewidth\":0,\"ticks\":\"\"}}}],\"scattermapbox\":[{\"type\":\"scattermapbox\",\"marker\":{\"colorbar\":{\"outlinewidth\":0,\"ticks\":\"\"}}}],\"scatterternary\":[{\"type\":\"scatterternary\",\"marker\":{\"colorbar\":{\"outlinewidth\":0,\"ticks\":\"\"}}}],\"scattercarpet\":[{\"type\":\"scattercarpet\",\"marker\":{\"colorbar\":{\"outlinewidth\":0,\"ticks\":\"\"}}}],\"carpet\":[{\"aaxis\":{\"endlinecolor\":\"#2a3f5f\",\"gridcolor\":\"white\",\"linecolor\":\"white\",\"minorgridcolor\":\"white\",\"startlinecolor\":\"#2a3f5f\"},\"baxis\":{\"endlinecolor\":\"#2a3f5f\",\"gridcolor\":\"white\",\"linecolor\":\"white\",\"minorgridcolor\":\"white\",\"startlinecolor\":\"#2a3f5f\"},\"type\":\"carpet\"}],\"table\":[{\"cells\":{\"fill\":{\"color\":\"#EBF0F8\"},\"line\":{\"color\":\"white\"}},\"header\":{\"fill\":{\"color\":\"#C8D4E3\"},\"line\":{\"color\":\"white\"}},\"type\":\"table\"}],\"barpolar\":[{\"marker\":{\"line\":{\"color\":\"#E5ECF6\",\"width\":0.5},\"pattern\":{\"fillmode\":\"overlay\",\"size\":10,\"solidity\":0.2}},\"type\":\"barpolar\"}],\"pie\":[{\"automargin\":true,\"type\":\"pie\"}]},\"layout\":{\"autotypenumbers\":\"strict\",\"colorway\":[\"#636efa\",\"#EF553B\",\"#00cc96\",\"#ab63fa\",\"#FFA15A\",\"#19d3f3\",\"#FF6692\",\"#B6E880\",\"#FF97FF\",\"#FECB52\"],\"font\":{\"color\":\"#2a3f5f\"},\"hovermode\":\"closest\",\"hoverlabel\":{\"align\":\"left\"},\"paper_bgcolor\":\"white\",\"plot_bgcolor\":\"#E5ECF6\",\"polar\":{\"bgcolor\":\"#E5ECF6\",\"angularaxis\":{\"gridcolor\":\"white\",\"linecolor\":\"white\",\"ticks\":\"\"},\"radialaxis\":{\"gridcolor\":\"white\",\"linecolor\":\"white\",\"ticks\":\"\"}},\"ternary\":{\"bgcolor\":\"#E5ECF6\",\"aaxis\":{\"gridcolor\":\"white\",\"linecolor\":\"white\",\"ticks\":\"\"},\"baxis\":{\"gridcolor\":\"white\",\"linecolor\":\"white\",\"ticks\":\"\"},\"caxis\":{\"gridcolor\":\"white\",\"linecolor\":\"white\",\"ticks\":\"\"}},\"coloraxis\":{\"colorbar\":{\"outlinewidth\":0,\"ticks\":\"\"}},\"colorscale\":{\"sequential\":[[0.0,\"#0d0887\"],[0.1111111111111111,\"#46039f\"],[0.2222222222222222,\"#7201a8\"],[0.3333333333333333,\"#9c179e\"],[0.4444444444444444,\"#bd3786\"],[0.5555555555555556,\"#d8576b\"],[0.6666666666666666,\"#ed7953\"],[0.7777777777777778,\"#fb9f3a\"],[0.8888888888888888,\"#fdca26\"],[1.0,\"#f0f921\"]],\"sequentialminus\":[[0.0,\"#0d0887\"],[0.1111111111111111,\"#46039f\"],[0.2222222222222222,\"#7201a8\"],[0.3333333333333333,\"#9c179e\"],[0.4444444444444444,\"#bd3786\"],[0.5555555555555556,\"#d8576b\"],[0.6666666666666666,\"#ed7953\"],[0.7777777777777778,\"#fb9f3a\"],[0.8888888888888888,\"#fdca26\"],[1.0,\"#f0f921\"]],\"diverging\":[[0,\"#8e0152\"],[0.1,\"#c51b7d\"],[0.2,\"#de77ae\"],[0.3,\"#f1b6da\"],[0.4,\"#fde0ef\"],[0.5,\"#f7f7f7\"],[0.6,\"#e6f5d0\"],[0.7,\"#b8e186\"],[0.8,\"#7fbc41\"],[0.9,\"#4d9221\"],[1,\"#276419\"]]},\"xaxis\":{\"gridcolor\":\"white\",\"linecolor\":\"white\",\"ticks\":\"\",\"title\":{\"standoff\":15},\"zerolinecolor\":\"white\",\"automargin\":true,\"zerolinewidth\":2},\"yaxis\":{\"gridcolor\":\"white\",\"linecolor\":\"white\",\"ticks\":\"\",\"title\":{\"standoff\":15},\"zerolinecolor\":\"white\",\"automargin\":true,\"zerolinewidth\":2},\"scene\":{\"xaxis\":{\"backgroundcolor\":\"#E5ECF6\",\"gridcolor\":\"white\",\"linecolor\":\"white\",\"showbackground\":true,\"ticks\":\"\",\"zerolinecolor\":\"white\",\"gridwidth\":2},\"yaxis\":{\"backgroundcolor\":\"#E5ECF6\",\"gridcolor\":\"white\",\"linecolor\":\"white\",\"showbackground\":true,\"ticks\":\"\",\"zerolinecolor\":\"white\",\"gridwidth\":2},\"zaxis\":{\"backgroundcolor\":\"#E5ECF6\",\"gridcolor\":\"white\",\"linecolor\":\"white\",\"showbackground\":true,\"ticks\":\"\",\"zerolinecolor\":\"white\",\"gridwidth\":2}},\"shapedefaults\":{\"line\":{\"color\":\"#2a3f5f\"}},\"annotationdefaults\":{\"arrowcolor\":\"#2a3f5f\",\"arrowhead\":0,\"arrowwidth\":1},\"geo\":{\"bgcolor\":\"white\",\"landcolor\":\"#E5ECF6\",\"subunitcolor\":\"white\",\"showland\":true,\"showlakes\":true,\"lakecolor\":\"white\"},\"title\":{\"x\":0.05},\"mapbox\":{\"style\":\"light\"}}},\"mapbox\":{\"domain\":{\"x\":[0.0,1.0],\"y\":[0.0,1.0]},\"center\":{\"lat\":45.524353057055286,\"lon\":-73.57442217036842},\"zoom\":9.8,\"style\":\"open-street-map\"},\"coloraxis\":{\"colorbar\":{\"title\":{\"text\":\"Duration\"}},\"colorscale\":[[0.0,\"#000004\"],[0.1111111111111111,\"#180f3d\"],[0.2222222222222222,\"#440f76\"],[0.3333333333333333,\"#721f81\"],[0.4444444444444444,\"#9e2f7f\"],[0.5555555555555556,\"#cd4071\"],[0.6666666666666666,\"#f1605d\"],[0.7777777777777778,\"#fd9668\"],[0.8888888888888888,\"#feca8d\"],[1.0,\"#fcfdbf\"]]},\"legend\":{\"tracegroupgap\":0,\"itemsizing\":\"constant\"},\"margin\":{\"t\":0,\"l\":0,\"r\":0,\"b\":0}},                        {\"responsive\": true}                    ).then(function(){\n",
       "                            \n",
       "var gd = document.getElementById('268833fe-c60f-4e2f-8b06-baff1b3bbd36');\n",
       "var x = new MutationObserver(function (mutations, observer) {{\n",
       "        var display = window.getComputedStyle(gd).display;\n",
       "        if (!display || display === 'none') {{\n",
       "            console.log([gd, 'removed!']);\n",
       "            Plotly.purge(gd);\n",
       "            observer.disconnect();\n",
       "        }}\n",
       "}});\n",
       "\n",
       "// Listen for the removal of the full notebook cells\n",
       "var notebookContainer = gd.closest('#notebook-container');\n",
       "if (notebookContainer) {{\n",
       "    x.observe(notebookContainer, {childList: true});\n",
       "}}\n",
       "\n",
       "// Listen for the clearing of the current output cell\n",
       "var outputEl = gd.closest('.output');\n",
       "if (outputEl) {{\n",
       "    x.observe(outputEl, {childList: true});\n",
       "}}\n",
       "\n",
       "                        })                };                });            </script>        </div>"
      ]
     },
     "metadata": {},
     "output_type": "display_data"
    }
   ],
   "source": [
    "# create a scatter plot map with color-coded markers\n",
    "fig = px.scatter_mapbox(\n",
    "    avg_duration_by_station,\n",
    "    lat='start_station_latitude',\n",
    "    lon='start_station_longitude',\n",
    "    color='duration',\n",
    "    size='duration',\n",
    "    text='start_station_name',\n",
    "    color_continuous_scale=px.colors.sequential.Magma,\n",
    "    size_max=20,\n",
    "    zoom=9.8,\n",
    "    hover_data={'duration':':.2f'},\n",
    "    labels={'duration':'Duration',\n",
    "            'start_station_name':'Station',\n",
    "            'start_station_latitude':'Latitude',\n",
    "            'start_station_longitude':'Longitude'})\n",
    "\n",
    "fig.update_layout(\n",
    "    mapbox_style=\"open-street-map\",\n",
    "    mapbox=dict(center=dict(lat=45.524353057055286,lon=-73.57442217036842)),\n",
    "    margin=dict(l=0, r=0, t=0, b=0))\n",
    "\n",
    "\n",
    "fig.show()"
   ]
  },
  {
   "cell_type": "markdown",
   "id": "bab2e1e2",
   "metadata": {},
   "source": [
    "**Observation:** In the map depicted above, I employed a gradient of colors and circles of different sizes to depict trips and their respective durations. Notably, trips with shorter durations on average (smaller and darker circles) tend to cluster around the city center, while longer-duration trips (larger and brighter circles) are dispersed towards the outskirts of the city. Upon closer inspection of the map, it is noteworthy that trips with comparatively longer durations originate from a station in close proximity to a park or recreational destination, such as Casino de Montréal. In contrast, shorter trips are dispersed across various intersections throughout the city. This suggests that individuals using bikes for extended periods are likely engaging in leisure activities, whereas those undertaking shorter trips predominantly use bikes for commuting and navigating the city for their daily activities."
   ]
  },
  {
   "cell_type": "markdown",
   "id": "50d92c76",
   "metadata": {},
   "source": [
    "# Bike Usage and Weekday"
   ]
  },
  {
   "cell_type": "markdown",
   "id": "b7929dfe",
   "metadata": {},
   "source": [
    "Remember earlier we noticed in the distribution graphs that bike usage is varying throughtout the week, let's explore deeper."
   ]
  },
  {
   "cell_type": "code",
   "execution_count": null,
   "id": "f0b6e73e",
   "metadata": {},
   "outputs": [],
   "source": [
    "# make crosstable for percentage of trips by members and non-members throughout the week\n",
    "weekday_df = pd.crosstab(df['start_weekday'], df['is_member'], normalize='index') * 100\n",
    "\n",
    "# round the percentage to 2 decimal places\n",
    "weekday_df = weekday_df.round(2)\n",
    "\n",
    "weekday_df"
   ]
  },
  {
   "cell_type": "code",
   "execution_count": null,
   "id": "c0ac972c",
   "metadata": {},
   "outputs": [],
   "source": [
    "plt.figure(figsize=(8,8))\n",
    "\n",
    "weekday_df.plot(kind='bar',\n",
    "               stacked=False)\n",
    "plt.title('% of Trips throughout the Week')\n",
    "plt.xlabel('Weekday')\n",
    "plt.ylabel('% of Total Trips')\n",
    "\n",
    "plt.tight_layout()\n",
    "plt.show()"
   ]
  },
  {
   "cell_type": "markdown",
   "id": "103ca19a",
   "metadata": {},
   "source": [
    "**Observation:** In general, member trips significantly outnumber those of casual riders. The proportion of member trips reaches its peak on Tuesday, gradually decreasing until Saturday, with a slight uptick on Sunday. For non-members, the trend is the oppposite; there is a gradual rise in casual ridership as the week progresses, peaking on Saturday, which marks the day with the highest number of non-member users. Subsequently, there is a decline on Sunday. This finding reinforces the notion that a significant portion of casual riders opt for weekend bike usage, likely engaging in leisure activities. In contrast, members predominantly use bikes for daily commutes and less frequently for leisure pursuits."
   ]
  },
  {
   "cell_type": "code",
   "execution_count": null,
   "id": "89155f93",
   "metadata": {},
   "outputs": [],
   "source": [
    "# check the average trip duartion of two membership groups throughout the week\n",
    "duration_week_df = df.groupby(['start_weekday','is_member'])['duration'].mean().reset_index()\n",
    "duration_week_df = duration_week_df.round(2)\n",
    "duration_week_df"
   ]
  },
  {
   "cell_type": "code",
   "execution_count": null,
   "id": "8f8a1fae",
   "metadata": {},
   "outputs": [],
   "source": [
    "# make a bar plot to compare the trip duration for two riderships during the week\n",
    "\n",
    "sns.barplot(duration_week_df,\n",
    "           x='start_weekday',\n",
    "           y='duration',\n",
    "           hue='is_member')\n",
    "\n",
    "plt.title('Average Trip Duration in A Week')\n",
    "plt.xlabel('Weekday')\n",
    "plt.ylabel('Average Duration (mins)')\n",
    "\n",
    "plt.show()"
   ]
  },
  {
   "cell_type": "markdown",
   "id": "5cdbc62a",
   "metadata": {},
   "source": [
    "**Observation:** Non-members exhibit longer average bike usage durations compared to members. Casual riders, in particular, extend their bike trips, with Monday recording an average of 17.3 minutes. This duration slightly decreases to 16.3 minutes on Tuesday, followed by a gradual rise, reaching a peak on Saturday at approximately 20.3 minutes, followed by a slight decline to 20 minutes on Sunday.<br>In contrast, the average trip duration for members remains relatively stable around 12.6 minutes from Monday to Friday, witnessing a slight increase during the weekdays. However, there is a notable spike on Saturday, where the average duration jumps to 14.3 minutes. This reveals distinct patterns in the average trip durations between casual riders and members throughout the week.\n",
    "Additionally, it can be inferred that bike trips taken for leisure purposes tend to have longer durations."
   ]
  },
  {
   "cell_type": "markdown",
   "id": "3abd7549",
   "metadata": {},
   "source": [
    "# Daily Patterns"
   ]
  },
  {
   "cell_type": "code",
   "execution_count": null,
   "id": "b2bd3c1e",
   "metadata": {},
   "outputs": [],
   "source": [
    "df['start_hour'].value_counts().sort_index().plot(kind='bar')"
   ]
  },
  {
   "cell_type": "code",
   "execution_count": null,
   "id": "6f3b6868",
   "metadata": {},
   "outputs": [],
   "source": [
    "weekday_hour_df = df.groupby(['start_weekday','start_hour','is_member']).size().reset_index(name='number_of_trips')"
   ]
  },
  {
   "cell_type": "code",
   "execution_count": null,
   "id": "732adafd",
   "metadata": {},
   "outputs": [],
   "source": [
    "pd.set_option('display.max_rows', None)"
   ]
  },
  {
   "cell_type": "code",
   "execution_count": null,
   "id": "5fe6860d",
   "metadata": {},
   "outputs": [],
   "source": [
    "weekday_hour_df"
   ]
  },
  {
   "cell_type": "code",
   "execution_count": null,
   "id": "23dd1e3f",
   "metadata": {},
   "outputs": [],
   "source": [
    "# define a dictionary to map the weekday numbers and corresponding names\n",
    "weekdays = {1:'Monday',\n",
    "            2:'Tuesday',\n",
    "            3:'Wednesday',\n",
    "            4:'Thursday',\n",
    "            5:'Friday',\n",
    "            6:'Saturday',\n",
    "            7:'Sunday'}\n",
    "\n",
    "# loop through weekdays\n",
    "for i,name in weekdays.items():\n",
    "    \n",
    "    plt.figure(figsize=(6,5))\n",
    "    \n",
    "    sns.barplot(data=weekday_hour_df[weekday_hour_df['start_weekday']==i],\n",
    "               x='start_hour',\n",
    "               y='number_of_trips',\n",
    "               hue='is_member')\n",
    "    \n",
    "    plt.title(f'Trips on {name}')\n",
    "    plt.xlabel('Hour of the Day')\n",
    "    plt.ylabel('Number of Trips')\n",
    "    plt.tight_layout()\n",
    "    \n",
    "    plt.show()"
   ]
  },
  {
   "cell_type": "markdown",
   "id": "140e4c15",
   "metadata": {},
   "source": [
    "**Observation:** Comparing members and non-members daily usage, they follow the similar patterns throughout the week. The daily bike usage exhibits a consistent pattern from Monday to Friday, showing a gradual increase from 4 a.m. to 17 p.m. with minor fluctuations in numbers. Notably, there are two peak periods at 8 a.m. and 17 p.m., coinciding with rush hours, and a subsequent decline in usage during the night.<br>\n",
    "Fridays generally conform to this trend, although there is a noticeable uptick in nighttime bike usage on Fridays and Saturdays, likely attributed to increased leisure activities during these evenings. On Saturdays and Sundays, the bar graphs present a distinct shape, with a concentration of trips primarily occurring in the afternoon. Additionally, there is a notable surge in bike usage at 0 a.m. for both weekend days."
   ]
  },
  {
   "cell_type": "markdown",
   "id": "99088e1e",
   "metadata": {},
   "source": [
    "# Business Recommendations"
   ]
  },
  {
   "cell_type": "markdown",
   "id": "4e7a9c51",
   "metadata": {},
   "source": [
    "Based on the EDA for BIXI bike usage in Montreal, several business recommendaitons can be derived to improve their business:\n",
    "\n",
    "**1. Geographical Considerations for Station Placement:**\n",
    "The distribution of start and end station popularity suggests that the specific function of a station (pickup and drop-off) may not be the primary factor influencing popularity. Consider further analyzing and understanding geographical factors that contribute to station popularity. Evaluate the placement of stations in high-traffic areas and strategically position them to cater to user demand.\n",
    "\n",
    "**2. Membership Promotion and Engagement:**\n",
    "Given that member usage is significantly higher than non-member usage, focus on promoting and engaging more users to become members. Implement targeted marketing campaigns, loyalty programs, or incentives to encourage non-members to subscribe. This can help increase revenue and foster long-term customer relationships.\n",
    "\n",
    "**3. Understanding Seasonal Trends:**\n",
    "Acknowledge the seasonal variations in bike usage, with August and September being peak months. Plan marketing initiatives, events, or promotions during these months to capitalize on increased demand. Additionally, consider introducing seasonal pricing or packages to attract more users during peak periods.\n",
    "\n",
    "**4. Weekday vs. Weekend Strategies:**\n",
    "Tailor marketing and operational strategies to accommodate the observed differences between weekdays and weekends. Capitalize on the weekday commuter market for members and design weekend-focused promotions or events to attract casual riders engaging in leisure activities.\n",
    "\n",
    "**5. Trip Duration-Based Marketing:**\n",
    "Leverage the insights into trip durations to target different user segments. For members, emphasize the convenience of short trips for daily commuting, while for casual riders, highlight the suitability of bikes for longer leisure activities. Design marketing materials and promotions that align with the varied needs of these two user groups.\n",
    "\n",
    "**6. Destination-Centric Strategies:**\n",
    "Recognize that longer-duration trips tend to originate near parks or recreational destinations. Consider partnerships or promotional activities with businesses or attractions in these areas to encourage more extended bike trips. This could involve offering special packages, discounts, or events to enhance the overall user experience.lign bike availability with usage patterns, especially during peak hours at 8 a.m. and 5 p.m. Ensure that there are enough bikes at popular stations during rush hours to meet the demand. Implement real-time monitoring and redistribution strategies to optimize bike availability and enhance user satisfaction.\n",
    "\n",
    "**7. Optimizing Bike Availability:**\n",
    "lign bike availability with usage patterns, especially during peak hours at 8 a.m. and 5 p.m. Ensure that there are enough bikes at popular stations during rush hours to meet the demand. Implement real-time monitoring and redistribution strategies to optimize bike availability and enhance user satisfaction.\n",
    "\n",
    "**8. Data-Driven Operations:**\n",
    "Continuously monitor and analyze user behavior, station popularity, and trip patterns. Implement data-driven decision-making processes to adapt operations, marketing, and promotional strategies dynamically. Regularly update station locations based on changing user preferences and demands."
   ]
  }
 ],
 "metadata": {
  "kernelspec": {
   "display_name": "Python 3 (ipykernel)",
   "language": "python",
   "name": "python3"
  },
  "language_info": {
   "codemirror_mode": {
    "name": "ipython",
    "version": 3
   },
   "file_extension": ".py",
   "mimetype": "text/x-python",
   "name": "python",
   "nbconvert_exporter": "python",
   "pygments_lexer": "ipython3",
   "version": "3.10.9"
  }
 },
 "nbformat": 4,
 "nbformat_minor": 5
}
