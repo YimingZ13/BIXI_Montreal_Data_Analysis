{
 "cells": [
  {
   "cell_type": "markdown",
   "id": "145cd16d",
   "metadata": {},
   "source": [
    "# Import Pacakges/Load Datasets"
   ]
  },
  {
   "cell_type": "code",
   "execution_count": 1,
   "id": "393658aa",
   "metadata": {},
   "outputs": [],
   "source": [
    "import numpy as np\n",
    "import pandas as pd\n",
    "import matplotlib.pyplot as plt\n",
    "\n",
    "from datetime import datetime\n",
    "\n",
    "import warnings\n",
    "warnings.filterwarnings('ignore')\n",
    "\n",
    "pd.options.display.max_columns = 100 "
   ]
  },
  {
   "cell_type": "code",
   "execution_count": 2,
   "id": "5a4913a7",
   "metadata": {},
   "outputs": [],
   "source": [
    "df = pd.read_csv('2021_donnees_ouvertes.csv')\n",
    "df1 = pd.read_csv('2021_stations.csv')"
   ]
  },
  {
   "cell_type": "code",
   "execution_count": 3,
   "id": "bf3f8d72",
   "metadata": {},
   "outputs": [
    {
     "data": {
      "text/html": [
       "<div>\n",
       "<style scoped>\n",
       "    .dataframe tbody tr th:only-of-type {\n",
       "        vertical-align: middle;\n",
       "    }\n",
       "\n",
       "    .dataframe tbody tr th {\n",
       "        vertical-align: top;\n",
       "    }\n",
       "\n",
       "    .dataframe thead th {\n",
       "        text-align: right;\n",
       "    }\n",
       "</style>\n",
       "<table border=\"1\" class=\"dataframe\">\n",
       "  <thead>\n",
       "    <tr style=\"text-align: right;\">\n",
       "      <th></th>\n",
       "      <th>start_date</th>\n",
       "      <th>emplacement_pk_start</th>\n",
       "      <th>end_date</th>\n",
       "      <th>emplacement_pk_end</th>\n",
       "      <th>duration_sec</th>\n",
       "      <th>is_member</th>\n",
       "    </tr>\n",
       "  </thead>\n",
       "  <tbody>\n",
       "    <tr>\n",
       "      <th>0</th>\n",
       "      <td>2021-06-29 17:46:28.653</td>\n",
       "      <td>10</td>\n",
       "      <td>2021-06-29 19:33:25.700</td>\n",
       "      <td>10</td>\n",
       "      <td>6417</td>\n",
       "      <td>0</td>\n",
       "    </tr>\n",
       "    <tr>\n",
       "      <th>1</th>\n",
       "      <td>2021-04-25 18:02:39.110</td>\n",
       "      <td>10</td>\n",
       "      <td>2021-04-25 18:13:26.139</td>\n",
       "      <td>188</td>\n",
       "      <td>647</td>\n",
       "      <td>0</td>\n",
       "    </tr>\n",
       "    <tr>\n",
       "      <th>2</th>\n",
       "      <td>2021-08-08 18:50:31.633</td>\n",
       "      <td>10</td>\n",
       "      <td>2021-08-08 18:58:57.585</td>\n",
       "      <td>778</td>\n",
       "      <td>505</td>\n",
       "      <td>1</td>\n",
       "    </tr>\n",
       "    <tr>\n",
       "      <th>3</th>\n",
       "      <td>2021-10-11 17:50:15.346</td>\n",
       "      <td>10</td>\n",
       "      <td>2021-10-11 18:25:31.726</td>\n",
       "      <td>504</td>\n",
       "      <td>2116</td>\n",
       "      <td>1</td>\n",
       "    </tr>\n",
       "    <tr>\n",
       "      <th>4</th>\n",
       "      <td>2021-09-10 15:51:58.050</td>\n",
       "      <td>10</td>\n",
       "      <td>2021-09-10 16:21:01.403</td>\n",
       "      <td>780</td>\n",
       "      <td>1743</td>\n",
       "      <td>1</td>\n",
       "    </tr>\n",
       "  </tbody>\n",
       "</table>\n",
       "</div>"
      ],
      "text/plain": [
       "                start_date  emplacement_pk_start                 end_date  \\\n",
       "0  2021-06-29 17:46:28.653                    10  2021-06-29 19:33:25.700   \n",
       "1  2021-04-25 18:02:39.110                    10  2021-04-25 18:13:26.139   \n",
       "2  2021-08-08 18:50:31.633                    10  2021-08-08 18:58:57.585   \n",
       "3  2021-10-11 17:50:15.346                    10  2021-10-11 18:25:31.726   \n",
       "4  2021-09-10 15:51:58.050                    10  2021-09-10 16:21:01.403   \n",
       "\n",
       "   emplacement_pk_end  duration_sec  is_member  \n",
       "0                  10          6417          0  \n",
       "1                 188           647          0  \n",
       "2                 778           505          1  \n",
       "3                 504          2116          1  \n",
       "4                 780          1743          1  "
      ]
     },
     "execution_count": 3,
     "metadata": {},
     "output_type": "execute_result"
    }
   ],
   "source": [
    "df.head()"
   ]
  },
  {
   "cell_type": "code",
   "execution_count": 4,
   "id": "037b9858",
   "metadata": {
    "scrolled": false
   },
   "outputs": [
    {
     "data": {
      "text/html": [
       "<div>\n",
       "<style scoped>\n",
       "    .dataframe tbody tr th:only-of-type {\n",
       "        vertical-align: middle;\n",
       "    }\n",
       "\n",
       "    .dataframe tbody tr th {\n",
       "        vertical-align: top;\n",
       "    }\n",
       "\n",
       "    .dataframe thead th {\n",
       "        text-align: right;\n",
       "    }\n",
       "</style>\n",
       "<table border=\"1\" class=\"dataframe\">\n",
       "  <thead>\n",
       "    <tr style=\"text-align: right;\">\n",
       "      <th></th>\n",
       "      <th>pk</th>\n",
       "      <th>name</th>\n",
       "      <th>latitude</th>\n",
       "      <th>longitude</th>\n",
       "    </tr>\n",
       "  </thead>\n",
       "  <tbody>\n",
       "    <tr>\n",
       "      <th>0</th>\n",
       "      <td>10</td>\n",
       "      <td>Métro Angrignon (Lamont /  des Trinitaires)</td>\n",
       "      <td>45.446910</td>\n",
       "      <td>-73.603630</td>\n",
       "    </tr>\n",
       "    <tr>\n",
       "      <th>1</th>\n",
       "      <td>13</td>\n",
       "      <td>Métro de l'Église (Ross / de l'Église)</td>\n",
       "      <td>45.462726</td>\n",
       "      <td>-73.565959</td>\n",
       "    </tr>\n",
       "    <tr>\n",
       "      <th>2</th>\n",
       "      <td>17</td>\n",
       "      <td>Tolhurst / Fleury</td>\n",
       "      <td>45.544149</td>\n",
       "      <td>-73.667520</td>\n",
       "    </tr>\n",
       "    <tr>\n",
       "      <th>3</th>\n",
       "      <td>21</td>\n",
       "      <td>St-Christophe / Cherrier</td>\n",
       "      <td>45.520290</td>\n",
       "      <td>-73.568119</td>\n",
       "    </tr>\n",
       "    <tr>\n",
       "      <th>4</th>\n",
       "      <td>31</td>\n",
       "      <td>Lespérance / de Rouen</td>\n",
       "      <td>45.538839</td>\n",
       "      <td>-73.552779</td>\n",
       "    </tr>\n",
       "  </tbody>\n",
       "</table>\n",
       "</div>"
      ],
      "text/plain": [
       "   pk                                         name   latitude  longitude\n",
       "0  10  Métro Angrignon (Lamont /  des Trinitaires)  45.446910 -73.603630\n",
       "1  13       Métro de l'Église (Ross / de l'Église)  45.462726 -73.565959\n",
       "2  17                            Tolhurst / Fleury  45.544149 -73.667520\n",
       "3  21                     St-Christophe / Cherrier  45.520290 -73.568119\n",
       "4  31                        Lespérance / de Rouen  45.538839 -73.552779"
      ]
     },
     "execution_count": 4,
     "metadata": {},
     "output_type": "execute_result"
    }
   ],
   "source": [
    "df1.head()"
   ]
  },
  {
   "cell_type": "markdown",
   "id": "19f1210f",
   "metadata": {},
   "source": [
    "The first dataset has the information about all the trips in 2021, and we have the station name and geographical information corresponding to each station number 'pk'. For our analysis, we need to combine two datasets into a cohesion."
   ]
  },
  {
   "cell_type": "markdown",
   "id": "c1e43c18",
   "metadata": {},
   "source": [
    "First, examine some basic information about the datasets."
   ]
  },
  {
   "cell_type": "code",
   "execution_count": 5,
   "id": "7cdaa712",
   "metadata": {},
   "outputs": [
    {
     "name": "stdout",
     "output_type": "stream",
     "text": [
      "There are 5566351 rows and 6 columns in the data frame.\n",
      "There are 829 rows and 4 columns in the data frame.\n"
     ]
    }
   ],
   "source": [
    "# check the shape of data frame\n",
    "print(f'There are {df.shape[0]} rows and {df.shape[1]} columns in the data frame.')\n",
    "print(f'There are {df1.shape[0]} rows and {df1.shape[1]} columns in the data frame.')"
   ]
  },
  {
   "cell_type": "markdown",
   "id": "1066a255",
   "metadata": {},
   "source": [
    "# Merge Datasets"
   ]
  },
  {
   "cell_type": "markdown",
   "id": "e534ee47",
   "metadata": {},
   "source": [
    "Notice that there are two columns in df with values of station numbers, 'emplacement_pk_start' and 'emplacement_pk_end'. I will augment the station information independently for the starting trips and ending trips."
   ]
  },
  {
   "cell_type": "code",
   "execution_count": 6,
   "id": "ad5ba968",
   "metadata": {},
   "outputs": [],
   "source": [
    "# add starting station information\n",
    "df = pd.merge(df,df1,left_on='emplacement_pk_start',right_on='pk', how='left')\n",
    "\n",
    "# add ending station information\n",
    "df = pd.merge(df,df1,left_on='emplacement_pk_end',right_on='pk', how='left')"
   ]
  },
  {
   "cell_type": "code",
   "execution_count": 7,
   "id": "e08cf18f",
   "metadata": {},
   "outputs": [
    {
     "data": {
      "text/html": [
       "<div>\n",
       "<style scoped>\n",
       "    .dataframe tbody tr th:only-of-type {\n",
       "        vertical-align: middle;\n",
       "    }\n",
       "\n",
       "    .dataframe tbody tr th {\n",
       "        vertical-align: top;\n",
       "    }\n",
       "\n",
       "    .dataframe thead th {\n",
       "        text-align: right;\n",
       "    }\n",
       "</style>\n",
       "<table border=\"1\" class=\"dataframe\">\n",
       "  <thead>\n",
       "    <tr style=\"text-align: right;\">\n",
       "      <th></th>\n",
       "      <th>start_date</th>\n",
       "      <th>emplacement_pk_start</th>\n",
       "      <th>end_date</th>\n",
       "      <th>emplacement_pk_end</th>\n",
       "      <th>duration_sec</th>\n",
       "      <th>is_member</th>\n",
       "      <th>pk_x</th>\n",
       "      <th>name_x</th>\n",
       "      <th>latitude_x</th>\n",
       "      <th>longitude_x</th>\n",
       "      <th>pk_y</th>\n",
       "      <th>name_y</th>\n",
       "      <th>latitude_y</th>\n",
       "      <th>longitude_y</th>\n",
       "    </tr>\n",
       "  </thead>\n",
       "  <tbody>\n",
       "    <tr>\n",
       "      <th>0</th>\n",
       "      <td>2021-06-29 17:46:28.653</td>\n",
       "      <td>10</td>\n",
       "      <td>2021-06-29 19:33:25.700</td>\n",
       "      <td>10</td>\n",
       "      <td>6417</td>\n",
       "      <td>0</td>\n",
       "      <td>10</td>\n",
       "      <td>Métro Angrignon (Lamont /  des Trinitaires)</td>\n",
       "      <td>45.44691</td>\n",
       "      <td>-73.60363</td>\n",
       "      <td>10</td>\n",
       "      <td>Métro Angrignon (Lamont /  des Trinitaires)</td>\n",
       "      <td>45.446910</td>\n",
       "      <td>-73.603630</td>\n",
       "    </tr>\n",
       "    <tr>\n",
       "      <th>1</th>\n",
       "      <td>2021-04-25 18:02:39.110</td>\n",
       "      <td>10</td>\n",
       "      <td>2021-04-25 18:13:26.139</td>\n",
       "      <td>188</td>\n",
       "      <td>647</td>\n",
       "      <td>0</td>\n",
       "      <td>10</td>\n",
       "      <td>Métro Angrignon (Lamont /  des Trinitaires)</td>\n",
       "      <td>45.44691</td>\n",
       "      <td>-73.60363</td>\n",
       "      <td>188</td>\n",
       "      <td>Bibliothèque de Verdun (Brown / Bannantyne)</td>\n",
       "      <td>45.448262</td>\n",
       "      <td>-73.577856</td>\n",
       "    </tr>\n",
       "    <tr>\n",
       "      <th>2</th>\n",
       "      <td>2021-08-08 18:50:31.633</td>\n",
       "      <td>10</td>\n",
       "      <td>2021-08-08 18:58:57.585</td>\n",
       "      <td>778</td>\n",
       "      <td>505</td>\n",
       "      <td>1</td>\n",
       "      <td>10</td>\n",
       "      <td>Métro Angrignon (Lamont /  des Trinitaires)</td>\n",
       "      <td>45.44691</td>\n",
       "      <td>-73.60363</td>\n",
       "      <td>778</td>\n",
       "      <td>Métro Jolicoeur (de Sève / Drake)</td>\n",
       "      <td>45.456086</td>\n",
       "      <td>-73.581937</td>\n",
       "    </tr>\n",
       "    <tr>\n",
       "      <th>3</th>\n",
       "      <td>2021-10-11 17:50:15.346</td>\n",
       "      <td>10</td>\n",
       "      <td>2021-10-11 18:25:31.726</td>\n",
       "      <td>504</td>\n",
       "      <td>2116</td>\n",
       "      <td>1</td>\n",
       "      <td>10</td>\n",
       "      <td>Métro Angrignon (Lamont /  des Trinitaires)</td>\n",
       "      <td>45.44691</td>\n",
       "      <td>-73.60363</td>\n",
       "      <td>504</td>\n",
       "      <td>Gagne / LaSalle</td>\n",
       "      <td>45.422451</td>\n",
       "      <td>-73.601194</td>\n",
       "    </tr>\n",
       "    <tr>\n",
       "      <th>4</th>\n",
       "      <td>2021-09-10 15:51:58.050</td>\n",
       "      <td>10</td>\n",
       "      <td>2021-09-10 16:21:01.403</td>\n",
       "      <td>780</td>\n",
       "      <td>1743</td>\n",
       "      <td>1</td>\n",
       "      <td>10</td>\n",
       "      <td>Métro Angrignon (Lamont /  des Trinitaires)</td>\n",
       "      <td>45.44691</td>\n",
       "      <td>-73.60363</td>\n",
       "      <td>780</td>\n",
       "      <td>LaSalle / 80e avenue</td>\n",
       "      <td>45.415769</td>\n",
       "      <td>-73.637924</td>\n",
       "    </tr>\n",
       "  </tbody>\n",
       "</table>\n",
       "</div>"
      ],
      "text/plain": [
       "                start_date  emplacement_pk_start                 end_date  \\\n",
       "0  2021-06-29 17:46:28.653                    10  2021-06-29 19:33:25.700   \n",
       "1  2021-04-25 18:02:39.110                    10  2021-04-25 18:13:26.139   \n",
       "2  2021-08-08 18:50:31.633                    10  2021-08-08 18:58:57.585   \n",
       "3  2021-10-11 17:50:15.346                    10  2021-10-11 18:25:31.726   \n",
       "4  2021-09-10 15:51:58.050                    10  2021-09-10 16:21:01.403   \n",
       "\n",
       "   emplacement_pk_end  duration_sec  is_member  pk_x  \\\n",
       "0                  10          6417          0    10   \n",
       "1                 188           647          0    10   \n",
       "2                 778           505          1    10   \n",
       "3                 504          2116          1    10   \n",
       "4                 780          1743          1    10   \n",
       "\n",
       "                                        name_x  latitude_x  longitude_x  pk_y  \\\n",
       "0  Métro Angrignon (Lamont /  des Trinitaires)    45.44691    -73.60363    10   \n",
       "1  Métro Angrignon (Lamont /  des Trinitaires)    45.44691    -73.60363   188   \n",
       "2  Métro Angrignon (Lamont /  des Trinitaires)    45.44691    -73.60363   778   \n",
       "3  Métro Angrignon (Lamont /  des Trinitaires)    45.44691    -73.60363   504   \n",
       "4  Métro Angrignon (Lamont /  des Trinitaires)    45.44691    -73.60363   780   \n",
       "\n",
       "                                        name_y  latitude_y  longitude_y  \n",
       "0  Métro Angrignon (Lamont /  des Trinitaires)   45.446910   -73.603630  \n",
       "1  Bibliothèque de Verdun (Brown / Bannantyne)   45.448262   -73.577856  \n",
       "2            Métro Jolicoeur (de Sève / Drake)   45.456086   -73.581937  \n",
       "3                              Gagne / LaSalle   45.422451   -73.601194  \n",
       "4                         LaSalle / 80e avenue   45.415769   -73.637924  "
      ]
     },
     "execution_count": 7,
     "metadata": {},
     "output_type": "execute_result"
    }
   ],
   "source": [
    "# look at merged dataframe\n",
    "df.head()"
   ]
  },
  {
   "cell_type": "markdown",
   "id": "b611246a",
   "metadata": {},
   "source": [
    "Since the 'emplacement_pk_start' and 'emplacement_pk_end' contains the redundant information with 'pk_x' and 'pk_y'. We can just keep one set of them, let's drop the redundant columns."
   ]
  },
  {
   "cell_type": "code",
   "execution_count": 8,
   "id": "8c2ec72f",
   "metadata": {},
   "outputs": [],
   "source": [
    "# drop 'pk_x' and 'pk_y'\n",
    "df = df.drop(columns=['pk_x','pk_y'])"
   ]
  },
  {
   "cell_type": "code",
   "execution_count": 9,
   "id": "e037f963",
   "metadata": {},
   "outputs": [],
   "source": [
    "# modify the columns names based on start/end trips\n",
    "\n",
    "# define a dictionary to map selected column names to new column names\n",
    "col_name_mapping = {'name_x':'start_station_name',\n",
    "                    'latitude_x':'start_station_latitude',\n",
    "                    'longitude_x':'start_station_longitude',\n",
    "                    'name_y':'end_station_name',\n",
    "                    'latitude_y':'end_station_latitude',\n",
    "                    'longitude_y':'end_station_longitude'}\n",
    "\n",
    "# map the new names to the original columns\n",
    "df.rename(columns=col_name_mapping,inplace='True')"
   ]
  },
  {
   "cell_type": "code",
   "execution_count": 10,
   "id": "234cda64",
   "metadata": {},
   "outputs": [
    {
     "data": {
      "text/html": [
       "<div>\n",
       "<style scoped>\n",
       "    .dataframe tbody tr th:only-of-type {\n",
       "        vertical-align: middle;\n",
       "    }\n",
       "\n",
       "    .dataframe tbody tr th {\n",
       "        vertical-align: top;\n",
       "    }\n",
       "\n",
       "    .dataframe thead th {\n",
       "        text-align: right;\n",
       "    }\n",
       "</style>\n",
       "<table border=\"1\" class=\"dataframe\">\n",
       "  <thead>\n",
       "    <tr style=\"text-align: right;\">\n",
       "      <th></th>\n",
       "      <th>start_date</th>\n",
       "      <th>emplacement_pk_start</th>\n",
       "      <th>end_date</th>\n",
       "      <th>emplacement_pk_end</th>\n",
       "      <th>duration_sec</th>\n",
       "      <th>is_member</th>\n",
       "      <th>start_station_name</th>\n",
       "      <th>start_station_latitude</th>\n",
       "      <th>start_station_longitude</th>\n",
       "      <th>end_station_name</th>\n",
       "      <th>end_station_latitude</th>\n",
       "      <th>end_station_longitude</th>\n",
       "    </tr>\n",
       "  </thead>\n",
       "  <tbody>\n",
       "    <tr>\n",
       "      <th>0</th>\n",
       "      <td>2021-06-29 17:46:28.653</td>\n",
       "      <td>10</td>\n",
       "      <td>2021-06-29 19:33:25.700</td>\n",
       "      <td>10</td>\n",
       "      <td>6417</td>\n",
       "      <td>0</td>\n",
       "      <td>Métro Angrignon (Lamont /  des Trinitaires)</td>\n",
       "      <td>45.44691</td>\n",
       "      <td>-73.60363</td>\n",
       "      <td>Métro Angrignon (Lamont /  des Trinitaires)</td>\n",
       "      <td>45.446910</td>\n",
       "      <td>-73.603630</td>\n",
       "    </tr>\n",
       "    <tr>\n",
       "      <th>1</th>\n",
       "      <td>2021-04-25 18:02:39.110</td>\n",
       "      <td>10</td>\n",
       "      <td>2021-04-25 18:13:26.139</td>\n",
       "      <td>188</td>\n",
       "      <td>647</td>\n",
       "      <td>0</td>\n",
       "      <td>Métro Angrignon (Lamont /  des Trinitaires)</td>\n",
       "      <td>45.44691</td>\n",
       "      <td>-73.60363</td>\n",
       "      <td>Bibliothèque de Verdun (Brown / Bannantyne)</td>\n",
       "      <td>45.448262</td>\n",
       "      <td>-73.577856</td>\n",
       "    </tr>\n",
       "    <tr>\n",
       "      <th>2</th>\n",
       "      <td>2021-08-08 18:50:31.633</td>\n",
       "      <td>10</td>\n",
       "      <td>2021-08-08 18:58:57.585</td>\n",
       "      <td>778</td>\n",
       "      <td>505</td>\n",
       "      <td>1</td>\n",
       "      <td>Métro Angrignon (Lamont /  des Trinitaires)</td>\n",
       "      <td>45.44691</td>\n",
       "      <td>-73.60363</td>\n",
       "      <td>Métro Jolicoeur (de Sève / Drake)</td>\n",
       "      <td>45.456086</td>\n",
       "      <td>-73.581937</td>\n",
       "    </tr>\n",
       "    <tr>\n",
       "      <th>3</th>\n",
       "      <td>2021-10-11 17:50:15.346</td>\n",
       "      <td>10</td>\n",
       "      <td>2021-10-11 18:25:31.726</td>\n",
       "      <td>504</td>\n",
       "      <td>2116</td>\n",
       "      <td>1</td>\n",
       "      <td>Métro Angrignon (Lamont /  des Trinitaires)</td>\n",
       "      <td>45.44691</td>\n",
       "      <td>-73.60363</td>\n",
       "      <td>Gagne / LaSalle</td>\n",
       "      <td>45.422451</td>\n",
       "      <td>-73.601194</td>\n",
       "    </tr>\n",
       "    <tr>\n",
       "      <th>4</th>\n",
       "      <td>2021-09-10 15:51:58.050</td>\n",
       "      <td>10</td>\n",
       "      <td>2021-09-10 16:21:01.403</td>\n",
       "      <td>780</td>\n",
       "      <td>1743</td>\n",
       "      <td>1</td>\n",
       "      <td>Métro Angrignon (Lamont /  des Trinitaires)</td>\n",
       "      <td>45.44691</td>\n",
       "      <td>-73.60363</td>\n",
       "      <td>LaSalle / 80e avenue</td>\n",
       "      <td>45.415769</td>\n",
       "      <td>-73.637924</td>\n",
       "    </tr>\n",
       "  </tbody>\n",
       "</table>\n",
       "</div>"
      ],
      "text/plain": [
       "                start_date  emplacement_pk_start                 end_date  \\\n",
       "0  2021-06-29 17:46:28.653                    10  2021-06-29 19:33:25.700   \n",
       "1  2021-04-25 18:02:39.110                    10  2021-04-25 18:13:26.139   \n",
       "2  2021-08-08 18:50:31.633                    10  2021-08-08 18:58:57.585   \n",
       "3  2021-10-11 17:50:15.346                    10  2021-10-11 18:25:31.726   \n",
       "4  2021-09-10 15:51:58.050                    10  2021-09-10 16:21:01.403   \n",
       "\n",
       "   emplacement_pk_end  duration_sec  is_member  \\\n",
       "0                  10          6417          0   \n",
       "1                 188           647          0   \n",
       "2                 778           505          1   \n",
       "3                 504          2116          1   \n",
       "4                 780          1743          1   \n",
       "\n",
       "                            start_station_name  start_station_latitude  \\\n",
       "0  Métro Angrignon (Lamont /  des Trinitaires)                45.44691   \n",
       "1  Métro Angrignon (Lamont /  des Trinitaires)                45.44691   \n",
       "2  Métro Angrignon (Lamont /  des Trinitaires)                45.44691   \n",
       "3  Métro Angrignon (Lamont /  des Trinitaires)                45.44691   \n",
       "4  Métro Angrignon (Lamont /  des Trinitaires)                45.44691   \n",
       "\n",
       "   start_station_longitude                             end_station_name  \\\n",
       "0                -73.60363  Métro Angrignon (Lamont /  des Trinitaires)   \n",
       "1                -73.60363  Bibliothèque de Verdun (Brown / Bannantyne)   \n",
       "2                -73.60363            Métro Jolicoeur (de Sève / Drake)   \n",
       "3                -73.60363                              Gagne / LaSalle   \n",
       "4                -73.60363                         LaSalle / 80e avenue   \n",
       "\n",
       "   end_station_latitude  end_station_longitude  \n",
       "0             45.446910             -73.603630  \n",
       "1             45.448262             -73.577856  \n",
       "2             45.456086             -73.581937  \n",
       "3             45.422451             -73.601194  \n",
       "4             45.415769             -73.637924  "
      ]
     },
     "execution_count": 10,
     "metadata": {},
     "output_type": "execute_result"
    }
   ],
   "source": [
    "df.head()"
   ]
  },
  {
   "cell_type": "markdown",
   "id": "6179e8b6",
   "metadata": {},
   "source": [
    "# Drop Duplicates"
   ]
  },
  {
   "cell_type": "code",
   "execution_count": 11,
   "id": "830b7589",
   "metadata": {},
   "outputs": [
    {
     "name": "stdout",
     "output_type": "stream",
     "text": [
      "There are 3 duplicated values in the dataset, accounts for 0.0% of the entire data.\n"
     ]
    }
   ],
   "source": [
    "# check if there is any duplicated value in the dataset\n",
    "print(f'There are {df.duplicated().sum()} duplicated values in the dataset, accounts for {round(df.duplicated().sum()/len(df),4)}% of the entire data.')"
   ]
  },
  {
   "cell_type": "markdown",
   "id": "ef32c883",
   "metadata": {},
   "source": [
    "There are only 3 duplicates, it is safe to drop them from the data frame."
   ]
  },
  {
   "cell_type": "code",
   "execution_count": 12,
   "id": "1a46be37",
   "metadata": {},
   "outputs": [
    {
     "name": "stdout",
     "output_type": "stream",
     "text": [
      "There are 0 duplicates left.\n"
     ]
    }
   ],
   "source": [
    "# drop duplicates\n",
    "df = df.drop_duplicates()\n",
    "\n",
    "# check\n",
    "print(f'There are {df.duplicated().sum()} duplicates left.')"
   ]
  },
  {
   "cell_type": "markdown",
   "id": "9e5ce03d",
   "metadata": {},
   "source": [
    "# Handle Missing Values"
   ]
  },
  {
   "cell_type": "code",
   "execution_count": 13,
   "id": "036c3d75",
   "metadata": {},
   "outputs": [
    {
     "data": {
      "text/plain": [
       "start_date                 0\n",
       "emplacement_pk_start       0\n",
       "end_date                   0\n",
       "emplacement_pk_end         0\n",
       "duration_sec               0\n",
       "is_member                  0\n",
       "start_station_name         0\n",
       "start_station_latitude     0\n",
       "start_station_longitude    0\n",
       "end_station_name           0\n",
       "end_station_latitude       0\n",
       "end_station_longitude      0\n",
       "dtype: int64"
      ]
     },
     "execution_count": 13,
     "metadata": {},
     "output_type": "execute_result"
    }
   ],
   "source": [
    "# check for the number of rows contains null values\n",
    "df.isna().sum()"
   ]
  },
  {
   "cell_type": "markdown",
   "id": "a86bb0a5",
   "metadata": {},
   "source": [
    "Perfect! There are no null data in the dataframe."
   ]
  },
  {
   "cell_type": "markdown",
   "id": "74d9a1c5",
   "metadata": {},
   "source": [
    "# Convert Data Type"
   ]
  },
  {
   "cell_type": "code",
   "execution_count": 14,
   "id": "b7f53da3",
   "metadata": {},
   "outputs": [
    {
     "name": "stdout",
     "output_type": "stream",
     "text": [
      "<class 'pandas.core.frame.DataFrame'>\n",
      "Int64Index: 5566348 entries, 0 to 5566350\n",
      "Data columns (total 12 columns):\n",
      " #   Column                   Dtype  \n",
      "---  ------                   -----  \n",
      " 0   start_date               object \n",
      " 1   emplacement_pk_start     int64  \n",
      " 2   end_date                 object \n",
      " 3   emplacement_pk_end       int64  \n",
      " 4   duration_sec             int64  \n",
      " 5   is_member                int64  \n",
      " 6   start_station_name       object \n",
      " 7   start_station_latitude   float64\n",
      " 8   start_station_longitude  float64\n",
      " 9   end_station_name         object \n",
      " 10  end_station_latitude     float64\n",
      " 11  end_station_longitude    float64\n",
      "dtypes: float64(4), int64(4), object(4)\n",
      "memory usage: 552.1+ MB\n",
      "None\n"
     ]
    }
   ],
   "source": [
    "# check data type\n",
    "print(df.info())"
   ]
  },
  {
   "cell_type": "markdown",
   "id": "92322266",
   "metadata": {},
   "source": [
    "'start_date' and 'end_date' should be in datetime format, in order for us to extract time-related information."
   ]
  },
  {
   "cell_type": "code",
   "execution_count": 15,
   "id": "a3c9c064",
   "metadata": {},
   "outputs": [],
   "source": [
    "# convert 'start_date' and 'end_date' to datetime data type\n",
    "df['start_date'] = pd.to_datetime(df['start_date'])\n",
    "df['end_date'] = pd.to_datetime(df['end_date'])"
   ]
  },
  {
   "cell_type": "code",
   "execution_count": 16,
   "id": "cd3c4e99",
   "metadata": {},
   "outputs": [
    {
     "name": "stdout",
     "output_type": "stream",
     "text": [
      "<class 'pandas.core.frame.DataFrame'>\n",
      "Int64Index: 5566348 entries, 0 to 5566350\n",
      "Data columns (total 12 columns):\n",
      " #   Column                   Dtype         \n",
      "---  ------                   -----         \n",
      " 0   start_date               datetime64[ns]\n",
      " 1   emplacement_pk_start     int64         \n",
      " 2   end_date                 datetime64[ns]\n",
      " 3   emplacement_pk_end       int64         \n",
      " 4   duration_sec             int64         \n",
      " 5   is_member                int64         \n",
      " 6   start_station_name       object        \n",
      " 7   start_station_latitude   float64       \n",
      " 8   start_station_longitude  float64       \n",
      " 9   end_station_name         object        \n",
      " 10  end_station_latitude     float64       \n",
      " 11  end_station_longitude    float64       \n",
      "dtypes: datetime64[ns](2), float64(4), int64(4), object(2)\n",
      "memory usage: 552.1+ MB\n",
      "None\n"
     ]
    }
   ],
   "source": [
    "# check\n",
    "print(df.info())"
   ]
  },
  {
   "cell_type": "markdown",
   "id": "a3a6d089",
   "metadata": {},
   "source": [
    "# Correct Trip Duration"
   ]
  },
  {
   "cell_type": "markdown",
   "id": "f1510722",
   "metadata": {},
   "source": [
    "The dataset includes a column representing trip durations, and it is necessary to verify the accuracy of these numerical values."
   ]
  },
  {
   "cell_type": "code",
   "execution_count": 17,
   "id": "1dcfa347",
   "metadata": {},
   "outputs": [],
   "source": [
    "# calculate the trip durations\n",
    "df['duration'] = (df['end_date']-df['start_date']).dt.total_seconds()"
   ]
  },
  {
   "cell_type": "code",
   "execution_count": 18,
   "id": "3fd80c5d",
   "metadata": {},
   "outputs": [
    {
     "name": "stdout",
     "output_type": "stream",
     "text": [
      "There are 5560786 data that do not match on durations.\n"
     ]
    }
   ],
   "source": [
    "# check how many  'duration' and 'duration_sec' match\n",
    "print(f\"There are {(df['duration']!=df['duration_sec']).sum()} data that do not match on durations.\")"
   ]
  },
  {
   "cell_type": "code",
   "execution_count": 19,
   "id": "7416172a",
   "metadata": {},
   "outputs": [
    {
     "data": {
      "text/html": [
       "<div>\n",
       "<style scoped>\n",
       "    .dataframe tbody tr th:only-of-type {\n",
       "        vertical-align: middle;\n",
       "    }\n",
       "\n",
       "    .dataframe tbody tr th {\n",
       "        vertical-align: top;\n",
       "    }\n",
       "\n",
       "    .dataframe thead th {\n",
       "        text-align: right;\n",
       "    }\n",
       "</style>\n",
       "<table border=\"1\" class=\"dataframe\">\n",
       "  <thead>\n",
       "    <tr style=\"text-align: right;\">\n",
       "      <th></th>\n",
       "      <th>start_date</th>\n",
       "      <th>emplacement_pk_start</th>\n",
       "      <th>end_date</th>\n",
       "      <th>emplacement_pk_end</th>\n",
       "      <th>duration_sec</th>\n",
       "      <th>is_member</th>\n",
       "      <th>start_station_name</th>\n",
       "      <th>start_station_latitude</th>\n",
       "      <th>start_station_longitude</th>\n",
       "      <th>end_station_name</th>\n",
       "      <th>end_station_latitude</th>\n",
       "      <th>end_station_longitude</th>\n",
       "      <th>duration</th>\n",
       "    </tr>\n",
       "  </thead>\n",
       "  <tbody>\n",
       "    <tr>\n",
       "      <th>0</th>\n",
       "      <td>2021-06-29 17:46:28.653</td>\n",
       "      <td>10</td>\n",
       "      <td>2021-06-29 19:33:25.700</td>\n",
       "      <td>10</td>\n",
       "      <td>6417</td>\n",
       "      <td>0</td>\n",
       "      <td>Métro Angrignon (Lamont /  des Trinitaires)</td>\n",
       "      <td>45.44691</td>\n",
       "      <td>-73.60363</td>\n",
       "      <td>Métro Angrignon (Lamont /  des Trinitaires)</td>\n",
       "      <td>45.446910</td>\n",
       "      <td>-73.603630</td>\n",
       "      <td>6417.047</td>\n",
       "    </tr>\n",
       "    <tr>\n",
       "      <th>1</th>\n",
       "      <td>2021-04-25 18:02:39.110</td>\n",
       "      <td>10</td>\n",
       "      <td>2021-04-25 18:13:26.139</td>\n",
       "      <td>188</td>\n",
       "      <td>647</td>\n",
       "      <td>0</td>\n",
       "      <td>Métro Angrignon (Lamont /  des Trinitaires)</td>\n",
       "      <td>45.44691</td>\n",
       "      <td>-73.60363</td>\n",
       "      <td>Bibliothèque de Verdun (Brown / Bannantyne)</td>\n",
       "      <td>45.448262</td>\n",
       "      <td>-73.577856</td>\n",
       "      <td>647.029</td>\n",
       "    </tr>\n",
       "    <tr>\n",
       "      <th>2</th>\n",
       "      <td>2021-08-08 18:50:31.633</td>\n",
       "      <td>10</td>\n",
       "      <td>2021-08-08 18:58:57.585</td>\n",
       "      <td>778</td>\n",
       "      <td>505</td>\n",
       "      <td>1</td>\n",
       "      <td>Métro Angrignon (Lamont /  des Trinitaires)</td>\n",
       "      <td>45.44691</td>\n",
       "      <td>-73.60363</td>\n",
       "      <td>Métro Jolicoeur (de Sève / Drake)</td>\n",
       "      <td>45.456086</td>\n",
       "      <td>-73.581937</td>\n",
       "      <td>505.952</td>\n",
       "    </tr>\n",
       "    <tr>\n",
       "      <th>3</th>\n",
       "      <td>2021-10-11 17:50:15.346</td>\n",
       "      <td>10</td>\n",
       "      <td>2021-10-11 18:25:31.726</td>\n",
       "      <td>504</td>\n",
       "      <td>2116</td>\n",
       "      <td>1</td>\n",
       "      <td>Métro Angrignon (Lamont /  des Trinitaires)</td>\n",
       "      <td>45.44691</td>\n",
       "      <td>-73.60363</td>\n",
       "      <td>Gagne / LaSalle</td>\n",
       "      <td>45.422451</td>\n",
       "      <td>-73.601194</td>\n",
       "      <td>2116.380</td>\n",
       "    </tr>\n",
       "    <tr>\n",
       "      <th>4</th>\n",
       "      <td>2021-09-10 15:51:58.050</td>\n",
       "      <td>10</td>\n",
       "      <td>2021-09-10 16:21:01.403</td>\n",
       "      <td>780</td>\n",
       "      <td>1743</td>\n",
       "      <td>1</td>\n",
       "      <td>Métro Angrignon (Lamont /  des Trinitaires)</td>\n",
       "      <td>45.44691</td>\n",
       "      <td>-73.60363</td>\n",
       "      <td>LaSalle / 80e avenue</td>\n",
       "      <td>45.415769</td>\n",
       "      <td>-73.637924</td>\n",
       "      <td>1743.353</td>\n",
       "    </tr>\n",
       "  </tbody>\n",
       "</table>\n",
       "</div>"
      ],
      "text/plain": [
       "               start_date  emplacement_pk_start                end_date  \\\n",
       "0 2021-06-29 17:46:28.653                    10 2021-06-29 19:33:25.700   \n",
       "1 2021-04-25 18:02:39.110                    10 2021-04-25 18:13:26.139   \n",
       "2 2021-08-08 18:50:31.633                    10 2021-08-08 18:58:57.585   \n",
       "3 2021-10-11 17:50:15.346                    10 2021-10-11 18:25:31.726   \n",
       "4 2021-09-10 15:51:58.050                    10 2021-09-10 16:21:01.403   \n",
       "\n",
       "   emplacement_pk_end  duration_sec  is_member  \\\n",
       "0                  10          6417          0   \n",
       "1                 188           647          0   \n",
       "2                 778           505          1   \n",
       "3                 504          2116          1   \n",
       "4                 780          1743          1   \n",
       "\n",
       "                            start_station_name  start_station_latitude  \\\n",
       "0  Métro Angrignon (Lamont /  des Trinitaires)                45.44691   \n",
       "1  Métro Angrignon (Lamont /  des Trinitaires)                45.44691   \n",
       "2  Métro Angrignon (Lamont /  des Trinitaires)                45.44691   \n",
       "3  Métro Angrignon (Lamont /  des Trinitaires)                45.44691   \n",
       "4  Métro Angrignon (Lamont /  des Trinitaires)                45.44691   \n",
       "\n",
       "   start_station_longitude                             end_station_name  \\\n",
       "0                -73.60363  Métro Angrignon (Lamont /  des Trinitaires)   \n",
       "1                -73.60363  Bibliothèque de Verdun (Brown / Bannantyne)   \n",
       "2                -73.60363            Métro Jolicoeur (de Sève / Drake)   \n",
       "3                -73.60363                              Gagne / LaSalle   \n",
       "4                -73.60363                         LaSalle / 80e avenue   \n",
       "\n",
       "   end_station_latitude  end_station_longitude  duration  \n",
       "0             45.446910             -73.603630  6417.047  \n",
       "1             45.448262             -73.577856   647.029  \n",
       "2             45.456086             -73.581937   505.952  \n",
       "3             45.422451             -73.601194  2116.380  \n",
       "4             45.415769             -73.637924  1743.353  "
      ]
     },
     "execution_count": 19,
     "metadata": {},
     "output_type": "execute_result"
    }
   ],
   "source": [
    "df[df['duration']!=df['duration_sec']].head()"
   ]
  },
  {
   "cell_type": "markdown",
   "id": "3c5d7d22",
   "metadata": {},
   "source": [
    "It appears that a majority of the data exhibits discrepancies in the duration column. After examination it seems that the 'duration_sec' column provided to us might have overlooked milliseconds. Let's eliminate the milliseconds and verify if the values align."
   ]
  },
  {
   "cell_type": "code",
   "execution_count": 20,
   "id": "60f6b9fc",
   "metadata": {},
   "outputs": [],
   "source": [
    "# convert seconds to integer\n",
    "df['duration'] = df['duration'].astype(int)"
   ]
  },
  {
   "cell_type": "code",
   "execution_count": 21,
   "id": "011844ef",
   "metadata": {},
   "outputs": [
    {
     "name": "stdout",
     "output_type": "stream",
     "text": [
      "There are 73 data that do not match on durations.\n"
     ]
    }
   ],
   "source": [
    "# check again\n",
    "print(f\"There are {(df['duration']!=df['duration_sec']).sum()} data that do not match on durations.\")"
   ]
  },
  {
   "cell_type": "markdown",
   "id": "01497b85",
   "metadata": {},
   "source": [
    "After eliminating milliseconds, there are still 73 inconsistencies, lets examine them."
   ]
  },
  {
   "cell_type": "code",
   "execution_count": 22,
   "id": "198ce93e",
   "metadata": {},
   "outputs": [
    {
     "data": {
      "text/html": [
       "<div>\n",
       "<style scoped>\n",
       "    .dataframe tbody tr th:only-of-type {\n",
       "        vertical-align: middle;\n",
       "    }\n",
       "\n",
       "    .dataframe tbody tr th {\n",
       "        vertical-align: top;\n",
       "    }\n",
       "\n",
       "    .dataframe thead th {\n",
       "        text-align: right;\n",
       "    }\n",
       "</style>\n",
       "<table border=\"1\" class=\"dataframe\">\n",
       "  <thead>\n",
       "    <tr style=\"text-align: right;\">\n",
       "      <th></th>\n",
       "      <th>start_date</th>\n",
       "      <th>emplacement_pk_start</th>\n",
       "      <th>end_date</th>\n",
       "      <th>emplacement_pk_end</th>\n",
       "      <th>duration_sec</th>\n",
       "      <th>is_member</th>\n",
       "      <th>start_station_name</th>\n",
       "      <th>start_station_latitude</th>\n",
       "      <th>start_station_longitude</th>\n",
       "      <th>end_station_name</th>\n",
       "      <th>end_station_latitude</th>\n",
       "      <th>end_station_longitude</th>\n",
       "      <th>duration</th>\n",
       "    </tr>\n",
       "  </thead>\n",
       "  <tbody>\n",
       "    <tr>\n",
       "      <th>26175</th>\n",
       "      <td>2021-11-07 01:48:27.871</td>\n",
       "      <td>36</td>\n",
       "      <td>2021-11-07 01:00:53.416</td>\n",
       "      <td>546</td>\n",
       "      <td>745</td>\n",
       "      <td>1</td>\n",
       "      <td>St-Cuthbert / St-Urbain</td>\n",
       "      <td>45.514773</td>\n",
       "      <td>-73.578312</td>\n",
       "      <td>Bloomfield / Van Horne</td>\n",
       "      <td>45.522586</td>\n",
       "      <td>-73.612658</td>\n",
       "      <td>-2854</td>\n",
       "    </tr>\n",
       "    <tr>\n",
       "      <th>396076</th>\n",
       "      <td>2021-11-07 01:55:49.564</td>\n",
       "      <td>167</td>\n",
       "      <td>2021-11-07 01:01:46.590</td>\n",
       "      <td>236</td>\n",
       "      <td>357</td>\n",
       "      <td>1</td>\n",
       "      <td>Boyer / du Mont-Royal</td>\n",
       "      <td>45.527432</td>\n",
       "      <td>-73.579917</td>\n",
       "      <td>Parc Jeanne-Mance (du Mont-Royal / du Parc)</td>\n",
       "      <td>45.517000</td>\n",
       "      <td>-73.589000</td>\n",
       "      <td>-3242</td>\n",
       "    </tr>\n",
       "    <tr>\n",
       "      <th>450638</th>\n",
       "      <td>2021-11-07 01:55:29.473</td>\n",
       "      <td>169</td>\n",
       "      <td>2021-11-07 01:05:43.741</td>\n",
       "      <td>1033</td>\n",
       "      <td>614</td>\n",
       "      <td>1</td>\n",
       "      <td>de Brébeuf / du Mont-Royal</td>\n",
       "      <td>45.529408</td>\n",
       "      <td>-73.578154</td>\n",
       "      <td>Parc Baldwin (Fullum / Sherbrooke)</td>\n",
       "      <td>45.534070</td>\n",
       "      <td>-73.562651</td>\n",
       "      <td>-2985</td>\n",
       "    </tr>\n",
       "    <tr>\n",
       "      <th>450643</th>\n",
       "      <td>2021-11-07 01:55:45.668</td>\n",
       "      <td>169</td>\n",
       "      <td>2021-11-07 01:05:40.899</td>\n",
       "      <td>1033</td>\n",
       "      <td>595</td>\n",
       "      <td>1</td>\n",
       "      <td>de Brébeuf / du Mont-Royal</td>\n",
       "      <td>45.529408</td>\n",
       "      <td>-73.578154</td>\n",
       "      <td>Parc Baldwin (Fullum / Sherbrooke)</td>\n",
       "      <td>45.534070</td>\n",
       "      <td>-73.562651</td>\n",
       "      <td>-3004</td>\n",
       "    </tr>\n",
       "    <tr>\n",
       "      <th>530169</th>\n",
       "      <td>2021-11-07 01:55:06.384</td>\n",
       "      <td>175</td>\n",
       "      <td>2021-11-07 01:04:36.242</td>\n",
       "      <td>316</td>\n",
       "      <td>569</td>\n",
       "      <td>1</td>\n",
       "      <td>Chabot / du Mont-Royal</td>\n",
       "      <td>45.534185</td>\n",
       "      <td>-73.573589</td>\n",
       "      <td>Prince-Arthur / du Parc</td>\n",
       "      <td>45.510590</td>\n",
       "      <td>-73.575470</td>\n",
       "      <td>-3030</td>\n",
       "    </tr>\n",
       "  </tbody>\n",
       "</table>\n",
       "</div>"
      ],
      "text/plain": [
       "                    start_date  emplacement_pk_start                end_date  \\\n",
       "26175  2021-11-07 01:48:27.871                    36 2021-11-07 01:00:53.416   \n",
       "396076 2021-11-07 01:55:49.564                   167 2021-11-07 01:01:46.590   \n",
       "450638 2021-11-07 01:55:29.473                   169 2021-11-07 01:05:43.741   \n",
       "450643 2021-11-07 01:55:45.668                   169 2021-11-07 01:05:40.899   \n",
       "530169 2021-11-07 01:55:06.384                   175 2021-11-07 01:04:36.242   \n",
       "\n",
       "        emplacement_pk_end  duration_sec  is_member  \\\n",
       "26175                  546           745          1   \n",
       "396076                 236           357          1   \n",
       "450638                1033           614          1   \n",
       "450643                1033           595          1   \n",
       "530169                 316           569          1   \n",
       "\n",
       "                start_station_name  start_station_latitude  \\\n",
       "26175      St-Cuthbert / St-Urbain               45.514773   \n",
       "396076       Boyer / du Mont-Royal               45.527432   \n",
       "450638  de Brébeuf / du Mont-Royal               45.529408   \n",
       "450643  de Brébeuf / du Mont-Royal               45.529408   \n",
       "530169      Chabot / du Mont-Royal               45.534185   \n",
       "\n",
       "        start_station_longitude                             end_station_name  \\\n",
       "26175                -73.578312                       Bloomfield / Van Horne   \n",
       "396076               -73.579917  Parc Jeanne-Mance (du Mont-Royal / du Parc)   \n",
       "450638               -73.578154           Parc Baldwin (Fullum / Sherbrooke)   \n",
       "450643               -73.578154           Parc Baldwin (Fullum / Sherbrooke)   \n",
       "530169               -73.573589                      Prince-Arthur / du Parc   \n",
       "\n",
       "        end_station_latitude  end_station_longitude  duration  \n",
       "26175              45.522586             -73.612658     -2854  \n",
       "396076             45.517000             -73.589000     -3242  \n",
       "450638             45.534070             -73.562651     -2985  \n",
       "450643             45.534070             -73.562651     -3004  \n",
       "530169             45.510590             -73.575470     -3030  "
      ]
     },
     "execution_count": 22,
     "metadata": {},
     "output_type": "execute_result"
    }
   ],
   "source": [
    "# get inconsistent rows\n",
    "inconsistent_duration = df[df['duration']!=df['duration_sec']]\n",
    "inconsistent_duration.head()"
   ]
  },
  {
   "cell_type": "markdown",
   "id": "ce8678f4",
   "metadata": {},
   "source": [
    "It seems that the 'start_date' and 'end_date' are reversed, leading to negative values in the calculated duration. Additionally, the values do not align numerically. We need to address and rectify these issues first, before replacing duration with correct values."
   ]
  },
  {
   "cell_type": "code",
   "execution_count": 23,
   "id": "7c247583",
   "metadata": {},
   "outputs": [
    {
     "name": "stdout",
     "output_type": "stream",
     "text": [
      "There are 66 rows are reversed in start and end times.\n"
     ]
    }
   ],
   "source": [
    "print(f\"There are {sum(df['end_date'] < df['start_date'])} rows are reversed in start and end times.\")"
   ]
  },
  {
   "cell_type": "code",
   "execution_count": 24,
   "id": "6303b65c",
   "metadata": {},
   "outputs": [],
   "source": [
    "# swap start and end times\n",
    "\n",
    "# define function\n",
    "def swap_tripdate(x):\n",
    "    if x['end_date']<x['start_date']:\n",
    "        return pd.Series([x['start_date'], x['end_date']], index=['start_date', 'end_date'])\n",
    "    \n",
    "    else:\n",
    "        return pd.Series([x['end_date'],x['start_date']],index=['start_date','end_date'])\n",
    "    \n",
    "# apply function to dateframe\n",
    "df[['end_date','start_date']] = df.apply(swap_tripdate,axis=1)"
   ]
  },
  {
   "cell_type": "code",
   "execution_count": 25,
   "id": "e4501a45",
   "metadata": {},
   "outputs": [
    {
     "name": "stdout",
     "output_type": "stream",
     "text": [
      "There are 0 rows are reversed in start and end times.\n"
     ]
    }
   ],
   "source": [
    "print(f\"There are {sum(df['end_date'] < df['start_date'])} rows are reversed in start and end times.\")"
   ]
  },
  {
   "cell_type": "markdown",
   "id": "3c652859",
   "metadata": {},
   "source": [
    "Now, we need to calculate the duration again with corrected start and end times."
   ]
  },
  {
   "cell_type": "code",
   "execution_count": 26,
   "id": "18719e50",
   "metadata": {},
   "outputs": [],
   "source": [
    "# calculate the trip durations\n",
    "df['duration'] = (df['end_date']-df['start_date']).dt.total_seconds()\n",
    "\n",
    "# convert seconds to integer\n",
    "df['duration'] = df['duration'].astype(int)"
   ]
  },
  {
   "cell_type": "code",
   "execution_count": 27,
   "id": "19dcbc61",
   "metadata": {},
   "outputs": [
    {
     "data": {
      "text/html": [
       "<div>\n",
       "<style scoped>\n",
       "    .dataframe tbody tr th:only-of-type {\n",
       "        vertical-align: middle;\n",
       "    }\n",
       "\n",
       "    .dataframe tbody tr th {\n",
       "        vertical-align: top;\n",
       "    }\n",
       "\n",
       "    .dataframe thead th {\n",
       "        text-align: right;\n",
       "    }\n",
       "</style>\n",
       "<table border=\"1\" class=\"dataframe\">\n",
       "  <thead>\n",
       "    <tr style=\"text-align: right;\">\n",
       "      <th></th>\n",
       "      <th>start_date</th>\n",
       "      <th>emplacement_pk_start</th>\n",
       "      <th>end_date</th>\n",
       "      <th>emplacement_pk_end</th>\n",
       "      <th>duration_sec</th>\n",
       "      <th>is_member</th>\n",
       "      <th>start_station_name</th>\n",
       "      <th>start_station_latitude</th>\n",
       "      <th>start_station_longitude</th>\n",
       "      <th>end_station_name</th>\n",
       "      <th>end_station_latitude</th>\n",
       "      <th>end_station_longitude</th>\n",
       "      <th>duration</th>\n",
       "    </tr>\n",
       "  </thead>\n",
       "  <tbody>\n",
       "    <tr>\n",
       "      <th>0</th>\n",
       "      <td>2021-06-29 17:46:28.653</td>\n",
       "      <td>10</td>\n",
       "      <td>2021-06-29 19:33:25.700</td>\n",
       "      <td>10</td>\n",
       "      <td>6417</td>\n",
       "      <td>0</td>\n",
       "      <td>Métro Angrignon (Lamont /  des Trinitaires)</td>\n",
       "      <td>45.44691</td>\n",
       "      <td>-73.60363</td>\n",
       "      <td>Métro Angrignon (Lamont /  des Trinitaires)</td>\n",
       "      <td>45.446910</td>\n",
       "      <td>-73.603630</td>\n",
       "      <td>6417</td>\n",
       "    </tr>\n",
       "    <tr>\n",
       "      <th>1</th>\n",
       "      <td>2021-04-25 18:02:39.110</td>\n",
       "      <td>10</td>\n",
       "      <td>2021-04-25 18:13:26.139</td>\n",
       "      <td>188</td>\n",
       "      <td>647</td>\n",
       "      <td>0</td>\n",
       "      <td>Métro Angrignon (Lamont /  des Trinitaires)</td>\n",
       "      <td>45.44691</td>\n",
       "      <td>-73.60363</td>\n",
       "      <td>Bibliothèque de Verdun (Brown / Bannantyne)</td>\n",
       "      <td>45.448262</td>\n",
       "      <td>-73.577856</td>\n",
       "      <td>647</td>\n",
       "    </tr>\n",
       "    <tr>\n",
       "      <th>2</th>\n",
       "      <td>2021-08-08 18:50:31.633</td>\n",
       "      <td>10</td>\n",
       "      <td>2021-08-08 18:58:57.585</td>\n",
       "      <td>778</td>\n",
       "      <td>505</td>\n",
       "      <td>1</td>\n",
       "      <td>Métro Angrignon (Lamont /  des Trinitaires)</td>\n",
       "      <td>45.44691</td>\n",
       "      <td>-73.60363</td>\n",
       "      <td>Métro Jolicoeur (de Sève / Drake)</td>\n",
       "      <td>45.456086</td>\n",
       "      <td>-73.581937</td>\n",
       "      <td>505</td>\n",
       "    </tr>\n",
       "    <tr>\n",
       "      <th>3</th>\n",
       "      <td>2021-10-11 17:50:15.346</td>\n",
       "      <td>10</td>\n",
       "      <td>2021-10-11 18:25:31.726</td>\n",
       "      <td>504</td>\n",
       "      <td>2116</td>\n",
       "      <td>1</td>\n",
       "      <td>Métro Angrignon (Lamont /  des Trinitaires)</td>\n",
       "      <td>45.44691</td>\n",
       "      <td>-73.60363</td>\n",
       "      <td>Gagne / LaSalle</td>\n",
       "      <td>45.422451</td>\n",
       "      <td>-73.601194</td>\n",
       "      <td>2116</td>\n",
       "    </tr>\n",
       "    <tr>\n",
       "      <th>4</th>\n",
       "      <td>2021-09-10 15:51:58.050</td>\n",
       "      <td>10</td>\n",
       "      <td>2021-09-10 16:21:01.403</td>\n",
       "      <td>780</td>\n",
       "      <td>1743</td>\n",
       "      <td>1</td>\n",
       "      <td>Métro Angrignon (Lamont /  des Trinitaires)</td>\n",
       "      <td>45.44691</td>\n",
       "      <td>-73.60363</td>\n",
       "      <td>LaSalle / 80e avenue</td>\n",
       "      <td>45.415769</td>\n",
       "      <td>-73.637924</td>\n",
       "      <td>1743</td>\n",
       "    </tr>\n",
       "  </tbody>\n",
       "</table>\n",
       "</div>"
      ],
      "text/plain": [
       "               start_date  emplacement_pk_start                end_date  \\\n",
       "0 2021-06-29 17:46:28.653                    10 2021-06-29 19:33:25.700   \n",
       "1 2021-04-25 18:02:39.110                    10 2021-04-25 18:13:26.139   \n",
       "2 2021-08-08 18:50:31.633                    10 2021-08-08 18:58:57.585   \n",
       "3 2021-10-11 17:50:15.346                    10 2021-10-11 18:25:31.726   \n",
       "4 2021-09-10 15:51:58.050                    10 2021-09-10 16:21:01.403   \n",
       "\n",
       "   emplacement_pk_end  duration_sec  is_member  \\\n",
       "0                  10          6417          0   \n",
       "1                 188           647          0   \n",
       "2                 778           505          1   \n",
       "3                 504          2116          1   \n",
       "4                 780          1743          1   \n",
       "\n",
       "                            start_station_name  start_station_latitude  \\\n",
       "0  Métro Angrignon (Lamont /  des Trinitaires)                45.44691   \n",
       "1  Métro Angrignon (Lamont /  des Trinitaires)                45.44691   \n",
       "2  Métro Angrignon (Lamont /  des Trinitaires)                45.44691   \n",
       "3  Métro Angrignon (Lamont /  des Trinitaires)                45.44691   \n",
       "4  Métro Angrignon (Lamont /  des Trinitaires)                45.44691   \n",
       "\n",
       "   start_station_longitude                             end_station_name  \\\n",
       "0                -73.60363  Métro Angrignon (Lamont /  des Trinitaires)   \n",
       "1                -73.60363  Bibliothèque de Verdun (Brown / Bannantyne)   \n",
       "2                -73.60363            Métro Jolicoeur (de Sève / Drake)   \n",
       "3                -73.60363                              Gagne / LaSalle   \n",
       "4                -73.60363                         LaSalle / 80e avenue   \n",
       "\n",
       "   end_station_latitude  end_station_longitude  duration  \n",
       "0             45.446910             -73.603630      6417  \n",
       "1             45.448262             -73.577856       647  \n",
       "2             45.456086             -73.581937       505  \n",
       "3             45.422451             -73.601194      2116  \n",
       "4             45.415769             -73.637924      1743  "
      ]
     },
     "execution_count": 27,
     "metadata": {},
     "output_type": "execute_result"
    }
   ],
   "source": [
    "df.head()"
   ]
  },
  {
   "cell_type": "markdown",
   "id": "62e475fb",
   "metadata": {},
   "source": [
    "Finally, I can replace trip durations with correct calculations."
   ]
  },
  {
   "cell_type": "code",
   "execution_count": 28,
   "id": "edf981e0",
   "metadata": {},
   "outputs": [],
   "source": [
    "# use lambda function to change the 'duration_sec' to 'duration' they are not the same\n",
    "df['duration_sec'] = df.apply(lambda x: x['duration_sec'] if x['duration_sec']==x['duration'] else x['duration'],axis=1)"
   ]
  },
  {
   "cell_type": "code",
   "execution_count": 29,
   "id": "0fe3c342",
   "metadata": {},
   "outputs": [
    {
     "name": "stdout",
     "output_type": "stream",
     "text": [
      "There are 0 data that do not match on durations.\n"
     ]
    }
   ],
   "source": [
    "# check\n",
    "print(f\"There are {(df['duration']!=df['duration_sec']).sum()} data that do not match on durations.\")"
   ]
  },
  {
   "cell_type": "code",
   "execution_count": 30,
   "id": "d28261a6",
   "metadata": {},
   "outputs": [
    {
     "data": {
      "text/html": [
       "<div>\n",
       "<style scoped>\n",
       "    .dataframe tbody tr th:only-of-type {\n",
       "        vertical-align: middle;\n",
       "    }\n",
       "\n",
       "    .dataframe tbody tr th {\n",
       "        vertical-align: top;\n",
       "    }\n",
       "\n",
       "    .dataframe thead th {\n",
       "        text-align: right;\n",
       "    }\n",
       "</style>\n",
       "<table border=\"1\" class=\"dataframe\">\n",
       "  <thead>\n",
       "    <tr style=\"text-align: right;\">\n",
       "      <th></th>\n",
       "      <th>start_date</th>\n",
       "      <th>emplacement_pk_start</th>\n",
       "      <th>end_date</th>\n",
       "      <th>emplacement_pk_end</th>\n",
       "      <th>duration_sec</th>\n",
       "      <th>is_member</th>\n",
       "      <th>start_station_name</th>\n",
       "      <th>start_station_latitude</th>\n",
       "      <th>start_station_longitude</th>\n",
       "      <th>end_station_name</th>\n",
       "      <th>end_station_latitude</th>\n",
       "      <th>end_station_longitude</th>\n",
       "      <th>duration</th>\n",
       "    </tr>\n",
       "  </thead>\n",
       "  <tbody>\n",
       "  </tbody>\n",
       "</table>\n",
       "</div>"
      ],
      "text/plain": [
       "Empty DataFrame\n",
       "Columns: [start_date, emplacement_pk_start, end_date, emplacement_pk_end, duration_sec, is_member, start_station_name, start_station_latitude, start_station_longitude, end_station_name, end_station_latitude, end_station_longitude, duration]\n",
       "Index: []"
      ]
     },
     "execution_count": 30,
     "metadata": {},
     "output_type": "execute_result"
    }
   ],
   "source": [
    "df[df['duration_sec']<0].head()"
   ]
  },
  {
   "cell_type": "markdown",
   "id": "ccaf3163",
   "metadata": {},
   "source": [
    "We now have all the correctly calculate trip durations."
   ]
  },
  {
   "cell_type": "code",
   "execution_count": 31,
   "id": "76344f12",
   "metadata": {},
   "outputs": [
    {
     "data": {
      "text/plain": [
       "count    5.566348e+06\n",
       "mean     8.618157e+02\n",
       "std      1.810807e+03\n",
       "min      0.000000e+00\n",
       "25%      3.660000e+02\n",
       "50%      6.420000e+02\n",
       "75%      1.091000e+03\n",
       "max      1.565260e+06\n",
       "Name: duration_sec, dtype: float64"
      ]
     },
     "execution_count": 31,
     "metadata": {},
     "output_type": "execute_result"
    }
   ],
   "source": [
    "# check statistical attributes of 'duration_sec' column\n",
    "df['duration_sec'].describe()"
   ]
  },
  {
   "cell_type": "markdown",
   "id": "19c58242",
   "metadata": {},
   "source": [
    "Take note that the trip durations are measured in seconds and exhibit a considerable range from 0 to 1565260 seconds. This suggests the presence of potential outliers in the dataset, I will check this in the next step. To facilitate interpretations and calculations, I will convert this column to minutes."
   ]
  },
  {
   "cell_type": "code",
   "execution_count": 32,
   "id": "67d01d0c",
   "metadata": {},
   "outputs": [],
   "source": [
    "# convert 'duration_sec' to minutes\n",
    "df['duration'] = df['duration_sec']/60"
   ]
  },
  {
   "cell_type": "code",
   "execution_count": 33,
   "id": "fd4c9d12",
   "metadata": {},
   "outputs": [],
   "source": [
    "# drop 'duration_sec' columns\n",
    "df = df.drop(columns='duration_sec')"
   ]
  },
  {
   "cell_type": "code",
   "execution_count": 34,
   "id": "5ae9d490",
   "metadata": {},
   "outputs": [
    {
     "data": {
      "text/plain": [
       "count    5.566348e+06\n",
       "mean     1.436360e+01\n",
       "std      3.018012e+01\n",
       "min      0.000000e+00\n",
       "25%      6.100000e+00\n",
       "50%      1.070000e+01\n",
       "75%      1.818333e+01\n",
       "max      2.608767e+04\n",
       "Name: duration, dtype: float64"
      ]
     },
     "execution_count": 34,
     "metadata": {},
     "output_type": "execute_result"
    }
   ],
   "source": [
    "# check again\n",
    "df['duration'].describe()"
   ]
  },
  {
   "cell_type": "markdown",
   "id": "baf4021c",
   "metadata": {},
   "source": [
    "# Handle Invalid Trips"
   ]
  },
  {
   "cell_type": "markdown",
   "id": "33f6740b",
   "metadata": {},
   "source": [
    "To understand the distribution of 'duration' column, boxplot could be helpful."
   ]
  },
  {
   "cell_type": "code",
   "execution_count": 35,
   "id": "413d7354",
   "metadata": {},
   "outputs": [
    {
     "data": {
      "image/png": "[encoded data removed]",
      "text/plain": [
       "<Figure size 600x500 with 1 Axes>"
      ]
     },
     "metadata": {},
     "output_type": "display_data"
    }
   ],
   "source": [
    "# make a boxplot for 'duration'\n",
    "\n",
    "plt.figure(figsize=(6,5))\n",
    "\n",
    "df['duration'].plot(kind='box')\n",
    "plt.title('Boxplot of Trip Duration')\n",
    "\n",
    "plt.show()"
   ]
  },
  {
   "cell_type": "markdown",
   "id": "cfa41340",
   "metadata": {},
   "source": [
    "From the boxplot, we can see there is a large number of data clustered around 0, let's check if there is any trips with duration 0."
   ]
  },
  {
   "cell_type": "code",
   "execution_count": 36,
   "id": "07a5a3cd",
   "metadata": {},
   "outputs": [
    {
     "name": "stdout",
     "output_type": "stream",
     "text": [
      "There are total 20 trips with duration equals to 0.\n"
     ]
    }
   ],
   "source": [
    "print(f\"There are total {len(df[df['duration']==0])} trips with duration equals to 0.\")"
   ]
  },
  {
   "cell_type": "code",
   "execution_count": 37,
   "id": "07b6ccae",
   "metadata": {},
   "outputs": [
    {
     "data": {
      "text/html": [
       "<div>\n",
       "<style scoped>\n",
       "    .dataframe tbody tr th:only-of-type {\n",
       "        vertical-align: middle;\n",
       "    }\n",
       "\n",
       "    .dataframe tbody tr th {\n",
       "        vertical-align: top;\n",
       "    }\n",
       "\n",
       "    .dataframe thead th {\n",
       "        text-align: right;\n",
       "    }\n",
       "</style>\n",
       "<table border=\"1\" class=\"dataframe\">\n",
       "  <thead>\n",
       "    <tr style=\"text-align: right;\">\n",
       "      <th></th>\n",
       "      <th>start_date</th>\n",
       "      <th>emplacement_pk_start</th>\n",
       "      <th>end_date</th>\n",
       "      <th>emplacement_pk_end</th>\n",
       "      <th>is_member</th>\n",
       "      <th>start_station_name</th>\n",
       "      <th>start_station_latitude</th>\n",
       "      <th>start_station_longitude</th>\n",
       "      <th>end_station_name</th>\n",
       "      <th>end_station_latitude</th>\n",
       "      <th>end_station_longitude</th>\n",
       "      <th>duration</th>\n",
       "    </tr>\n",
       "  </thead>\n",
       "  <tbody>\n",
       "    <tr>\n",
       "      <th>40553</th>\n",
       "      <td>2021-05-18 18:34:49.540</td>\n",
       "      <td>38</td>\n",
       "      <td>2021-05-18 18:34:50.105</td>\n",
       "      <td>38</td>\n",
       "      <td>1</td>\n",
       "      <td>Métro Vendôme (de Marlowe / de Maisonneuve)</td>\n",
       "      <td>45.473868</td>\n",
       "      <td>-73.604538</td>\n",
       "      <td>Métro Vendôme (de Marlowe / de Maisonneuve)</td>\n",
       "      <td>45.473868</td>\n",
       "      <td>-73.604538</td>\n",
       "      <td>0.0</td>\n",
       "    </tr>\n",
       "    <tr>\n",
       "      <th>667587</th>\n",
       "      <td>2021-07-06 15:40:08.611</td>\n",
       "      <td>198</td>\n",
       "      <td>2021-07-06 15:40:09.059</td>\n",
       "      <td>198</td>\n",
       "      <td>1</td>\n",
       "      <td>2e avenue / Wellington</td>\n",
       "      <td>45.457893</td>\n",
       "      <td>-73.567528</td>\n",
       "      <td>2e avenue / Wellington</td>\n",
       "      <td>45.457893</td>\n",
       "      <td>-73.567528</td>\n",
       "      <td>0.0</td>\n",
       "    </tr>\n",
       "    <tr>\n",
       "      <th>946407</th>\n",
       "      <td>2021-09-20 00:30:13.522</td>\n",
       "      <td>235</td>\n",
       "      <td>2021-09-20 00:30:13.991</td>\n",
       "      <td>235</td>\n",
       "      <td>1</td>\n",
       "      <td>Square St-Louis (du Square St-Louis / Laval)</td>\n",
       "      <td>45.516091</td>\n",
       "      <td>-73.570129</td>\n",
       "      <td>Square St-Louis (du Square St-Louis / Laval)</td>\n",
       "      <td>45.516091</td>\n",
       "      <td>-73.570129</td>\n",
       "      <td>0.0</td>\n",
       "    </tr>\n",
       "    <tr>\n",
       "      <th>1526946</th>\n",
       "      <td>2021-08-03 20:26:38.187</td>\n",
       "      <td>274</td>\n",
       "      <td>2021-08-03 20:26:39.057</td>\n",
       "      <td>274</td>\n",
       "      <td>0</td>\n",
       "      <td>Gare d'autocars de Montréal (Berri / Ontario)</td>\n",
       "      <td>45.516897</td>\n",
       "      <td>-73.563949</td>\n",
       "      <td>Gare d'autocars de Montréal (Berri / Ontario)</td>\n",
       "      <td>45.516897</td>\n",
       "      <td>-73.563949</td>\n",
       "      <td>0.0</td>\n",
       "    </tr>\n",
       "    <tr>\n",
       "      <th>1809671</th>\n",
       "      <td>2021-07-15 08:36:35.838</td>\n",
       "      <td>311</td>\n",
       "      <td>2021-07-15 08:36:36.229</td>\n",
       "      <td>311</td>\n",
       "      <td>1</td>\n",
       "      <td>Milton / Durocher</td>\n",
       "      <td>45.508141</td>\n",
       "      <td>-73.574930</td>\n",
       "      <td>Milton / Durocher</td>\n",
       "      <td>45.508141</td>\n",
       "      <td>-73.574930</td>\n",
       "      <td>0.0</td>\n",
       "    </tr>\n",
       "  </tbody>\n",
       "</table>\n",
       "</div>"
      ],
      "text/plain": [
       "                     start_date  emplacement_pk_start                end_date  \\\n",
       "40553   2021-05-18 18:34:49.540                    38 2021-05-18 18:34:50.105   \n",
       "667587  2021-07-06 15:40:08.611                   198 2021-07-06 15:40:09.059   \n",
       "946407  2021-09-20 00:30:13.522                   235 2021-09-20 00:30:13.991   \n",
       "1526946 2021-08-03 20:26:38.187                   274 2021-08-03 20:26:39.057   \n",
       "1809671 2021-07-15 08:36:35.838                   311 2021-07-15 08:36:36.229   \n",
       "\n",
       "         emplacement_pk_end  is_member  \\\n",
       "40553                    38          1   \n",
       "667587                  198          1   \n",
       "946407                  235          1   \n",
       "1526946                 274          0   \n",
       "1809671                 311          1   \n",
       "\n",
       "                                    start_station_name  \\\n",
       "40553      Métro Vendôme (de Marlowe / de Maisonneuve)   \n",
       "667587                          2e avenue / Wellington   \n",
       "946407    Square St-Louis (du Square St-Louis / Laval)   \n",
       "1526946  Gare d'autocars de Montréal (Berri / Ontario)   \n",
       "1809671                              Milton / Durocher   \n",
       "\n",
       "         start_station_latitude  start_station_longitude  \\\n",
       "40553                 45.473868               -73.604538   \n",
       "667587                45.457893               -73.567528   \n",
       "946407                45.516091               -73.570129   \n",
       "1526946               45.516897               -73.563949   \n",
       "1809671               45.508141               -73.574930   \n",
       "\n",
       "                                      end_station_name  end_station_latitude  \\\n",
       "40553      Métro Vendôme (de Marlowe / de Maisonneuve)             45.473868   \n",
       "667587                          2e avenue / Wellington             45.457893   \n",
       "946407    Square St-Louis (du Square St-Louis / Laval)             45.516091   \n",
       "1526946  Gare d'autocars de Montréal (Berri / Ontario)             45.516897   \n",
       "1809671                              Milton / Durocher             45.508141   \n",
       "\n",
       "         end_station_longitude  duration  \n",
       "40553               -73.604538       0.0  \n",
       "667587              -73.567528       0.0  \n",
       "946407              -73.570129       0.0  \n",
       "1526946             -73.563949       0.0  \n",
       "1809671             -73.574930       0.0  "
      ]
     },
     "execution_count": 37,
     "metadata": {},
     "output_type": "execute_result"
    }
   ],
   "source": [
    "# look at these data\n",
    "df[df['duration']==0].head()"
   ]
  },
  {
   "cell_type": "markdown",
   "id": "53415aa4",
   "metadata": {},
   "source": [
    "It is evident that trips with a 'duration' value of 0 exhibit slight variations in their start and end times, although the difference is minimal. One plausible assumption is that trips concluding only a few seconds or under 1 minute later may be attributed to users returning malfunctioning bikes or altering their decision to use the bikes—essentially, a change in travel plans. Consequently, these data points are not conducive to our analysis of user behavior and should be excluded from the dataset.<br>\n",
    "For this next step, I will try a set of various shortest trip druations and check if they are indeed invalid. To filter out the trips that lasted unsually short with the same start and end stations, as they could be invalid trips for this analysis. "
   ]
  },
  {
   "cell_type": "code",
   "execution_count": 38,
   "id": "2c77b0f3",
   "metadata": {},
   "outputs": [
    {
     "name": "stdout",
     "output_type": "stream",
     "text": [
      "Minimal duration 15 seconds: There are 100.0% trips where users returned the bike to the same location.\n",
      "Minimal duration 30 seconds: There are 100.0% trips where users returned the bike to the same location.\n",
      "Minimal duration 1 minute: There are 96.0% trips where users returned the bike to the same location.\n",
      "Minimal duration 1 minute 15 seconds: There are 87.0% trips where users returned the bike to the same location.\n"
     ]
    }
   ],
   "source": [
    "# set vairous threshold for the shortest \n",
    "print(f\"Minimal duration 15 seconds: There are {round(len(df[(df['duration']<0.25) & (df['start_station_name']==df['end_station_name'])])/len(df[df['duration']<0.25]),2)*100}% trips where users returned the bike to the same location.\")\n",
    "print(f\"Minimal duration 30 seconds: There are {round(len(df[(df['duration']<0.5) & (df['start_station_name']==df['end_station_name'])])/len(df[df['duration']<0.5]),2)*100}% trips where users returned the bike to the same location.\")\n",
    "print(f\"Minimal duration 1 minute: There are {round(len(df[(df['duration']<1) & (df['start_station_name']==df['end_station_name'])])/len(df[df['duration']<1]),2)*100}% trips where users returned the bike to the same location.\")\n",
    "print(f\"Minimal duration 1 minute 15 seconds: There are {round(len(df[(df['duration']<1.25) & (df['start_station_name']==df['end_station_name'])])/len(df[df['duration']<1.25]),2)*100}% trips where users returned the bike to the same location.\")"
   ]
  },
  {
   "cell_type": "markdown",
   "id": "bcb669f0",
   "metadata": {},
   "source": [
    "Trips with duration exceeding 1 minute start are more likely to be valid trips, I will choose 1 minute as the threshold for filtering."
   ]
  },
  {
   "cell_type": "code",
   "execution_count": 39,
   "id": "5373b787",
   "metadata": {},
   "outputs": [],
   "source": [
    "# get the data with duration shorter than 1 minute and same pickup/return stations\n",
    "short_trips = df[(df['duration']<1) & (df['start_station_name']==df['end_station_name'])]"
   ]
  },
  {
   "cell_type": "markdown",
   "id": "1bf19ef7",
   "metadata": {},
   "source": [
    "In alignment with our initial assumption, trips with durations of less than 5 minutes exhibit identical start and end stations. This implies that users did not actually ride the bikes but rather returned them to the same stations."
   ]
  },
  {
   "cell_type": "markdown",
   "id": "00c30e23",
   "metadata": {},
   "source": [
    "In addition, a trip shouldn't be too long either, in the above boxplot, we see there are few trips that are way too long. The data points with duration longer than 4 hours are very sparse, this serves as a simplified criterion for categorizing and examining trips, allowing for a more focused and manageable analysis.<br>(It is essential to note that this criterion might be subject to adjustment based on further insights or specific requirements of the analysis.)"
   ]
  },
  {
   "cell_type": "code",
   "execution_count": 40,
   "id": "3c7ddb13",
   "metadata": {},
   "outputs": [
    {
     "data": {
      "text/html": [
       "<div>\n",
       "<style scoped>\n",
       "    .dataframe tbody tr th:only-of-type {\n",
       "        vertical-align: middle;\n",
       "    }\n",
       "\n",
       "    .dataframe tbody tr th {\n",
       "        vertical-align: top;\n",
       "    }\n",
       "\n",
       "    .dataframe thead th {\n",
       "        text-align: right;\n",
       "    }\n",
       "</style>\n",
       "<table border=\"1\" class=\"dataframe\">\n",
       "  <thead>\n",
       "    <tr style=\"text-align: right;\">\n",
       "      <th></th>\n",
       "      <th>start_date</th>\n",
       "      <th>emplacement_pk_start</th>\n",
       "      <th>end_date</th>\n",
       "      <th>emplacement_pk_end</th>\n",
       "      <th>is_member</th>\n",
       "      <th>start_station_name</th>\n",
       "      <th>start_station_latitude</th>\n",
       "      <th>start_station_longitude</th>\n",
       "      <th>end_station_name</th>\n",
       "      <th>end_station_latitude</th>\n",
       "      <th>end_station_longitude</th>\n",
       "      <th>duration</th>\n",
       "    </tr>\n",
       "  </thead>\n",
       "  <tbody>\n",
       "    <tr>\n",
       "      <th>2296</th>\n",
       "      <td>2021-04-18 19:50:18.691</td>\n",
       "      <td>10</td>\n",
       "      <td>2021-04-19 03:56:10.728</td>\n",
       "      <td>10</td>\n",
       "      <td>1</td>\n",
       "      <td>Métro Angrignon (Lamont /  des Trinitaires)</td>\n",
       "      <td>45.446910</td>\n",
       "      <td>-73.603630</td>\n",
       "      <td>Métro Angrignon (Lamont /  des Trinitaires)</td>\n",
       "      <td>45.446910</td>\n",
       "      <td>-73.603630</td>\n",
       "      <td>485.866667</td>\n",
       "    </tr>\n",
       "    <tr>\n",
       "      <th>3174</th>\n",
       "      <td>2021-11-01 09:09:48.064</td>\n",
       "      <td>10</td>\n",
       "      <td>2021-11-01 13:40:51.150</td>\n",
       "      <td>966</td>\n",
       "      <td>1</td>\n",
       "      <td>Métro Angrignon (Lamont /  des Trinitaires)</td>\n",
       "      <td>45.446910</td>\n",
       "      <td>-73.603630</td>\n",
       "      <td>Gloria / Dollard</td>\n",
       "      <td>45.429711</td>\n",
       "      <td>-73.633883</td>\n",
       "      <td>271.050000</td>\n",
       "    </tr>\n",
       "    <tr>\n",
       "      <th>8470</th>\n",
       "      <td>2021-04-13 00:06:20.278</td>\n",
       "      <td>13</td>\n",
       "      <td>2021-04-27 17:29:49.326</td>\n",
       "      <td>790</td>\n",
       "      <td>1</td>\n",
       "      <td>Métro de l'Église (Ross / de l'Église)</td>\n",
       "      <td>45.462726</td>\n",
       "      <td>-73.565959</td>\n",
       "      <td>Métro de Castelnau (de Castelnau / St-Laurent)</td>\n",
       "      <td>45.535709</td>\n",
       "      <td>-73.619624</td>\n",
       "      <td>21203.483333</td>\n",
       "    </tr>\n",
       "    <tr>\n",
       "      <th>11389</th>\n",
       "      <td>2021-11-07 13:38:43.484</td>\n",
       "      <td>13</td>\n",
       "      <td>2021-11-07 17:44:20.362</td>\n",
       "      <td>395</td>\n",
       "      <td>0</td>\n",
       "      <td>Métro de l'Église (Ross / de l'Église)</td>\n",
       "      <td>45.462726</td>\n",
       "      <td>-73.565959</td>\n",
       "      <td>Square Victoria (Viger / du Square-Victoria)</td>\n",
       "      <td>45.502060</td>\n",
       "      <td>-73.562950</td>\n",
       "      <td>245.600000</td>\n",
       "    </tr>\n",
       "    <tr>\n",
       "      <th>12243</th>\n",
       "      <td>2021-04-17 15:50:13.057</td>\n",
       "      <td>13</td>\n",
       "      <td>2021-04-17 21:28:55.391</td>\n",
       "      <td>185</td>\n",
       "      <td>1</td>\n",
       "      <td>Métro de l'Église (Ross / de l'Église)</td>\n",
       "      <td>45.462726</td>\n",
       "      <td>-73.565959</td>\n",
       "      <td>Parc des Rapides (LaSalle / 6e avenue)</td>\n",
       "      <td>45.429471</td>\n",
       "      <td>-73.593099</td>\n",
       "      <td>338.700000</td>\n",
       "    </tr>\n",
       "    <tr>\n",
       "      <th>...</th>\n",
       "      <td>...</td>\n",
       "      <td>...</td>\n",
       "      <td>...</td>\n",
       "      <td>...</td>\n",
       "      <td>...</td>\n",
       "      <td>...</td>\n",
       "      <td>...</td>\n",
       "      <td>...</td>\n",
       "      <td>...</td>\n",
       "      <td>...</td>\n",
       "      <td>...</td>\n",
       "      <td>...</td>\n",
       "    </tr>\n",
       "    <tr>\n",
       "      <th>5563484</th>\n",
       "      <td>2021-11-06 13:02:10.635</td>\n",
       "      <td>1131</td>\n",
       "      <td>2021-11-06 17:02:52.313</td>\n",
       "      <td>384</td>\n",
       "      <td>0</td>\n",
       "      <td>Robert-Bourassa / de Maisonneuve</td>\n",
       "      <td>45.503858</td>\n",
       "      <td>-73.571094</td>\n",
       "      <td>Cypress / Peel</td>\n",
       "      <td>45.499325</td>\n",
       "      <td>-73.571768</td>\n",
       "      <td>240.683333</td>\n",
       "    </tr>\n",
       "    <tr>\n",
       "      <th>5563495</th>\n",
       "      <td>2021-11-06 13:01:51.420</td>\n",
       "      <td>1131</td>\n",
       "      <td>2021-11-06 17:02:56.289</td>\n",
       "      <td>384</td>\n",
       "      <td>0</td>\n",
       "      <td>Robert-Bourassa / de Maisonneuve</td>\n",
       "      <td>45.503858</td>\n",
       "      <td>-73.571094</td>\n",
       "      <td>Cypress / Peel</td>\n",
       "      <td>45.499325</td>\n",
       "      <td>-73.571768</td>\n",
       "      <td>241.066667</td>\n",
       "    </tr>\n",
       "    <tr>\n",
       "      <th>5563507</th>\n",
       "      <td>2021-10-30 02:29:06.242</td>\n",
       "      <td>1131</td>\n",
       "      <td>2021-10-30 08:51:48.739</td>\n",
       "      <td>47</td>\n",
       "      <td>0</td>\n",
       "      <td>Robert-Bourassa / de Maisonneuve</td>\n",
       "      <td>45.503858</td>\n",
       "      <td>-73.571094</td>\n",
       "      <td>Métro Guy-Concordia (Guy / St-Catherine)</td>\n",
       "      <td>45.495045</td>\n",
       "      <td>-73.577830</td>\n",
       "      <td>382.700000</td>\n",
       "    </tr>\n",
       "    <tr>\n",
       "      <th>5565728</th>\n",
       "      <td>2021-11-04 08:44:56.993</td>\n",
       "      <td>1135</td>\n",
       "      <td>2021-11-04 13:52:59.592</td>\n",
       "      <td>696</td>\n",
       "      <td>1</td>\n",
       "      <td>du Mont-Royal / Laurendeau</td>\n",
       "      <td>45.544471</td>\n",
       "      <td>-73.567251</td>\n",
       "      <td>Hutchison / Beaubien</td>\n",
       "      <td>45.526058</td>\n",
       "      <td>-73.612969</td>\n",
       "      <td>308.033333</td>\n",
       "    </tr>\n",
       "    <tr>\n",
       "      <th>5565846</th>\n",
       "      <td>2021-11-13 01:52:26.294</td>\n",
       "      <td>1137</td>\n",
       "      <td>2021-11-13 09:06:38.368</td>\n",
       "      <td>405</td>\n",
       "      <td>0</td>\n",
       "      <td>Métro Lionel-Groulx (St-Jacques / Atwater)</td>\n",
       "      <td>45.483629</td>\n",
       "      <td>-73.579703</td>\n",
       "      <td>City Councillors / du President-Kennedy</td>\n",
       "      <td>45.506251</td>\n",
       "      <td>-73.571391</td>\n",
       "      <td>434.200000</td>\n",
       "    </tr>\n",
       "  </tbody>\n",
       "</table>\n",
       "<p>1301 rows × 12 columns</p>\n",
       "</div>"
      ],
      "text/plain": [
       "                     start_date  emplacement_pk_start                end_date  \\\n",
       "2296    2021-04-18 19:50:18.691                    10 2021-04-19 03:56:10.728   \n",
       "3174    2021-11-01 09:09:48.064                    10 2021-11-01 13:40:51.150   \n",
       "8470    2021-04-13 00:06:20.278                    13 2021-04-27 17:29:49.326   \n",
       "11389   2021-11-07 13:38:43.484                    13 2021-11-07 17:44:20.362   \n",
       "12243   2021-04-17 15:50:13.057                    13 2021-04-17 21:28:55.391   \n",
       "...                         ...                   ...                     ...   \n",
       "5563484 2021-11-06 13:02:10.635                  1131 2021-11-06 17:02:52.313   \n",
       "5563495 2021-11-06 13:01:51.420                  1131 2021-11-06 17:02:56.289   \n",
       "5563507 2021-10-30 02:29:06.242                  1131 2021-10-30 08:51:48.739   \n",
       "5565728 2021-11-04 08:44:56.993                  1135 2021-11-04 13:52:59.592   \n",
       "5565846 2021-11-13 01:52:26.294                  1137 2021-11-13 09:06:38.368   \n",
       "\n",
       "         emplacement_pk_end  is_member  \\\n",
       "2296                     10          1   \n",
       "3174                    966          1   \n",
       "8470                    790          1   \n",
       "11389                   395          0   \n",
       "12243                   185          1   \n",
       "...                     ...        ...   \n",
       "5563484                 384          0   \n",
       "5563495                 384          0   \n",
       "5563507                  47          0   \n",
       "5565728                 696          1   \n",
       "5565846                 405          0   \n",
       "\n",
       "                                  start_station_name  start_station_latitude  \\\n",
       "2296     Métro Angrignon (Lamont /  des Trinitaires)               45.446910   \n",
       "3174     Métro Angrignon (Lamont /  des Trinitaires)               45.446910   \n",
       "8470          Métro de l'Église (Ross / de l'Église)               45.462726   \n",
       "11389         Métro de l'Église (Ross / de l'Église)               45.462726   \n",
       "12243         Métro de l'Église (Ross / de l'Église)               45.462726   \n",
       "...                                              ...                     ...   \n",
       "5563484             Robert-Bourassa / de Maisonneuve               45.503858   \n",
       "5563495             Robert-Bourassa / de Maisonneuve               45.503858   \n",
       "5563507             Robert-Bourassa / de Maisonneuve               45.503858   \n",
       "5565728                   du Mont-Royal / Laurendeau               45.544471   \n",
       "5565846   Métro Lionel-Groulx (St-Jacques / Atwater)               45.483629   \n",
       "\n",
       "         start_station_longitude  \\\n",
       "2296                  -73.603630   \n",
       "3174                  -73.603630   \n",
       "8470                  -73.565959   \n",
       "11389                 -73.565959   \n",
       "12243                 -73.565959   \n",
       "...                          ...   \n",
       "5563484               -73.571094   \n",
       "5563495               -73.571094   \n",
       "5563507               -73.571094   \n",
       "5565728               -73.567251   \n",
       "5565846               -73.579703   \n",
       "\n",
       "                                       end_station_name  end_station_latitude  \\\n",
       "2296        Métro Angrignon (Lamont /  des Trinitaires)             45.446910   \n",
       "3174                                   Gloria / Dollard             45.429711   \n",
       "8470     Métro de Castelnau (de Castelnau / St-Laurent)             45.535709   \n",
       "11389      Square Victoria (Viger / du Square-Victoria)             45.502060   \n",
       "12243            Parc des Rapides (LaSalle / 6e avenue)             45.429471   \n",
       "...                                                 ...                   ...   \n",
       "5563484                                  Cypress / Peel             45.499325   \n",
       "5563495                                  Cypress / Peel             45.499325   \n",
       "5563507        Métro Guy-Concordia (Guy / St-Catherine)             45.495045   \n",
       "5565728                            Hutchison / Beaubien             45.526058   \n",
       "5565846         City Councillors / du President-Kennedy             45.506251   \n",
       "\n",
       "         end_station_longitude      duration  \n",
       "2296                -73.603630    485.866667  \n",
       "3174                -73.633883    271.050000  \n",
       "8470                -73.619624  21203.483333  \n",
       "11389               -73.562950    245.600000  \n",
       "12243               -73.593099    338.700000  \n",
       "...                        ...           ...  \n",
       "5563484             -73.571768    240.683333  \n",
       "5563495             -73.571768    241.066667  \n",
       "5563507             -73.577830    382.700000  \n",
       "5565728             -73.612969    308.033333  \n",
       "5565846             -73.571391    434.200000  \n",
       "\n",
       "[1301 rows x 12 columns]"
      ]
     },
     "execution_count": 40,
     "metadata": {},
     "output_type": "execute_result"
    }
   ],
   "source": [
    "# get trips lasted longer than 4 hours\n",
    "df[df['duration']>=240]"
   ]
  },
  {
   "cell_type": "markdown",
   "id": "c97664a1",
   "metadata": {},
   "source": [
    "Based on our assumption, there are 1301 trips that are deemed unrealistic, we should drop them from the dataset as well."
   ]
  },
  {
   "cell_type": "code",
   "execution_count": 42,
   "id": "759b57ca",
   "metadata": {},
   "outputs": [],
   "source": [
    "# drop unusable trip entries\n",
    "df = df[((df['duration'] >= 1) & (df['start_station_name'] != df['end_station_name'])) & (df['duration'] <= 240)]"
   ]
  },
  {
   "cell_type": "markdown",
   "id": "74c30617",
   "metadata": {},
   "source": [
    "# Export Cleaned Dataframe"
   ]
  },
  {
   "cell_type": "code",
   "execution_count": 43,
   "id": "42ebe323",
   "metadata": {},
   "outputs": [
    {
     "name": "stdout",
     "output_type": "stream",
     "text": [
      "There are 5308801 rows and 12 columns in the data frame.\n"
     ]
    }
   ],
   "source": [
    "# check shape of final dataset\n",
    "print(f'There are {df.shape[0]} rows and {df.shape[1]} columns in the data frame.')"
   ]
  },
  {
   "cell_type": "code",
   "execution_count": 44,
   "id": "54ce896c",
   "metadata": {},
   "outputs": [
    {
     "name": "stdout",
     "output_type": "stream",
     "text": [
      "<class 'pandas.core.frame.DataFrame'>\n",
      "Int64Index: 5308801 entries, 1 to 5566350\n",
      "Data columns (total 12 columns):\n",
      " #   Column                   Dtype         \n",
      "---  ------                   -----         \n",
      " 0   start_date               datetime64[ns]\n",
      " 1   emplacement_pk_start     int64         \n",
      " 2   end_date                 datetime64[ns]\n",
      " 3   emplacement_pk_end       int64         \n",
      " 4   is_member                int64         \n",
      " 5   start_station_name       object        \n",
      " 6   start_station_latitude   float64       \n",
      " 7   start_station_longitude  float64       \n",
      " 8   end_station_name         object        \n",
      " 9   end_station_latitude     float64       \n",
      " 10  end_station_longitude    float64       \n",
      " 11  duration                 float64       \n",
      "dtypes: datetime64[ns](2), float64(5), int64(3), object(2)\n",
      "memory usage: 526.5+ MB\n"
     ]
    }
   ],
   "source": [
    "df.info()"
   ]
  },
  {
   "cell_type": "code",
   "execution_count": 45,
   "id": "e18e0d5b",
   "metadata": {},
   "outputs": [],
   "source": [
    "# export final csv file\n",
    "df.to_csv('df_cleaned.csv',index=False)"
   ]
  }
 ],
 "metadata": {
  "kernelspec": {
   "display_name": "Python 3 (ipykernel)",
   "language": "python",
   "name": "python3"
  },
  "language_info": {
   "codemirror_mode": {
    "name": "ipython",
    "version": 3
   },
   "file_extension": ".py",
   "mimetype": "text/x-python",
   "name": "python",
   "nbconvert_exporter": "python",
   "pygments_lexer": "ipython3",
   "version": "3.10.9"
  }
 },
 "nbformat": 4,
 "nbformat_minor": 5
}
